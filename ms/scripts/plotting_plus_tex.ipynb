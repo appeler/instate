{
 "cells": [
  {
   "cell_type": "code",
   "execution_count": 1,
   "id": "80f58534",
   "metadata": {},
   "outputs": [],
   "source": [
    "import pandas as pd"
   ]
  },
  {
   "cell_type": "code",
   "execution_count": 15,
   "id": "2dfdba98",
   "metadata": {},
   "outputs": [],
   "source": [
    "tab1 = pd.read_csv(\"table1.csv\")\n",
    "tab1_tex = tab1.round(2).to_latex(index=False, label = \"tab1\")\n",
    "f = open(\"tab1.tex\", \"w\")\n",
    "f.write(tab1_tex)\n",
    "f.close()"
   ]
  },
  {
   "cell_type": "code",
   "execution_count": 16,
   "id": "bf8437bf",
   "metadata": {},
   "outputs": [],
   "source": [
    "si_tab = pd.read_csv(\"SI_table.csv\")\n",
    "si_tab_tex = si_tab.round(2).to_latex(index=False, label = \"si_tab\")\n",
    "f = open(\"si_tab.tex\", \"w\")\n",
    "f.write(si_tab_tex)\n",
    "f.close()"
   ]
  },
  {
   "cell_type": "code",
   "execution_count": 17,
   "id": "99e83eb8",
   "metadata": {},
   "outputs": [],
   "source": [
    "import numpy as np\n",
    "import scipy\n",
    "import matplotlib                 # Numpy handles lots of basic maths operations\n",
    "import matplotlib.pyplot as plt   # Matplotlib for plotting\n",
    "import seaborn as sns             # Seaborn for beautiful plots\n",
    "import statsmodels"
   ]
  },
  {
   "cell_type": "code",
   "execution_count": 24,
   "id": "cd876d7b",
   "metadata": {},
   "outputs": [],
   "source": [
    "lstm = pd.read_csv(\"../out/lstm_pred.csv\")\n",
    "lstm['total_freq_log'] = np.log2(lstm['total_freq'])"
   ]
  },
  {
   "cell_type": "code",
   "execution_count": 25,
   "id": "f286fcf5",
   "metadata": {},
   "outputs": [
    {
     "data": {
      "image/png": "[encoded data removed]",
      "text/plain": [
       "<Figure size 432x288 with 1 Axes>"
      ]
     },
     "metadata": {
      "needs_background": "light"
     },
     "output_type": "display_data"
    }
   ],
   "source": [
    "plt.scatter(lstm[\"total_freq_log\"], lstm[\"lstm_pred\"], color=\"grey\", marker=\"o\", s=5)\n",
    "plt.xlabel(\"X\"), plt.ylabel(\"Y\")\n",
    "plt.title('(N = 100)')\n",
    "plt.show()"
   ]
  },
  {
   "cell_type": "code",
   "execution_count": 27,
   "id": "4d69fc22",
   "metadata": {},
   "outputs": [
    {
     "data": {
      "image/png": "[encoded data removed]",
      "text/plain": [
       "<Figure size 432x288 with 1 Axes>"
      ]
     },
     "metadata": {
      "needs_background": "light"
     },
     "output_type": "display_data"
    }
   ],
   "source": [
    "\n",
    "def loc_eval(x, b):\n",
    "    loc_est = 0\n",
    "    for i in enumerate(b): loc_est+=i[1]*(x**i[0])\n",
    "    return(loc_est)\n",
    "\n",
    "def loess(xvals, yvals, data, alpha, poly_degree=1):\n",
    "    all_data = sorted(zip(data[xvals].tolist(), data[yvals].tolist()), key=lambda x: x[0])\n",
    "    xvals, yvals = zip(*all_data)\n",
    "    evalDF = pd.DataFrame(columns=['v','g'])\n",
    "    n = len(xvals)\n",
    "    m = n + 1\n",
    "    q = int(np.floor(n * alpha) if alpha <= 1.0 else n)\n",
    "    avg_interval = ((max(xvals)-min(xvals))/len(xvals))\n",
    "    v_lb = min(xvals)-(.5*avg_interval)\n",
    "    v_ub = (max(xvals)+(.5*avg_interval))\n",
    "    v = enumerate(np.linspace(start=v_lb, stop=v_ub, num=m), start=1)\n",
    "    xcols = [np.ones_like(xvals)]\n",
    "    for j in range(1, (poly_degree + 1)):\n",
    "        xcols.append([i ** j for i in xvals])\n",
    "    X = np.vstack(xcols).T\n",
    "    for i in v:\n",
    "        iterpos = i[0]\n",
    "        iterval = i[1]\n",
    "        iterdists = sorted([(j, np.abs(j-iterval)) for j in xvals], key=lambda x: x[1])\n",
    "        _, raw_dists = zip(*iterdists)\n",
    "        scale_fact = raw_dists[q-1]\n",
    "        scaled_dists = [(j[0],(j[1]/scale_fact)) for j in iterdists]\n",
    "        weights = [(j[0],((1-np.abs(j[1]**3))**3 if j[1]<=1 else 0)) for j in scaled_dists]\n",
    "        _, weights      = zip(*sorted(weights,     key=lambda x: x[0]))\n",
    "        _, raw_dists    = zip(*sorted(iterdists,   key=lambda x: x[0]))\n",
    "        _, scaled_dists = zip(*sorted(scaled_dists,key=lambda x: x[0]))\n",
    "        W         = np.diag(weights)\n",
    "        b         = np.linalg.inv(X.T @ W @ X) @ (X.T @ W @ yvals)\n",
    "        local_est = loc_eval(iterval, b)\n",
    "        iterDF2   = pd.DataFrame({\n",
    "                       'v'  :[iterval],\n",
    "                       'g'  :[local_est]\n",
    "                       })\n",
    "        evalDF = pd.concat([evalDF, iterDF2])\n",
    "    evalDF = evalDF[['v','g']]\n",
    "    return(evalDF)\n",
    "\n",
    "\n",
    "evalDF = loess(\"total_freq_log\", \"lstm_pred\", data = lstm, alpha=0.7, poly_degree=2)\n",
    "\n",
    "fig = plt.figure()\n",
    "ax1 = fig.add_subplot(111)\n",
    "ax1.scatter(lstm[\"total_freq_log\"], lstm[\"lstm_pred\"], color=\"grey\", marker=\"o\", s=5, label=\"_nolegend_\")\n",
    "ax1.plot(evalDF['v'], evalDF['g'], color='red', linewidth= 3, label=\"Test\")\n",
    "plt.title('N = 10, alpha = 0.7, polynomial degree = 2')\n",
    "plt.legend()\n",
    "plt.tight_layout()\n",
    "plt.savefig(\"popularity_performance.png\")\n",
    "plt.show()\n"
   ]
  },
  {
   "cell_type": "code",
   "execution_count": null,
   "id": "d42787fb",
   "metadata": {},
   "outputs": [],
   "source": []
  }
 ],
 "metadata": {
  "kernelspec": {
   "display_name": "Python 3 (ipykernel)",
   "language": "python",
   "name": "python3"
  },
  "language_info": {
   "codemirror_mode": {
    "name": "ipython",
    "version": 3
   },
   "file_extension": ".py",
   "mimetype": "text/x-python",
   "name": "python",
   "nbconvert_exporter": "python",
   "pygments_lexer": "ipython3",
   "version": "3.9.7"
  }
 },
 "nbformat": 4,
 "nbformat_minor": 5
}
