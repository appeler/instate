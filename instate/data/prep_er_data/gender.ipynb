{
 "cells": [
  {
   "cell_type": "code",
   "execution_count": 6,
   "id": "4ed2d7d3",
   "metadata": {},
   "outputs": [],
   "source": [
    "import pandas as pd\n",
    "from glob import glob\n",
    "import os\n",
    "import re\n",
    "import numpy as np"
   ]
  },
  {
   "cell_type": "code",
   "execution_count": 7,
   "id": "c1fa5368",
   "metadata": {},
   "outputs": [],
   "source": [
    "selected_data = []\n",
    "base_dir = \"/Users/dhingratul/Documents/parsed\"\n",
    "write_dir = \"/Users/dhingratul/Documents/instate_data\"\n",
    "chunk_size = 1000000\n",
    "unsupported_states = [\"himachal\", \"wb\", \"tn\"]"
   ]
  },
  {
   "cell_type": "code",
   "execution_count": 8,
   "id": "e56a2461",
   "metadata": {},
   "outputs": [],
   "source": [
    "def select_csv_folder(base_dir):\n",
    "    all_data = []\n",
    "    for fn in sorted(glob(os.path.join(base_dir, \"*.csv\"))):\n",
    "        state_split = re.split(\"[- _ : + .]\", os.path.basename(fn))\n",
    "        state = state_split[0]\n",
    "        print(f\"Processing state: {state}\")\n",
    "        if \"guj\" in state_split[1:]:\n",
    "            print(f\"Skipping non-supported state: {state}\")\n",
    "        else:\n",
    "            print(f\"Processing, csv folder,  state {state}\")\n",
    "            columns = pd.read_csv(fn, index_col=0, nrows=0).columns.tolist()\n",
    "            if \"name\" in columns:\n",
    "                df = pd.read_csv(\n",
    "                    fn,\n",
    "                    usecols=[\"name\", \"state\", \"father_or_husband_name\", \"sex\"],\n",
    "                )\n",
    "                df = df.rename(columns={\"name\": \"elector_name\"})\n",
    "            else:\n",
    "                df = pd.read_csv(\n",
    "                    fn,\n",
    "                    usecols=[\"elector_name\", \"state\", \"father_or_husband_name\", \"sex\"],\n",
    "                )\n",
    "            df[\"state\"] = state\n",
    "            all_data.append(df)\n",
    "    return pd.concat(all_data)"
   ]
  },
  {
   "cell_type": "code",
   "execution_count": 9,
   "id": "553f4af4",
   "metadata": {},
   "outputs": [],
   "source": [
    "def _establish_last_name(name, father_name):\n",
    "    if name is np.nan:\n",
    "        name = \"FNU\"\n",
    "    if father_name is np.nan:\n",
    "        father_name = \"FNU\"\n",
    "    if len(name.split()) > 1:\n",
    "        last_name = name.split()[-1]\n",
    "    else:\n",
    "        if len(father_name.split()) > 1:\n",
    "            last_name = father_name.split()[-1]\n",
    "        else:\n",
    "            last_name = \"LNU\"\n",
    "    return last_name\n",
    "\n",
    "\n",
    "def establish_last_name(df):\n",
    "    print(\"Cleaning Data, processing last names\")\n",
    "    df[\"last_name\"] = df.apply(\n",
    "        lambda x: _establish_last_name(x[\"elector_name\"], x[\"father_or_husband_name\"]),\n",
    "        axis=1,\n",
    "    )\n",
    "    df = df.drop([\"father_or_husband_name\", \"elector_name\"], axis=1)\n",
    "    return df"
   ]
  },
  {
   "cell_type": "code",
   "execution_count": 17,
   "id": "56451a19",
   "metadata": {},
   "outputs": [
    {
     "name": "stdout",
     "output_type": "stream",
     "text": [
      "Cleaning Data, processing last names\n"
     ]
    }
   ],
   "source": [
    "# # \"*csv\"\n",
    "df_csv = select_csv_folder(base_dir)\n",
    "df_csv = establish_last_name(df_csv)\n",
    "selected_data.append(df_csv)"
   ]
  },
  {
   "cell_type": "code",
   "execution_count": 18,
   "id": "150a0b9b",
   "metadata": {},
   "outputs": [
    {
     "data": {
      "text/html": [
       "<div>\n",
       "<style scoped>\n",
       "    .dataframe tbody tr th:only-of-type {\n",
       "        vertical-align: middle;\n",
       "    }\n",
       "\n",
       "    .dataframe tbody tr th {\n",
       "        vertical-align: top;\n",
       "    }\n",
       "\n",
       "    .dataframe thead th {\n",
       "        text-align: right;\n",
       "    }\n",
       "</style>\n",
       "<table border=\"1\" class=\"dataframe\">\n",
       "  <thead>\n",
       "    <tr style=\"text-align: right;\">\n",
       "      <th></th>\n",
       "      <th>sex</th>\n",
       "      <th>state</th>\n",
       "      <th>last_name</th>\n",
       "    </tr>\n",
       "  </thead>\n",
       "  <tbody>\n",
       "    <tr>\n",
       "      <th>0</th>\n",
       "      <td>Male</td>\n",
       "      <td>andaman</td>\n",
       "      <td>DATTA</td>\n",
       "    </tr>\n",
       "    <tr>\n",
       "      <th>1</th>\n",
       "      <td>Female</td>\n",
       "      <td>andaman</td>\n",
       "      <td>DEVI</td>\n",
       "    </tr>\n",
       "    <tr>\n",
       "      <th>2</th>\n",
       "      <td>Male</td>\n",
       "      <td>andaman</td>\n",
       "      <td>KRISHNA</td>\n",
       "    </tr>\n",
       "    <tr>\n",
       "      <th>3</th>\n",
       "      <td>Male</td>\n",
       "      <td>andaman</td>\n",
       "      <td>SEKHAR</td>\n",
       "    </tr>\n",
       "    <tr>\n",
       "      <th>4</th>\n",
       "      <td>Male</td>\n",
       "      <td>andaman</td>\n",
       "      <td>LNU</td>\n",
       "    </tr>\n",
       "  </tbody>\n",
       "</table>\n",
       "</div>"
      ],
      "text/plain": [
       "      sex    state last_name\n",
       "0    Male  andaman     DATTA\n",
       "1  Female  andaman      DEVI\n",
       "2    Male  andaman   KRISHNA\n",
       "3    Male  andaman    SEKHAR\n",
       "4    Male  andaman       LNU"
      ]
     },
     "execution_count": 18,
     "metadata": {},
     "output_type": "execute_result"
    }
   ],
   "source": [
    "df_csv.head()"
   ]
  },
  {
   "cell_type": "code",
   "execution_count": 19,
   "id": "3c29f404",
   "metadata": {},
   "outputs": [
    {
     "name": "stdout",
     "output_type": "stream",
     "text": [
      "Processing, 7z,  andhra\n",
      "Processing state: andhra\n",
      "Processing, csv folder,  state andhra\n",
      "Processing state: andhra\n",
      "Processing, csv folder,  state andhra\n",
      "Processing state: andhra\n",
      "Processing, csv folder,  state andhra\n",
      "Processing state: andhra\n",
      "Processing, csv folder,  state andhra\n",
      "Processing state: andhra\n",
      "Processing, csv folder,  state andhra\n",
      "Processing state: andhra\n",
      "Processing, csv folder,  state andhra\n",
      "Processing state: andhra\n",
      "Processing, csv folder,  state andhra\n",
      "Cleaning Data, processing last names\n",
      "Skipping unsupported state: dadra\n"
     ]
    }
   ],
   "source": [
    "# *.7z, pre-req: Extract .7z file to a folder manually using system unzipper\n",
    "for f in [\n",
    "    name\n",
    "    for name in os.listdir(base_dir)\n",
    "    if os.path.isdir(os.path.join(base_dir, name))\n",
    "]:\n",
    "    folder_split = re.split(\"[- _ : +]\", os.path.basename(f))\n",
    "    state = folder_split[0]\n",
    "    if \"guj\" in folder_split[1:]:\n",
    "        print(f\"Skipping unsupported state: {state}\")\n",
    "    else:\n",
    "        print(f\"Processing, 7z,  {state}\")\n",
    "        df_7z = select_csv_folder(os.path.join(base_dir, f))\n",
    "        df_7z = establish_last_name(df_7z)\n",
    "        selected_data.append(df_7z)"
   ]
  },
  {
   "cell_type": "code",
   "execution_count": 20,
   "id": "5a7baea5",
   "metadata": {},
   "outputs": [],
   "source": [
    "def select_gz_chunk(df, state_split):\n",
    "    all_data = []\n",
    "    if \"clean\" in state_split:\n",
    "        df = df[[\"elector_name_t13n\", \"state\", \"father_or_husband_name_t13n\", \"sex\"]]\n",
    "        df = df.rename(\n",
    "            columns={\n",
    "                \"elector_name_t13n\": \"elector_name\",\n",
    "                \"father_or_husband_name_t13n\": \"father_or_husband_name\",\n",
    "            }\n",
    "        )\n",
    "    else:\n",
    "        df = df[[\"elector_name\", \"state\", \"father_or_husband_name\", \"sex\"]]\n",
    "    df[\"state\"] = state_split[0]\n",
    "    all_data.append(df)\n",
    "    return pd.concat(all_data)"
   ]
  },
  {
   "cell_type": "code",
   "execution_count": 21,
   "id": "e90510b7",
   "metadata": {},
   "outputs": [
    {
     "name": "stderr",
     "output_type": "stream",
     "text": [
      "/var/folders/zm/1jsfy4n50pxgckvd0pk9rwvw0000gn/T/ipykernel_14492/2296241830.py:10: DtypeWarning: Columns (0,10,18,34) have mixed types. Specify dtype option on import or set low_memory=False.\n",
      "  for df in pd.read_csv(base_path, chunksize=chunk_size):\n"
     ]
    },
    {
     "name": "stdout",
     "output_type": "stream",
     "text": [
      "Processing, gz folder,  state: assam, chunk 1000000\n",
      "Cleaning Data, processing last names\n"
     ]
    },
    {
     "name": "stderr",
     "output_type": "stream",
     "text": [
      "/var/folders/zm/1jsfy4n50pxgckvd0pk9rwvw0000gn/T/ipykernel_14492/2296241830.py:10: DtypeWarning: Columns (8,9,10,14,28,29,30) have mixed types. Specify dtype option on import or set low_memory=False.\n",
      "  for df in pd.read_csv(base_path, chunksize=chunk_size):\n"
     ]
    },
    {
     "name": "stdout",
     "output_type": "stream",
     "text": [
      "Processing, gz folder,  state: assam, chunk 1000000\n",
      "Cleaning Data, processing last names\n"
     ]
    },
    {
     "name": "stderr",
     "output_type": "stream",
     "text": [
      "/var/folders/zm/1jsfy4n50pxgckvd0pk9rwvw0000gn/T/ipykernel_14492/2296241830.py:10: DtypeWarning: Columns (0,10,14,18,30,34) have mixed types. Specify dtype option on import or set low_memory=False.\n",
      "  for df in pd.read_csv(base_path, chunksize=chunk_size):\n"
     ]
    },
    {
     "name": "stdout",
     "output_type": "stream",
     "text": [
      "Processing, gz folder,  state: assam, chunk 1000000\n",
      "Cleaning Data, processing last names\n"
     ]
    },
    {
     "name": "stderr",
     "output_type": "stream",
     "text": [
      "/var/folders/zm/1jsfy4n50pxgckvd0pk9rwvw0000gn/T/ipykernel_14492/2296241830.py:10: DtypeWarning: Columns (0,10,14,20,21,30,35,36) have mixed types. Specify dtype option on import or set low_memory=False.\n",
      "  for df in pd.read_csv(base_path, chunksize=chunk_size):\n"
     ]
    },
    {
     "name": "stdout",
     "output_type": "stream",
     "text": [
      "Processing, gz folder,  state: assam, chunk 1000000\n",
      "Cleaning Data, processing last names\n"
     ]
    },
    {
     "name": "stderr",
     "output_type": "stream",
     "text": [
      "/var/folders/zm/1jsfy4n50pxgckvd0pk9rwvw0000gn/T/ipykernel_14492/2296241830.py:10: DtypeWarning: Columns (0,10,14,30) have mixed types. Specify dtype option on import or set low_memory=False.\n",
      "  for df in pd.read_csv(base_path, chunksize=chunk_size):\n"
     ]
    },
    {
     "name": "stdout",
     "output_type": "stream",
     "text": [
      "Processing, gz folder,  state: assam, chunk 1000000\n",
      "Cleaning Data, processing last names\n"
     ]
    },
    {
     "name": "stderr",
     "output_type": "stream",
     "text": [
      "/var/folders/zm/1jsfy4n50pxgckvd0pk9rwvw0000gn/T/ipykernel_14492/2296241830.py:10: DtypeWarning: Columns (0,10,14,30) have mixed types. Specify dtype option on import or set low_memory=False.\n",
      "  for df in pd.read_csv(base_path, chunksize=chunk_size):\n"
     ]
    },
    {
     "name": "stdout",
     "output_type": "stream",
     "text": [
      "Processing, gz folder,  state: assam, chunk 1000000\n",
      "Cleaning Data, processing last names\n"
     ]
    },
    {
     "name": "stderr",
     "output_type": "stream",
     "text": [
      "/var/folders/zm/1jsfy4n50pxgckvd0pk9rwvw0000gn/T/ipykernel_14492/2296241830.py:10: DtypeWarning: Columns (0,10,20,21,35,36) have mixed types. Specify dtype option on import or set low_memory=False.\n",
      "  for df in pd.read_csv(base_path, chunksize=chunk_size):\n"
     ]
    },
    {
     "name": "stdout",
     "output_type": "stream",
     "text": [
      "Processing, gz folder,  state: assam, chunk 1000000\n",
      "Cleaning Data, processing last names\n"
     ]
    },
    {
     "name": "stderr",
     "output_type": "stream",
     "text": [
      "/var/folders/zm/1jsfy4n50pxgckvd0pk9rwvw0000gn/T/ipykernel_14492/2296241830.py:10: DtypeWarning: Columns (0,10,14,20,21,30,35,36) have mixed types. Specify dtype option on import or set low_memory=False.\n",
      "  for df in pd.read_csv(base_path, chunksize=chunk_size):\n"
     ]
    },
    {
     "name": "stdout",
     "output_type": "stream",
     "text": [
      "Processing, gz folder,  state: assam, chunk 1000000\n",
      "Cleaning Data, processing last names\n"
     ]
    },
    {
     "name": "stderr",
     "output_type": "stream",
     "text": [
      "/var/folders/zm/1jsfy4n50pxgckvd0pk9rwvw0000gn/T/ipykernel_14492/2296241830.py:10: DtypeWarning: Columns (0,10,14,30) have mixed types. Specify dtype option on import or set low_memory=False.\n",
      "  for df in pd.read_csv(base_path, chunksize=chunk_size):\n"
     ]
    },
    {
     "name": "stdout",
     "output_type": "stream",
     "text": [
      "Processing, gz folder,  state: assam, chunk 1000000\n",
      "Cleaning Data, processing last names\n"
     ]
    },
    {
     "name": "stderr",
     "output_type": "stream",
     "text": [
      "/var/folders/zm/1jsfy4n50pxgckvd0pk9rwvw0000gn/T/ipykernel_14492/2296241830.py:10: DtypeWarning: Columns (10,14,30) have mixed types. Specify dtype option on import or set low_memory=False.\n",
      "  for df in pd.read_csv(base_path, chunksize=chunk_size):\n"
     ]
    },
    {
     "name": "stdout",
     "output_type": "stream",
     "text": [
      "Processing, gz folder,  state: assam, chunk 1000000\n",
      "Cleaning Data, processing last names\n"
     ]
    },
    {
     "name": "stderr",
     "output_type": "stream",
     "text": [
      "/var/folders/zm/1jsfy4n50pxgckvd0pk9rwvw0000gn/T/ipykernel_14492/2296241830.py:10: DtypeWarning: Columns (5,17,18,37,40,41,50) have mixed types. Specify dtype option on import or set low_memory=False.\n",
      "  for df in pd.read_csv(base_path, chunksize=chunk_size):\n"
     ]
    },
    {
     "name": "stdout",
     "output_type": "stream",
     "text": [
      "Processing, gz folder,  state: bihar, chunk 1000000\n",
      "Cleaning Data, processing last names\n"
     ]
    },
    {
     "name": "stderr",
     "output_type": "stream",
     "text": [
      "/var/folders/zm/1jsfy4n50pxgckvd0pk9rwvw0000gn/T/ipykernel_14492/2296241830.py:10: DtypeWarning: Columns (5,17,18,37,50) have mixed types. Specify dtype option on import or set low_memory=False.\n",
      "  for df in pd.read_csv(base_path, chunksize=chunk_size):\n"
     ]
    },
    {
     "name": "stdout",
     "output_type": "stream",
     "text": [
      "Processing, gz folder,  state: bihar, chunk 1000000\n",
      "Cleaning Data, processing last names\n"
     ]
    },
    {
     "name": "stderr",
     "output_type": "stream",
     "text": [
      "/var/folders/zm/1jsfy4n50pxgckvd0pk9rwvw0000gn/T/ipykernel_14492/2296241830.py:10: DtypeWarning: Columns (5,17,18,37,38,40,41,50) have mixed types. Specify dtype option on import or set low_memory=False.\n",
      "  for df in pd.read_csv(base_path, chunksize=chunk_size):\n"
     ]
    },
    {
     "name": "stdout",
     "output_type": "stream",
     "text": [
      "Processing, gz folder,  state: bihar, chunk 1000000\n",
      "Cleaning Data, processing last names\n"
     ]
    },
    {
     "name": "stderr",
     "output_type": "stream",
     "text": [
      "/var/folders/zm/1jsfy4n50pxgckvd0pk9rwvw0000gn/T/ipykernel_14492/2296241830.py:10: DtypeWarning: Columns (5,17,37,39) have mixed types. Specify dtype option on import or set low_memory=False.\n",
      "  for df in pd.read_csv(base_path, chunksize=chunk_size):\n"
     ]
    },
    {
     "name": "stdout",
     "output_type": "stream",
     "text": [
      "Processing, gz folder,  state: bihar, chunk 1000000\n",
      "Cleaning Data, processing last names\n"
     ]
    },
    {
     "name": "stderr",
     "output_type": "stream",
     "text": [
      "/var/folders/zm/1jsfy4n50pxgckvd0pk9rwvw0000gn/T/ipykernel_14492/2296241830.py:10: DtypeWarning: Columns (17,18,37,39,41,50) have mixed types. Specify dtype option on import or set low_memory=False.\n",
      "  for df in pd.read_csv(base_path, chunksize=chunk_size):\n"
     ]
    },
    {
     "name": "stdout",
     "output_type": "stream",
     "text": [
      "Processing, gz folder,  state: bihar, chunk 1000000\n",
      "Cleaning Data, processing last names\n"
     ]
    },
    {
     "name": "stderr",
     "output_type": "stream",
     "text": [
      "/var/folders/zm/1jsfy4n50pxgckvd0pk9rwvw0000gn/T/ipykernel_14492/2296241830.py:10: DtypeWarning: Columns (5,17,18,37,40,41,50) have mixed types. Specify dtype option on import or set low_memory=False.\n",
      "  for df in pd.read_csv(base_path, chunksize=chunk_size):\n"
     ]
    },
    {
     "name": "stdout",
     "output_type": "stream",
     "text": [
      "Processing, gz folder,  state: bihar, chunk 1000000\n",
      "Cleaning Data, processing last names\n"
     ]
    },
    {
     "name": "stderr",
     "output_type": "stream",
     "text": [
      "/var/folders/zm/1jsfy4n50pxgckvd0pk9rwvw0000gn/T/ipykernel_14492/2296241830.py:10: DtypeWarning: Columns (17,37,41) have mixed types. Specify dtype option on import or set low_memory=False.\n",
      "  for df in pd.read_csv(base_path, chunksize=chunk_size):\n"
     ]
    },
    {
     "name": "stdout",
     "output_type": "stream",
     "text": [
      "Processing, gz folder,  state: bihar, chunk 1000000\n",
      "Cleaning Data, processing last names\n"
     ]
    },
    {
     "name": "stderr",
     "output_type": "stream",
     "text": [
      "/var/folders/zm/1jsfy4n50pxgckvd0pk9rwvw0000gn/T/ipykernel_14492/2296241830.py:10: DtypeWarning: Columns (18,37,39,41,50) have mixed types. Specify dtype option on import or set low_memory=False.\n",
      "  for df in pd.read_csv(base_path, chunksize=chunk_size):\n"
     ]
    },
    {
     "name": "stdout",
     "output_type": "stream",
     "text": [
      "Processing, gz folder,  state: bihar, chunk 1000000\n",
      "Cleaning Data, processing last names\n"
     ]
    },
    {
     "name": "stderr",
     "output_type": "stream",
     "text": [
      "/var/folders/zm/1jsfy4n50pxgckvd0pk9rwvw0000gn/T/ipykernel_14492/2296241830.py:10: DtypeWarning: Columns (17,35,37,41) have mixed types. Specify dtype option on import or set low_memory=False.\n",
      "  for df in pd.read_csv(base_path, chunksize=chunk_size):\n"
     ]
    },
    {
     "name": "stdout",
     "output_type": "stream",
     "text": [
      "Processing, gz folder,  state: bihar, chunk 1000000\n",
      "Cleaning Data, processing last names\n"
     ]
    },
    {
     "name": "stderr",
     "output_type": "stream",
     "text": [
      "/var/folders/zm/1jsfy4n50pxgckvd0pk9rwvw0000gn/T/ipykernel_14492/2296241830.py:10: DtypeWarning: Columns (5,17,18,37,50) have mixed types. Specify dtype option on import or set low_memory=False.\n",
      "  for df in pd.read_csv(base_path, chunksize=chunk_size):\n"
     ]
    },
    {
     "name": "stdout",
     "output_type": "stream",
     "text": [
      "Processing, gz folder,  state: bihar, chunk 1000000\n",
      "Cleaning Data, processing last names\n"
     ]
    },
    {
     "name": "stderr",
     "output_type": "stream",
     "text": [
      "/var/folders/zm/1jsfy4n50pxgckvd0pk9rwvw0000gn/T/ipykernel_14492/2296241830.py:10: DtypeWarning: Columns (5,17,37,40) have mixed types. Specify dtype option on import or set low_memory=False.\n",
      "  for df in pd.read_csv(base_path, chunksize=chunk_size):\n"
     ]
    },
    {
     "name": "stdout",
     "output_type": "stream",
     "text": [
      "Processing, gz folder,  state: bihar, chunk 1000000\n",
      "Cleaning Data, processing last names\n"
     ]
    },
    {
     "name": "stderr",
     "output_type": "stream",
     "text": [
      "/var/folders/zm/1jsfy4n50pxgckvd0pk9rwvw0000gn/T/ipykernel_14492/2296241830.py:10: DtypeWarning: Columns (5,17,37,39,41) have mixed types. Specify dtype option on import or set low_memory=False.\n",
      "  for df in pd.read_csv(base_path, chunksize=chunk_size):\n"
     ]
    },
    {
     "name": "stdout",
     "output_type": "stream",
     "text": [
      "Processing, gz folder,  state: bihar, chunk 1000000\n",
      "Cleaning Data, processing last names\n"
     ]
    },
    {
     "name": "stderr",
     "output_type": "stream",
     "text": [
      "/var/folders/zm/1jsfy4n50pxgckvd0pk9rwvw0000gn/T/ipykernel_14492/2296241830.py:10: DtypeWarning: Columns (0,16,17,18,21,37,41,49,50,53) have mixed types. Specify dtype option on import or set low_memory=False.\n",
      "  for df in pd.read_csv(base_path, chunksize=chunk_size):\n"
     ]
    },
    {
     "name": "stdout",
     "output_type": "stream",
     "text": [
      "Processing, gz folder,  state: bihar, chunk 1000000\n",
      "Cleaning Data, processing last names\n"
     ]
    },
    {
     "name": "stderr",
     "output_type": "stream",
     "text": [
      "/var/folders/zm/1jsfy4n50pxgckvd0pk9rwvw0000gn/T/ipykernel_14492/2296241830.py:10: DtypeWarning: Columns (17,18,35,37,40,41,50) have mixed types. Specify dtype option on import or set low_memory=False.\n",
      "  for df in pd.read_csv(base_path, chunksize=chunk_size):\n"
     ]
    },
    {
     "name": "stdout",
     "output_type": "stream",
     "text": [
      "Processing, gz folder,  state: bihar, chunk 1000000\n",
      "Cleaning Data, processing last names\n"
     ]
    },
    {
     "name": "stderr",
     "output_type": "stream",
     "text": [
      "/var/folders/zm/1jsfy4n50pxgckvd0pk9rwvw0000gn/T/ipykernel_14492/2296241830.py:10: DtypeWarning: Columns (5,17,34,37) have mixed types. Specify dtype option on import or set low_memory=False.\n",
      "  for df in pd.read_csv(base_path, chunksize=chunk_size):\n"
     ]
    },
    {
     "name": "stdout",
     "output_type": "stream",
     "text": [
      "Processing, gz folder,  state: bihar, chunk 1000000\n",
      "Cleaning Data, processing last names\n"
     ]
    },
    {
     "name": "stderr",
     "output_type": "stream",
     "text": [
      "/var/folders/zm/1jsfy4n50pxgckvd0pk9rwvw0000gn/T/ipykernel_14492/2296241830.py:10: DtypeWarning: Columns (17,18,37,50) have mixed types. Specify dtype option on import or set low_memory=False.\n",
      "  for df in pd.read_csv(base_path, chunksize=chunk_size):\n"
     ]
    },
    {
     "name": "stdout",
     "output_type": "stream",
     "text": [
      "Processing, gz folder,  state: bihar, chunk 1000000\n",
      "Cleaning Data, processing last names\n"
     ]
    },
    {
     "name": "stderr",
     "output_type": "stream",
     "text": [
      "/var/folders/zm/1jsfy4n50pxgckvd0pk9rwvw0000gn/T/ipykernel_14492/2296241830.py:10: DtypeWarning: Columns (5,17,35,37) have mixed types. Specify dtype option on import or set low_memory=False.\n",
      "  for df in pd.read_csv(base_path, chunksize=chunk_size):\n"
     ]
    },
    {
     "name": "stdout",
     "output_type": "stream",
     "text": [
      "Processing, gz folder,  state: bihar, chunk 1000000\n",
      "Cleaning Data, processing last names\n"
     ]
    },
    {
     "name": "stderr",
     "output_type": "stream",
     "text": [
      "/var/folders/zm/1jsfy4n50pxgckvd0pk9rwvw0000gn/T/ipykernel_14492/2296241830.py:10: DtypeWarning: Columns (5,17,18,37,38,41,50) have mixed types. Specify dtype option on import or set low_memory=False.\n",
      "  for df in pd.read_csv(base_path, chunksize=chunk_size):\n"
     ]
    },
    {
     "name": "stdout",
     "output_type": "stream",
     "text": [
      "Processing, gz folder,  state: bihar, chunk 1000000\n",
      "Cleaning Data, processing last names\n"
     ]
    },
    {
     "name": "stderr",
     "output_type": "stream",
     "text": [
      "/var/folders/zm/1jsfy4n50pxgckvd0pk9rwvw0000gn/T/ipykernel_14492/2296241830.py:10: DtypeWarning: Columns (17,18,33,37,41,50) have mixed types. Specify dtype option on import or set low_memory=False.\n",
      "  for df in pd.read_csv(base_path, chunksize=chunk_size):\n"
     ]
    },
    {
     "name": "stdout",
     "output_type": "stream",
     "text": [
      "Processing, gz folder,  state: bihar, chunk 1000000\n",
      "Cleaning Data, processing last names\n"
     ]
    },
    {
     "name": "stderr",
     "output_type": "stream",
     "text": [
      "/var/folders/zm/1jsfy4n50pxgckvd0pk9rwvw0000gn/T/ipykernel_14492/2296241830.py:10: DtypeWarning: Columns (5,17,37,38,41) have mixed types. Specify dtype option on import or set low_memory=False.\n",
      "  for df in pd.read_csv(base_path, chunksize=chunk_size):\n"
     ]
    },
    {
     "name": "stdout",
     "output_type": "stream",
     "text": [
      "Processing, gz folder,  state: bihar, chunk 1000000\n",
      "Cleaning Data, processing last names\n"
     ]
    },
    {
     "name": "stderr",
     "output_type": "stream",
     "text": [
      "/var/folders/zm/1jsfy4n50pxgckvd0pk9rwvw0000gn/T/ipykernel_14492/2296241830.py:10: DtypeWarning: Columns (17,18,37,39,41,50) have mixed types. Specify dtype option on import or set low_memory=False.\n",
      "  for df in pd.read_csv(base_path, chunksize=chunk_size):\n"
     ]
    },
    {
     "name": "stdout",
     "output_type": "stream",
     "text": [
      "Processing, gz folder,  state: bihar, chunk 1000000\n",
      "Cleaning Data, processing last names\n"
     ]
    },
    {
     "name": "stderr",
     "output_type": "stream",
     "text": [
      "/var/folders/zm/1jsfy4n50pxgckvd0pk9rwvw0000gn/T/ipykernel_14492/2296241830.py:10: DtypeWarning: Columns (5,17,18,37,50) have mixed types. Specify dtype option on import or set low_memory=False.\n",
      "  for df in pd.read_csv(base_path, chunksize=chunk_size):\n"
     ]
    },
    {
     "name": "stdout",
     "output_type": "stream",
     "text": [
      "Processing, gz folder,  state: bihar, chunk 1000000\n",
      "Cleaning Data, processing last names\n"
     ]
    },
    {
     "name": "stderr",
     "output_type": "stream",
     "text": [
      "/var/folders/zm/1jsfy4n50pxgckvd0pk9rwvw0000gn/T/ipykernel_14492/2296241830.py:10: DtypeWarning: Columns (5,17,18,37,41,50) have mixed types. Specify dtype option on import or set low_memory=False.\n",
      "  for df in pd.read_csv(base_path, chunksize=chunk_size):\n"
     ]
    },
    {
     "name": "stdout",
     "output_type": "stream",
     "text": [
      "Processing, gz folder,  state: bihar, chunk 1000000\n",
      "Cleaning Data, processing last names\n"
     ]
    },
    {
     "name": "stderr",
     "output_type": "stream",
     "text": [
      "/var/folders/zm/1jsfy4n50pxgckvd0pk9rwvw0000gn/T/ipykernel_14492/2296241830.py:10: DtypeWarning: Columns (0,5,17,18,35,37,41,50) have mixed types. Specify dtype option on import or set low_memory=False.\n",
      "  for df in pd.read_csv(base_path, chunksize=chunk_size):\n"
     ]
    },
    {
     "name": "stdout",
     "output_type": "stream",
     "text": [
      "Processing, gz folder,  state: bihar, chunk 1000000\n",
      "Cleaning Data, processing last names\n"
     ]
    },
    {
     "name": "stderr",
     "output_type": "stream",
     "text": [
      "/var/folders/zm/1jsfy4n50pxgckvd0pk9rwvw0000gn/T/ipykernel_14492/2296241830.py:10: DtypeWarning: Columns (0,5,37,41) have mixed types. Specify dtype option on import or set low_memory=False.\n",
      "  for df in pd.read_csv(base_path, chunksize=chunk_size):\n"
     ]
    },
    {
     "name": "stdout",
     "output_type": "stream",
     "text": [
      "Processing, gz folder,  state: bihar, chunk 1000000\n",
      "Cleaning Data, processing last names\n"
     ]
    },
    {
     "name": "stderr",
     "output_type": "stream",
     "text": [
      "/var/folders/zm/1jsfy4n50pxgckvd0pk9rwvw0000gn/T/ipykernel_14492/2296241830.py:10: DtypeWarning: Columns (5,37,40) have mixed types. Specify dtype option on import or set low_memory=False.\n",
      "  for df in pd.read_csv(base_path, chunksize=chunk_size):\n"
     ]
    },
    {
     "name": "stdout",
     "output_type": "stream",
     "text": [
      "Processing, gz folder,  state: bihar, chunk 1000000\n",
      "Cleaning Data, processing last names\n"
     ]
    },
    {
     "name": "stderr",
     "output_type": "stream",
     "text": [
      "/var/folders/zm/1jsfy4n50pxgckvd0pk9rwvw0000gn/T/ipykernel_14492/2296241830.py:10: DtypeWarning: Columns (15,18,37,40,41,48,50) have mixed types. Specify dtype option on import or set low_memory=False.\n",
      "  for df in pd.read_csv(base_path, chunksize=chunk_size):\n"
     ]
    },
    {
     "name": "stdout",
     "output_type": "stream",
     "text": [
      "Processing, gz folder,  state: bihar, chunk 1000000\n",
      "Cleaning Data, processing last names\n"
     ]
    },
    {
     "name": "stderr",
     "output_type": "stream",
     "text": [
      "/var/folders/zm/1jsfy4n50pxgckvd0pk9rwvw0000gn/T/ipykernel_14492/2296241830.py:10: DtypeWarning: Columns (5,17,18,37,41,50) have mixed types. Specify dtype option on import or set low_memory=False.\n",
      "  for df in pd.read_csv(base_path, chunksize=chunk_size):\n"
     ]
    },
    {
     "name": "stdout",
     "output_type": "stream",
     "text": [
      "Processing, gz folder,  state: bihar, chunk 1000000\n",
      "Cleaning Data, processing last names\n"
     ]
    },
    {
     "name": "stderr",
     "output_type": "stream",
     "text": [
      "/var/folders/zm/1jsfy4n50pxgckvd0pk9rwvw0000gn/T/ipykernel_14492/2296241830.py:10: DtypeWarning: Columns (0,5,17,18,37,50) have mixed types. Specify dtype option on import or set low_memory=False.\n",
      "  for df in pd.read_csv(base_path, chunksize=chunk_size):\n"
     ]
    },
    {
     "name": "stdout",
     "output_type": "stream",
     "text": [
      "Processing, gz folder,  state: bihar, chunk 1000000\n",
      "Cleaning Data, processing last names\n"
     ]
    },
    {
     "name": "stderr",
     "output_type": "stream",
     "text": [
      "/var/folders/zm/1jsfy4n50pxgckvd0pk9rwvw0000gn/T/ipykernel_14492/2296241830.py:10: DtypeWarning: Columns (17,18,37,41,50) have mixed types. Specify dtype option on import or set low_memory=False.\n",
      "  for df in pd.read_csv(base_path, chunksize=chunk_size):\n"
     ]
    },
    {
     "name": "stdout",
     "output_type": "stream",
     "text": [
      "Processing, gz folder,  state: bihar, chunk 1000000\n",
      "Cleaning Data, processing last names\n"
     ]
    },
    {
     "name": "stderr",
     "output_type": "stream",
     "text": [
      "/var/folders/zm/1jsfy4n50pxgckvd0pk9rwvw0000gn/T/ipykernel_14492/2296241830.py:10: DtypeWarning: Columns (5,14,17,18,34,37,41,47,50) have mixed types. Specify dtype option on import or set low_memory=False.\n",
      "  for df in pd.read_csv(base_path, chunksize=chunk_size):\n"
     ]
    },
    {
     "name": "stdout",
     "output_type": "stream",
     "text": [
      "Processing, gz folder,  state: bihar, chunk 1000000\n",
      "Cleaning Data, processing last names\n"
     ]
    },
    {
     "name": "stderr",
     "output_type": "stream",
     "text": [
      "/var/folders/zm/1jsfy4n50pxgckvd0pk9rwvw0000gn/T/ipykernel_14492/2296241830.py:10: DtypeWarning: Columns (0,5,17,34,36,37) have mixed types. Specify dtype option on import or set low_memory=False.\n",
      "  for df in pd.read_csv(base_path, chunksize=chunk_size):\n"
     ]
    },
    {
     "name": "stdout",
     "output_type": "stream",
     "text": [
      "Processing, gz folder,  state: bihar, chunk 1000000\n",
      "Cleaning Data, processing last names\n"
     ]
    },
    {
     "name": "stderr",
     "output_type": "stream",
     "text": [
      "/var/folders/zm/1jsfy4n50pxgckvd0pk9rwvw0000gn/T/ipykernel_14492/2296241830.py:10: DtypeWarning: Columns (17,37) have mixed types. Specify dtype option on import or set low_memory=False.\n",
      "  for df in pd.read_csv(base_path, chunksize=chunk_size):\n"
     ]
    },
    {
     "name": "stdout",
     "output_type": "stream",
     "text": [
      "Processing, gz folder,  state: bihar, chunk 1000000\n",
      "Cleaning Data, processing last names\n"
     ]
    },
    {
     "name": "stderr",
     "output_type": "stream",
     "text": [
      "/var/folders/zm/1jsfy4n50pxgckvd0pk9rwvw0000gn/T/ipykernel_14492/2296241830.py:10: DtypeWarning: Columns (5,17,21,23,24,33,37,41,53,54,55) have mixed types. Specify dtype option on import or set low_memory=False.\n",
      "  for df in pd.read_csv(base_path, chunksize=chunk_size):\n"
     ]
    },
    {
     "name": "stdout",
     "output_type": "stream",
     "text": [
      "Processing, gz folder,  state: bihar, chunk 1000000\n",
      "Cleaning Data, processing last names\n"
     ]
    },
    {
     "name": "stderr",
     "output_type": "stream",
     "text": [
      "/var/folders/zm/1jsfy4n50pxgckvd0pk9rwvw0000gn/T/ipykernel_14492/2296241830.py:10: DtypeWarning: Columns (17,18,36,41,50) have mixed types. Specify dtype option on import or set low_memory=False.\n",
      "  for df in pd.read_csv(base_path, chunksize=chunk_size):\n"
     ]
    },
    {
     "name": "stdout",
     "output_type": "stream",
     "text": [
      "Processing, gz folder,  state: bihar, chunk 1000000\n",
      "Cleaning Data, processing last names\n"
     ]
    },
    {
     "name": "stderr",
     "output_type": "stream",
     "text": [
      "/var/folders/zm/1jsfy4n50pxgckvd0pk9rwvw0000gn/T/ipykernel_14492/2296241830.py:10: DtypeWarning: Columns (5,17,37,41) have mixed types. Specify dtype option on import or set low_memory=False.\n",
      "  for df in pd.read_csv(base_path, chunksize=chunk_size):\n"
     ]
    },
    {
     "name": "stdout",
     "output_type": "stream",
     "text": [
      "Processing, gz folder,  state: bihar, chunk 1000000\n",
      "Cleaning Data, processing last names\n"
     ]
    },
    {
     "name": "stderr",
     "output_type": "stream",
     "text": [
      "/var/folders/zm/1jsfy4n50pxgckvd0pk9rwvw0000gn/T/ipykernel_14492/2296241830.py:10: DtypeWarning: Columns (5,14,17,18,35,37,38,40,41,47,50) have mixed types. Specify dtype option on import or set low_memory=False.\n",
      "  for df in pd.read_csv(base_path, chunksize=chunk_size):\n"
     ]
    },
    {
     "name": "stdout",
     "output_type": "stream",
     "text": [
      "Processing, gz folder,  state: bihar, chunk 1000000\n",
      "Cleaning Data, processing last names\n"
     ]
    },
    {
     "name": "stderr",
     "output_type": "stream",
     "text": [
      "/var/folders/zm/1jsfy4n50pxgckvd0pk9rwvw0000gn/T/ipykernel_14492/2296241830.py:10: DtypeWarning: Columns (0,5,17,37,41) have mixed types. Specify dtype option on import or set low_memory=False.\n",
      "  for df in pd.read_csv(base_path, chunksize=chunk_size):\n"
     ]
    },
    {
     "name": "stdout",
     "output_type": "stream",
     "text": [
      "Processing, gz folder,  state: bihar, chunk 1000000\n",
      "Cleaning Data, processing last names\n"
     ]
    },
    {
     "name": "stderr",
     "output_type": "stream",
     "text": [
      "/var/folders/zm/1jsfy4n50pxgckvd0pk9rwvw0000gn/T/ipykernel_14492/2296241830.py:10: DtypeWarning: Columns (17,37,41) have mixed types. Specify dtype option on import or set low_memory=False.\n",
      "  for df in pd.read_csv(base_path, chunksize=chunk_size):\n"
     ]
    },
    {
     "name": "stdout",
     "output_type": "stream",
     "text": [
      "Processing, gz folder,  state: bihar, chunk 1000000\n",
      "Cleaning Data, processing last names\n"
     ]
    },
    {
     "name": "stderr",
     "output_type": "stream",
     "text": [
      "/var/folders/zm/1jsfy4n50pxgckvd0pk9rwvw0000gn/T/ipykernel_14492/2296241830.py:10: DtypeWarning: Columns (0,5,17,37) have mixed types. Specify dtype option on import or set low_memory=False.\n",
      "  for df in pd.read_csv(base_path, chunksize=chunk_size):\n"
     ]
    },
    {
     "name": "stdout",
     "output_type": "stream",
     "text": [
      "Processing, gz folder,  state: bihar, chunk 1000000\n",
      "Cleaning Data, processing last names\n"
     ]
    },
    {
     "name": "stderr",
     "output_type": "stream",
     "text": [
      "/var/folders/zm/1jsfy4n50pxgckvd0pk9rwvw0000gn/T/ipykernel_14492/2296241830.py:10: DtypeWarning: Columns (0,14,15,16,17,18,19,20,21,37,47,48,49,50,51,52,53) have mixed types. Specify dtype option on import or set low_memory=False.\n",
      "  for df in pd.read_csv(base_path, chunksize=chunk_size):\n"
     ]
    },
    {
     "name": "stdout",
     "output_type": "stream",
     "text": [
      "Processing, gz folder,  state: bihar, chunk 1000000\n",
      "Cleaning Data, processing last names\n"
     ]
    },
    {
     "name": "stderr",
     "output_type": "stream",
     "text": [
      "/var/folders/zm/1jsfy4n50pxgckvd0pk9rwvw0000gn/T/ipykernel_14492/2296241830.py:10: DtypeWarning: Columns (14,15,16,17,18,19,20,21,34,35,37,39,41,47,48,49,50,51,52,53) have mixed types. Specify dtype option on import or set low_memory=False.\n",
      "  for df in pd.read_csv(base_path, chunksize=chunk_size):\n"
     ]
    },
    {
     "name": "stdout",
     "output_type": "stream",
     "text": [
      "Processing, gz folder,  state: bihar, chunk 1000000\n",
      "Cleaning Data, processing last names\n"
     ]
    },
    {
     "name": "stderr",
     "output_type": "stream",
     "text": [
      "/var/folders/zm/1jsfy4n50pxgckvd0pk9rwvw0000gn/T/ipykernel_14492/2296241830.py:10: DtypeWarning: Columns (17,18,37,41,50) have mixed types. Specify dtype option on import or set low_memory=False.\n",
      "  for df in pd.read_csv(base_path, chunksize=chunk_size):\n"
     ]
    },
    {
     "name": "stdout",
     "output_type": "stream",
     "text": [
      "Processing, gz folder,  state: bihar, chunk 1000000\n",
      "Cleaning Data, processing last names\n"
     ]
    },
    {
     "name": "stderr",
     "output_type": "stream",
     "text": [
      "/var/folders/zm/1jsfy4n50pxgckvd0pk9rwvw0000gn/T/ipykernel_14492/2296241830.py:10: DtypeWarning: Columns (17,18,35,41,50) have mixed types. Specify dtype option on import or set low_memory=False.\n",
      "  for df in pd.read_csv(base_path, chunksize=chunk_size):\n"
     ]
    },
    {
     "name": "stdout",
     "output_type": "stream",
     "text": [
      "Processing, gz folder,  state: bihar, chunk 1000000\n",
      "Cleaning Data, processing last names\n"
     ]
    },
    {
     "name": "stderr",
     "output_type": "stream",
     "text": [
      "/var/folders/zm/1jsfy4n50pxgckvd0pk9rwvw0000gn/T/ipykernel_14492/2296241830.py:10: DtypeWarning: Columns (17,18,34,36,37,41,50) have mixed types. Specify dtype option on import or set low_memory=False.\n",
      "  for df in pd.read_csv(base_path, chunksize=chunk_size):\n"
     ]
    },
    {
     "name": "stdout",
     "output_type": "stream",
     "text": [
      "Processing, gz folder,  state: bihar, chunk 1000000\n",
      "Cleaning Data, processing last names\n"
     ]
    },
    {
     "name": "stderr",
     "output_type": "stream",
     "text": [
      "/var/folders/zm/1jsfy4n50pxgckvd0pk9rwvw0000gn/T/ipykernel_14492/2296241830.py:10: DtypeWarning: Columns (5,17,21,31,33,35,37,40,41,53) have mixed types. Specify dtype option on import or set low_memory=False.\n",
      "  for df in pd.read_csv(base_path, chunksize=chunk_size):\n"
     ]
    },
    {
     "name": "stdout",
     "output_type": "stream",
     "text": [
      "Processing, gz folder,  state: bihar, chunk 1000000\n",
      "Cleaning Data, processing last names\n"
     ]
    },
    {
     "name": "stderr",
     "output_type": "stream",
     "text": [
      "/var/folders/zm/1jsfy4n50pxgckvd0pk9rwvw0000gn/T/ipykernel_14492/2296241830.py:10: DtypeWarning: Columns (0,5,17,18,37,41,50) have mixed types. Specify dtype option on import or set low_memory=False.\n",
      "  for df in pd.read_csv(base_path, chunksize=chunk_size):\n"
     ]
    },
    {
     "name": "stdout",
     "output_type": "stream",
     "text": [
      "Processing, gz folder,  state: bihar, chunk 1000000\n",
      "Cleaning Data, processing last names\n"
     ]
    },
    {
     "name": "stderr",
     "output_type": "stream",
     "text": [
      "/var/folders/zm/1jsfy4n50pxgckvd0pk9rwvw0000gn/T/ipykernel_14492/2296241830.py:10: DtypeWarning: Columns (0,17,18,37,50) have mixed types. Specify dtype option on import or set low_memory=False.\n",
      "  for df in pd.read_csv(base_path, chunksize=chunk_size):\n"
     ]
    },
    {
     "name": "stdout",
     "output_type": "stream",
     "text": [
      "Processing, gz folder,  state: bihar, chunk 1000000\n",
      "Cleaning Data, processing last names\n"
     ]
    },
    {
     "name": "stderr",
     "output_type": "stream",
     "text": [
      "/var/folders/zm/1jsfy4n50pxgckvd0pk9rwvw0000gn/T/ipykernel_14492/2296241830.py:10: DtypeWarning: Columns (5,17,18,35,37,50) have mixed types. Specify dtype option on import or set low_memory=False.\n",
      "  for df in pd.read_csv(base_path, chunksize=chunk_size):\n"
     ]
    },
    {
     "name": "stdout",
     "output_type": "stream",
     "text": [
      "Processing, gz folder,  state: bihar, chunk 1000000\n",
      "Cleaning Data, processing last names\n"
     ]
    },
    {
     "name": "stderr",
     "output_type": "stream",
     "text": [
      "/var/folders/zm/1jsfy4n50pxgckvd0pk9rwvw0000gn/T/ipykernel_14492/2296241830.py:10: DtypeWarning: Columns (5,15,17,18,35,37,48,50) have mixed types. Specify dtype option on import or set low_memory=False.\n",
      "  for df in pd.read_csv(base_path, chunksize=chunk_size):\n"
     ]
    },
    {
     "name": "stdout",
     "output_type": "stream",
     "text": [
      "Processing, gz folder,  state: bihar, chunk 1000000\n",
      "Cleaning Data, processing last names\n"
     ]
    },
    {
     "name": "stderr",
     "output_type": "stream",
     "text": [
      "/var/folders/zm/1jsfy4n50pxgckvd0pk9rwvw0000gn/T/ipykernel_14492/2296241830.py:10: DtypeWarning: Columns (0,5,17,18,37,40,50) have mixed types. Specify dtype option on import or set low_memory=False.\n",
      "  for df in pd.read_csv(base_path, chunksize=chunk_size):\n"
     ]
    },
    {
     "name": "stdout",
     "output_type": "stream",
     "text": [
      "Processing, gz folder,  state: bihar, chunk 1000000\n",
      "Cleaning Data, processing last names\n"
     ]
    },
    {
     "name": "stderr",
     "output_type": "stream",
     "text": [
      "/var/folders/zm/1jsfy4n50pxgckvd0pk9rwvw0000gn/T/ipykernel_14492/2296241830.py:10: DtypeWarning: Columns (18,37,41,50) have mixed types. Specify dtype option on import or set low_memory=False.\n",
      "  for df in pd.read_csv(base_path, chunksize=chunk_size):\n"
     ]
    },
    {
     "name": "stdout",
     "output_type": "stream",
     "text": [
      "Processing, gz folder,  state: bihar, chunk 1000000\n",
      "Cleaning Data, processing last names\n"
     ]
    },
    {
     "name": "stderr",
     "output_type": "stream",
     "text": [
      "/var/folders/zm/1jsfy4n50pxgckvd0pk9rwvw0000gn/T/ipykernel_14492/2296241830.py:10: DtypeWarning: Columns (17,18,37,50) have mixed types. Specify dtype option on import or set low_memory=False.\n",
      "  for df in pd.read_csv(base_path, chunksize=chunk_size):\n"
     ]
    },
    {
     "name": "stdout",
     "output_type": "stream",
     "text": [
      "Processing, gz folder,  state: bihar, chunk 1000000\n",
      "Cleaning Data, processing last names\n"
     ]
    },
    {
     "name": "stderr",
     "output_type": "stream",
     "text": [
      "/var/folders/zm/1jsfy4n50pxgckvd0pk9rwvw0000gn/T/ipykernel_14492/2296241830.py:10: DtypeWarning: Columns (17,18,34,37,39,40,41,50) have mixed types. Specify dtype option on import or set low_memory=False.\n",
      "  for df in pd.read_csv(base_path, chunksize=chunk_size):\n"
     ]
    },
    {
     "name": "stdout",
     "output_type": "stream",
     "text": [
      "Processing, gz folder,  state: bihar, chunk 1000000\n",
      "Cleaning Data, processing last names\n"
     ]
    },
    {
     "name": "stderr",
     "output_type": "stream",
     "text": [
      "/var/folders/zm/1jsfy4n50pxgckvd0pk9rwvw0000gn/T/ipykernel_14492/2296241830.py:10: DtypeWarning: Columns (17,18,37,41,50) have mixed types. Specify dtype option on import or set low_memory=False.\n",
      "  for df in pd.read_csv(base_path, chunksize=chunk_size):\n"
     ]
    },
    {
     "name": "stdout",
     "output_type": "stream",
     "text": [
      "Processing, gz folder,  state: bihar, chunk 1000000\n",
      "Cleaning Data, processing last names\n"
     ]
    },
    {
     "name": "stderr",
     "output_type": "stream",
     "text": [
      "/var/folders/zm/1jsfy4n50pxgckvd0pk9rwvw0000gn/T/ipykernel_14492/2296241830.py:10: DtypeWarning: Columns (0,17,18,36,37,41,50) have mixed types. Specify dtype option on import or set low_memory=False.\n",
      "  for df in pd.read_csv(base_path, chunksize=chunk_size):\n"
     ]
    },
    {
     "name": "stdout",
     "output_type": "stream",
     "text": [
      "Processing, gz folder,  state: bihar, chunk 1000000\n",
      "Cleaning Data, processing last names\n"
     ]
    },
    {
     "name": "stderr",
     "output_type": "stream",
     "text": [
      "/var/folders/zm/1jsfy4n50pxgckvd0pk9rwvw0000gn/T/ipykernel_14492/2296241830.py:10: DtypeWarning: Columns (5,18,36,41,50) have mixed types. Specify dtype option on import or set low_memory=False.\n",
      "  for df in pd.read_csv(base_path, chunksize=chunk_size):\n"
     ]
    },
    {
     "name": "stdout",
     "output_type": "stream",
     "text": [
      "Processing, gz folder,  state: bihar, chunk 1000000\n",
      "Cleaning Data, processing last names\n"
     ]
    },
    {
     "name": "stderr",
     "output_type": "stream",
     "text": [
      "/var/folders/zm/1jsfy4n50pxgckvd0pk9rwvw0000gn/T/ipykernel_14492/2296241830.py:10: DtypeWarning: Columns (0,5,17,18,37,50) have mixed types. Specify dtype option on import or set low_memory=False.\n",
      "  for df in pd.read_csv(base_path, chunksize=chunk_size):\n"
     ]
    },
    {
     "name": "stdout",
     "output_type": "stream",
     "text": [
      "Processing, gz folder,  state: bihar, chunk 1000000\n",
      "Cleaning Data, processing last names\n"
     ]
    },
    {
     "name": "stderr",
     "output_type": "stream",
     "text": [
      "/var/folders/zm/1jsfy4n50pxgckvd0pk9rwvw0000gn/T/ipykernel_14492/2296241830.py:10: DtypeWarning: Columns (17,18,37,50) have mixed types. Specify dtype option on import or set low_memory=False.\n",
      "  for df in pd.read_csv(base_path, chunksize=chunk_size):\n"
     ]
    },
    {
     "name": "stdout",
     "output_type": "stream",
     "text": [
      "Processing, gz folder,  state: bihar, chunk 1000000\n",
      "Cleaning Data, processing last names\n"
     ]
    },
    {
     "name": "stderr",
     "output_type": "stream",
     "text": [
      "/var/folders/zm/1jsfy4n50pxgckvd0pk9rwvw0000gn/T/ipykernel_14492/2296241830.py:10: DtypeWarning: Columns (0,17,18,37,50) have mixed types. Specify dtype option on import or set low_memory=False.\n",
      "  for df in pd.read_csv(base_path, chunksize=chunk_size):\n"
     ]
    },
    {
     "name": "stdout",
     "output_type": "stream",
     "text": [
      "Processing, gz folder,  state: bihar, chunk 1000000\n",
      "Cleaning Data, processing last names\n"
     ]
    },
    {
     "name": "stderr",
     "output_type": "stream",
     "text": [
      "/var/folders/zm/1jsfy4n50pxgckvd0pk9rwvw0000gn/T/ipykernel_14492/2296241830.py:10: DtypeWarning: Columns (5,17,34,37) have mixed types. Specify dtype option on import or set low_memory=False.\n",
      "  for df in pd.read_csv(base_path, chunksize=chunk_size):\n"
     ]
    },
    {
     "name": "stdout",
     "output_type": "stream",
     "text": [
      "Processing, gz folder,  state: bihar, chunk 1000000\n",
      "Cleaning Data, processing last names\n"
     ]
    },
    {
     "name": "stderr",
     "output_type": "stream",
     "text": [
      "/var/folders/zm/1jsfy4n50pxgckvd0pk9rwvw0000gn/T/ipykernel_14492/2296241830.py:10: DtypeWarning: Columns (18,37,50) have mixed types. Specify dtype option on import or set low_memory=False.\n",
      "  for df in pd.read_csv(base_path, chunksize=chunk_size):\n"
     ]
    },
    {
     "name": "stdout",
     "output_type": "stream",
     "text": [
      "Processing, gz folder,  state: bihar, chunk 1000000\n",
      "Cleaning Data, processing last names\n"
     ]
    },
    {
     "name": "stderr",
     "output_type": "stream",
     "text": [
      "/var/folders/zm/1jsfy4n50pxgckvd0pk9rwvw0000gn/T/ipykernel_14492/2296241830.py:10: DtypeWarning: Columns (5,17,18,37,50) have mixed types. Specify dtype option on import or set low_memory=False.\n",
      "  for df in pd.read_csv(base_path, chunksize=chunk_size):\n"
     ]
    },
    {
     "name": "stdout",
     "output_type": "stream",
     "text": [
      "Processing, gz folder,  state: bihar, chunk 1000000\n",
      "Cleaning Data, processing last names\n"
     ]
    },
    {
     "name": "stderr",
     "output_type": "stream",
     "text": [
      "/var/folders/zm/1jsfy4n50pxgckvd0pk9rwvw0000gn/T/ipykernel_14492/2296241830.py:10: DtypeWarning: Columns (5,17,18,32,37,50) have mixed types. Specify dtype option on import or set low_memory=False.\n",
      "  for df in pd.read_csv(base_path, chunksize=chunk_size):\n"
     ]
    },
    {
     "name": "stdout",
     "output_type": "stream",
     "text": [
      "Processing, gz folder,  state: bihar, chunk 1000000\n",
      "Cleaning Data, processing last names\n"
     ]
    },
    {
     "name": "stderr",
     "output_type": "stream",
     "text": [
      "/var/folders/zm/1jsfy4n50pxgckvd0pk9rwvw0000gn/T/ipykernel_14492/2296241830.py:10: DtypeWarning: Columns (0,5,17,18,37,50) have mixed types. Specify dtype option on import or set low_memory=False.\n",
      "  for df in pd.read_csv(base_path, chunksize=chunk_size):\n"
     ]
    },
    {
     "name": "stdout",
     "output_type": "stream",
     "text": [
      "Processing, gz folder,  state: bihar, chunk 1000000\n",
      "Cleaning Data, processing last names\n"
     ]
    },
    {
     "name": "stderr",
     "output_type": "stream",
     "text": [
      "/var/folders/zm/1jsfy4n50pxgckvd0pk9rwvw0000gn/T/ipykernel_14492/2296241830.py:10: DtypeWarning: Columns (5,18,20,37,40,41,50,52) have mixed types. Specify dtype option on import or set low_memory=False.\n",
      "  for df in pd.read_csv(base_path, chunksize=chunk_size):\n"
     ]
    },
    {
     "name": "stdout",
     "output_type": "stream",
     "text": [
      "Processing, gz folder,  state: bihar, chunk 1000000\n",
      "Cleaning Data, processing last names\n"
     ]
    },
    {
     "name": "stderr",
     "output_type": "stream",
     "text": [
      "/var/folders/zm/1jsfy4n50pxgckvd0pk9rwvw0000gn/T/ipykernel_14492/2296241830.py:10: DtypeWarning: Columns (0,5,17,18,20,37,50,52) have mixed types. Specify dtype option on import or set low_memory=False.\n",
      "  for df in pd.read_csv(base_path, chunksize=chunk_size):\n"
     ]
    },
    {
     "name": "stdout",
     "output_type": "stream",
     "text": [
      "Processing, gz folder,  state: bihar, chunk 1000000\n",
      "Cleaning Data, processing last names\n"
     ]
    },
    {
     "name": "stderr",
     "output_type": "stream",
     "text": [
      "/var/folders/zm/1jsfy4n50pxgckvd0pk9rwvw0000gn/T/ipykernel_14492/2296241830.py:10: DtypeWarning: Columns (0,5,17,18,37,38,50) have mixed types. Specify dtype option on import or set low_memory=False.\n",
      "  for df in pd.read_csv(base_path, chunksize=chunk_size):\n"
     ]
    },
    {
     "name": "stdout",
     "output_type": "stream",
     "text": [
      "Processing, gz folder,  state: bihar, chunk 1000000\n",
      "Cleaning Data, processing last names\n"
     ]
    },
    {
     "name": "stderr",
     "output_type": "stream",
     "text": [
      "/var/folders/zm/1jsfy4n50pxgckvd0pk9rwvw0000gn/T/ipykernel_14492/2296241830.py:10: DtypeWarning: Columns (0,5,18,37,50) have mixed types. Specify dtype option on import or set low_memory=False.\n",
      "  for df in pd.read_csv(base_path, chunksize=chunk_size):\n"
     ]
    },
    {
     "name": "stdout",
     "output_type": "stream",
     "text": [
      "Processing, gz folder,  state: bihar, chunk 1000000\n",
      "Cleaning Data, processing last names\n"
     ]
    },
    {
     "name": "stderr",
     "output_type": "stream",
     "text": [
      "/var/folders/zm/1jsfy4n50pxgckvd0pk9rwvw0000gn/T/ipykernel_14492/2296241830.py:10: DtypeWarning: Columns (17,18,37,50) have mixed types. Specify dtype option on import or set low_memory=False.\n",
      "  for df in pd.read_csv(base_path, chunksize=chunk_size):\n"
     ]
    },
    {
     "name": "stdout",
     "output_type": "stream",
     "text": [
      "Processing, gz folder,  state: bihar, chunk 1000000\n",
      "Cleaning Data, processing last names\n"
     ]
    },
    {
     "name": "stderr",
     "output_type": "stream",
     "text": [
      "/var/folders/zm/1jsfy4n50pxgckvd0pk9rwvw0000gn/T/ipykernel_14492/2296241830.py:10: DtypeWarning: Columns (17,37) have mixed types. Specify dtype option on import or set low_memory=False.\n",
      "  for df in pd.read_csv(base_path, chunksize=chunk_size):\n"
     ]
    },
    {
     "name": "stdout",
     "output_type": "stream",
     "text": [
      "Processing, gz folder,  state: bihar, chunk 1000000\n",
      "Cleaning Data, processing last names\n",
      "Processing, gz folder,  state: chandigarh, chunk 1000000\n",
      "Cleaning Data, processing last names\n"
     ]
    },
    {
     "name": "stderr",
     "output_type": "stream",
     "text": [
      "/var/folders/zm/1jsfy4n50pxgckvd0pk9rwvw0000gn/T/ipykernel_14492/2296241830.py:10: DtypeWarning: Columns (17) have mixed types. Specify dtype option on import or set low_memory=False.\n",
      "  for df in pd.read_csv(base_path, chunksize=chunk_size):\n"
     ]
    },
    {
     "name": "stdout",
     "output_type": "stream",
     "text": [
      "Processing, gz folder,  state: delhi, chunk 1000000\n",
      "Cleaning Data, processing last names\n"
     ]
    },
    {
     "name": "stderr",
     "output_type": "stream",
     "text": [
      "/var/folders/zm/1jsfy4n50pxgckvd0pk9rwvw0000gn/T/ipykernel_14492/1767827396.py:13: SettingWithCopyWarning: \n",
      "A value is trying to be set on a copy of a slice from a DataFrame.\n",
      "Try using .loc[row_indexer,col_indexer] = value instead\n",
      "\n",
      "See the caveats in the documentation: https://pandas.pydata.org/pandas-docs/stable/user_guide/indexing.html#returning-a-view-versus-a-copy\n",
      "  df[\"state\"] = state_split[0]\n",
      "/var/folders/zm/1jsfy4n50pxgckvd0pk9rwvw0000gn/T/ipykernel_14492/2296241830.py:10: DtypeWarning: Columns (17) have mixed types. Specify dtype option on import or set low_memory=False.\n",
      "  for df in pd.read_csv(base_path, chunksize=chunk_size):\n"
     ]
    },
    {
     "name": "stdout",
     "output_type": "stream",
     "text": [
      "Processing, gz folder,  state: delhi, chunk 1000000\n",
      "Cleaning Data, processing last names\n"
     ]
    },
    {
     "name": "stderr",
     "output_type": "stream",
     "text": [
      "/var/folders/zm/1jsfy4n50pxgckvd0pk9rwvw0000gn/T/ipykernel_14492/1767827396.py:13: SettingWithCopyWarning: \n",
      "A value is trying to be set on a copy of a slice from a DataFrame.\n",
      "Try using .loc[row_indexer,col_indexer] = value instead\n",
      "\n",
      "See the caveats in the documentation: https://pandas.pydata.org/pandas-docs/stable/user_guide/indexing.html#returning-a-view-versus-a-copy\n",
      "  df[\"state\"] = state_split[0]\n",
      "/var/folders/zm/1jsfy4n50pxgckvd0pk9rwvw0000gn/T/ipykernel_14492/2296241830.py:10: DtypeWarning: Columns (15,17) have mixed types. Specify dtype option on import or set low_memory=False.\n",
      "  for df in pd.read_csv(base_path, chunksize=chunk_size):\n"
     ]
    },
    {
     "name": "stdout",
     "output_type": "stream",
     "text": [
      "Processing, gz folder,  state: delhi, chunk 1000000\n",
      "Cleaning Data, processing last names\n"
     ]
    },
    {
     "name": "stderr",
     "output_type": "stream",
     "text": [
      "/var/folders/zm/1jsfy4n50pxgckvd0pk9rwvw0000gn/T/ipykernel_14492/1767827396.py:13: SettingWithCopyWarning: \n",
      "A value is trying to be set on a copy of a slice from a DataFrame.\n",
      "Try using .loc[row_indexer,col_indexer] = value instead\n",
      "\n",
      "See the caveats in the documentation: https://pandas.pydata.org/pandas-docs/stable/user_guide/indexing.html#returning-a-view-versus-a-copy\n",
      "  df[\"state\"] = state_split[0]\n",
      "/var/folders/zm/1jsfy4n50pxgckvd0pk9rwvw0000gn/T/ipykernel_14492/2296241830.py:10: DtypeWarning: Columns (17) have mixed types. Specify dtype option on import or set low_memory=False.\n",
      "  for df in pd.read_csv(base_path, chunksize=chunk_size):\n"
     ]
    },
    {
     "name": "stdout",
     "output_type": "stream",
     "text": [
      "Processing, gz folder,  state: delhi, chunk 1000000\n",
      "Cleaning Data, processing last names\n"
     ]
    },
    {
     "name": "stderr",
     "output_type": "stream",
     "text": [
      "/var/folders/zm/1jsfy4n50pxgckvd0pk9rwvw0000gn/T/ipykernel_14492/1767827396.py:13: SettingWithCopyWarning: \n",
      "A value is trying to be set on a copy of a slice from a DataFrame.\n",
      "Try using .loc[row_indexer,col_indexer] = value instead\n",
      "\n",
      "See the caveats in the documentation: https://pandas.pydata.org/pandas-docs/stable/user_guide/indexing.html#returning-a-view-versus-a-copy\n",
      "  df[\"state\"] = state_split[0]\n",
      "/var/folders/zm/1jsfy4n50pxgckvd0pk9rwvw0000gn/T/ipykernel_14492/2296241830.py:10: DtypeWarning: Columns (17) have mixed types. Specify dtype option on import or set low_memory=False.\n",
      "  for df in pd.read_csv(base_path, chunksize=chunk_size):\n"
     ]
    },
    {
     "name": "stdout",
     "output_type": "stream",
     "text": [
      "Processing, gz folder,  state: delhi, chunk 1000000\n",
      "Cleaning Data, processing last names\n"
     ]
    },
    {
     "name": "stderr",
     "output_type": "stream",
     "text": [
      "/var/folders/zm/1jsfy4n50pxgckvd0pk9rwvw0000gn/T/ipykernel_14492/1767827396.py:13: SettingWithCopyWarning: \n",
      "A value is trying to be set on a copy of a slice from a DataFrame.\n",
      "Try using .loc[row_indexer,col_indexer] = value instead\n",
      "\n",
      "See the caveats in the documentation: https://pandas.pydata.org/pandas-docs/stable/user_guide/indexing.html#returning-a-view-versus-a-copy\n",
      "  df[\"state\"] = state_split[0]\n",
      "/var/folders/zm/1jsfy4n50pxgckvd0pk9rwvw0000gn/T/ipykernel_14492/2296241830.py:10: DtypeWarning: Columns (17) have mixed types. Specify dtype option on import or set low_memory=False.\n",
      "  for df in pd.read_csv(base_path, chunksize=chunk_size):\n"
     ]
    },
    {
     "name": "stdout",
     "output_type": "stream",
     "text": [
      "Processing, gz folder,  state: delhi, chunk 1000000\n",
      "Cleaning Data, processing last names\n"
     ]
    },
    {
     "name": "stderr",
     "output_type": "stream",
     "text": [
      "/var/folders/zm/1jsfy4n50pxgckvd0pk9rwvw0000gn/T/ipykernel_14492/1767827396.py:13: SettingWithCopyWarning: \n",
      "A value is trying to be set on a copy of a slice from a DataFrame.\n",
      "Try using .loc[row_indexer,col_indexer] = value instead\n",
      "\n",
      "See the caveats in the documentation: https://pandas.pydata.org/pandas-docs/stable/user_guide/indexing.html#returning-a-view-versus-a-copy\n",
      "  df[\"state\"] = state_split[0]\n",
      "/var/folders/zm/1jsfy4n50pxgckvd0pk9rwvw0000gn/T/ipykernel_14492/2296241830.py:10: DtypeWarning: Columns (17) have mixed types. Specify dtype option on import or set low_memory=False.\n",
      "  for df in pd.read_csv(base_path, chunksize=chunk_size):\n"
     ]
    },
    {
     "name": "stdout",
     "output_type": "stream",
     "text": [
      "Processing, gz folder,  state: delhi, chunk 1000000\n",
      "Cleaning Data, processing last names\n"
     ]
    },
    {
     "name": "stderr",
     "output_type": "stream",
     "text": [
      "/var/folders/zm/1jsfy4n50pxgckvd0pk9rwvw0000gn/T/ipykernel_14492/1767827396.py:13: SettingWithCopyWarning: \n",
      "A value is trying to be set on a copy of a slice from a DataFrame.\n",
      "Try using .loc[row_indexer,col_indexer] = value instead\n",
      "\n",
      "See the caveats in the documentation: https://pandas.pydata.org/pandas-docs/stable/user_guide/indexing.html#returning-a-view-versus-a-copy\n",
      "  df[\"state\"] = state_split[0]\n",
      "/var/folders/zm/1jsfy4n50pxgckvd0pk9rwvw0000gn/T/ipykernel_14492/2296241830.py:10: DtypeWarning: Columns (17) have mixed types. Specify dtype option on import or set low_memory=False.\n",
      "  for df in pd.read_csv(base_path, chunksize=chunk_size):\n"
     ]
    },
    {
     "name": "stdout",
     "output_type": "stream",
     "text": [
      "Processing, gz folder,  state: delhi, chunk 1000000\n",
      "Cleaning Data, processing last names\n"
     ]
    },
    {
     "name": "stderr",
     "output_type": "stream",
     "text": [
      "/var/folders/zm/1jsfy4n50pxgckvd0pk9rwvw0000gn/T/ipykernel_14492/1767827396.py:13: SettingWithCopyWarning: \n",
      "A value is trying to be set on a copy of a slice from a DataFrame.\n",
      "Try using .loc[row_indexer,col_indexer] = value instead\n",
      "\n",
      "See the caveats in the documentation: https://pandas.pydata.org/pandas-docs/stable/user_guide/indexing.html#returning-a-view-versus-a-copy\n",
      "  df[\"state\"] = state_split[0]\n",
      "/var/folders/zm/1jsfy4n50pxgckvd0pk9rwvw0000gn/T/ipykernel_14492/2296241830.py:10: DtypeWarning: Columns (17) have mixed types. Specify dtype option on import or set low_memory=False.\n",
      "  for df in pd.read_csv(base_path, chunksize=chunk_size):\n"
     ]
    },
    {
     "name": "stdout",
     "output_type": "stream",
     "text": [
      "Processing, gz folder,  state: delhi, chunk 1000000\n",
      "Cleaning Data, processing last names\n"
     ]
    },
    {
     "name": "stderr",
     "output_type": "stream",
     "text": [
      "/var/folders/zm/1jsfy4n50pxgckvd0pk9rwvw0000gn/T/ipykernel_14492/1767827396.py:13: SettingWithCopyWarning: \n",
      "A value is trying to be set on a copy of a slice from a DataFrame.\n",
      "Try using .loc[row_indexer,col_indexer] = value instead\n",
      "\n",
      "See the caveats in the documentation: https://pandas.pydata.org/pandas-docs/stable/user_guide/indexing.html#returning-a-view-versus-a-copy\n",
      "  df[\"state\"] = state_split[0]\n",
      "/var/folders/zm/1jsfy4n50pxgckvd0pk9rwvw0000gn/T/ipykernel_14492/2296241830.py:10: DtypeWarning: Columns (17) have mixed types. Specify dtype option on import or set low_memory=False.\n",
      "  for df in pd.read_csv(base_path, chunksize=chunk_size):\n"
     ]
    },
    {
     "name": "stdout",
     "output_type": "stream",
     "text": [
      "Processing, gz folder,  state: delhi, chunk 1000000\n",
      "Cleaning Data, processing last names\n"
     ]
    },
    {
     "name": "stderr",
     "output_type": "stream",
     "text": [
      "/var/folders/zm/1jsfy4n50pxgckvd0pk9rwvw0000gn/T/ipykernel_14492/1767827396.py:13: SettingWithCopyWarning: \n",
      "A value is trying to be set on a copy of a slice from a DataFrame.\n",
      "Try using .loc[row_indexer,col_indexer] = value instead\n",
      "\n",
      "See the caveats in the documentation: https://pandas.pydata.org/pandas-docs/stable/user_guide/indexing.html#returning-a-view-versus-a-copy\n",
      "  df[\"state\"] = state_split[0]\n",
      "/var/folders/zm/1jsfy4n50pxgckvd0pk9rwvw0000gn/T/ipykernel_14492/2296241830.py:10: DtypeWarning: Columns (17) have mixed types. Specify dtype option on import or set low_memory=False.\n",
      "  for df in pd.read_csv(base_path, chunksize=chunk_size):\n"
     ]
    },
    {
     "name": "stdout",
     "output_type": "stream",
     "text": [
      "Processing, gz folder,  state: delhi, chunk 1000000\n",
      "Cleaning Data, processing last names\n"
     ]
    },
    {
     "name": "stderr",
     "output_type": "stream",
     "text": [
      "/var/folders/zm/1jsfy4n50pxgckvd0pk9rwvw0000gn/T/ipykernel_14492/1767827396.py:13: SettingWithCopyWarning: \n",
      "A value is trying to be set on a copy of a slice from a DataFrame.\n",
      "Try using .loc[row_indexer,col_indexer] = value instead\n",
      "\n",
      "See the caveats in the documentation: https://pandas.pydata.org/pandas-docs/stable/user_guide/indexing.html#returning-a-view-versus-a-copy\n",
      "  df[\"state\"] = state_split[0]\n",
      "/var/folders/zm/1jsfy4n50pxgckvd0pk9rwvw0000gn/T/ipykernel_14492/2296241830.py:10: DtypeWarning: Columns (17) have mixed types. Specify dtype option on import or set low_memory=False.\n",
      "  for df in pd.read_csv(base_path, chunksize=chunk_size):\n"
     ]
    },
    {
     "name": "stdout",
     "output_type": "stream",
     "text": [
      "Processing, gz folder,  state: delhi, chunk 1000000\n",
      "Cleaning Data, processing last names\n"
     ]
    },
    {
     "name": "stderr",
     "output_type": "stream",
     "text": [
      "/var/folders/zm/1jsfy4n50pxgckvd0pk9rwvw0000gn/T/ipykernel_14492/1767827396.py:13: SettingWithCopyWarning: \n",
      "A value is trying to be set on a copy of a slice from a DataFrame.\n",
      "Try using .loc[row_indexer,col_indexer] = value instead\n",
      "\n",
      "See the caveats in the documentation: https://pandas.pydata.org/pandas-docs/stable/user_guide/indexing.html#returning-a-view-versus-a-copy\n",
      "  df[\"state\"] = state_split[0]\n",
      "/var/folders/zm/1jsfy4n50pxgckvd0pk9rwvw0000gn/T/ipykernel_14492/2296241830.py:10: DtypeWarning: Columns (17) have mixed types. Specify dtype option on import or set low_memory=False.\n",
      "  for df in pd.read_csv(base_path, chunksize=chunk_size):\n"
     ]
    },
    {
     "name": "stdout",
     "output_type": "stream",
     "text": [
      "Processing, gz folder,  state: delhi, chunk 1000000\n",
      "Cleaning Data, processing last names\n"
     ]
    },
    {
     "name": "stderr",
     "output_type": "stream",
     "text": [
      "/var/folders/zm/1jsfy4n50pxgckvd0pk9rwvw0000gn/T/ipykernel_14492/1767827396.py:13: SettingWithCopyWarning: \n",
      "A value is trying to be set on a copy of a slice from a DataFrame.\n",
      "Try using .loc[row_indexer,col_indexer] = value instead\n",
      "\n",
      "See the caveats in the documentation: https://pandas.pydata.org/pandas-docs/stable/user_guide/indexing.html#returning-a-view-versus-a-copy\n",
      "  df[\"state\"] = state_split[0]\n",
      "/var/folders/zm/1jsfy4n50pxgckvd0pk9rwvw0000gn/T/ipykernel_14492/2296241830.py:10: DtypeWarning: Columns (17,33) have mixed types. Specify dtype option on import or set low_memory=False.\n",
      "  for df in pd.read_csv(base_path, chunksize=chunk_size):\n"
     ]
    },
    {
     "name": "stdout",
     "output_type": "stream",
     "text": [
      "Processing, gz folder,  state: guj, chunk 1000000\n",
      "Cleaning Data, processing last names\n"
     ]
    },
    {
     "name": "stderr",
     "output_type": "stream",
     "text": [
      "/var/folders/zm/1jsfy4n50pxgckvd0pk9rwvw0000gn/T/ipykernel_14492/2296241830.py:10: DtypeWarning: Columns (17,33) have mixed types. Specify dtype option on import or set low_memory=False.\n",
      "  for df in pd.read_csv(base_path, chunksize=chunk_size):\n"
     ]
    },
    {
     "name": "stdout",
     "output_type": "stream",
     "text": [
      "Processing, gz folder,  state: guj, chunk 1000000\n",
      "Cleaning Data, processing last names\n"
     ]
    },
    {
     "name": "stderr",
     "output_type": "stream",
     "text": [
      "/var/folders/zm/1jsfy4n50pxgckvd0pk9rwvw0000gn/T/ipykernel_14492/2296241830.py:10: DtypeWarning: Columns (17,33) have mixed types. Specify dtype option on import or set low_memory=False.\n",
      "  for df in pd.read_csv(base_path, chunksize=chunk_size):\n"
     ]
    },
    {
     "name": "stdout",
     "output_type": "stream",
     "text": [
      "Processing, gz folder,  state: guj, chunk 1000000\n",
      "Cleaning Data, processing last names\n"
     ]
    },
    {
     "name": "stderr",
     "output_type": "stream",
     "text": [
      "/var/folders/zm/1jsfy4n50pxgckvd0pk9rwvw0000gn/T/ipykernel_14492/2296241830.py:10: DtypeWarning: Columns (0,17,33) have mixed types. Specify dtype option on import or set low_memory=False.\n",
      "  for df in pd.read_csv(base_path, chunksize=chunk_size):\n"
     ]
    },
    {
     "name": "stdout",
     "output_type": "stream",
     "text": [
      "Processing, gz folder,  state: guj, chunk 1000000\n",
      "Cleaning Data, processing last names\n"
     ]
    },
    {
     "name": "stderr",
     "output_type": "stream",
     "text": [
      "/var/folders/zm/1jsfy4n50pxgckvd0pk9rwvw0000gn/T/ipykernel_14492/2296241830.py:10: DtypeWarning: Columns (17,33) have mixed types. Specify dtype option on import or set low_memory=False.\n",
      "  for df in pd.read_csv(base_path, chunksize=chunk_size):\n"
     ]
    },
    {
     "name": "stdout",
     "output_type": "stream",
     "text": [
      "Processing, gz folder,  state: guj, chunk 1000000\n",
      "Cleaning Data, processing last names\n"
     ]
    },
    {
     "name": "stderr",
     "output_type": "stream",
     "text": [
      "/var/folders/zm/1jsfy4n50pxgckvd0pk9rwvw0000gn/T/ipykernel_14492/2296241830.py:10: DtypeWarning: Columns (17,33) have mixed types. Specify dtype option on import or set low_memory=False.\n",
      "  for df in pd.read_csv(base_path, chunksize=chunk_size):\n"
     ]
    },
    {
     "name": "stdout",
     "output_type": "stream",
     "text": [
      "Processing, gz folder,  state: guj, chunk 1000000\n",
      "Cleaning Data, processing last names\n"
     ]
    },
    {
     "name": "stderr",
     "output_type": "stream",
     "text": [
      "/var/folders/zm/1jsfy4n50pxgckvd0pk9rwvw0000gn/T/ipykernel_14492/2296241830.py:10: DtypeWarning: Columns (10,17,33) have mixed types. Specify dtype option on import or set low_memory=False.\n",
      "  for df in pd.read_csv(base_path, chunksize=chunk_size):\n"
     ]
    },
    {
     "name": "stdout",
     "output_type": "stream",
     "text": [
      "Processing, gz folder,  state: guj, chunk 1000000\n",
      "Cleaning Data, processing last names\n"
     ]
    },
    {
     "name": "stderr",
     "output_type": "stream",
     "text": [
      "/var/folders/zm/1jsfy4n50pxgckvd0pk9rwvw0000gn/T/ipykernel_14492/2296241830.py:10: DtypeWarning: Columns (15,17,31,33) have mixed types. Specify dtype option on import or set low_memory=False.\n",
      "  for df in pd.read_csv(base_path, chunksize=chunk_size):\n"
     ]
    },
    {
     "name": "stdout",
     "output_type": "stream",
     "text": [
      "Processing, gz folder,  state: guj, chunk 1000000\n",
      "Cleaning Data, processing last names\n"
     ]
    },
    {
     "name": "stderr",
     "output_type": "stream",
     "text": [
      "/var/folders/zm/1jsfy4n50pxgckvd0pk9rwvw0000gn/T/ipykernel_14492/2296241830.py:10: DtypeWarning: Columns (17,33) have mixed types. Specify dtype option on import or set low_memory=False.\n",
      "  for df in pd.read_csv(base_path, chunksize=chunk_size):\n"
     ]
    },
    {
     "name": "stdout",
     "output_type": "stream",
     "text": [
      "Processing, gz folder,  state: guj, chunk 1000000\n",
      "Cleaning Data, processing last names\n"
     ]
    },
    {
     "name": "stderr",
     "output_type": "stream",
     "text": [
      "/var/folders/zm/1jsfy4n50pxgckvd0pk9rwvw0000gn/T/ipykernel_14492/2296241830.py:10: DtypeWarning: Columns (17,33) have mixed types. Specify dtype option on import or set low_memory=False.\n",
      "  for df in pd.read_csv(base_path, chunksize=chunk_size):\n"
     ]
    },
    {
     "name": "stdout",
     "output_type": "stream",
     "text": [
      "Processing, gz folder,  state: guj, chunk 1000000\n",
      "Cleaning Data, processing last names\n"
     ]
    },
    {
     "name": "stderr",
     "output_type": "stream",
     "text": [
      "/var/folders/zm/1jsfy4n50pxgckvd0pk9rwvw0000gn/T/ipykernel_14492/2296241830.py:10: DtypeWarning: Columns (17,33) have mixed types. Specify dtype option on import or set low_memory=False.\n",
      "  for df in pd.read_csv(base_path, chunksize=chunk_size):\n"
     ]
    },
    {
     "name": "stdout",
     "output_type": "stream",
     "text": [
      "Processing, gz folder,  state: guj, chunk 1000000\n",
      "Cleaning Data, processing last names\n"
     ]
    },
    {
     "name": "stderr",
     "output_type": "stream",
     "text": [
      "/var/folders/zm/1jsfy4n50pxgckvd0pk9rwvw0000gn/T/ipykernel_14492/2296241830.py:10: DtypeWarning: Columns (17,33) have mixed types. Specify dtype option on import or set low_memory=False.\n",
      "  for df in pd.read_csv(base_path, chunksize=chunk_size):\n"
     ]
    },
    {
     "name": "stdout",
     "output_type": "stream",
     "text": [
      "Processing, gz folder,  state: guj, chunk 1000000\n",
      "Cleaning Data, processing last names\n"
     ]
    },
    {
     "name": "stderr",
     "output_type": "stream",
     "text": [
      "/var/folders/zm/1jsfy4n50pxgckvd0pk9rwvw0000gn/T/ipykernel_14492/2296241830.py:10: DtypeWarning: Columns (17,33) have mixed types. Specify dtype option on import or set low_memory=False.\n",
      "  for df in pd.read_csv(base_path, chunksize=chunk_size):\n"
     ]
    },
    {
     "name": "stdout",
     "output_type": "stream",
     "text": [
      "Processing, gz folder,  state: guj, chunk 1000000\n",
      "Cleaning Data, processing last names\n"
     ]
    },
    {
     "name": "stderr",
     "output_type": "stream",
     "text": [
      "/var/folders/zm/1jsfy4n50pxgckvd0pk9rwvw0000gn/T/ipykernel_14492/2296241830.py:10: DtypeWarning: Columns (0,17,33) have mixed types. Specify dtype option on import or set low_memory=False.\n",
      "  for df in pd.read_csv(base_path, chunksize=chunk_size):\n"
     ]
    },
    {
     "name": "stdout",
     "output_type": "stream",
     "text": [
      "Processing, gz folder,  state: guj, chunk 1000000\n",
      "Cleaning Data, processing last names\n"
     ]
    },
    {
     "name": "stderr",
     "output_type": "stream",
     "text": [
      "/var/folders/zm/1jsfy4n50pxgckvd0pk9rwvw0000gn/T/ipykernel_14492/2296241830.py:10: DtypeWarning: Columns (17,33) have mixed types. Specify dtype option on import or set low_memory=False.\n",
      "  for df in pd.read_csv(base_path, chunksize=chunk_size):\n"
     ]
    },
    {
     "name": "stdout",
     "output_type": "stream",
     "text": [
      "Processing, gz folder,  state: guj, chunk 1000000\n",
      "Cleaning Data, processing last names\n"
     ]
    },
    {
     "name": "stderr",
     "output_type": "stream",
     "text": [
      "/var/folders/zm/1jsfy4n50pxgckvd0pk9rwvw0000gn/T/ipykernel_14492/2296241830.py:10: DtypeWarning: Columns (17,33) have mixed types. Specify dtype option on import or set low_memory=False.\n",
      "  for df in pd.read_csv(base_path, chunksize=chunk_size):\n"
     ]
    },
    {
     "name": "stdout",
     "output_type": "stream",
     "text": [
      "Processing, gz folder,  state: guj, chunk 1000000\n",
      "Cleaning Data, processing last names\n"
     ]
    },
    {
     "name": "stderr",
     "output_type": "stream",
     "text": [
      "/var/folders/zm/1jsfy4n50pxgckvd0pk9rwvw0000gn/T/ipykernel_14492/2296241830.py:10: DtypeWarning: Columns (17,33) have mixed types. Specify dtype option on import or set low_memory=False.\n",
      "  for df in pd.read_csv(base_path, chunksize=chunk_size):\n"
     ]
    },
    {
     "name": "stdout",
     "output_type": "stream",
     "text": [
      "Processing, gz folder,  state: guj, chunk 1000000\n",
      "Cleaning Data, processing last names\n"
     ]
    },
    {
     "name": "stderr",
     "output_type": "stream",
     "text": [
      "/var/folders/zm/1jsfy4n50pxgckvd0pk9rwvw0000gn/T/ipykernel_14492/2296241830.py:10: DtypeWarning: Columns (15,17,31,33) have mixed types. Specify dtype option on import or set low_memory=False.\n",
      "  for df in pd.read_csv(base_path, chunksize=chunk_size):\n"
     ]
    },
    {
     "name": "stdout",
     "output_type": "stream",
     "text": [
      "Processing, gz folder,  state: guj, chunk 1000000\n",
      "Cleaning Data, processing last names\n"
     ]
    },
    {
     "name": "stderr",
     "output_type": "stream",
     "text": [
      "/var/folders/zm/1jsfy4n50pxgckvd0pk9rwvw0000gn/T/ipykernel_14492/2296241830.py:10: DtypeWarning: Columns (0,17,33) have mixed types. Specify dtype option on import or set low_memory=False.\n",
      "  for df in pd.read_csv(base_path, chunksize=chunk_size):\n"
     ]
    },
    {
     "name": "stdout",
     "output_type": "stream",
     "text": [
      "Processing, gz folder,  state: guj, chunk 1000000\n",
      "Cleaning Data, processing last names\n"
     ]
    },
    {
     "name": "stderr",
     "output_type": "stream",
     "text": [
      "/var/folders/zm/1jsfy4n50pxgckvd0pk9rwvw0000gn/T/ipykernel_14492/2296241830.py:10: DtypeWarning: Columns (17,33) have mixed types. Specify dtype option on import or set low_memory=False.\n",
      "  for df in pd.read_csv(base_path, chunksize=chunk_size):\n"
     ]
    },
    {
     "name": "stdout",
     "output_type": "stream",
     "text": [
      "Processing, gz folder,  state: guj, chunk 1000000\n",
      "Cleaning Data, processing last names\n"
     ]
    },
    {
     "name": "stderr",
     "output_type": "stream",
     "text": [
      "/var/folders/zm/1jsfy4n50pxgckvd0pk9rwvw0000gn/T/ipykernel_14492/2296241830.py:10: DtypeWarning: Columns (17,33) have mixed types. Specify dtype option on import or set low_memory=False.\n",
      "  for df in pd.read_csv(base_path, chunksize=chunk_size):\n"
     ]
    },
    {
     "name": "stdout",
     "output_type": "stream",
     "text": [
      "Processing, gz folder,  state: guj, chunk 1000000\n",
      "Cleaning Data, processing last names\n"
     ]
    },
    {
     "name": "stderr",
     "output_type": "stream",
     "text": [
      "/var/folders/zm/1jsfy4n50pxgckvd0pk9rwvw0000gn/T/ipykernel_14492/2296241830.py:10: DtypeWarning: Columns (17,33) have mixed types. Specify dtype option on import or set low_memory=False.\n",
      "  for df in pd.read_csv(base_path, chunksize=chunk_size):\n"
     ]
    },
    {
     "name": "stdout",
     "output_type": "stream",
     "text": [
      "Processing, gz folder,  state: guj, chunk 1000000\n",
      "Cleaning Data, processing last names\n"
     ]
    },
    {
     "name": "stderr",
     "output_type": "stream",
     "text": [
      "/var/folders/zm/1jsfy4n50pxgckvd0pk9rwvw0000gn/T/ipykernel_14492/2296241830.py:10: DtypeWarning: Columns (15,17,31,33) have mixed types. Specify dtype option on import or set low_memory=False.\n",
      "  for df in pd.read_csv(base_path, chunksize=chunk_size):\n"
     ]
    },
    {
     "name": "stdout",
     "output_type": "stream",
     "text": [
      "Processing, gz folder,  state: guj, chunk 1000000\n",
      "Cleaning Data, processing last names\n"
     ]
    },
    {
     "name": "stderr",
     "output_type": "stream",
     "text": [
      "/var/folders/zm/1jsfy4n50pxgckvd0pk9rwvw0000gn/T/ipykernel_14492/2296241830.py:10: DtypeWarning: Columns (17,33) have mixed types. Specify dtype option on import or set low_memory=False.\n",
      "  for df in pd.read_csv(base_path, chunksize=chunk_size):\n"
     ]
    },
    {
     "name": "stdout",
     "output_type": "stream",
     "text": [
      "Processing, gz folder,  state: guj, chunk 1000000\n",
      "Cleaning Data, processing last names\n"
     ]
    },
    {
     "name": "stderr",
     "output_type": "stream",
     "text": [
      "/var/folders/zm/1jsfy4n50pxgckvd0pk9rwvw0000gn/T/ipykernel_14492/2296241830.py:10: DtypeWarning: Columns (5,17,34) have mixed types. Specify dtype option on import or set low_memory=False.\n",
      "  for df in pd.read_csv(base_path, chunksize=chunk_size):\n"
     ]
    },
    {
     "name": "stdout",
     "output_type": "stream",
     "text": [
      "Processing, gz folder,  state: har, chunk 1000000\n",
      "Cleaning Data, processing last names\n"
     ]
    },
    {
     "name": "stderr",
     "output_type": "stream",
     "text": [
      "/var/folders/zm/1jsfy4n50pxgckvd0pk9rwvw0000gn/T/ipykernel_14492/2296241830.py:10: DtypeWarning: Columns (0) have mixed types. Specify dtype option on import or set low_memory=False.\n",
      "  for df in pd.read_csv(base_path, chunksize=chunk_size):\n"
     ]
    },
    {
     "name": "stdout",
     "output_type": "stream",
     "text": [
      "Processing, gz folder,  state: har, chunk 1000000\n",
      "Cleaning Data, processing last names\n"
     ]
    },
    {
     "name": "stderr",
     "output_type": "stream",
     "text": [
      "/var/folders/zm/1jsfy4n50pxgckvd0pk9rwvw0000gn/T/ipykernel_14492/2296241830.py:10: DtypeWarning: Columns (17,34) have mixed types. Specify dtype option on import or set low_memory=False.\n",
      "  for df in pd.read_csv(base_path, chunksize=chunk_size):\n"
     ]
    },
    {
     "name": "stdout",
     "output_type": "stream",
     "text": [
      "Processing, gz folder,  state: har, chunk 1000000\n",
      "Cleaning Data, processing last names\n",
      "Processing, gz folder,  state: har, chunk 1000000\n",
      "Cleaning Data, processing last names\n"
     ]
    },
    {
     "name": "stderr",
     "output_type": "stream",
     "text": [
      "/var/folders/zm/1jsfy4n50pxgckvd0pk9rwvw0000gn/T/ipykernel_14492/2296241830.py:10: DtypeWarning: Columns (0,5) have mixed types. Specify dtype option on import or set low_memory=False.\n",
      "  for df in pd.read_csv(base_path, chunksize=chunk_size):\n"
     ]
    },
    {
     "name": "stdout",
     "output_type": "stream",
     "text": [
      "Processing, gz folder,  state: har, chunk 1000000\n",
      "Cleaning Data, processing last names\n"
     ]
    },
    {
     "name": "stderr",
     "output_type": "stream",
     "text": [
      "/var/folders/zm/1jsfy4n50pxgckvd0pk9rwvw0000gn/T/ipykernel_14492/2296241830.py:10: DtypeWarning: Columns (0,5,17,34) have mixed types. Specify dtype option on import or set low_memory=False.\n",
      "  for df in pd.read_csv(base_path, chunksize=chunk_size):\n"
     ]
    },
    {
     "name": "stdout",
     "output_type": "stream",
     "text": [
      "Processing, gz folder,  state: har, chunk 1000000\n",
      "Cleaning Data, processing last names\n"
     ]
    },
    {
     "name": "stderr",
     "output_type": "stream",
     "text": [
      "/var/folders/zm/1jsfy4n50pxgckvd0pk9rwvw0000gn/T/ipykernel_14492/2296241830.py:10: DtypeWarning: Columns (5,15,32) have mixed types. Specify dtype option on import or set low_memory=False.\n",
      "  for df in pd.read_csv(base_path, chunksize=chunk_size):\n"
     ]
    },
    {
     "name": "stdout",
     "output_type": "stream",
     "text": [
      "Processing, gz folder,  state: har, chunk 1000000\n",
      "Cleaning Data, processing last names\n",
      "Processing, gz folder,  state: har, chunk 1000000\n",
      "Cleaning Data, processing last names\n"
     ]
    },
    {
     "name": "stderr",
     "output_type": "stream",
     "text": [
      "/var/folders/zm/1jsfy4n50pxgckvd0pk9rwvw0000gn/T/ipykernel_14492/2296241830.py:10: DtypeWarning: Columns (0,5,17,34) have mixed types. Specify dtype option on import or set low_memory=False.\n",
      "  for df in pd.read_csv(base_path, chunksize=chunk_size):\n"
     ]
    },
    {
     "name": "stdout",
     "output_type": "stream",
     "text": [
      "Processing, gz folder,  state: har, chunk 1000000\n",
      "Cleaning Data, processing last names\n"
     ]
    },
    {
     "name": "stderr",
     "output_type": "stream",
     "text": [
      "/var/folders/zm/1jsfy4n50pxgckvd0pk9rwvw0000gn/T/ipykernel_14492/2296241830.py:10: DtypeWarning: Columns (5,14,17,31,34) have mixed types. Specify dtype option on import or set low_memory=False.\n",
      "  for df in pd.read_csv(base_path, chunksize=chunk_size):\n"
     ]
    },
    {
     "name": "stdout",
     "output_type": "stream",
     "text": [
      "Processing, gz folder,  state: har, chunk 1000000\n",
      "Cleaning Data, processing last names\n"
     ]
    },
    {
     "name": "stderr",
     "output_type": "stream",
     "text": [
      "/var/folders/zm/1jsfy4n50pxgckvd0pk9rwvw0000gn/T/ipykernel_14492/2296241830.py:10: DtypeWarning: Columns (5) have mixed types. Specify dtype option on import or set low_memory=False.\n",
      "  for df in pd.read_csv(base_path, chunksize=chunk_size):\n"
     ]
    },
    {
     "name": "stdout",
     "output_type": "stream",
     "text": [
      "Processing, gz folder,  state: har, chunk 1000000\n",
      "Cleaning Data, processing last names\n"
     ]
    },
    {
     "name": "stderr",
     "output_type": "stream",
     "text": [
      "/var/folders/zm/1jsfy4n50pxgckvd0pk9rwvw0000gn/T/ipykernel_14492/2296241830.py:10: DtypeWarning: Columns (5,17,34) have mixed types. Specify dtype option on import or set low_memory=False.\n",
      "  for df in pd.read_csv(base_path, chunksize=chunk_size):\n"
     ]
    },
    {
     "name": "stdout",
     "output_type": "stream",
     "text": [
      "Processing, gz folder,  state: har, chunk 1000000\n",
      "Cleaning Data, processing last names\n"
     ]
    },
    {
     "name": "stderr",
     "output_type": "stream",
     "text": [
      "/var/folders/zm/1jsfy4n50pxgckvd0pk9rwvw0000gn/T/ipykernel_14492/2296241830.py:10: DtypeWarning: Columns (0) have mixed types. Specify dtype option on import or set low_memory=False.\n",
      "  for df in pd.read_csv(base_path, chunksize=chunk_size):\n"
     ]
    },
    {
     "name": "stdout",
     "output_type": "stream",
     "text": [
      "Processing, gz folder,  state: har, chunk 1000000\n",
      "Cleaning Data, processing last names\n"
     ]
    },
    {
     "name": "stderr",
     "output_type": "stream",
     "text": [
      "/var/folders/zm/1jsfy4n50pxgckvd0pk9rwvw0000gn/T/ipykernel_14492/2296241830.py:10: DtypeWarning: Columns (0,5,17,34) have mixed types. Specify dtype option on import or set low_memory=False.\n",
      "  for df in pd.read_csv(base_path, chunksize=chunk_size):\n"
     ]
    },
    {
     "name": "stdout",
     "output_type": "stream",
     "text": [
      "Processing, gz folder,  state: har, chunk 1000000\n",
      "Cleaning Data, processing last names\n"
     ]
    },
    {
     "name": "stderr",
     "output_type": "stream",
     "text": [
      "/var/folders/zm/1jsfy4n50pxgckvd0pk9rwvw0000gn/T/ipykernel_14492/2296241830.py:10: DtypeWarning: Columns (0,17,34) have mixed types. Specify dtype option on import or set low_memory=False.\n",
      "  for df in pd.read_csv(base_path, chunksize=chunk_size):\n"
     ]
    },
    {
     "name": "stdout",
     "output_type": "stream",
     "text": [
      "Processing, gz folder,  state: har, chunk 1000000\n",
      "Cleaning Data, processing last names\n"
     ]
    },
    {
     "name": "stderr",
     "output_type": "stream",
     "text": [
      "/var/folders/zm/1jsfy4n50pxgckvd0pk9rwvw0000gn/T/ipykernel_14492/2296241830.py:10: DtypeWarning: Columns (15,17,32,34) have mixed types. Specify dtype option on import or set low_memory=False.\n",
      "  for df in pd.read_csv(base_path, chunksize=chunk_size):\n"
     ]
    },
    {
     "name": "stdout",
     "output_type": "stream",
     "text": [
      "Processing, gz folder,  state: har, chunk 1000000\n",
      "Cleaning Data, processing last names\n",
      "Processing, gz folder,  state: har, chunk 1000000\n",
      "Cleaning Data, processing last names\n",
      "Skipping unsupported state: himachal\n"
     ]
    },
    {
     "name": "stderr",
     "output_type": "stream",
     "text": [
      "/var/folders/zm/1jsfy4n50pxgckvd0pk9rwvw0000gn/T/ipykernel_14492/2296241830.py:10: DtypeWarning: Columns (10,16,17,33,34) have mixed types. Specify dtype option on import or set low_memory=False.\n",
      "  for df in pd.read_csv(base_path, chunksize=chunk_size):\n"
     ]
    },
    {
     "name": "stdout",
     "output_type": "stream",
     "text": [
      "Processing, gz folder,  state: jha, chunk 1000000\n",
      "Cleaning Data, processing last names\n"
     ]
    },
    {
     "name": "stderr",
     "output_type": "stream",
     "text": [
      "/var/folders/zm/1jsfy4n50pxgckvd0pk9rwvw0000gn/T/ipykernel_14492/2296241830.py:10: DtypeWarning: Columns (10,16,17,33,34) have mixed types. Specify dtype option on import or set low_memory=False.\n",
      "  for df in pd.read_csv(base_path, chunksize=chunk_size):\n"
     ]
    },
    {
     "name": "stdout",
     "output_type": "stream",
     "text": [
      "Processing, gz folder,  state: jha, chunk 1000000\n",
      "Cleaning Data, processing last names\n"
     ]
    },
    {
     "name": "stderr",
     "output_type": "stream",
     "text": [
      "/var/folders/zm/1jsfy4n50pxgckvd0pk9rwvw0000gn/T/ipykernel_14492/2296241830.py:10: DtypeWarning: Columns (10,16,17,33,34) have mixed types. Specify dtype option on import or set low_memory=False.\n",
      "  for df in pd.read_csv(base_path, chunksize=chunk_size):\n"
     ]
    },
    {
     "name": "stdout",
     "output_type": "stream",
     "text": [
      "Processing, gz folder,  state: jha, chunk 1000000\n",
      "Cleaning Data, processing last names\n"
     ]
    },
    {
     "name": "stderr",
     "output_type": "stream",
     "text": [
      "/var/folders/zm/1jsfy4n50pxgckvd0pk9rwvw0000gn/T/ipykernel_14492/2296241830.py:10: DtypeWarning: Columns (10,16,17,33,34) have mixed types. Specify dtype option on import or set low_memory=False.\n",
      "  for df in pd.read_csv(base_path, chunksize=chunk_size):\n"
     ]
    },
    {
     "name": "stdout",
     "output_type": "stream",
     "text": [
      "Processing, gz folder,  state: jha, chunk 1000000\n",
      "Cleaning Data, processing last names\n"
     ]
    },
    {
     "name": "stderr",
     "output_type": "stream",
     "text": [
      "/var/folders/zm/1jsfy4n50pxgckvd0pk9rwvw0000gn/T/ipykernel_14492/2296241830.py:10: DtypeWarning: Columns (10,16,17,33,34) have mixed types. Specify dtype option on import or set low_memory=False.\n",
      "  for df in pd.read_csv(base_path, chunksize=chunk_size):\n"
     ]
    },
    {
     "name": "stdout",
     "output_type": "stream",
     "text": [
      "Processing, gz folder,  state: jha, chunk 1000000\n",
      "Cleaning Data, processing last names\n"
     ]
    },
    {
     "name": "stderr",
     "output_type": "stream",
     "text": [
      "/var/folders/zm/1jsfy4n50pxgckvd0pk9rwvw0000gn/T/ipykernel_14492/2296241830.py:10: DtypeWarning: Columns (10,17,34) have mixed types. Specify dtype option on import or set low_memory=False.\n",
      "  for df in pd.read_csv(base_path, chunksize=chunk_size):\n"
     ]
    },
    {
     "name": "stdout",
     "output_type": "stream",
     "text": [
      "Processing, gz folder,  state: jha, chunk 1000000\n",
      "Cleaning Data, processing last names\n"
     ]
    },
    {
     "name": "stderr",
     "output_type": "stream",
     "text": [
      "/var/folders/zm/1jsfy4n50pxgckvd0pk9rwvw0000gn/T/ipykernel_14492/2296241830.py:10: DtypeWarning: Columns (10,16,17,33,34) have mixed types. Specify dtype option on import or set low_memory=False.\n",
      "  for df in pd.read_csv(base_path, chunksize=chunk_size):\n"
     ]
    },
    {
     "name": "stdout",
     "output_type": "stream",
     "text": [
      "Processing, gz folder,  state: jha, chunk 1000000\n",
      "Cleaning Data, processing last names\n"
     ]
    },
    {
     "name": "stderr",
     "output_type": "stream",
     "text": [
      "/var/folders/zm/1jsfy4n50pxgckvd0pk9rwvw0000gn/T/ipykernel_14492/2296241830.py:10: DtypeWarning: Columns (10,16,17,33,34) have mixed types. Specify dtype option on import or set low_memory=False.\n",
      "  for df in pd.read_csv(base_path, chunksize=chunk_size):\n"
     ]
    },
    {
     "name": "stdout",
     "output_type": "stream",
     "text": [
      "Processing, gz folder,  state: jha, chunk 1000000\n",
      "Cleaning Data, processing last names\n"
     ]
    },
    {
     "name": "stderr",
     "output_type": "stream",
     "text": [
      "/var/folders/zm/1jsfy4n50pxgckvd0pk9rwvw0000gn/T/ipykernel_14492/2296241830.py:10: DtypeWarning: Columns (10,16,17,33,34) have mixed types. Specify dtype option on import or set low_memory=False.\n",
      "  for df in pd.read_csv(base_path, chunksize=chunk_size):\n"
     ]
    },
    {
     "name": "stdout",
     "output_type": "stream",
     "text": [
      "Processing, gz folder,  state: jha, chunk 1000000\n",
      "Cleaning Data, processing last names\n"
     ]
    },
    {
     "name": "stderr",
     "output_type": "stream",
     "text": [
      "/var/folders/zm/1jsfy4n50pxgckvd0pk9rwvw0000gn/T/ipykernel_14492/2296241830.py:10: DtypeWarning: Columns (10,16,17,33,34) have mixed types. Specify dtype option on import or set low_memory=False.\n",
      "  for df in pd.read_csv(base_path, chunksize=chunk_size):\n"
     ]
    },
    {
     "name": "stdout",
     "output_type": "stream",
     "text": [
      "Processing, gz folder,  state: jha, chunk 1000000\n",
      "Cleaning Data, processing last names\n"
     ]
    },
    {
     "name": "stderr",
     "output_type": "stream",
     "text": [
      "/var/folders/zm/1jsfy4n50pxgckvd0pk9rwvw0000gn/T/ipykernel_14492/2296241830.py:10: DtypeWarning: Columns (10,16,17,33,34) have mixed types. Specify dtype option on import or set low_memory=False.\n",
      "  for df in pd.read_csv(base_path, chunksize=chunk_size):\n"
     ]
    },
    {
     "name": "stdout",
     "output_type": "stream",
     "text": [
      "Processing, gz folder,  state: jha, chunk 1000000\n",
      "Cleaning Data, processing last names\n"
     ]
    },
    {
     "name": "stderr",
     "output_type": "stream",
     "text": [
      "/var/folders/zm/1jsfy4n50pxgckvd0pk9rwvw0000gn/T/ipykernel_14492/2296241830.py:10: DtypeWarning: Columns (10,14,16,17,31,33,34) have mixed types. Specify dtype option on import or set low_memory=False.\n",
      "  for df in pd.read_csv(base_path, chunksize=chunk_size):\n"
     ]
    },
    {
     "name": "stdout",
     "output_type": "stream",
     "text": [
      "Processing, gz folder,  state: jha, chunk 1000000\n",
      "Cleaning Data, processing last names\n"
     ]
    },
    {
     "name": "stderr",
     "output_type": "stream",
     "text": [
      "/var/folders/zm/1jsfy4n50pxgckvd0pk9rwvw0000gn/T/ipykernel_14492/2296241830.py:10: DtypeWarning: Columns (10,16,17,33,34) have mixed types. Specify dtype option on import or set low_memory=False.\n",
      "  for df in pd.read_csv(base_path, chunksize=chunk_size):\n"
     ]
    },
    {
     "name": "stdout",
     "output_type": "stream",
     "text": [
      "Processing, gz folder,  state: jha, chunk 1000000\n",
      "Cleaning Data, processing last names\n"
     ]
    },
    {
     "name": "stderr",
     "output_type": "stream",
     "text": [
      "/var/folders/zm/1jsfy4n50pxgckvd0pk9rwvw0000gn/T/ipykernel_14492/2296241830.py:10: DtypeWarning: Columns (10,16,17,33,34) have mixed types. Specify dtype option on import or set low_memory=False.\n",
      "  for df in pd.read_csv(base_path, chunksize=chunk_size):\n"
     ]
    },
    {
     "name": "stdout",
     "output_type": "stream",
     "text": [
      "Processing, gz folder,  state: jha, chunk 1000000\n",
      "Cleaning Data, processing last names\n"
     ]
    },
    {
     "name": "stderr",
     "output_type": "stream",
     "text": [
      "/var/folders/zm/1jsfy4n50pxgckvd0pk9rwvw0000gn/T/ipykernel_14492/2296241830.py:10: DtypeWarning: Columns (10,16,17,33,34) have mixed types. Specify dtype option on import or set low_memory=False.\n",
      "  for df in pd.read_csv(base_path, chunksize=chunk_size):\n"
     ]
    },
    {
     "name": "stdout",
     "output_type": "stream",
     "text": [
      "Processing, gz folder,  state: jha, chunk 1000000\n",
      "Cleaning Data, processing last names\n"
     ]
    },
    {
     "name": "stderr",
     "output_type": "stream",
     "text": [
      "/var/folders/zm/1jsfy4n50pxgckvd0pk9rwvw0000gn/T/ipykernel_14492/2296241830.py:10: DtypeWarning: Columns (10,16,17,33,34) have mixed types. Specify dtype option on import or set low_memory=False.\n",
      "  for df in pd.read_csv(base_path, chunksize=chunk_size):\n"
     ]
    },
    {
     "name": "stdout",
     "output_type": "stream",
     "text": [
      "Processing, gz folder,  state: jha, chunk 1000000\n",
      "Cleaning Data, processing last names\n"
     ]
    },
    {
     "name": "stderr",
     "output_type": "stream",
     "text": [
      "/var/folders/zm/1jsfy4n50pxgckvd0pk9rwvw0000gn/T/ipykernel_14492/2296241830.py:10: DtypeWarning: Columns (10,17,34) have mixed types. Specify dtype option on import or set low_memory=False.\n",
      "  for df in pd.read_csv(base_path, chunksize=chunk_size):\n"
     ]
    },
    {
     "name": "stdout",
     "output_type": "stream",
     "text": [
      "Processing, gz folder,  state: jha, chunk 1000000\n",
      "Cleaning Data, processing last names\n"
     ]
    },
    {
     "name": "stderr",
     "output_type": "stream",
     "text": [
      "/var/folders/zm/1jsfy4n50pxgckvd0pk9rwvw0000gn/T/ipykernel_14492/2296241830.py:10: DtypeWarning: Columns (10,17,34) have mixed types. Specify dtype option on import or set low_memory=False.\n",
      "  for df in pd.read_csv(base_path, chunksize=chunk_size):\n"
     ]
    },
    {
     "name": "stdout",
     "output_type": "stream",
     "text": [
      "Processing, gz folder,  state: jha, chunk 1000000\n",
      "Cleaning Data, processing last names\n"
     ]
    },
    {
     "name": "stderr",
     "output_type": "stream",
     "text": [
      "/var/folders/zm/1jsfy4n50pxgckvd0pk9rwvw0000gn/T/ipykernel_14492/2296241830.py:10: DtypeWarning: Columns (10,16,17,33,34) have mixed types. Specify dtype option on import or set low_memory=False.\n",
      "  for df in pd.read_csv(base_path, chunksize=chunk_size):\n"
     ]
    },
    {
     "name": "stdout",
     "output_type": "stream",
     "text": [
      "Processing, gz folder,  state: jha, chunk 1000000\n",
      "Cleaning Data, processing last names\n"
     ]
    },
    {
     "name": "stderr",
     "output_type": "stream",
     "text": [
      "/var/folders/zm/1jsfy4n50pxgckvd0pk9rwvw0000gn/T/ipykernel_14492/2296241830.py:10: DtypeWarning: Columns (10,16,17,33,34) have mixed types. Specify dtype option on import or set low_memory=False.\n",
      "  for df in pd.read_csv(base_path, chunksize=chunk_size):\n"
     ]
    },
    {
     "name": "stdout",
     "output_type": "stream",
     "text": [
      "Processing, gz folder,  state: jha, chunk 1000000\n",
      "Cleaning Data, processing last names\n"
     ]
    },
    {
     "name": "stderr",
     "output_type": "stream",
     "text": [
      "/var/folders/zm/1jsfy4n50pxgckvd0pk9rwvw0000gn/T/ipykernel_14492/2296241830.py:10: DtypeWarning: Columns (10,16,17,33,34) have mixed types. Specify dtype option on import or set low_memory=False.\n",
      "  for df in pd.read_csv(base_path, chunksize=chunk_size):\n"
     ]
    },
    {
     "name": "stdout",
     "output_type": "stream",
     "text": [
      "Processing, gz folder,  state: jha, chunk 1000000\n",
      "Cleaning Data, processing last names\n"
     ]
    },
    {
     "name": "stderr",
     "output_type": "stream",
     "text": [
      "/var/folders/zm/1jsfy4n50pxgckvd0pk9rwvw0000gn/T/ipykernel_14492/2296241830.py:10: DtypeWarning: Columns (10) have mixed types. Specify dtype option on import or set low_memory=False.\n",
      "  for df in pd.read_csv(base_path, chunksize=chunk_size):\n"
     ]
    },
    {
     "name": "stdout",
     "output_type": "stream",
     "text": [
      "Processing, gz folder,  state: jha, chunk 1000000\n",
      "Cleaning Data, processing last names\n"
     ]
    },
    {
     "name": "stderr",
     "output_type": "stream",
     "text": [
      "/var/folders/zm/1jsfy4n50pxgckvd0pk9rwvw0000gn/T/ipykernel_14492/2296241830.py:10: DtypeWarning: Columns (0,5,14,17,20,31,34,36) have mixed types. Specify dtype option on import or set low_memory=False.\n",
      "  for df in pd.read_csv(base_path, chunksize=chunk_size):\n"
     ]
    },
    {
     "name": "stdout",
     "output_type": "stream",
     "text": [
      "Processing, gz folder,  state: kar, chunk 1000000\n",
      "Cleaning Data, processing last names\n"
     ]
    },
    {
     "name": "stderr",
     "output_type": "stream",
     "text": [
      "/var/folders/zm/1jsfy4n50pxgckvd0pk9rwvw0000gn/T/ipykernel_14492/2296241830.py:10: DtypeWarning: Columns (0,5,14,17,20,31,34,36) have mixed types. Specify dtype option on import or set low_memory=False.\n",
      "  for df in pd.read_csv(base_path, chunksize=chunk_size):\n"
     ]
    },
    {
     "name": "stdout",
     "output_type": "stream",
     "text": [
      "Processing, gz folder,  state: kar, chunk 1000000\n",
      "Cleaning Data, processing last names\n"
     ]
    },
    {
     "name": "stderr",
     "output_type": "stream",
     "text": [
      "/var/folders/zm/1jsfy4n50pxgckvd0pk9rwvw0000gn/T/ipykernel_14492/2296241830.py:10: DtypeWarning: Columns (0,5,14,17,20,31,34,36) have mixed types. Specify dtype option on import or set low_memory=False.\n",
      "  for df in pd.read_csv(base_path, chunksize=chunk_size):\n"
     ]
    },
    {
     "name": "stdout",
     "output_type": "stream",
     "text": [
      "Processing, gz folder,  state: kar, chunk 1000000\n",
      "Cleaning Data, processing last names\n"
     ]
    },
    {
     "name": "stderr",
     "output_type": "stream",
     "text": [
      "/var/folders/zm/1jsfy4n50pxgckvd0pk9rwvw0000gn/T/ipykernel_14492/2296241830.py:10: DtypeWarning: Columns (0,5,14,17,20,31,34,36) have mixed types. Specify dtype option on import or set low_memory=False.\n",
      "  for df in pd.read_csv(base_path, chunksize=chunk_size):\n"
     ]
    },
    {
     "name": "stdout",
     "output_type": "stream",
     "text": [
      "Processing, gz folder,  state: kar, chunk 1000000\n",
      "Cleaning Data, processing last names\n"
     ]
    },
    {
     "name": "stderr",
     "output_type": "stream",
     "text": [
      "/var/folders/zm/1jsfy4n50pxgckvd0pk9rwvw0000gn/T/ipykernel_14492/2296241830.py:10: DtypeWarning: Columns (0,5,14,17,20,31,34,36) have mixed types. Specify dtype option on import or set low_memory=False.\n",
      "  for df in pd.read_csv(base_path, chunksize=chunk_size):\n"
     ]
    },
    {
     "name": "stdout",
     "output_type": "stream",
     "text": [
      "Processing, gz folder,  state: kar, chunk 1000000\n",
      "Cleaning Data, processing last names\n"
     ]
    },
    {
     "name": "stderr",
     "output_type": "stream",
     "text": [
      "/var/folders/zm/1jsfy4n50pxgckvd0pk9rwvw0000gn/T/ipykernel_14492/2296241830.py:10: DtypeWarning: Columns (0,5,14,17,20,21,31,34,36,37) have mixed types. Specify dtype option on import or set low_memory=False.\n",
      "  for df in pd.read_csv(base_path, chunksize=chunk_size):\n"
     ]
    },
    {
     "name": "stdout",
     "output_type": "stream",
     "text": [
      "Processing, gz folder,  state: kar, chunk 1000000\n",
      "Cleaning Data, processing last names\n"
     ]
    },
    {
     "name": "stderr",
     "output_type": "stream",
     "text": [
      "/var/folders/zm/1jsfy4n50pxgckvd0pk9rwvw0000gn/T/ipykernel_14492/2296241830.py:10: DtypeWarning: Columns (0,5,17,20,34,36) have mixed types. Specify dtype option on import or set low_memory=False.\n",
      "  for df in pd.read_csv(base_path, chunksize=chunk_size):\n"
     ]
    },
    {
     "name": "stdout",
     "output_type": "stream",
     "text": [
      "Processing, gz folder,  state: kar, chunk 1000000\n",
      "Cleaning Data, processing last names\n"
     ]
    },
    {
     "name": "stderr",
     "output_type": "stream",
     "text": [
      "/var/folders/zm/1jsfy4n50pxgckvd0pk9rwvw0000gn/T/ipykernel_14492/2296241830.py:10: DtypeWarning: Columns (0,14,17,20,31,34,36) have mixed types. Specify dtype option on import or set low_memory=False.\n",
      "  for df in pd.read_csv(base_path, chunksize=chunk_size):\n"
     ]
    },
    {
     "name": "stdout",
     "output_type": "stream",
     "text": [
      "Processing, gz folder,  state: kar, chunk 1000000\n",
      "Cleaning Data, processing last names\n"
     ]
    },
    {
     "name": "stderr",
     "output_type": "stream",
     "text": [
      "/var/folders/zm/1jsfy4n50pxgckvd0pk9rwvw0000gn/T/ipykernel_14492/2296241830.py:10: DtypeWarning: Columns (6,27) have mixed types. Specify dtype option on import or set low_memory=False.\n",
      "  for df in pd.read_csv(base_path, chunksize=chunk_size):\n"
     ]
    },
    {
     "name": "stdout",
     "output_type": "stream",
     "text": [
      "Processing, gz folder,  state: kerala, chunk 1000000\n",
      "Cleaning Data, processing last names\n"
     ]
    },
    {
     "name": "stderr",
     "output_type": "stream",
     "text": [
      "/var/folders/zm/1jsfy4n50pxgckvd0pk9rwvw0000gn/T/ipykernel_14492/1767827396.py:13: SettingWithCopyWarning: \n",
      "A value is trying to be set on a copy of a slice from a DataFrame.\n",
      "Try using .loc[row_indexer,col_indexer] = value instead\n",
      "\n",
      "See the caveats in the documentation: https://pandas.pydata.org/pandas-docs/stable/user_guide/indexing.html#returning-a-view-versus-a-copy\n",
      "  df[\"state\"] = state_split[0]\n",
      "/var/folders/zm/1jsfy4n50pxgckvd0pk9rwvw0000gn/T/ipykernel_14492/2296241830.py:10: DtypeWarning: Columns (6) have mixed types. Specify dtype option on import or set low_memory=False.\n",
      "  for df in pd.read_csv(base_path, chunksize=chunk_size):\n"
     ]
    },
    {
     "name": "stdout",
     "output_type": "stream",
     "text": [
      "Processing, gz folder,  state: kerala, chunk 1000000\n",
      "Cleaning Data, processing last names\n"
     ]
    },
    {
     "name": "stderr",
     "output_type": "stream",
     "text": [
      "/var/folders/zm/1jsfy4n50pxgckvd0pk9rwvw0000gn/T/ipykernel_14492/1767827396.py:13: SettingWithCopyWarning: \n",
      "A value is trying to be set on a copy of a slice from a DataFrame.\n",
      "Try using .loc[row_indexer,col_indexer] = value instead\n",
      "\n",
      "See the caveats in the documentation: https://pandas.pydata.org/pandas-docs/stable/user_guide/indexing.html#returning-a-view-versus-a-copy\n",
      "  df[\"state\"] = state_split[0]\n"
     ]
    },
    {
     "name": "stdout",
     "output_type": "stream",
     "text": [
      "Processing, gz folder,  state: kerala, chunk 1000000\n",
      "Cleaning Data, processing last names\n"
     ]
    },
    {
     "name": "stderr",
     "output_type": "stream",
     "text": [
      "/var/folders/zm/1jsfy4n50pxgckvd0pk9rwvw0000gn/T/ipykernel_14492/1767827396.py:13: SettingWithCopyWarning: \n",
      "A value is trying to be set on a copy of a slice from a DataFrame.\n",
      "Try using .loc[row_indexer,col_indexer] = value instead\n",
      "\n",
      "See the caveats in the documentation: https://pandas.pydata.org/pandas-docs/stable/user_guide/indexing.html#returning-a-view-versus-a-copy\n",
      "  df[\"state\"] = state_split[0]\n",
      "/var/folders/zm/1jsfy4n50pxgckvd0pk9rwvw0000gn/T/ipykernel_14492/2296241830.py:10: DtypeWarning: Columns (6) have mixed types. Specify dtype option on import or set low_memory=False.\n",
      "  for df in pd.read_csv(base_path, chunksize=chunk_size):\n"
     ]
    },
    {
     "name": "stdout",
     "output_type": "stream",
     "text": [
      "Processing, gz folder,  state: kerala, chunk 1000000\n",
      "Cleaning Data, processing last names\n"
     ]
    },
    {
     "name": "stderr",
     "output_type": "stream",
     "text": [
      "/var/folders/zm/1jsfy4n50pxgckvd0pk9rwvw0000gn/T/ipykernel_14492/1767827396.py:13: SettingWithCopyWarning: \n",
      "A value is trying to be set on a copy of a slice from a DataFrame.\n",
      "Try using .loc[row_indexer,col_indexer] = value instead\n",
      "\n",
      "See the caveats in the documentation: https://pandas.pydata.org/pandas-docs/stable/user_guide/indexing.html#returning-a-view-versus-a-copy\n",
      "  df[\"state\"] = state_split[0]\n",
      "/var/folders/zm/1jsfy4n50pxgckvd0pk9rwvw0000gn/T/ipykernel_14492/2296241830.py:10: DtypeWarning: Columns (6,23,24) have mixed types. Specify dtype option on import or set low_memory=False.\n",
      "  for df in pd.read_csv(base_path, chunksize=chunk_size):\n"
     ]
    },
    {
     "name": "stdout",
     "output_type": "stream",
     "text": [
      "Processing, gz folder,  state: kerala, chunk 1000000\n",
      "Cleaning Data, processing last names\n"
     ]
    },
    {
     "name": "stderr",
     "output_type": "stream",
     "text": [
      "/var/folders/zm/1jsfy4n50pxgckvd0pk9rwvw0000gn/T/ipykernel_14492/1767827396.py:13: SettingWithCopyWarning: \n",
      "A value is trying to be set on a copy of a slice from a DataFrame.\n",
      "Try using .loc[row_indexer,col_indexer] = value instead\n",
      "\n",
      "See the caveats in the documentation: https://pandas.pydata.org/pandas-docs/stable/user_guide/indexing.html#returning-a-view-versus-a-copy\n",
      "  df[\"state\"] = state_split[0]\n",
      "/var/folders/zm/1jsfy4n50pxgckvd0pk9rwvw0000gn/T/ipykernel_14492/2296241830.py:10: DtypeWarning: Columns (4,6,8) have mixed types. Specify dtype option on import or set low_memory=False.\n",
      "  for df in pd.read_csv(base_path, chunksize=chunk_size):\n"
     ]
    },
    {
     "name": "stdout",
     "output_type": "stream",
     "text": [
      "Processing, gz folder,  state: kerala, chunk 1000000\n",
      "Cleaning Data, processing last names\n"
     ]
    },
    {
     "name": "stderr",
     "output_type": "stream",
     "text": [
      "/var/folders/zm/1jsfy4n50pxgckvd0pk9rwvw0000gn/T/ipykernel_14492/1767827396.py:13: SettingWithCopyWarning: \n",
      "A value is trying to be set on a copy of a slice from a DataFrame.\n",
      "Try using .loc[row_indexer,col_indexer] = value instead\n",
      "\n",
      "See the caveats in the documentation: https://pandas.pydata.org/pandas-docs/stable/user_guide/indexing.html#returning-a-view-versus-a-copy\n",
      "  df[\"state\"] = state_split[0]\n",
      "/var/folders/zm/1jsfy4n50pxgckvd0pk9rwvw0000gn/T/ipykernel_14492/2296241830.py:10: DtypeWarning: Columns (4,6,8) have mixed types. Specify dtype option on import or set low_memory=False.\n",
      "  for df in pd.read_csv(base_path, chunksize=chunk_size):\n"
     ]
    },
    {
     "name": "stdout",
     "output_type": "stream",
     "text": [
      "Processing, gz folder,  state: kerala, chunk 1000000\n",
      "Cleaning Data, processing last names\n"
     ]
    },
    {
     "name": "stderr",
     "output_type": "stream",
     "text": [
      "/var/folders/zm/1jsfy4n50pxgckvd0pk9rwvw0000gn/T/ipykernel_14492/1767827396.py:13: SettingWithCopyWarning: \n",
      "A value is trying to be set on a copy of a slice from a DataFrame.\n",
      "Try using .loc[row_indexer,col_indexer] = value instead\n",
      "\n",
      "See the caveats in the documentation: https://pandas.pydata.org/pandas-docs/stable/user_guide/indexing.html#returning-a-view-versus-a-copy\n",
      "  df[\"state\"] = state_split[0]\n",
      "/var/folders/zm/1jsfy4n50pxgckvd0pk9rwvw0000gn/T/ipykernel_14492/2296241830.py:10: DtypeWarning: Columns (4,8) have mixed types. Specify dtype option on import or set low_memory=False.\n",
      "  for df in pd.read_csv(base_path, chunksize=chunk_size):\n"
     ]
    },
    {
     "name": "stdout",
     "output_type": "stream",
     "text": [
      "Processing, gz folder,  state: kerala, chunk 1000000\n"
     ]
    },
    {
     "name": "stderr",
     "output_type": "stream",
     "text": [
      "/var/folders/zm/1jsfy4n50pxgckvd0pk9rwvw0000gn/T/ipykernel_14492/1767827396.py:13: SettingWithCopyWarning: \n",
      "A value is trying to be set on a copy of a slice from a DataFrame.\n",
      "Try using .loc[row_indexer,col_indexer] = value instead\n",
      "\n",
      "See the caveats in the documentation: https://pandas.pydata.org/pandas-docs/stable/user_guide/indexing.html#returning-a-view-versus-a-copy\n",
      "  df[\"state\"] = state_split[0]\n"
     ]
    },
    {
     "name": "stdout",
     "output_type": "stream",
     "text": [
      "Cleaning Data, processing last names\n"
     ]
    },
    {
     "name": "stderr",
     "output_type": "stream",
     "text": [
      "/var/folders/zm/1jsfy4n50pxgckvd0pk9rwvw0000gn/T/ipykernel_14492/2296241830.py:10: DtypeWarning: Columns (4,6,8) have mixed types. Specify dtype option on import or set low_memory=False.\n",
      "  for df in pd.read_csv(base_path, chunksize=chunk_size):\n"
     ]
    },
    {
     "name": "stdout",
     "output_type": "stream",
     "text": [
      "Processing, gz folder,  state: kerala, chunk 1000000\n",
      "Cleaning Data, processing last names\n"
     ]
    },
    {
     "name": "stderr",
     "output_type": "stream",
     "text": [
      "/var/folders/zm/1jsfy4n50pxgckvd0pk9rwvw0000gn/T/ipykernel_14492/1767827396.py:13: SettingWithCopyWarning: \n",
      "A value is trying to be set on a copy of a slice from a DataFrame.\n",
      "Try using .loc[row_indexer,col_indexer] = value instead\n",
      "\n",
      "See the caveats in the documentation: https://pandas.pydata.org/pandas-docs/stable/user_guide/indexing.html#returning-a-view-versus-a-copy\n",
      "  df[\"state\"] = state_split[0]\n",
      "/var/folders/zm/1jsfy4n50pxgckvd0pk9rwvw0000gn/T/ipykernel_14492/2296241830.py:10: DtypeWarning: Columns (4,6,8) have mixed types. Specify dtype option on import or set low_memory=False.\n",
      "  for df in pd.read_csv(base_path, chunksize=chunk_size):\n"
     ]
    },
    {
     "name": "stdout",
     "output_type": "stream",
     "text": [
      "Processing, gz folder,  state: kerala, chunk 1000000\n",
      "Cleaning Data, processing last names\n"
     ]
    },
    {
     "name": "stderr",
     "output_type": "stream",
     "text": [
      "/var/folders/zm/1jsfy4n50pxgckvd0pk9rwvw0000gn/T/ipykernel_14492/1767827396.py:13: SettingWithCopyWarning: \n",
      "A value is trying to be set on a copy of a slice from a DataFrame.\n",
      "Try using .loc[row_indexer,col_indexer] = value instead\n",
      "\n",
      "See the caveats in the documentation: https://pandas.pydata.org/pandas-docs/stable/user_guide/indexing.html#returning-a-view-versus-a-copy\n",
      "  df[\"state\"] = state_split[0]\n",
      "/var/folders/zm/1jsfy4n50pxgckvd0pk9rwvw0000gn/T/ipykernel_14492/2296241830.py:10: DtypeWarning: Columns (4,6,7,8,23,24) have mixed types. Specify dtype option on import or set low_memory=False.\n",
      "  for df in pd.read_csv(base_path, chunksize=chunk_size):\n"
     ]
    },
    {
     "name": "stdout",
     "output_type": "stream",
     "text": [
      "Processing, gz folder,  state: kerala, chunk 1000000\n",
      "Cleaning Data, processing last names\n"
     ]
    },
    {
     "name": "stderr",
     "output_type": "stream",
     "text": [
      "/var/folders/zm/1jsfy4n50pxgckvd0pk9rwvw0000gn/T/ipykernel_14492/1767827396.py:13: SettingWithCopyWarning: \n",
      "A value is trying to be set on a copy of a slice from a DataFrame.\n",
      "Try using .loc[row_indexer,col_indexer] = value instead\n",
      "\n",
      "See the caveats in the documentation: https://pandas.pydata.org/pandas-docs/stable/user_guide/indexing.html#returning-a-view-versus-a-copy\n",
      "  df[\"state\"] = state_split[0]\n",
      "/var/folders/zm/1jsfy4n50pxgckvd0pk9rwvw0000gn/T/ipykernel_14492/2296241830.py:10: DtypeWarning: Columns (4,6,23) have mixed types. Specify dtype option on import or set low_memory=False.\n",
      "  for df in pd.read_csv(base_path, chunksize=chunk_size):\n"
     ]
    },
    {
     "name": "stdout",
     "output_type": "stream",
     "text": [
      "Processing, gz folder,  state: kerala, chunk 1000000\n",
      "Cleaning Data, processing last names\n"
     ]
    },
    {
     "name": "stderr",
     "output_type": "stream",
     "text": [
      "/var/folders/zm/1jsfy4n50pxgckvd0pk9rwvw0000gn/T/ipykernel_14492/1767827396.py:13: SettingWithCopyWarning: \n",
      "A value is trying to be set on a copy of a slice from a DataFrame.\n",
      "Try using .loc[row_indexer,col_indexer] = value instead\n",
      "\n",
      "See the caveats in the documentation: https://pandas.pydata.org/pandas-docs/stable/user_guide/indexing.html#returning-a-view-versus-a-copy\n",
      "  df[\"state\"] = state_split[0]\n",
      "/var/folders/zm/1jsfy4n50pxgckvd0pk9rwvw0000gn/T/ipykernel_14492/2296241830.py:10: DtypeWarning: Columns (4,6,23) have mixed types. Specify dtype option on import or set low_memory=False.\n",
      "  for df in pd.read_csv(base_path, chunksize=chunk_size):\n"
     ]
    },
    {
     "name": "stdout",
     "output_type": "stream",
     "text": [
      "Processing, gz folder,  state: kerala, chunk 1000000\n",
      "Cleaning Data, processing last names\n"
     ]
    },
    {
     "name": "stderr",
     "output_type": "stream",
     "text": [
      "/var/folders/zm/1jsfy4n50pxgckvd0pk9rwvw0000gn/T/ipykernel_14492/1767827396.py:13: SettingWithCopyWarning: \n",
      "A value is trying to be set on a copy of a slice from a DataFrame.\n",
      "Try using .loc[row_indexer,col_indexer] = value instead\n",
      "\n",
      "See the caveats in the documentation: https://pandas.pydata.org/pandas-docs/stable/user_guide/indexing.html#returning-a-view-versus-a-copy\n",
      "  df[\"state\"] = state_split[0]\n",
      "/var/folders/zm/1jsfy4n50pxgckvd0pk9rwvw0000gn/T/ipykernel_14492/2296241830.py:10: DtypeWarning: Columns (6) have mixed types. Specify dtype option on import or set low_memory=False.\n",
      "  for df in pd.read_csv(base_path, chunksize=chunk_size):\n"
     ]
    },
    {
     "name": "stdout",
     "output_type": "stream",
     "text": [
      "Processing, gz folder,  state: kerala, chunk 1000000\n",
      "Cleaning Data, processing last names\n"
     ]
    },
    {
     "name": "stderr",
     "output_type": "stream",
     "text": [
      "/var/folders/zm/1jsfy4n50pxgckvd0pk9rwvw0000gn/T/ipykernel_14492/1767827396.py:13: SettingWithCopyWarning: \n",
      "A value is trying to be set on a copy of a slice from a DataFrame.\n",
      "Try using .loc[row_indexer,col_indexer] = value instead\n",
      "\n",
      "See the caveats in the documentation: https://pandas.pydata.org/pandas-docs/stable/user_guide/indexing.html#returning-a-view-versus-a-copy\n",
      "  df[\"state\"] = state_split[0]\n",
      "/var/folders/zm/1jsfy4n50pxgckvd0pk9rwvw0000gn/T/ipykernel_14492/2296241830.py:10: DtypeWarning: Columns (6,23) have mixed types. Specify dtype option on import or set low_memory=False.\n",
      "  for df in pd.read_csv(base_path, chunksize=chunk_size):\n"
     ]
    },
    {
     "name": "stdout",
     "output_type": "stream",
     "text": [
      "Processing, gz folder,  state: kerala, chunk 1000000\n",
      "Cleaning Data, processing last names\n"
     ]
    },
    {
     "name": "stderr",
     "output_type": "stream",
     "text": [
      "/var/folders/zm/1jsfy4n50pxgckvd0pk9rwvw0000gn/T/ipykernel_14492/1767827396.py:13: SettingWithCopyWarning: \n",
      "A value is trying to be set on a copy of a slice from a DataFrame.\n",
      "Try using .loc[row_indexer,col_indexer] = value instead\n",
      "\n",
      "See the caveats in the documentation: https://pandas.pydata.org/pandas-docs/stable/user_guide/indexing.html#returning-a-view-versus-a-copy\n",
      "  df[\"state\"] = state_split[0]\n",
      "/var/folders/zm/1jsfy4n50pxgckvd0pk9rwvw0000gn/T/ipykernel_14492/2296241830.py:10: DtypeWarning: Columns (1,6,24) have mixed types. Specify dtype option on import or set low_memory=False.\n",
      "  for df in pd.read_csv(base_path, chunksize=chunk_size):\n"
     ]
    },
    {
     "name": "stdout",
     "output_type": "stream",
     "text": [
      "Processing, gz folder,  state: kerala, chunk 1000000\n",
      "Cleaning Data, processing last names\n"
     ]
    },
    {
     "name": "stderr",
     "output_type": "stream",
     "text": [
      "/var/folders/zm/1jsfy4n50pxgckvd0pk9rwvw0000gn/T/ipykernel_14492/1767827396.py:13: SettingWithCopyWarning: \n",
      "A value is trying to be set on a copy of a slice from a DataFrame.\n",
      "Try using .loc[row_indexer,col_indexer] = value instead\n",
      "\n",
      "See the caveats in the documentation: https://pandas.pydata.org/pandas-docs/stable/user_guide/indexing.html#returning-a-view-versus-a-copy\n",
      "  df[\"state\"] = state_split[0]\n",
      "/var/folders/zm/1jsfy4n50pxgckvd0pk9rwvw0000gn/T/ipykernel_14492/2296241830.py:10: DtypeWarning: Columns (6) have mixed types. Specify dtype option on import or set low_memory=False.\n",
      "  for df in pd.read_csv(base_path, chunksize=chunk_size):\n"
     ]
    },
    {
     "name": "stdout",
     "output_type": "stream",
     "text": [
      "Processing, gz folder,  state: kerala, chunk 1000000\n",
      "Cleaning Data, processing last names\n"
     ]
    },
    {
     "name": "stderr",
     "output_type": "stream",
     "text": [
      "/var/folders/zm/1jsfy4n50pxgckvd0pk9rwvw0000gn/T/ipykernel_14492/1767827396.py:13: SettingWithCopyWarning: \n",
      "A value is trying to be set on a copy of a slice from a DataFrame.\n",
      "Try using .loc[row_indexer,col_indexer] = value instead\n",
      "\n",
      "See the caveats in the documentation: https://pandas.pydata.org/pandas-docs/stable/user_guide/indexing.html#returning-a-view-versus-a-copy\n",
      "  df[\"state\"] = state_split[0]\n",
      "/var/folders/zm/1jsfy4n50pxgckvd0pk9rwvw0000gn/T/ipykernel_14492/2296241830.py:10: DtypeWarning: Columns (6) have mixed types. Specify dtype option on import or set low_memory=False.\n",
      "  for df in pd.read_csv(base_path, chunksize=chunk_size):\n"
     ]
    },
    {
     "name": "stdout",
     "output_type": "stream",
     "text": [
      "Processing, gz folder,  state: kerala, chunk 1000000\n",
      "Cleaning Data, processing last names\n"
     ]
    },
    {
     "name": "stderr",
     "output_type": "stream",
     "text": [
      "/var/folders/zm/1jsfy4n50pxgckvd0pk9rwvw0000gn/T/ipykernel_14492/1767827396.py:13: SettingWithCopyWarning: \n",
      "A value is trying to be set on a copy of a slice from a DataFrame.\n",
      "Try using .loc[row_indexer,col_indexer] = value instead\n",
      "\n",
      "See the caveats in the documentation: https://pandas.pydata.org/pandas-docs/stable/user_guide/indexing.html#returning-a-view-versus-a-copy\n",
      "  df[\"state\"] = state_split[0]\n",
      "/var/folders/zm/1jsfy4n50pxgckvd0pk9rwvw0000gn/T/ipykernel_14492/2296241830.py:10: DtypeWarning: Columns (6,24,27) have mixed types. Specify dtype option on import or set low_memory=False.\n",
      "  for df in pd.read_csv(base_path, chunksize=chunk_size):\n"
     ]
    },
    {
     "name": "stdout",
     "output_type": "stream",
     "text": [
      "Processing, gz folder,  state: kerala, chunk 1000000\n",
      "Cleaning Data, processing last names\n"
     ]
    },
    {
     "name": "stderr",
     "output_type": "stream",
     "text": [
      "/var/folders/zm/1jsfy4n50pxgckvd0pk9rwvw0000gn/T/ipykernel_14492/1767827396.py:13: SettingWithCopyWarning: \n",
      "A value is trying to be set on a copy of a slice from a DataFrame.\n",
      "Try using .loc[row_indexer,col_indexer] = value instead\n",
      "\n",
      "See the caveats in the documentation: https://pandas.pydata.org/pandas-docs/stable/user_guide/indexing.html#returning-a-view-versus-a-copy\n",
      "  df[\"state\"] = state_split[0]\n",
      "/var/folders/zm/1jsfy4n50pxgckvd0pk9rwvw0000gn/T/ipykernel_14492/2296241830.py:10: DtypeWarning: Columns (4,6,27) have mixed types. Specify dtype option on import or set low_memory=False.\n",
      "  for df in pd.read_csv(base_path, chunksize=chunk_size):\n"
     ]
    },
    {
     "name": "stdout",
     "output_type": "stream",
     "text": [
      "Processing, gz folder,  state: kerala, chunk 1000000\n"
     ]
    },
    {
     "name": "stderr",
     "output_type": "stream",
     "text": [
      "/var/folders/zm/1jsfy4n50pxgckvd0pk9rwvw0000gn/T/ipykernel_14492/1767827396.py:13: SettingWithCopyWarning: \n",
      "A value is trying to be set on a copy of a slice from a DataFrame.\n",
      "Try using .loc[row_indexer,col_indexer] = value instead\n",
      "\n",
      "See the caveats in the documentation: https://pandas.pydata.org/pandas-docs/stable/user_guide/indexing.html#returning-a-view-versus-a-copy\n",
      "  df[\"state\"] = state_split[0]\n"
     ]
    },
    {
     "name": "stdout",
     "output_type": "stream",
     "text": [
      "Cleaning Data, processing last names\n"
     ]
    },
    {
     "name": "stderr",
     "output_type": "stream",
     "text": [
      "/var/folders/zm/1jsfy4n50pxgckvd0pk9rwvw0000gn/T/ipykernel_14492/2296241830.py:10: DtypeWarning: Columns (6) have mixed types. Specify dtype option on import or set low_memory=False.\n",
      "  for df in pd.read_csv(base_path, chunksize=chunk_size):\n"
     ]
    },
    {
     "name": "stdout",
     "output_type": "stream",
     "text": [
      "Processing, gz folder,  state: kerala, chunk 1000000\n",
      "Cleaning Data, processing last names\n"
     ]
    },
    {
     "name": "stderr",
     "output_type": "stream",
     "text": [
      "/var/folders/zm/1jsfy4n50pxgckvd0pk9rwvw0000gn/T/ipykernel_14492/1767827396.py:13: SettingWithCopyWarning: \n",
      "A value is trying to be set on a copy of a slice from a DataFrame.\n",
      "Try using .loc[row_indexer,col_indexer] = value instead\n",
      "\n",
      "See the caveats in the documentation: https://pandas.pydata.org/pandas-docs/stable/user_guide/indexing.html#returning-a-view-versus-a-copy\n",
      "  df[\"state\"] = state_split[0]\n",
      "/var/folders/zm/1jsfy4n50pxgckvd0pk9rwvw0000gn/T/ipykernel_14492/2296241830.py:10: DtypeWarning: Columns (4,6,8) have mixed types. Specify dtype option on import or set low_memory=False.\n",
      "  for df in pd.read_csv(base_path, chunksize=chunk_size):\n"
     ]
    },
    {
     "name": "stdout",
     "output_type": "stream",
     "text": [
      "Processing, gz folder,  state: kerala, chunk 1000000\n",
      "Cleaning Data, processing last names\n"
     ]
    },
    {
     "name": "stderr",
     "output_type": "stream",
     "text": [
      "/var/folders/zm/1jsfy4n50pxgckvd0pk9rwvw0000gn/T/ipykernel_14492/1767827396.py:13: SettingWithCopyWarning: \n",
      "A value is trying to be set on a copy of a slice from a DataFrame.\n",
      "Try using .loc[row_indexer,col_indexer] = value instead\n",
      "\n",
      "See the caveats in the documentation: https://pandas.pydata.org/pandas-docs/stable/user_guide/indexing.html#returning-a-view-versus-a-copy\n",
      "  df[\"state\"] = state_split[0]\n",
      "/var/folders/zm/1jsfy4n50pxgckvd0pk9rwvw0000gn/T/ipykernel_14492/2296241830.py:10: DtypeWarning: Columns (4,6,8) have mixed types. Specify dtype option on import or set low_memory=False.\n",
      "  for df in pd.read_csv(base_path, chunksize=chunk_size):\n"
     ]
    },
    {
     "name": "stdout",
     "output_type": "stream",
     "text": [
      "Processing, gz folder,  state: kerala, chunk 1000000\n",
      "Cleaning Data, processing last names\n"
     ]
    },
    {
     "name": "stderr",
     "output_type": "stream",
     "text": [
      "/var/folders/zm/1jsfy4n50pxgckvd0pk9rwvw0000gn/T/ipykernel_14492/1767827396.py:13: SettingWithCopyWarning: \n",
      "A value is trying to be set on a copy of a slice from a DataFrame.\n",
      "Try using .loc[row_indexer,col_indexer] = value instead\n",
      "\n",
      "See the caveats in the documentation: https://pandas.pydata.org/pandas-docs/stable/user_guide/indexing.html#returning-a-view-versus-a-copy\n",
      "  df[\"state\"] = state_split[0]\n",
      "/var/folders/zm/1jsfy4n50pxgckvd0pk9rwvw0000gn/T/ipykernel_14492/2296241830.py:10: DtypeWarning: Columns (6) have mixed types. Specify dtype option on import or set low_memory=False.\n",
      "  for df in pd.read_csv(base_path, chunksize=chunk_size):\n"
     ]
    },
    {
     "name": "stdout",
     "output_type": "stream",
     "text": [
      "Processing, gz folder,  state: kerala, chunk 1000000\n"
     ]
    },
    {
     "name": "stderr",
     "output_type": "stream",
     "text": [
      "/var/folders/zm/1jsfy4n50pxgckvd0pk9rwvw0000gn/T/ipykernel_14492/1767827396.py:13: SettingWithCopyWarning: \n",
      "A value is trying to be set on a copy of a slice from a DataFrame.\n",
      "Try using .loc[row_indexer,col_indexer] = value instead\n",
      "\n",
      "See the caveats in the documentation: https://pandas.pydata.org/pandas-docs/stable/user_guide/indexing.html#returning-a-view-versus-a-copy\n",
      "  df[\"state\"] = state_split[0]\n"
     ]
    },
    {
     "name": "stdout",
     "output_type": "stream",
     "text": [
      "Cleaning Data, processing last names\n"
     ]
    },
    {
     "name": "stderr",
     "output_type": "stream",
     "text": [
      "/var/folders/zm/1jsfy4n50pxgckvd0pk9rwvw0000gn/T/ipykernel_14492/2296241830.py:10: DtypeWarning: Columns (6) have mixed types. Specify dtype option on import or set low_memory=False.\n",
      "  for df in pd.read_csv(base_path, chunksize=chunk_size):\n"
     ]
    },
    {
     "name": "stdout",
     "output_type": "stream",
     "text": [
      "Processing, gz folder,  state: kerala, chunk 1000000\n",
      "Cleaning Data, processing last names\n"
     ]
    },
    {
     "name": "stderr",
     "output_type": "stream",
     "text": [
      "/var/folders/zm/1jsfy4n50pxgckvd0pk9rwvw0000gn/T/ipykernel_14492/1767827396.py:13: SettingWithCopyWarning: \n",
      "A value is trying to be set on a copy of a slice from a DataFrame.\n",
      "Try using .loc[row_indexer,col_indexer] = value instead\n",
      "\n",
      "See the caveats in the documentation: https://pandas.pydata.org/pandas-docs/stable/user_guide/indexing.html#returning-a-view-versus-a-copy\n",
      "  df[\"state\"] = state_split[0]\n"
     ]
    },
    {
     "name": "stdout",
     "output_type": "stream",
     "text": [
      "Processing, gz folder,  state: kerala, chunk 1000000\n",
      "Cleaning Data, processing last names\n"
     ]
    },
    {
     "name": "stderr",
     "output_type": "stream",
     "text": [
      "/var/folders/zm/1jsfy4n50pxgckvd0pk9rwvw0000gn/T/ipykernel_14492/1767827396.py:13: SettingWithCopyWarning: \n",
      "A value is trying to be set on a copy of a slice from a DataFrame.\n",
      "Try using .loc[row_indexer,col_indexer] = value instead\n",
      "\n",
      "See the caveats in the documentation: https://pandas.pydata.org/pandas-docs/stable/user_guide/indexing.html#returning-a-view-versus-a-copy\n",
      "  df[\"state\"] = state_split[0]\n"
     ]
    },
    {
     "name": "stdout",
     "output_type": "stream",
     "text": [
      "Processing, gz folder,  state: kerala, chunk 1000000\n",
      "Cleaning Data, processing last names\n"
     ]
    },
    {
     "name": "stderr",
     "output_type": "stream",
     "text": [
      "/var/folders/zm/1jsfy4n50pxgckvd0pk9rwvw0000gn/T/ipykernel_14492/1767827396.py:13: SettingWithCopyWarning: \n",
      "A value is trying to be set on a copy of a slice from a DataFrame.\n",
      "Try using .loc[row_indexer,col_indexer] = value instead\n",
      "\n",
      "See the caveats in the documentation: https://pandas.pydata.org/pandas-docs/stable/user_guide/indexing.html#returning-a-view-versus-a-copy\n",
      "  df[\"state\"] = state_split[0]\n"
     ]
    },
    {
     "name": "stdout",
     "output_type": "stream",
     "text": [
      "Processing, gz folder,  state: kerala, chunk 1000000\n",
      "Cleaning Data, processing last names\n"
     ]
    },
    {
     "name": "stderr",
     "output_type": "stream",
     "text": [
      "/var/folders/zm/1jsfy4n50pxgckvd0pk9rwvw0000gn/T/ipykernel_14492/1767827396.py:13: SettingWithCopyWarning: \n",
      "A value is trying to be set on a copy of a slice from a DataFrame.\n",
      "Try using .loc[row_indexer,col_indexer] = value instead\n",
      "\n",
      "See the caveats in the documentation: https://pandas.pydata.org/pandas-docs/stable/user_guide/indexing.html#returning-a-view-versus-a-copy\n",
      "  df[\"state\"] = state_split[0]\n"
     ]
    },
    {
     "name": "stdout",
     "output_type": "stream",
     "text": [
      "Processing, gz folder,  state: kerala, chunk 1000000\n",
      "Cleaning Data, processing last names\n"
     ]
    },
    {
     "name": "stderr",
     "output_type": "stream",
     "text": [
      "/var/folders/zm/1jsfy4n50pxgckvd0pk9rwvw0000gn/T/ipykernel_14492/1767827396.py:13: SettingWithCopyWarning: \n",
      "A value is trying to be set on a copy of a slice from a DataFrame.\n",
      "Try using .loc[row_indexer,col_indexer] = value instead\n",
      "\n",
      "See the caveats in the documentation: https://pandas.pydata.org/pandas-docs/stable/user_guide/indexing.html#returning-a-view-versus-a-copy\n",
      "  df[\"state\"] = state_split[0]\n"
     ]
    },
    {
     "name": "stdout",
     "output_type": "stream",
     "text": [
      "Processing, gz folder,  state: kerala, chunk 1000000\n",
      "Cleaning Data, processing last names\n"
     ]
    },
    {
     "name": "stderr",
     "output_type": "stream",
     "text": [
      "/var/folders/zm/1jsfy4n50pxgckvd0pk9rwvw0000gn/T/ipykernel_14492/1767827396.py:13: SettingWithCopyWarning: \n",
      "A value is trying to be set on a copy of a slice from a DataFrame.\n",
      "Try using .loc[row_indexer,col_indexer] = value instead\n",
      "\n",
      "See the caveats in the documentation: https://pandas.pydata.org/pandas-docs/stable/user_guide/indexing.html#returning-a-view-versus-a-copy\n",
      "  df[\"state\"] = state_split[0]\n"
     ]
    },
    {
     "name": "stdout",
     "output_type": "stream",
     "text": [
      "Processing, gz folder,  state: kerala, chunk 1000000\n",
      "Cleaning Data, processing last names\n"
     ]
    },
    {
     "name": "stderr",
     "output_type": "stream",
     "text": [
      "/var/folders/zm/1jsfy4n50pxgckvd0pk9rwvw0000gn/T/ipykernel_14492/1767827396.py:13: SettingWithCopyWarning: \n",
      "A value is trying to be set on a copy of a slice from a DataFrame.\n",
      "Try using .loc[row_indexer,col_indexer] = value instead\n",
      "\n",
      "See the caveats in the documentation: https://pandas.pydata.org/pandas-docs/stable/user_guide/indexing.html#returning-a-view-versus-a-copy\n",
      "  df[\"state\"] = state_split[0]\n"
     ]
    },
    {
     "name": "stdout",
     "output_type": "stream",
     "text": [
      "Processing, gz folder,  state: kerala, chunk 1000000\n",
      "Cleaning Data, processing last names\n"
     ]
    },
    {
     "name": "stderr",
     "output_type": "stream",
     "text": [
      "/var/folders/zm/1jsfy4n50pxgckvd0pk9rwvw0000gn/T/ipykernel_14492/1767827396.py:13: SettingWithCopyWarning: \n",
      "A value is trying to be set on a copy of a slice from a DataFrame.\n",
      "Try using .loc[row_indexer,col_indexer] = value instead\n",
      "\n",
      "See the caveats in the documentation: https://pandas.pydata.org/pandas-docs/stable/user_guide/indexing.html#returning-a-view-versus-a-copy\n",
      "  df[\"state\"] = state_split[0]\n"
     ]
    },
    {
     "name": "stdout",
     "output_type": "stream",
     "text": [
      "Processing, gz folder,  state: kerala, chunk 1000000\n",
      "Cleaning Data, processing last names\n"
     ]
    },
    {
     "name": "stderr",
     "output_type": "stream",
     "text": [
      "/var/folders/zm/1jsfy4n50pxgckvd0pk9rwvw0000gn/T/ipykernel_14492/1767827396.py:13: SettingWithCopyWarning: \n",
      "A value is trying to be set on a copy of a slice from a DataFrame.\n",
      "Try using .loc[row_indexer,col_indexer] = value instead\n",
      "\n",
      "See the caveats in the documentation: https://pandas.pydata.org/pandas-docs/stable/user_guide/indexing.html#returning-a-view-versus-a-copy\n",
      "  df[\"state\"] = state_split[0]\n"
     ]
    },
    {
     "name": "stdout",
     "output_type": "stream",
     "text": [
      "Processing, gz folder,  state: kerala, chunk 1000000\n",
      "Cleaning Data, processing last names\n"
     ]
    },
    {
     "name": "stderr",
     "output_type": "stream",
     "text": [
      "/var/folders/zm/1jsfy4n50pxgckvd0pk9rwvw0000gn/T/ipykernel_14492/1767827396.py:13: SettingWithCopyWarning: \n",
      "A value is trying to be set on a copy of a slice from a DataFrame.\n",
      "Try using .loc[row_indexer,col_indexer] = value instead\n",
      "\n",
      "See the caveats in the documentation: https://pandas.pydata.org/pandas-docs/stable/user_guide/indexing.html#returning-a-view-versus-a-copy\n",
      "  df[\"state\"] = state_split[0]\n"
     ]
    },
    {
     "name": "stdout",
     "output_type": "stream",
     "text": [
      "Processing, gz folder,  state: kerala, chunk 1000000\n",
      "Cleaning Data, processing last names\n"
     ]
    },
    {
     "name": "stderr",
     "output_type": "stream",
     "text": [
      "/var/folders/zm/1jsfy4n50pxgckvd0pk9rwvw0000gn/T/ipykernel_14492/1767827396.py:13: SettingWithCopyWarning: \n",
      "A value is trying to be set on a copy of a slice from a DataFrame.\n",
      "Try using .loc[row_indexer,col_indexer] = value instead\n",
      "\n",
      "See the caveats in the documentation: https://pandas.pydata.org/pandas-docs/stable/user_guide/indexing.html#returning-a-view-versus-a-copy\n",
      "  df[\"state\"] = state_split[0]\n"
     ]
    },
    {
     "name": "stdout",
     "output_type": "stream",
     "text": [
      "Processing, gz folder,  state: kerala, chunk 1000000\n",
      "Cleaning Data, processing last names\n"
     ]
    },
    {
     "name": "stderr",
     "output_type": "stream",
     "text": [
      "/var/folders/zm/1jsfy4n50pxgckvd0pk9rwvw0000gn/T/ipykernel_14492/1767827396.py:13: SettingWithCopyWarning: \n",
      "A value is trying to be set on a copy of a slice from a DataFrame.\n",
      "Try using .loc[row_indexer,col_indexer] = value instead\n",
      "\n",
      "See the caveats in the documentation: https://pandas.pydata.org/pandas-docs/stable/user_guide/indexing.html#returning-a-view-versus-a-copy\n",
      "  df[\"state\"] = state_split[0]\n"
     ]
    },
    {
     "name": "stdout",
     "output_type": "stream",
     "text": [
      "Processing, gz folder,  state: kerala, chunk 1000000\n"
     ]
    },
    {
     "name": "stderr",
     "output_type": "stream",
     "text": [
      "/var/folders/zm/1jsfy4n50pxgckvd0pk9rwvw0000gn/T/ipykernel_14492/1767827396.py:13: SettingWithCopyWarning: \n",
      "A value is trying to be set on a copy of a slice from a DataFrame.\n",
      "Try using .loc[row_indexer,col_indexer] = value instead\n",
      "\n",
      "See the caveats in the documentation: https://pandas.pydata.org/pandas-docs/stable/user_guide/indexing.html#returning-a-view-versus-a-copy\n",
      "  df[\"state\"] = state_split[0]\n"
     ]
    },
    {
     "name": "stdout",
     "output_type": "stream",
     "text": [
      "Cleaning Data, processing last names\n",
      "Processing, gz folder,  state: kerala, chunk 1000000\n"
     ]
    },
    {
     "name": "stderr",
     "output_type": "stream",
     "text": [
      "/var/folders/zm/1jsfy4n50pxgckvd0pk9rwvw0000gn/T/ipykernel_14492/1767827396.py:13: SettingWithCopyWarning: \n",
      "A value is trying to be set on a copy of a slice from a DataFrame.\n",
      "Try using .loc[row_indexer,col_indexer] = value instead\n",
      "\n",
      "See the caveats in the documentation: https://pandas.pydata.org/pandas-docs/stable/user_guide/indexing.html#returning-a-view-versus-a-copy\n",
      "  df[\"state\"] = state_split[0]\n"
     ]
    },
    {
     "name": "stdout",
     "output_type": "stream",
     "text": [
      "Cleaning Data, processing last names\n",
      "Processing, gz folder,  state: kerala, chunk 1000000\n",
      "Cleaning Data, processing last names\n"
     ]
    },
    {
     "name": "stderr",
     "output_type": "stream",
     "text": [
      "/var/folders/zm/1jsfy4n50pxgckvd0pk9rwvw0000gn/T/ipykernel_14492/1767827396.py:13: SettingWithCopyWarning: \n",
      "A value is trying to be set on a copy of a slice from a DataFrame.\n",
      "Try using .loc[row_indexer,col_indexer] = value instead\n",
      "\n",
      "See the caveats in the documentation: https://pandas.pydata.org/pandas-docs/stable/user_guide/indexing.html#returning-a-view-versus-a-copy\n",
      "  df[\"state\"] = state_split[0]\n"
     ]
    },
    {
     "name": "stdout",
     "output_type": "stream",
     "text": [
      "Processing, gz folder,  state: kerala, chunk 1000000\n",
      "Cleaning Data, processing last names\n"
     ]
    },
    {
     "name": "stderr",
     "output_type": "stream",
     "text": [
      "/var/folders/zm/1jsfy4n50pxgckvd0pk9rwvw0000gn/T/ipykernel_14492/1767827396.py:13: SettingWithCopyWarning: \n",
      "A value is trying to be set on a copy of a slice from a DataFrame.\n",
      "Try using .loc[row_indexer,col_indexer] = value instead\n",
      "\n",
      "See the caveats in the documentation: https://pandas.pydata.org/pandas-docs/stable/user_guide/indexing.html#returning-a-view-versus-a-copy\n",
      "  df[\"state\"] = state_split[0]\n"
     ]
    },
    {
     "name": "stdout",
     "output_type": "stream",
     "text": [
      "Processing, gz folder,  state: kerala, chunk 1000000\n",
      "Cleaning Data, processing last names\n"
     ]
    },
    {
     "name": "stderr",
     "output_type": "stream",
     "text": [
      "/var/folders/zm/1jsfy4n50pxgckvd0pk9rwvw0000gn/T/ipykernel_14492/1767827396.py:13: SettingWithCopyWarning: \n",
      "A value is trying to be set on a copy of a slice from a DataFrame.\n",
      "Try using .loc[row_indexer,col_indexer] = value instead\n",
      "\n",
      "See the caveats in the documentation: https://pandas.pydata.org/pandas-docs/stable/user_guide/indexing.html#returning-a-view-versus-a-copy\n",
      "  df[\"state\"] = state_split[0]\n"
     ]
    },
    {
     "name": "stdout",
     "output_type": "stream",
     "text": [
      "Processing, gz folder,  state: kerala, chunk 1000000\n",
      "Cleaning Data, processing last names\n"
     ]
    },
    {
     "name": "stderr",
     "output_type": "stream",
     "text": [
      "/var/folders/zm/1jsfy4n50pxgckvd0pk9rwvw0000gn/T/ipykernel_14492/1767827396.py:13: SettingWithCopyWarning: \n",
      "A value is trying to be set on a copy of a slice from a DataFrame.\n",
      "Try using .loc[row_indexer,col_indexer] = value instead\n",
      "\n",
      "See the caveats in the documentation: https://pandas.pydata.org/pandas-docs/stable/user_guide/indexing.html#returning-a-view-versus-a-copy\n",
      "  df[\"state\"] = state_split[0]\n"
     ]
    },
    {
     "name": "stdout",
     "output_type": "stream",
     "text": [
      "Processing, gz folder,  state: kerala, chunk 1000000\n",
      "Cleaning Data, processing last names\n"
     ]
    },
    {
     "name": "stderr",
     "output_type": "stream",
     "text": [
      "/var/folders/zm/1jsfy4n50pxgckvd0pk9rwvw0000gn/T/ipykernel_14492/1767827396.py:13: SettingWithCopyWarning: \n",
      "A value is trying to be set on a copy of a slice from a DataFrame.\n",
      "Try using .loc[row_indexer,col_indexer] = value instead\n",
      "\n",
      "See the caveats in the documentation: https://pandas.pydata.org/pandas-docs/stable/user_guide/indexing.html#returning-a-view-versus-a-copy\n",
      "  df[\"state\"] = state_split[0]\n"
     ]
    },
    {
     "name": "stdout",
     "output_type": "stream",
     "text": [
      "Processing, gz folder,  state: kerala, chunk 1000000\n",
      "Cleaning Data, processing last names\n"
     ]
    },
    {
     "name": "stderr",
     "output_type": "stream",
     "text": [
      "/var/folders/zm/1jsfy4n50pxgckvd0pk9rwvw0000gn/T/ipykernel_14492/1767827396.py:13: SettingWithCopyWarning: \n",
      "A value is trying to be set on a copy of a slice from a DataFrame.\n",
      "Try using .loc[row_indexer,col_indexer] = value instead\n",
      "\n",
      "See the caveats in the documentation: https://pandas.pydata.org/pandas-docs/stable/user_guide/indexing.html#returning-a-view-versus-a-copy\n",
      "  df[\"state\"] = state_split[0]\n",
      "/var/folders/zm/1jsfy4n50pxgckvd0pk9rwvw0000gn/T/ipykernel_14492/2296241830.py:10: DtypeWarning: Columns (14,16,18) have mixed types. Specify dtype option on import or set low_memory=False.\n",
      "  for df in pd.read_csv(base_path, chunksize=chunk_size):\n"
     ]
    },
    {
     "name": "stdout",
     "output_type": "stream",
     "text": [
      "Processing, gz folder,  state: kerala, chunk 1000000\n",
      "Cleaning Data, processing last names\n"
     ]
    },
    {
     "name": "stderr",
     "output_type": "stream",
     "text": [
      "/var/folders/zm/1jsfy4n50pxgckvd0pk9rwvw0000gn/T/ipykernel_14492/1767827396.py:13: SettingWithCopyWarning: \n",
      "A value is trying to be set on a copy of a slice from a DataFrame.\n",
      "Try using .loc[row_indexer,col_indexer] = value instead\n",
      "\n",
      "See the caveats in the documentation: https://pandas.pydata.org/pandas-docs/stable/user_guide/indexing.html#returning-a-view-versus-a-copy\n",
      "  df[\"state\"] = state_split[0]\n"
     ]
    },
    {
     "name": "stdout",
     "output_type": "stream",
     "text": [
      "Processing, gz folder,  state: kerala, chunk 1000000\n",
      "Cleaning Data, processing last names\n"
     ]
    },
    {
     "name": "stderr",
     "output_type": "stream",
     "text": [
      "/var/folders/zm/1jsfy4n50pxgckvd0pk9rwvw0000gn/T/ipykernel_14492/1767827396.py:13: SettingWithCopyWarning: \n",
      "A value is trying to be set on a copy of a slice from a DataFrame.\n",
      "Try using .loc[row_indexer,col_indexer] = value instead\n",
      "\n",
      "See the caveats in the documentation: https://pandas.pydata.org/pandas-docs/stable/user_guide/indexing.html#returning-a-view-versus-a-copy\n",
      "  df[\"state\"] = state_split[0]\n"
     ]
    },
    {
     "name": "stdout",
     "output_type": "stream",
     "text": [
      "Processing, gz folder,  state: kerala, chunk 1000000\n",
      "Cleaning Data, processing last names\n"
     ]
    },
    {
     "name": "stderr",
     "output_type": "stream",
     "text": [
      "/var/folders/zm/1jsfy4n50pxgckvd0pk9rwvw0000gn/T/ipykernel_14492/1767827396.py:13: SettingWithCopyWarning: \n",
      "A value is trying to be set on a copy of a slice from a DataFrame.\n",
      "Try using .loc[row_indexer,col_indexer] = value instead\n",
      "\n",
      "See the caveats in the documentation: https://pandas.pydata.org/pandas-docs/stable/user_guide/indexing.html#returning-a-view-versus-a-copy\n",
      "  df[\"state\"] = state_split[0]\n"
     ]
    },
    {
     "name": "stdout",
     "output_type": "stream",
     "text": [
      "Processing, gz folder,  state: kerala, chunk 1000000\n",
      "Cleaning Data, processing last names\n"
     ]
    },
    {
     "name": "stderr",
     "output_type": "stream",
     "text": [
      "/var/folders/zm/1jsfy4n50pxgckvd0pk9rwvw0000gn/T/ipykernel_14492/1767827396.py:13: SettingWithCopyWarning: \n",
      "A value is trying to be set on a copy of a slice from a DataFrame.\n",
      "Try using .loc[row_indexer,col_indexer] = value instead\n",
      "\n",
      "See the caveats in the documentation: https://pandas.pydata.org/pandas-docs/stable/user_guide/indexing.html#returning-a-view-versus-a-copy\n",
      "  df[\"state\"] = state_split[0]\n",
      "/var/folders/zm/1jsfy4n50pxgckvd0pk9rwvw0000gn/T/ipykernel_14492/2296241830.py:10: DtypeWarning: Columns (0,15,31) have mixed types. Specify dtype option on import or set low_memory=False.\n",
      "  for df in pd.read_csv(base_path, chunksize=chunk_size):\n"
     ]
    },
    {
     "name": "stdout",
     "output_type": "stream",
     "text": [
      "Processing, gz folder,  state: maharashtra, chunk 1000000\n",
      "Cleaning Data, processing last names\n"
     ]
    },
    {
     "name": "stderr",
     "output_type": "stream",
     "text": [
      "/var/folders/zm/1jsfy4n50pxgckvd0pk9rwvw0000gn/T/ipykernel_14492/2296241830.py:10: DtypeWarning: Columns (0) have mixed types. Specify dtype option on import or set low_memory=False.\n",
      "  for df in pd.read_csv(base_path, chunksize=chunk_size):\n"
     ]
    },
    {
     "name": "stdout",
     "output_type": "stream",
     "text": [
      "Processing, gz folder,  state: maharashtra, chunk 1000000\n",
      "Cleaning Data, processing last names\n"
     ]
    },
    {
     "name": "stderr",
     "output_type": "stream",
     "text": [
      "/var/folders/zm/1jsfy4n50pxgckvd0pk9rwvw0000gn/T/ipykernel_14492/2296241830.py:10: DtypeWarning: Columns (0,15,31) have mixed types. Specify dtype option on import or set low_memory=False.\n",
      "  for df in pd.read_csv(base_path, chunksize=chunk_size):\n"
     ]
    },
    {
     "name": "stdout",
     "output_type": "stream",
     "text": [
      "Processing, gz folder,  state: maharashtra, chunk 1000000\n",
      "Cleaning Data, processing last names\n"
     ]
    },
    {
     "name": "stderr",
     "output_type": "stream",
     "text": [
      "/var/folders/zm/1jsfy4n50pxgckvd0pk9rwvw0000gn/T/ipykernel_14492/2296241830.py:10: DtypeWarning: Columns (0,14,15,30,31) have mixed types. Specify dtype option on import or set low_memory=False.\n",
      "  for df in pd.read_csv(base_path, chunksize=chunk_size):\n"
     ]
    },
    {
     "name": "stdout",
     "output_type": "stream",
     "text": [
      "Processing, gz folder,  state: maharashtra, chunk 1000000\n",
      "Cleaning Data, processing last names\n"
     ]
    },
    {
     "name": "stderr",
     "output_type": "stream",
     "text": [
      "/var/folders/zm/1jsfy4n50pxgckvd0pk9rwvw0000gn/T/ipykernel_14492/2296241830.py:10: DtypeWarning: Columns (0,15,31) have mixed types. Specify dtype option on import or set low_memory=False.\n",
      "  for df in pd.read_csv(base_path, chunksize=chunk_size):\n"
     ]
    },
    {
     "name": "stdout",
     "output_type": "stream",
     "text": [
      "Processing, gz folder,  state: maharashtra, chunk 1000000\n",
      "Cleaning Data, processing last names\n"
     ]
    },
    {
     "name": "stderr",
     "output_type": "stream",
     "text": [
      "/var/folders/zm/1jsfy4n50pxgckvd0pk9rwvw0000gn/T/ipykernel_14492/2296241830.py:10: DtypeWarning: Columns (0,15,31) have mixed types. Specify dtype option on import or set low_memory=False.\n",
      "  for df in pd.read_csv(base_path, chunksize=chunk_size):\n"
     ]
    },
    {
     "name": "stdout",
     "output_type": "stream",
     "text": [
      "Processing, gz folder,  state: maharashtra, chunk 1000000\n",
      "Cleaning Data, processing last names\n"
     ]
    },
    {
     "name": "stderr",
     "output_type": "stream",
     "text": [
      "/var/folders/zm/1jsfy4n50pxgckvd0pk9rwvw0000gn/T/ipykernel_14492/2296241830.py:10: DtypeWarning: Columns (0,15,31) have mixed types. Specify dtype option on import or set low_memory=False.\n",
      "  for df in pd.read_csv(base_path, chunksize=chunk_size):\n"
     ]
    },
    {
     "name": "stdout",
     "output_type": "stream",
     "text": [
      "Processing, gz folder,  state: maharashtra, chunk 1000000\n",
      "Cleaning Data, processing last names\n"
     ]
    },
    {
     "name": "stderr",
     "output_type": "stream",
     "text": [
      "/var/folders/zm/1jsfy4n50pxgckvd0pk9rwvw0000gn/T/ipykernel_14492/2296241830.py:10: DtypeWarning: Columns (0,15,31) have mixed types. Specify dtype option on import or set low_memory=False.\n",
      "  for df in pd.read_csv(base_path, chunksize=chunk_size):\n"
     ]
    },
    {
     "name": "stdout",
     "output_type": "stream",
     "text": [
      "Processing, gz folder,  state: maharashtra, chunk 1000000\n",
      "Cleaning Data, processing last names\n"
     ]
    },
    {
     "name": "stderr",
     "output_type": "stream",
     "text": [
      "/var/folders/zm/1jsfy4n50pxgckvd0pk9rwvw0000gn/T/ipykernel_14492/2296241830.py:10: DtypeWarning: Columns (0,15,31) have mixed types. Specify dtype option on import or set low_memory=False.\n",
      "  for df in pd.read_csv(base_path, chunksize=chunk_size):\n"
     ]
    },
    {
     "name": "stdout",
     "output_type": "stream",
     "text": [
      "Processing, gz folder,  state: maharashtra, chunk 1000000\n",
      "Cleaning Data, processing last names\n"
     ]
    },
    {
     "name": "stderr",
     "output_type": "stream",
     "text": [
      "/var/folders/zm/1jsfy4n50pxgckvd0pk9rwvw0000gn/T/ipykernel_14492/2296241830.py:10: DtypeWarning: Columns (0,15,31) have mixed types. Specify dtype option on import or set low_memory=False.\n",
      "  for df in pd.read_csv(base_path, chunksize=chunk_size):\n"
     ]
    },
    {
     "name": "stdout",
     "output_type": "stream",
     "text": [
      "Processing, gz folder,  state: maharashtra, chunk 1000000\n",
      "Cleaning Data, processing last names\n"
     ]
    },
    {
     "name": "stderr",
     "output_type": "stream",
     "text": [
      "/var/folders/zm/1jsfy4n50pxgckvd0pk9rwvw0000gn/T/ipykernel_14492/2296241830.py:10: DtypeWarning: Columns (0,15,31) have mixed types. Specify dtype option on import or set low_memory=False.\n",
      "  for df in pd.read_csv(base_path, chunksize=chunk_size):\n"
     ]
    },
    {
     "name": "stdout",
     "output_type": "stream",
     "text": [
      "Processing, gz folder,  state: maharashtra, chunk 1000000\n",
      "Cleaning Data, processing last names\n"
     ]
    },
    {
     "name": "stderr",
     "output_type": "stream",
     "text": [
      "/var/folders/zm/1jsfy4n50pxgckvd0pk9rwvw0000gn/T/ipykernel_14492/2296241830.py:10: DtypeWarning: Columns (0,15,31) have mixed types. Specify dtype option on import or set low_memory=False.\n",
      "  for df in pd.read_csv(base_path, chunksize=chunk_size):\n"
     ]
    },
    {
     "name": "stdout",
     "output_type": "stream",
     "text": [
      "Processing, gz folder,  state: maharashtra, chunk 1000000\n",
      "Cleaning Data, processing last names\n"
     ]
    },
    {
     "name": "stderr",
     "output_type": "stream",
     "text": [
      "/var/folders/zm/1jsfy4n50pxgckvd0pk9rwvw0000gn/T/ipykernel_14492/2296241830.py:10: DtypeWarning: Columns (0,15,31) have mixed types. Specify dtype option on import or set low_memory=False.\n",
      "  for df in pd.read_csv(base_path, chunksize=chunk_size):\n"
     ]
    },
    {
     "name": "stdout",
     "output_type": "stream",
     "text": [
      "Processing, gz folder,  state: maharashtra, chunk 1000000\n",
      "Cleaning Data, processing last names\n"
     ]
    },
    {
     "name": "stderr",
     "output_type": "stream",
     "text": [
      "/var/folders/zm/1jsfy4n50pxgckvd0pk9rwvw0000gn/T/ipykernel_14492/2296241830.py:10: DtypeWarning: Columns (0,15,31) have mixed types. Specify dtype option on import or set low_memory=False.\n",
      "  for df in pd.read_csv(base_path, chunksize=chunk_size):\n"
     ]
    },
    {
     "name": "stdout",
     "output_type": "stream",
     "text": [
      "Processing, gz folder,  state: maharashtra, chunk 1000000\n",
      "Cleaning Data, processing last names\n"
     ]
    },
    {
     "name": "stderr",
     "output_type": "stream",
     "text": [
      "/var/folders/zm/1jsfy4n50pxgckvd0pk9rwvw0000gn/T/ipykernel_14492/2296241830.py:10: DtypeWarning: Columns (0,15,31) have mixed types. Specify dtype option on import or set low_memory=False.\n",
      "  for df in pd.read_csv(base_path, chunksize=chunk_size):\n"
     ]
    },
    {
     "name": "stdout",
     "output_type": "stream",
     "text": [
      "Processing, gz folder,  state: maharashtra, chunk 1000000\n",
      "Cleaning Data, processing last names\n"
     ]
    },
    {
     "name": "stderr",
     "output_type": "stream",
     "text": [
      "/var/folders/zm/1jsfy4n50pxgckvd0pk9rwvw0000gn/T/ipykernel_14492/2296241830.py:10: DtypeWarning: Columns (0,14,30) have mixed types. Specify dtype option on import or set low_memory=False.\n",
      "  for df in pd.read_csv(base_path, chunksize=chunk_size):\n"
     ]
    },
    {
     "name": "stdout",
     "output_type": "stream",
     "text": [
      "Processing, gz folder,  state: maharashtra, chunk 1000000\n",
      "Cleaning Data, processing last names\n"
     ]
    },
    {
     "name": "stderr",
     "output_type": "stream",
     "text": [
      "/var/folders/zm/1jsfy4n50pxgckvd0pk9rwvw0000gn/T/ipykernel_14492/2296241830.py:10: DtypeWarning: Columns (0,15,31) have mixed types. Specify dtype option on import or set low_memory=False.\n",
      "  for df in pd.read_csv(base_path, chunksize=chunk_size):\n"
     ]
    },
    {
     "name": "stdout",
     "output_type": "stream",
     "text": [
      "Processing, gz folder,  state: maharashtra, chunk 1000000\n",
      "Cleaning Data, processing last names\n"
     ]
    },
    {
     "name": "stderr",
     "output_type": "stream",
     "text": [
      "/var/folders/zm/1jsfy4n50pxgckvd0pk9rwvw0000gn/T/ipykernel_14492/2296241830.py:10: DtypeWarning: Columns (0,15,31) have mixed types. Specify dtype option on import or set low_memory=False.\n",
      "  for df in pd.read_csv(base_path, chunksize=chunk_size):\n"
     ]
    },
    {
     "name": "stdout",
     "output_type": "stream",
     "text": [
      "Processing, gz folder,  state: maharashtra, chunk 1000000\n",
      "Cleaning Data, processing last names\n"
     ]
    },
    {
     "name": "stderr",
     "output_type": "stream",
     "text": [
      "/var/folders/zm/1jsfy4n50pxgckvd0pk9rwvw0000gn/T/ipykernel_14492/2296241830.py:10: DtypeWarning: Columns (0,15,31) have mixed types. Specify dtype option on import or set low_memory=False.\n",
      "  for df in pd.read_csv(base_path, chunksize=chunk_size):\n"
     ]
    },
    {
     "name": "stdout",
     "output_type": "stream",
     "text": [
      "Processing, gz folder,  state: maharashtra, chunk 1000000\n",
      "Cleaning Data, processing last names\n"
     ]
    },
    {
     "name": "stderr",
     "output_type": "stream",
     "text": [
      "/var/folders/zm/1jsfy4n50pxgckvd0pk9rwvw0000gn/T/ipykernel_14492/2296241830.py:10: DtypeWarning: Columns (0,15,31) have mixed types. Specify dtype option on import or set low_memory=False.\n",
      "  for df in pd.read_csv(base_path, chunksize=chunk_size):\n"
     ]
    },
    {
     "name": "stdout",
     "output_type": "stream",
     "text": [
      "Processing, gz folder,  state: maharashtra, chunk 1000000\n",
      "Cleaning Data, processing last names\n"
     ]
    },
    {
     "name": "stderr",
     "output_type": "stream",
     "text": [
      "/var/folders/zm/1jsfy4n50pxgckvd0pk9rwvw0000gn/T/ipykernel_14492/2296241830.py:10: DtypeWarning: Columns (0,15,31) have mixed types. Specify dtype option on import or set low_memory=False.\n",
      "  for df in pd.read_csv(base_path, chunksize=chunk_size):\n"
     ]
    },
    {
     "name": "stdout",
     "output_type": "stream",
     "text": [
      "Processing, gz folder,  state: maharashtra, chunk 1000000\n",
      "Cleaning Data, processing last names\n"
     ]
    },
    {
     "name": "stderr",
     "output_type": "stream",
     "text": [
      "/var/folders/zm/1jsfy4n50pxgckvd0pk9rwvw0000gn/T/ipykernel_14492/2296241830.py:10: DtypeWarning: Columns (0,15,31) have mixed types. Specify dtype option on import or set low_memory=False.\n",
      "  for df in pd.read_csv(base_path, chunksize=chunk_size):\n"
     ]
    },
    {
     "name": "stdout",
     "output_type": "stream",
     "text": [
      "Processing, gz folder,  state: maharashtra, chunk 1000000\n",
      "Cleaning Data, processing last names\n"
     ]
    },
    {
     "name": "stderr",
     "output_type": "stream",
     "text": [
      "/var/folders/zm/1jsfy4n50pxgckvd0pk9rwvw0000gn/T/ipykernel_14492/2296241830.py:10: DtypeWarning: Columns (0,15,31) have mixed types. Specify dtype option on import or set low_memory=False.\n",
      "  for df in pd.read_csv(base_path, chunksize=chunk_size):\n"
     ]
    },
    {
     "name": "stdout",
     "output_type": "stream",
     "text": [
      "Processing, gz folder,  state: maharashtra, chunk 1000000\n",
      "Cleaning Data, processing last names\n"
     ]
    },
    {
     "name": "stderr",
     "output_type": "stream",
     "text": [
      "/var/folders/zm/1jsfy4n50pxgckvd0pk9rwvw0000gn/T/ipykernel_14492/2296241830.py:10: DtypeWarning: Columns (0,15,31) have mixed types. Specify dtype option on import or set low_memory=False.\n",
      "  for df in pd.read_csv(base_path, chunksize=chunk_size):\n"
     ]
    },
    {
     "name": "stdout",
     "output_type": "stream",
     "text": [
      "Processing, gz folder,  state: maharashtra, chunk 1000000\n",
      "Cleaning Data, processing last names\n"
     ]
    },
    {
     "name": "stderr",
     "output_type": "stream",
     "text": [
      "/var/folders/zm/1jsfy4n50pxgckvd0pk9rwvw0000gn/T/ipykernel_14492/2296241830.py:10: DtypeWarning: Columns (0,15,31) have mixed types. Specify dtype option on import or set low_memory=False.\n",
      "  for df in pd.read_csv(base_path, chunksize=chunk_size):\n"
     ]
    },
    {
     "name": "stdout",
     "output_type": "stream",
     "text": [
      "Processing, gz folder,  state: maharashtra, chunk 1000000\n",
      "Cleaning Data, processing last names\n"
     ]
    },
    {
     "name": "stderr",
     "output_type": "stream",
     "text": [
      "/var/folders/zm/1jsfy4n50pxgckvd0pk9rwvw0000gn/T/ipykernel_14492/2296241830.py:10: DtypeWarning: Columns (0,15,31) have mixed types. Specify dtype option on import or set low_memory=False.\n",
      "  for df in pd.read_csv(base_path, chunksize=chunk_size):\n"
     ]
    },
    {
     "name": "stdout",
     "output_type": "stream",
     "text": [
      "Processing, gz folder,  state: maharashtra, chunk 1000000\n",
      "Cleaning Data, processing last names\n"
     ]
    },
    {
     "name": "stderr",
     "output_type": "stream",
     "text": [
      "/var/folders/zm/1jsfy4n50pxgckvd0pk9rwvw0000gn/T/ipykernel_14492/2296241830.py:10: DtypeWarning: Columns (0,15,31) have mixed types. Specify dtype option on import or set low_memory=False.\n",
      "  for df in pd.read_csv(base_path, chunksize=chunk_size):\n"
     ]
    },
    {
     "name": "stdout",
     "output_type": "stream",
     "text": [
      "Processing, gz folder,  state: maharashtra, chunk 1000000\n",
      "Cleaning Data, processing last names\n"
     ]
    },
    {
     "name": "stderr",
     "output_type": "stream",
     "text": [
      "/var/folders/zm/1jsfy4n50pxgckvd0pk9rwvw0000gn/T/ipykernel_14492/2296241830.py:10: DtypeWarning: Columns (0,15,31) have mixed types. Specify dtype option on import or set low_memory=False.\n",
      "  for df in pd.read_csv(base_path, chunksize=chunk_size):\n"
     ]
    },
    {
     "name": "stdout",
     "output_type": "stream",
     "text": [
      "Processing, gz folder,  state: maharashtra, chunk 1000000\n",
      "Cleaning Data, processing last names\n"
     ]
    },
    {
     "name": "stderr",
     "output_type": "stream",
     "text": [
      "/var/folders/zm/1jsfy4n50pxgckvd0pk9rwvw0000gn/T/ipykernel_14492/2296241830.py:10: DtypeWarning: Columns (0,15,31) have mixed types. Specify dtype option on import or set low_memory=False.\n",
      "  for df in pd.read_csv(base_path, chunksize=chunk_size):\n"
     ]
    },
    {
     "name": "stdout",
     "output_type": "stream",
     "text": [
      "Processing, gz folder,  state: maharashtra, chunk 1000000\n",
      "Cleaning Data, processing last names\n"
     ]
    },
    {
     "name": "stderr",
     "output_type": "stream",
     "text": [
      "/var/folders/zm/1jsfy4n50pxgckvd0pk9rwvw0000gn/T/ipykernel_14492/2296241830.py:10: DtypeWarning: Columns (0,15,31) have mixed types. Specify dtype option on import or set low_memory=False.\n",
      "  for df in pd.read_csv(base_path, chunksize=chunk_size):\n"
     ]
    },
    {
     "name": "stdout",
     "output_type": "stream",
     "text": [
      "Processing, gz folder,  state: maharashtra, chunk 1000000\n",
      "Cleaning Data, processing last names\n"
     ]
    },
    {
     "name": "stderr",
     "output_type": "stream",
     "text": [
      "/var/folders/zm/1jsfy4n50pxgckvd0pk9rwvw0000gn/T/ipykernel_14492/2296241830.py:10: DtypeWarning: Columns (0,15,31) have mixed types. Specify dtype option on import or set low_memory=False.\n",
      "  for df in pd.read_csv(base_path, chunksize=chunk_size):\n"
     ]
    },
    {
     "name": "stdout",
     "output_type": "stream",
     "text": [
      "Processing, gz folder,  state: maharashtra, chunk 1000000\n",
      "Cleaning Data, processing last names\n"
     ]
    },
    {
     "name": "stderr",
     "output_type": "stream",
     "text": [
      "/var/folders/zm/1jsfy4n50pxgckvd0pk9rwvw0000gn/T/ipykernel_14492/2296241830.py:10: DtypeWarning: Columns (0,14,15,30,31) have mixed types. Specify dtype option on import or set low_memory=False.\n",
      "  for df in pd.read_csv(base_path, chunksize=chunk_size):\n"
     ]
    },
    {
     "name": "stdout",
     "output_type": "stream",
     "text": [
      "Processing, gz folder,  state: maharashtra, chunk 1000000\n",
      "Cleaning Data, processing last names\n"
     ]
    },
    {
     "name": "stderr",
     "output_type": "stream",
     "text": [
      "/var/folders/zm/1jsfy4n50pxgckvd0pk9rwvw0000gn/T/ipykernel_14492/2296241830.py:10: DtypeWarning: Columns (0,15,31) have mixed types. Specify dtype option on import or set low_memory=False.\n",
      "  for df in pd.read_csv(base_path, chunksize=chunk_size):\n"
     ]
    },
    {
     "name": "stdout",
     "output_type": "stream",
     "text": [
      "Processing, gz folder,  state: maharashtra, chunk 1000000\n",
      "Cleaning Data, processing last names\n"
     ]
    },
    {
     "name": "stderr",
     "output_type": "stream",
     "text": [
      "/var/folders/zm/1jsfy4n50pxgckvd0pk9rwvw0000gn/T/ipykernel_14492/2296241830.py:10: DtypeWarning: Columns (0,15,31) have mixed types. Specify dtype option on import or set low_memory=False.\n",
      "  for df in pd.read_csv(base_path, chunksize=chunk_size):\n"
     ]
    },
    {
     "name": "stdout",
     "output_type": "stream",
     "text": [
      "Processing, gz folder,  state: maharashtra, chunk 1000000\n",
      "Cleaning Data, processing last names\n"
     ]
    },
    {
     "name": "stderr",
     "output_type": "stream",
     "text": [
      "/var/folders/zm/1jsfy4n50pxgckvd0pk9rwvw0000gn/T/ipykernel_14492/2296241830.py:10: DtypeWarning: Columns (0) have mixed types. Specify dtype option on import or set low_memory=False.\n",
      "  for df in pd.read_csv(base_path, chunksize=chunk_size):\n"
     ]
    },
    {
     "name": "stdout",
     "output_type": "stream",
     "text": [
      "Processing, gz folder,  state: maharashtra, chunk 1000000\n",
      "Cleaning Data, processing last names\n"
     ]
    },
    {
     "name": "stderr",
     "output_type": "stream",
     "text": [
      "/var/folders/zm/1jsfy4n50pxgckvd0pk9rwvw0000gn/T/ipykernel_14492/2296241830.py:10: DtypeWarning: Columns (0,14,15,30,31) have mixed types. Specify dtype option on import or set low_memory=False.\n",
      "  for df in pd.read_csv(base_path, chunksize=chunk_size):\n"
     ]
    },
    {
     "name": "stdout",
     "output_type": "stream",
     "text": [
      "Processing, gz folder,  state: maharashtra, chunk 1000000\n",
      "Cleaning Data, processing last names\n"
     ]
    },
    {
     "name": "stderr",
     "output_type": "stream",
     "text": [
      "/var/folders/zm/1jsfy4n50pxgckvd0pk9rwvw0000gn/T/ipykernel_14492/2296241830.py:10: DtypeWarning: Columns (0,15,31) have mixed types. Specify dtype option on import or set low_memory=False.\n",
      "  for df in pd.read_csv(base_path, chunksize=chunk_size):\n"
     ]
    },
    {
     "name": "stdout",
     "output_type": "stream",
     "text": [
      "Processing, gz folder,  state: maharashtra, chunk 1000000\n",
      "Cleaning Data, processing last names\n"
     ]
    },
    {
     "name": "stderr",
     "output_type": "stream",
     "text": [
      "/var/folders/zm/1jsfy4n50pxgckvd0pk9rwvw0000gn/T/ipykernel_14492/2296241830.py:10: DtypeWarning: Columns (0,15,31) have mixed types. Specify dtype option on import or set low_memory=False.\n",
      "  for df in pd.read_csv(base_path, chunksize=chunk_size):\n"
     ]
    },
    {
     "name": "stdout",
     "output_type": "stream",
     "text": [
      "Processing, gz folder,  state: maharashtra, chunk 1000000\n",
      "Cleaning Data, processing last names\n"
     ]
    },
    {
     "name": "stderr",
     "output_type": "stream",
     "text": [
      "/var/folders/zm/1jsfy4n50pxgckvd0pk9rwvw0000gn/T/ipykernel_14492/2296241830.py:10: DtypeWarning: Columns (0) have mixed types. Specify dtype option on import or set low_memory=False.\n",
      "  for df in pd.read_csv(base_path, chunksize=chunk_size):\n"
     ]
    },
    {
     "name": "stdout",
     "output_type": "stream",
     "text": [
      "Processing, gz folder,  state: maharashtra, chunk 1000000\n",
      "Cleaning Data, processing last names\n"
     ]
    },
    {
     "name": "stderr",
     "output_type": "stream",
     "text": [
      "/var/folders/zm/1jsfy4n50pxgckvd0pk9rwvw0000gn/T/ipykernel_14492/2296241830.py:10: DtypeWarning: Columns (0,14,15,30,31) have mixed types. Specify dtype option on import or set low_memory=False.\n",
      "  for df in pd.read_csv(base_path, chunksize=chunk_size):\n"
     ]
    },
    {
     "name": "stdout",
     "output_type": "stream",
     "text": [
      "Processing, gz folder,  state: maharashtra, chunk 1000000\n",
      "Cleaning Data, processing last names\n"
     ]
    },
    {
     "name": "stderr",
     "output_type": "stream",
     "text": [
      "/var/folders/zm/1jsfy4n50pxgckvd0pk9rwvw0000gn/T/ipykernel_14492/2296241830.py:10: DtypeWarning: Columns (0,15,21,31,35) have mixed types. Specify dtype option on import or set low_memory=False.\n",
      "  for df in pd.read_csv(base_path, chunksize=chunk_size):\n"
     ]
    },
    {
     "name": "stdout",
     "output_type": "stream",
     "text": [
      "Processing, gz folder,  state: maharashtra, chunk 1000000\n",
      "Cleaning Data, processing last names\n"
     ]
    },
    {
     "name": "stderr",
     "output_type": "stream",
     "text": [
      "/var/folders/zm/1jsfy4n50pxgckvd0pk9rwvw0000gn/T/ipykernel_14492/2296241830.py:10: DtypeWarning: Columns (0,15,21,31,35) have mixed types. Specify dtype option on import or set low_memory=False.\n",
      "  for df in pd.read_csv(base_path, chunksize=chunk_size):\n"
     ]
    },
    {
     "name": "stdout",
     "output_type": "stream",
     "text": [
      "Processing, gz folder,  state: maharashtra, chunk 1000000\n",
      "Cleaning Data, processing last names\n"
     ]
    },
    {
     "name": "stderr",
     "output_type": "stream",
     "text": [
      "/var/folders/zm/1jsfy4n50pxgckvd0pk9rwvw0000gn/T/ipykernel_14492/2296241830.py:10: DtypeWarning: Columns (0,15,31) have mixed types. Specify dtype option on import or set low_memory=False.\n",
      "  for df in pd.read_csv(base_path, chunksize=chunk_size):\n"
     ]
    },
    {
     "name": "stdout",
     "output_type": "stream",
     "text": [
      "Processing, gz folder,  state: maharashtra, chunk 1000000\n",
      "Cleaning Data, processing last names\n"
     ]
    },
    {
     "name": "stderr",
     "output_type": "stream",
     "text": [
      "/var/folders/zm/1jsfy4n50pxgckvd0pk9rwvw0000gn/T/ipykernel_14492/2296241830.py:10: DtypeWarning: Columns (0) have mixed types. Specify dtype option on import or set low_memory=False.\n",
      "  for df in pd.read_csv(base_path, chunksize=chunk_size):\n"
     ]
    },
    {
     "name": "stdout",
     "output_type": "stream",
     "text": [
      "Processing, gz folder,  state: maharashtra, chunk 1000000\n",
      "Cleaning Data, processing last names\n"
     ]
    },
    {
     "name": "stderr",
     "output_type": "stream",
     "text": [
      "/var/folders/zm/1jsfy4n50pxgckvd0pk9rwvw0000gn/T/ipykernel_14492/2296241830.py:10: DtypeWarning: Columns (0,14,21,30,35) have mixed types. Specify dtype option on import or set low_memory=False.\n",
      "  for df in pd.read_csv(base_path, chunksize=chunk_size):\n"
     ]
    },
    {
     "name": "stdout",
     "output_type": "stream",
     "text": [
      "Processing, gz folder,  state: maharashtra, chunk 1000000\n",
      "Cleaning Data, processing last names\n"
     ]
    },
    {
     "name": "stderr",
     "output_type": "stream",
     "text": [
      "/var/folders/zm/1jsfy4n50pxgckvd0pk9rwvw0000gn/T/ipykernel_14492/2296241830.py:10: DtypeWarning: Columns (0,14,20,21,30,34,35) have mixed types. Specify dtype option on import or set low_memory=False.\n",
      "  for df in pd.read_csv(base_path, chunksize=chunk_size):\n"
     ]
    },
    {
     "name": "stdout",
     "output_type": "stream",
     "text": [
      "Processing, gz folder,  state: maharashtra, chunk 1000000\n",
      "Cleaning Data, processing last names\n"
     ]
    },
    {
     "name": "stderr",
     "output_type": "stream",
     "text": [
      "/var/folders/zm/1jsfy4n50pxgckvd0pk9rwvw0000gn/T/ipykernel_14492/2296241830.py:10: DtypeWarning: Columns (0,14,21,30,35) have mixed types. Specify dtype option on import or set low_memory=False.\n",
      "  for df in pd.read_csv(base_path, chunksize=chunk_size):\n"
     ]
    },
    {
     "name": "stdout",
     "output_type": "stream",
     "text": [
      "Processing, gz folder,  state: maharashtra, chunk 1000000\n",
      "Cleaning Data, processing last names\n"
     ]
    },
    {
     "name": "stderr",
     "output_type": "stream",
     "text": [
      "/var/folders/zm/1jsfy4n50pxgckvd0pk9rwvw0000gn/T/ipykernel_14492/2296241830.py:10: DtypeWarning: Columns (0,14,20,21,30,34,35) have mixed types. Specify dtype option on import or set low_memory=False.\n",
      "  for df in pd.read_csv(base_path, chunksize=chunk_size):\n"
     ]
    },
    {
     "name": "stdout",
     "output_type": "stream",
     "text": [
      "Processing, gz folder,  state: maharashtra, chunk 1000000\n",
      "Cleaning Data, processing last names\n"
     ]
    },
    {
     "name": "stderr",
     "output_type": "stream",
     "text": [
      "/var/folders/zm/1jsfy4n50pxgckvd0pk9rwvw0000gn/T/ipykernel_14492/2296241830.py:10: DtypeWarning: Columns (0,14,21,30,35) have mixed types. Specify dtype option on import or set low_memory=False.\n",
      "  for df in pd.read_csv(base_path, chunksize=chunk_size):\n"
     ]
    },
    {
     "name": "stdout",
     "output_type": "stream",
     "text": [
      "Processing, gz folder,  state: maharashtra, chunk 1000000\n",
      "Cleaning Data, processing last names\n"
     ]
    },
    {
     "name": "stderr",
     "output_type": "stream",
     "text": [
      "/var/folders/zm/1jsfy4n50pxgckvd0pk9rwvw0000gn/T/ipykernel_14492/2296241830.py:10: DtypeWarning: Columns (0,21,35) have mixed types. Specify dtype option on import or set low_memory=False.\n",
      "  for df in pd.read_csv(base_path, chunksize=chunk_size):\n"
     ]
    },
    {
     "name": "stdout",
     "output_type": "stream",
     "text": [
      "Processing, gz folder,  state: maharashtra, chunk 1000000\n",
      "Cleaning Data, processing last names\n"
     ]
    },
    {
     "name": "stderr",
     "output_type": "stream",
     "text": [
      "/var/folders/zm/1jsfy4n50pxgckvd0pk9rwvw0000gn/T/ipykernel_14492/2296241830.py:10: DtypeWarning: Columns (0,14,20,21,30,34,35) have mixed types. Specify dtype option on import or set low_memory=False.\n",
      "  for df in pd.read_csv(base_path, chunksize=chunk_size):\n"
     ]
    },
    {
     "name": "stdout",
     "output_type": "stream",
     "text": [
      "Processing, gz folder,  state: maharashtra, chunk 1000000\n",
      "Cleaning Data, processing last names\n"
     ]
    },
    {
     "name": "stderr",
     "output_type": "stream",
     "text": [
      "/var/folders/zm/1jsfy4n50pxgckvd0pk9rwvw0000gn/T/ipykernel_14492/2296241830.py:10: DtypeWarning: Columns (0,14,21,30,35) have mixed types. Specify dtype option on import or set low_memory=False.\n",
      "  for df in pd.read_csv(base_path, chunksize=chunk_size):\n"
     ]
    },
    {
     "name": "stdout",
     "output_type": "stream",
     "text": [
      "Processing, gz folder,  state: maharashtra, chunk 1000000\n",
      "Cleaning Data, processing last names\n"
     ]
    },
    {
     "name": "stderr",
     "output_type": "stream",
     "text": [
      "/var/folders/zm/1jsfy4n50pxgckvd0pk9rwvw0000gn/T/ipykernel_14492/2296241830.py:10: DtypeWarning: Columns (0,20,21,34,35) have mixed types. Specify dtype option on import or set low_memory=False.\n",
      "  for df in pd.read_csv(base_path, chunksize=chunk_size):\n"
     ]
    },
    {
     "name": "stdout",
     "output_type": "stream",
     "text": [
      "Processing, gz folder,  state: maharashtra, chunk 1000000\n",
      "Cleaning Data, processing last names\n"
     ]
    },
    {
     "name": "stderr",
     "output_type": "stream",
     "text": [
      "/var/folders/zm/1jsfy4n50pxgckvd0pk9rwvw0000gn/T/ipykernel_14492/2296241830.py:10: DtypeWarning: Columns (0,14,15,30,31) have mixed types. Specify dtype option on import or set low_memory=False.\n",
      "  for df in pd.read_csv(base_path, chunksize=chunk_size):\n"
     ]
    },
    {
     "name": "stdout",
     "output_type": "stream",
     "text": [
      "Processing, gz folder,  state: maharashtra, chunk 1000000\n",
      "Cleaning Data, processing last names\n"
     ]
    },
    {
     "name": "stderr",
     "output_type": "stream",
     "text": [
      "/var/folders/zm/1jsfy4n50pxgckvd0pk9rwvw0000gn/T/ipykernel_14492/2296241830.py:10: DtypeWarning: Columns (0,15,31) have mixed types. Specify dtype option on import or set low_memory=False.\n",
      "  for df in pd.read_csv(base_path, chunksize=chunk_size):\n"
     ]
    },
    {
     "name": "stdout",
     "output_type": "stream",
     "text": [
      "Processing, gz folder,  state: maharashtra, chunk 1000000\n",
      "Cleaning Data, processing last names\n"
     ]
    },
    {
     "name": "stderr",
     "output_type": "stream",
     "text": [
      "/var/folders/zm/1jsfy4n50pxgckvd0pk9rwvw0000gn/T/ipykernel_14492/2296241830.py:10: DtypeWarning: Columns (0) have mixed types. Specify dtype option on import or set low_memory=False.\n",
      "  for df in pd.read_csv(base_path, chunksize=chunk_size):\n"
     ]
    },
    {
     "name": "stdout",
     "output_type": "stream",
     "text": [
      "Processing, gz folder,  state: maharashtra, chunk 1000000\n",
      "Cleaning Data, processing last names\n"
     ]
    },
    {
     "name": "stderr",
     "output_type": "stream",
     "text": [
      "/var/folders/zm/1jsfy4n50pxgckvd0pk9rwvw0000gn/T/ipykernel_14492/2296241830.py:10: DtypeWarning: Columns (0) have mixed types. Specify dtype option on import or set low_memory=False.\n",
      "  for df in pd.read_csv(base_path, chunksize=chunk_size):\n"
     ]
    },
    {
     "name": "stdout",
     "output_type": "stream",
     "text": [
      "Processing, gz folder,  state: maharashtra, chunk 1000000\n",
      "Cleaning Data, processing last names\n"
     ]
    },
    {
     "name": "stderr",
     "output_type": "stream",
     "text": [
      "/var/folders/zm/1jsfy4n50pxgckvd0pk9rwvw0000gn/T/ipykernel_14492/2296241830.py:10: DtypeWarning: Columns (0,15,31) have mixed types. Specify dtype option on import or set low_memory=False.\n",
      "  for df in pd.read_csv(base_path, chunksize=chunk_size):\n"
     ]
    },
    {
     "name": "stdout",
     "output_type": "stream",
     "text": [
      "Processing, gz folder,  state: maharashtra, chunk 1000000\n",
      "Cleaning Data, processing last names\n"
     ]
    },
    {
     "name": "stderr",
     "output_type": "stream",
     "text": [
      "/var/folders/zm/1jsfy4n50pxgckvd0pk9rwvw0000gn/T/ipykernel_14492/2296241830.py:10: DtypeWarning: Columns (0,15,31) have mixed types. Specify dtype option on import or set low_memory=False.\n",
      "  for df in pd.read_csv(base_path, chunksize=chunk_size):\n"
     ]
    },
    {
     "name": "stdout",
     "output_type": "stream",
     "text": [
      "Processing, gz folder,  state: maharashtra, chunk 1000000\n",
      "Cleaning Data, processing last names\n"
     ]
    },
    {
     "name": "stderr",
     "output_type": "stream",
     "text": [
      "/var/folders/zm/1jsfy4n50pxgckvd0pk9rwvw0000gn/T/ipykernel_14492/2296241830.py:10: DtypeWarning: Columns (0,15,31) have mixed types. Specify dtype option on import or set low_memory=False.\n",
      "  for df in pd.read_csv(base_path, chunksize=chunk_size):\n"
     ]
    },
    {
     "name": "stdout",
     "output_type": "stream",
     "text": [
      "Processing, gz folder,  state: maharashtra, chunk 1000000\n",
      "Cleaning Data, processing last names\n"
     ]
    },
    {
     "name": "stderr",
     "output_type": "stream",
     "text": [
      "/var/folders/zm/1jsfy4n50pxgckvd0pk9rwvw0000gn/T/ipykernel_14492/2296241830.py:10: DtypeWarning: Columns (0,14,30) have mixed types. Specify dtype option on import or set low_memory=False.\n",
      "  for df in pd.read_csv(base_path, chunksize=chunk_size):\n"
     ]
    },
    {
     "name": "stdout",
     "output_type": "stream",
     "text": [
      "Processing, gz folder,  state: maharashtra, chunk 1000000\n",
      "Cleaning Data, processing last names\n"
     ]
    },
    {
     "name": "stderr",
     "output_type": "stream",
     "text": [
      "/var/folders/zm/1jsfy4n50pxgckvd0pk9rwvw0000gn/T/ipykernel_14492/2296241830.py:10: DtypeWarning: Columns (0,14,30) have mixed types. Specify dtype option on import or set low_memory=False.\n",
      "  for df in pd.read_csv(base_path, chunksize=chunk_size):\n"
     ]
    },
    {
     "name": "stdout",
     "output_type": "stream",
     "text": [
      "Processing, gz folder,  state: maharashtra, chunk 1000000\n",
      "Cleaning Data, processing last names\n"
     ]
    },
    {
     "name": "stderr",
     "output_type": "stream",
     "text": [
      "/var/folders/zm/1jsfy4n50pxgckvd0pk9rwvw0000gn/T/ipykernel_14492/2296241830.py:10: DtypeWarning: Columns (0) have mixed types. Specify dtype option on import or set low_memory=False.\n",
      "  for df in pd.read_csv(base_path, chunksize=chunk_size):\n"
     ]
    },
    {
     "name": "stdout",
     "output_type": "stream",
     "text": [
      "Processing, gz folder,  state: maharashtra, chunk 1000000\n",
      "Cleaning Data, processing last names\n"
     ]
    },
    {
     "name": "stderr",
     "output_type": "stream",
     "text": [
      "/var/folders/zm/1jsfy4n50pxgckvd0pk9rwvw0000gn/T/ipykernel_14492/2296241830.py:10: DtypeWarning: Columns (0,15,31) have mixed types. Specify dtype option on import or set low_memory=False.\n",
      "  for df in pd.read_csv(base_path, chunksize=chunk_size):\n"
     ]
    },
    {
     "name": "stdout",
     "output_type": "stream",
     "text": [
      "Processing, gz folder,  state: maharashtra, chunk 1000000\n",
      "Cleaning Data, processing last names\n"
     ]
    },
    {
     "name": "stderr",
     "output_type": "stream",
     "text": [
      "/var/folders/zm/1jsfy4n50pxgckvd0pk9rwvw0000gn/T/ipykernel_14492/2296241830.py:10: DtypeWarning: Columns (0,15,31) have mixed types. Specify dtype option on import or set low_memory=False.\n",
      "  for df in pd.read_csv(base_path, chunksize=chunk_size):\n"
     ]
    },
    {
     "name": "stdout",
     "output_type": "stream",
     "text": [
      "Processing, gz folder,  state: maharashtra, chunk 1000000\n",
      "Cleaning Data, processing last names\n"
     ]
    },
    {
     "name": "stderr",
     "output_type": "stream",
     "text": [
      "/var/folders/zm/1jsfy4n50pxgckvd0pk9rwvw0000gn/T/ipykernel_14492/2296241830.py:10: DtypeWarning: Columns (0) have mixed types. Specify dtype option on import or set low_memory=False.\n",
      "  for df in pd.read_csv(base_path, chunksize=chunk_size):\n"
     ]
    },
    {
     "name": "stdout",
     "output_type": "stream",
     "text": [
      "Processing, gz folder,  state: maharashtra, chunk 1000000\n",
      "Cleaning Data, processing last names\n"
     ]
    },
    {
     "name": "stderr",
     "output_type": "stream",
     "text": [
      "/var/folders/zm/1jsfy4n50pxgckvd0pk9rwvw0000gn/T/ipykernel_14492/2296241830.py:10: DtypeWarning: Columns (0) have mixed types. Specify dtype option on import or set low_memory=False.\n",
      "  for df in pd.read_csv(base_path, chunksize=chunk_size):\n"
     ]
    },
    {
     "name": "stdout",
     "output_type": "stream",
     "text": [
      "Processing, gz folder,  state: maharashtra, chunk 1000000\n",
      "Cleaning Data, processing last names\n"
     ]
    },
    {
     "name": "stderr",
     "output_type": "stream",
     "text": [
      "/var/folders/zm/1jsfy4n50pxgckvd0pk9rwvw0000gn/T/ipykernel_14492/2296241830.py:10: DtypeWarning: Columns (0,15,31) have mixed types. Specify dtype option on import or set low_memory=False.\n",
      "  for df in pd.read_csv(base_path, chunksize=chunk_size):\n"
     ]
    },
    {
     "name": "stdout",
     "output_type": "stream",
     "text": [
      "Processing, gz folder,  state: maharashtra, chunk 1000000\n",
      "Cleaning Data, processing last names\n"
     ]
    },
    {
     "name": "stderr",
     "output_type": "stream",
     "text": [
      "/var/folders/zm/1jsfy4n50pxgckvd0pk9rwvw0000gn/T/ipykernel_14492/2296241830.py:10: DtypeWarning: Columns (0,15,31) have mixed types. Specify dtype option on import or set low_memory=False.\n",
      "  for df in pd.read_csv(base_path, chunksize=chunk_size):\n"
     ]
    },
    {
     "name": "stdout",
     "output_type": "stream",
     "text": [
      "Processing, gz folder,  state: maharashtra, chunk 1000000\n",
      "Cleaning Data, processing last names\n"
     ]
    },
    {
     "name": "stderr",
     "output_type": "stream",
     "text": [
      "/var/folders/zm/1jsfy4n50pxgckvd0pk9rwvw0000gn/T/ipykernel_14492/2296241830.py:10: DtypeWarning: Columns (0,15,31) have mixed types. Specify dtype option on import or set low_memory=False.\n",
      "  for df in pd.read_csv(base_path, chunksize=chunk_size):\n"
     ]
    },
    {
     "name": "stdout",
     "output_type": "stream",
     "text": [
      "Processing, gz folder,  state: maharashtra, chunk 1000000\n",
      "Cleaning Data, processing last names\n"
     ]
    },
    {
     "name": "stderr",
     "output_type": "stream",
     "text": [
      "/var/folders/zm/1jsfy4n50pxgckvd0pk9rwvw0000gn/T/ipykernel_14492/2296241830.py:10: DtypeWarning: Columns (0,15,31) have mixed types. Specify dtype option on import or set low_memory=False.\n",
      "  for df in pd.read_csv(base_path, chunksize=chunk_size):\n"
     ]
    },
    {
     "name": "stdout",
     "output_type": "stream",
     "text": [
      "Processing, gz folder,  state: maharashtra, chunk 1000000\n",
      "Cleaning Data, processing last names\n"
     ]
    },
    {
     "name": "stderr",
     "output_type": "stream",
     "text": [
      "/var/folders/zm/1jsfy4n50pxgckvd0pk9rwvw0000gn/T/ipykernel_14492/2296241830.py:10: DtypeWarning: Columns (0,15,31) have mixed types. Specify dtype option on import or set low_memory=False.\n",
      "  for df in pd.read_csv(base_path, chunksize=chunk_size):\n"
     ]
    },
    {
     "name": "stdout",
     "output_type": "stream",
     "text": [
      "Processing, gz folder,  state: maharashtra, chunk 1000000\n",
      "Cleaning Data, processing last names\n"
     ]
    },
    {
     "name": "stderr",
     "output_type": "stream",
     "text": [
      "/var/folders/zm/1jsfy4n50pxgckvd0pk9rwvw0000gn/T/ipykernel_14492/2296241830.py:10: DtypeWarning: Columns (0,15,31) have mixed types. Specify dtype option on import or set low_memory=False.\n",
      "  for df in pd.read_csv(base_path, chunksize=chunk_size):\n"
     ]
    },
    {
     "name": "stdout",
     "output_type": "stream",
     "text": [
      "Processing, gz folder,  state: maharashtra, chunk 1000000\n",
      "Cleaning Data, processing last names\n"
     ]
    },
    {
     "name": "stderr",
     "output_type": "stream",
     "text": [
      "/var/folders/zm/1jsfy4n50pxgckvd0pk9rwvw0000gn/T/ipykernel_14492/2296241830.py:10: DtypeWarning: Columns (0,15,31) have mixed types. Specify dtype option on import or set low_memory=False.\n",
      "  for df in pd.read_csv(base_path, chunksize=chunk_size):\n"
     ]
    },
    {
     "name": "stdout",
     "output_type": "stream",
     "text": [
      "Processing, gz folder,  state: maharashtra, chunk 1000000\n",
      "Cleaning Data, processing last names\n"
     ]
    },
    {
     "name": "stderr",
     "output_type": "stream",
     "text": [
      "/var/folders/zm/1jsfy4n50pxgckvd0pk9rwvw0000gn/T/ipykernel_14492/2296241830.py:10: DtypeWarning: Columns (0,15,31) have mixed types. Specify dtype option on import or set low_memory=False.\n",
      "  for df in pd.read_csv(base_path, chunksize=chunk_size):\n"
     ]
    },
    {
     "name": "stdout",
     "output_type": "stream",
     "text": [
      "Processing, gz folder,  state: maharashtra, chunk 1000000\n",
      "Cleaning Data, processing last names\n"
     ]
    },
    {
     "name": "stderr",
     "output_type": "stream",
     "text": [
      "/var/folders/zm/1jsfy4n50pxgckvd0pk9rwvw0000gn/T/ipykernel_14492/2296241830.py:10: DtypeWarning: Columns (0,15,31) have mixed types. Specify dtype option on import or set low_memory=False.\n",
      "  for df in pd.read_csv(base_path, chunksize=chunk_size):\n"
     ]
    },
    {
     "name": "stdout",
     "output_type": "stream",
     "text": [
      "Processing, gz folder,  state: maharashtra, chunk 1000000\n",
      "Cleaning Data, processing last names\n"
     ]
    },
    {
     "name": "stderr",
     "output_type": "stream",
     "text": [
      "/var/folders/zm/1jsfy4n50pxgckvd0pk9rwvw0000gn/T/ipykernel_14492/2296241830.py:10: DtypeWarning: Columns (0,15,31) have mixed types. Specify dtype option on import or set low_memory=False.\n",
      "  for df in pd.read_csv(base_path, chunksize=chunk_size):\n"
     ]
    },
    {
     "name": "stdout",
     "output_type": "stream",
     "text": [
      "Processing, gz folder,  state: maharashtra, chunk 1000000\n",
      "Cleaning Data, processing last names\n"
     ]
    },
    {
     "name": "stderr",
     "output_type": "stream",
     "text": [
      "/var/folders/zm/1jsfy4n50pxgckvd0pk9rwvw0000gn/T/ipykernel_14492/2296241830.py:10: DtypeWarning: Columns (0,15,31) have mixed types. Specify dtype option on import or set low_memory=False.\n",
      "  for df in pd.read_csv(base_path, chunksize=chunk_size):\n"
     ]
    },
    {
     "name": "stdout",
     "output_type": "stream",
     "text": [
      "Processing, gz folder,  state: maharashtra, chunk 1000000\n",
      "Cleaning Data, processing last names\n"
     ]
    },
    {
     "name": "stderr",
     "output_type": "stream",
     "text": [
      "/var/folders/zm/1jsfy4n50pxgckvd0pk9rwvw0000gn/T/ipykernel_14492/2296241830.py:10: DtypeWarning: Columns (0) have mixed types. Specify dtype option on import or set low_memory=False.\n",
      "  for df in pd.read_csv(base_path, chunksize=chunk_size):\n"
     ]
    },
    {
     "name": "stdout",
     "output_type": "stream",
     "text": [
      "Processing, gz folder,  state: maharashtra, chunk 1000000\n",
      "Cleaning Data, processing last names\n"
     ]
    },
    {
     "name": "stderr",
     "output_type": "stream",
     "text": [
      "/var/folders/zm/1jsfy4n50pxgckvd0pk9rwvw0000gn/T/ipykernel_14492/2296241830.py:10: DtypeWarning: Columns (0,15,31) have mixed types. Specify dtype option on import or set low_memory=False.\n",
      "  for df in pd.read_csv(base_path, chunksize=chunk_size):\n"
     ]
    },
    {
     "name": "stdout",
     "output_type": "stream",
     "text": [
      "Processing, gz folder,  state: maharashtra, chunk 1000000\n",
      "Cleaning Data, processing last names\n"
     ]
    },
    {
     "name": "stderr",
     "output_type": "stream",
     "text": [
      "/var/folders/zm/1jsfy4n50pxgckvd0pk9rwvw0000gn/T/ipykernel_14492/2296241830.py:10: DtypeWarning: Columns (0,15,31) have mixed types. Specify dtype option on import or set low_memory=False.\n",
      "  for df in pd.read_csv(base_path, chunksize=chunk_size):\n"
     ]
    },
    {
     "name": "stdout",
     "output_type": "stream",
     "text": [
      "Processing, gz folder,  state: maharashtra, chunk 1000000\n",
      "Cleaning Data, processing last names\n"
     ]
    },
    {
     "name": "stderr",
     "output_type": "stream",
     "text": [
      "/var/folders/zm/1jsfy4n50pxgckvd0pk9rwvw0000gn/T/ipykernel_14492/2296241830.py:10: DtypeWarning: Columns (0,15,31) have mixed types. Specify dtype option on import or set low_memory=False.\n",
      "  for df in pd.read_csv(base_path, chunksize=chunk_size):\n"
     ]
    },
    {
     "name": "stdout",
     "output_type": "stream",
     "text": [
      "Processing, gz folder,  state: maharashtra, chunk 1000000\n",
      "Cleaning Data, processing last names\n"
     ]
    },
    {
     "name": "stderr",
     "output_type": "stream",
     "text": [
      "/var/folders/zm/1jsfy4n50pxgckvd0pk9rwvw0000gn/T/ipykernel_14492/2296241830.py:10: DtypeWarning: Columns (0,15,31) have mixed types. Specify dtype option on import or set low_memory=False.\n",
      "  for df in pd.read_csv(base_path, chunksize=chunk_size):\n"
     ]
    },
    {
     "name": "stdout",
     "output_type": "stream",
     "text": [
      "Processing, gz folder,  state: maharashtra, chunk 1000000\n",
      "Cleaning Data, processing last names\n"
     ]
    },
    {
     "name": "stderr",
     "output_type": "stream",
     "text": [
      "/var/folders/zm/1jsfy4n50pxgckvd0pk9rwvw0000gn/T/ipykernel_14492/2296241830.py:10: DtypeWarning: Columns (0,15,31) have mixed types. Specify dtype option on import or set low_memory=False.\n",
      "  for df in pd.read_csv(base_path, chunksize=chunk_size):\n"
     ]
    },
    {
     "name": "stdout",
     "output_type": "stream",
     "text": [
      "Processing, gz folder,  state: maharashtra, chunk 1000000\n",
      "Cleaning Data, processing last names\n"
     ]
    },
    {
     "name": "stderr",
     "output_type": "stream",
     "text": [
      "/var/folders/zm/1jsfy4n50pxgckvd0pk9rwvw0000gn/T/ipykernel_14492/2296241830.py:10: DtypeWarning: Columns (0) have mixed types. Specify dtype option on import or set low_memory=False.\n",
      "  for df in pd.read_csv(base_path, chunksize=chunk_size):\n"
     ]
    },
    {
     "name": "stdout",
     "output_type": "stream",
     "text": [
      "Processing, gz folder,  state: maharashtra, chunk 1000000\n",
      "Cleaning Data, processing last names\n"
     ]
    },
    {
     "name": "stderr",
     "output_type": "stream",
     "text": [
      "/var/folders/zm/1jsfy4n50pxgckvd0pk9rwvw0000gn/T/ipykernel_14492/2296241830.py:10: DtypeWarning: Columns (0,17,34) have mixed types. Specify dtype option on import or set low_memory=False.\n",
      "  for df in pd.read_csv(base_path, chunksize=chunk_size):\n"
     ]
    },
    {
     "name": "stdout",
     "output_type": "stream",
     "text": [
      "Processing, gz folder,  state: mp, chunk 1000000\n",
      "Cleaning Data, processing last names\n"
     ]
    },
    {
     "name": "stderr",
     "output_type": "stream",
     "text": [
      "/var/folders/zm/1jsfy4n50pxgckvd0pk9rwvw0000gn/T/ipykernel_14492/2296241830.py:10: DtypeWarning: Columns (0,17,34) have mixed types. Specify dtype option on import or set low_memory=False.\n",
      "  for df in pd.read_csv(base_path, chunksize=chunk_size):\n"
     ]
    },
    {
     "name": "stdout",
     "output_type": "stream",
     "text": [
      "Processing, gz folder,  state: mp, chunk 1000000\n",
      "Cleaning Data, processing last names\n"
     ]
    },
    {
     "name": "stderr",
     "output_type": "stream",
     "text": [
      "/var/folders/zm/1jsfy4n50pxgckvd0pk9rwvw0000gn/T/ipykernel_14492/2296241830.py:10: DtypeWarning: Columns (0,17,34) have mixed types. Specify dtype option on import or set low_memory=False.\n",
      "  for df in pd.read_csv(base_path, chunksize=chunk_size):\n"
     ]
    },
    {
     "name": "stdout",
     "output_type": "stream",
     "text": [
      "Processing, gz folder,  state: mp, chunk 1000000\n",
      "Cleaning Data, processing last names\n"
     ]
    },
    {
     "name": "stderr",
     "output_type": "stream",
     "text": [
      "/var/folders/zm/1jsfy4n50pxgckvd0pk9rwvw0000gn/T/ipykernel_14492/2296241830.py:10: DtypeWarning: Columns (0,17,34) have mixed types. Specify dtype option on import or set low_memory=False.\n",
      "  for df in pd.read_csv(base_path, chunksize=chunk_size):\n"
     ]
    },
    {
     "name": "stdout",
     "output_type": "stream",
     "text": [
      "Processing, gz folder,  state: mp, chunk 1000000\n",
      "Cleaning Data, processing last names\n"
     ]
    },
    {
     "name": "stderr",
     "output_type": "stream",
     "text": [
      "/var/folders/zm/1jsfy4n50pxgckvd0pk9rwvw0000gn/T/ipykernel_14492/2296241830.py:10: DtypeWarning: Columns (0,17,34) have mixed types. Specify dtype option on import or set low_memory=False.\n",
      "  for df in pd.read_csv(base_path, chunksize=chunk_size):\n"
     ]
    },
    {
     "name": "stdout",
     "output_type": "stream",
     "text": [
      "Processing, gz folder,  state: mp, chunk 1000000\n",
      "Cleaning Data, processing last names\n"
     ]
    },
    {
     "name": "stderr",
     "output_type": "stream",
     "text": [
      "/var/folders/zm/1jsfy4n50pxgckvd0pk9rwvw0000gn/T/ipykernel_14492/2296241830.py:10: DtypeWarning: Columns (0,17,34) have mixed types. Specify dtype option on import or set low_memory=False.\n",
      "  for df in pd.read_csv(base_path, chunksize=chunk_size):\n"
     ]
    },
    {
     "name": "stdout",
     "output_type": "stream",
     "text": [
      "Processing, gz folder,  state: mp, chunk 1000000\n",
      "Cleaning Data, processing last names\n"
     ]
    },
    {
     "name": "stderr",
     "output_type": "stream",
     "text": [
      "/var/folders/zm/1jsfy4n50pxgckvd0pk9rwvw0000gn/T/ipykernel_14492/2296241830.py:10: DtypeWarning: Columns (0,17,34) have mixed types. Specify dtype option on import or set low_memory=False.\n",
      "  for df in pd.read_csv(base_path, chunksize=chunk_size):\n"
     ]
    },
    {
     "name": "stdout",
     "output_type": "stream",
     "text": [
      "Processing, gz folder,  state: mp, chunk 1000000\n",
      "Cleaning Data, processing last names\n"
     ]
    },
    {
     "name": "stderr",
     "output_type": "stream",
     "text": [
      "/var/folders/zm/1jsfy4n50pxgckvd0pk9rwvw0000gn/T/ipykernel_14492/2296241830.py:10: DtypeWarning: Columns (0,17,34) have mixed types. Specify dtype option on import or set low_memory=False.\n",
      "  for df in pd.read_csv(base_path, chunksize=chunk_size):\n"
     ]
    },
    {
     "name": "stdout",
     "output_type": "stream",
     "text": [
      "Processing, gz folder,  state: mp, chunk 1000000\n",
      "Cleaning Data, processing last names\n"
     ]
    },
    {
     "name": "stderr",
     "output_type": "stream",
     "text": [
      "/var/folders/zm/1jsfy4n50pxgckvd0pk9rwvw0000gn/T/ipykernel_14492/2296241830.py:10: DtypeWarning: Columns (0,17,34) have mixed types. Specify dtype option on import or set low_memory=False.\n",
      "  for df in pd.read_csv(base_path, chunksize=chunk_size):\n"
     ]
    },
    {
     "name": "stdout",
     "output_type": "stream",
     "text": [
      "Processing, gz folder,  state: mp, chunk 1000000\n",
      "Cleaning Data, processing last names\n"
     ]
    },
    {
     "name": "stderr",
     "output_type": "stream",
     "text": [
      "/var/folders/zm/1jsfy4n50pxgckvd0pk9rwvw0000gn/T/ipykernel_14492/2296241830.py:10: DtypeWarning: Columns (0,17,34) have mixed types. Specify dtype option on import or set low_memory=False.\n",
      "  for df in pd.read_csv(base_path, chunksize=chunk_size):\n"
     ]
    },
    {
     "name": "stdout",
     "output_type": "stream",
     "text": [
      "Processing, gz folder,  state: mp, chunk 1000000\n",
      "Cleaning Data, processing last names\n"
     ]
    },
    {
     "name": "stderr",
     "output_type": "stream",
     "text": [
      "/var/folders/zm/1jsfy4n50pxgckvd0pk9rwvw0000gn/T/ipykernel_14492/2296241830.py:10: DtypeWarning: Columns (0,17,34) have mixed types. Specify dtype option on import or set low_memory=False.\n",
      "  for df in pd.read_csv(base_path, chunksize=chunk_size):\n"
     ]
    },
    {
     "name": "stdout",
     "output_type": "stream",
     "text": [
      "Processing, gz folder,  state: mp, chunk 1000000\n",
      "Cleaning Data, processing last names\n"
     ]
    },
    {
     "name": "stderr",
     "output_type": "stream",
     "text": [
      "/var/folders/zm/1jsfy4n50pxgckvd0pk9rwvw0000gn/T/ipykernel_14492/2296241830.py:10: DtypeWarning: Columns (0,17,34) have mixed types. Specify dtype option on import or set low_memory=False.\n",
      "  for df in pd.read_csv(base_path, chunksize=chunk_size):\n"
     ]
    },
    {
     "name": "stdout",
     "output_type": "stream",
     "text": [
      "Processing, gz folder,  state: mp, chunk 1000000\n",
      "Cleaning Data, processing last names\n"
     ]
    },
    {
     "name": "stderr",
     "output_type": "stream",
     "text": [
      "/var/folders/zm/1jsfy4n50pxgckvd0pk9rwvw0000gn/T/ipykernel_14492/2296241830.py:10: DtypeWarning: Columns (0,17,34) have mixed types. Specify dtype option on import or set low_memory=False.\n",
      "  for df in pd.read_csv(base_path, chunksize=chunk_size):\n"
     ]
    },
    {
     "name": "stdout",
     "output_type": "stream",
     "text": [
      "Processing, gz folder,  state: mp, chunk 1000000\n",
      "Cleaning Data, processing last names\n"
     ]
    },
    {
     "name": "stderr",
     "output_type": "stream",
     "text": [
      "/var/folders/zm/1jsfy4n50pxgckvd0pk9rwvw0000gn/T/ipykernel_14492/2296241830.py:10: DtypeWarning: Columns (0,17,34) have mixed types. Specify dtype option on import or set low_memory=False.\n",
      "  for df in pd.read_csv(base_path, chunksize=chunk_size):\n"
     ]
    },
    {
     "name": "stdout",
     "output_type": "stream",
     "text": [
      "Processing, gz folder,  state: mp, chunk 1000000\n",
      "Cleaning Data, processing last names\n"
     ]
    },
    {
     "name": "stderr",
     "output_type": "stream",
     "text": [
      "/var/folders/zm/1jsfy4n50pxgckvd0pk9rwvw0000gn/T/ipykernel_14492/2296241830.py:10: DtypeWarning: Columns (0,17,34) have mixed types. Specify dtype option on import or set low_memory=False.\n",
      "  for df in pd.read_csv(base_path, chunksize=chunk_size):\n"
     ]
    },
    {
     "name": "stdout",
     "output_type": "stream",
     "text": [
      "Processing, gz folder,  state: mp, chunk 1000000\n",
      "Cleaning Data, processing last names\n"
     ]
    },
    {
     "name": "stderr",
     "output_type": "stream",
     "text": [
      "/var/folders/zm/1jsfy4n50pxgckvd0pk9rwvw0000gn/T/ipykernel_14492/2296241830.py:10: DtypeWarning: Columns (0,17,34) have mixed types. Specify dtype option on import or set low_memory=False.\n",
      "  for df in pd.read_csv(base_path, chunksize=chunk_size):\n"
     ]
    },
    {
     "name": "stdout",
     "output_type": "stream",
     "text": [
      "Processing, gz folder,  state: mp, chunk 1000000\n",
      "Cleaning Data, processing last names\n"
     ]
    },
    {
     "name": "stderr",
     "output_type": "stream",
     "text": [
      "/var/folders/zm/1jsfy4n50pxgckvd0pk9rwvw0000gn/T/ipykernel_14492/2296241830.py:10: DtypeWarning: Columns (0,17,34) have mixed types. Specify dtype option on import or set low_memory=False.\n",
      "  for df in pd.read_csv(base_path, chunksize=chunk_size):\n"
     ]
    },
    {
     "name": "stdout",
     "output_type": "stream",
     "text": [
      "Processing, gz folder,  state: mp, chunk 1000000\n",
      "Cleaning Data, processing last names\n"
     ]
    },
    {
     "name": "stderr",
     "output_type": "stream",
     "text": [
      "/var/folders/zm/1jsfy4n50pxgckvd0pk9rwvw0000gn/T/ipykernel_14492/2296241830.py:10: DtypeWarning: Columns (0,17,34) have mixed types. Specify dtype option on import or set low_memory=False.\n",
      "  for df in pd.read_csv(base_path, chunksize=chunk_size):\n"
     ]
    },
    {
     "name": "stdout",
     "output_type": "stream",
     "text": [
      "Processing, gz folder,  state: mp, chunk 1000000\n",
      "Cleaning Data, processing last names\n"
     ]
    },
    {
     "name": "stderr",
     "output_type": "stream",
     "text": [
      "/var/folders/zm/1jsfy4n50pxgckvd0pk9rwvw0000gn/T/ipykernel_14492/2296241830.py:10: DtypeWarning: Columns (0,17,34) have mixed types. Specify dtype option on import or set low_memory=False.\n",
      "  for df in pd.read_csv(base_path, chunksize=chunk_size):\n"
     ]
    },
    {
     "name": "stdout",
     "output_type": "stream",
     "text": [
      "Processing, gz folder,  state: mp, chunk 1000000\n",
      "Cleaning Data, processing last names\n"
     ]
    },
    {
     "name": "stderr",
     "output_type": "stream",
     "text": [
      "/var/folders/zm/1jsfy4n50pxgckvd0pk9rwvw0000gn/T/ipykernel_14492/2296241830.py:10: DtypeWarning: Columns (0,17,34) have mixed types. Specify dtype option on import or set low_memory=False.\n",
      "  for df in pd.read_csv(base_path, chunksize=chunk_size):\n"
     ]
    },
    {
     "name": "stdout",
     "output_type": "stream",
     "text": [
      "Processing, gz folder,  state: mp, chunk 1000000\n",
      "Cleaning Data, processing last names\n"
     ]
    },
    {
     "name": "stderr",
     "output_type": "stream",
     "text": [
      "/var/folders/zm/1jsfy4n50pxgckvd0pk9rwvw0000gn/T/ipykernel_14492/2296241830.py:10: DtypeWarning: Columns (0,14,17,31,34) have mixed types. Specify dtype option on import or set low_memory=False.\n",
      "  for df in pd.read_csv(base_path, chunksize=chunk_size):\n"
     ]
    },
    {
     "name": "stdout",
     "output_type": "stream",
     "text": [
      "Processing, gz folder,  state: mp, chunk 1000000\n",
      "Cleaning Data, processing last names\n"
     ]
    },
    {
     "name": "stderr",
     "output_type": "stream",
     "text": [
      "/var/folders/zm/1jsfy4n50pxgckvd0pk9rwvw0000gn/T/ipykernel_14492/2296241830.py:10: DtypeWarning: Columns (0,17,34) have mixed types. Specify dtype option on import or set low_memory=False.\n",
      "  for df in pd.read_csv(base_path, chunksize=chunk_size):\n"
     ]
    },
    {
     "name": "stdout",
     "output_type": "stream",
     "text": [
      "Processing, gz folder,  state: mp, chunk 1000000\n",
      "Cleaning Data, processing last names\n"
     ]
    },
    {
     "name": "stderr",
     "output_type": "stream",
     "text": [
      "/var/folders/zm/1jsfy4n50pxgckvd0pk9rwvw0000gn/T/ipykernel_14492/2296241830.py:10: DtypeWarning: Columns (0,17,34) have mixed types. Specify dtype option on import or set low_memory=False.\n",
      "  for df in pd.read_csv(base_path, chunksize=chunk_size):\n"
     ]
    },
    {
     "name": "stdout",
     "output_type": "stream",
     "text": [
      "Processing, gz folder,  state: mp, chunk 1000000\n",
      "Cleaning Data, processing last names\n"
     ]
    },
    {
     "name": "stderr",
     "output_type": "stream",
     "text": [
      "/var/folders/zm/1jsfy4n50pxgckvd0pk9rwvw0000gn/T/ipykernel_14492/2296241830.py:10: DtypeWarning: Columns (0,17,34) have mixed types. Specify dtype option on import or set low_memory=False.\n",
      "  for df in pd.read_csv(base_path, chunksize=chunk_size):\n"
     ]
    },
    {
     "name": "stdout",
     "output_type": "stream",
     "text": [
      "Processing, gz folder,  state: mp, chunk 1000000\n",
      "Cleaning Data, processing last names\n"
     ]
    },
    {
     "name": "stderr",
     "output_type": "stream",
     "text": [
      "/var/folders/zm/1jsfy4n50pxgckvd0pk9rwvw0000gn/T/ipykernel_14492/2296241830.py:10: DtypeWarning: Columns (0,17,34) have mixed types. Specify dtype option on import or set low_memory=False.\n",
      "  for df in pd.read_csv(base_path, chunksize=chunk_size):\n"
     ]
    },
    {
     "name": "stdout",
     "output_type": "stream",
     "text": [
      "Processing, gz folder,  state: mp, chunk 1000000\n",
      "Cleaning Data, processing last names\n"
     ]
    },
    {
     "name": "stderr",
     "output_type": "stream",
     "text": [
      "/var/folders/zm/1jsfy4n50pxgckvd0pk9rwvw0000gn/T/ipykernel_14492/2296241830.py:10: DtypeWarning: Columns (0,17,34) have mixed types. Specify dtype option on import or set low_memory=False.\n",
      "  for df in pd.read_csv(base_path, chunksize=chunk_size):\n"
     ]
    },
    {
     "name": "stdout",
     "output_type": "stream",
     "text": [
      "Processing, gz folder,  state: mp, chunk 1000000\n",
      "Cleaning Data, processing last names\n"
     ]
    },
    {
     "name": "stderr",
     "output_type": "stream",
     "text": [
      "/var/folders/zm/1jsfy4n50pxgckvd0pk9rwvw0000gn/T/ipykernel_14492/2296241830.py:10: DtypeWarning: Columns (0,17,34) have mixed types. Specify dtype option on import or set low_memory=False.\n",
      "  for df in pd.read_csv(base_path, chunksize=chunk_size):\n"
     ]
    },
    {
     "name": "stdout",
     "output_type": "stream",
     "text": [
      "Processing, gz folder,  state: mp, chunk 1000000\n",
      "Cleaning Data, processing last names\n"
     ]
    },
    {
     "name": "stderr",
     "output_type": "stream",
     "text": [
      "/var/folders/zm/1jsfy4n50pxgckvd0pk9rwvw0000gn/T/ipykernel_14492/2296241830.py:10: DtypeWarning: Columns (0,16,17,33,34) have mixed types. Specify dtype option on import or set low_memory=False.\n",
      "  for df in pd.read_csv(base_path, chunksize=chunk_size):\n"
     ]
    },
    {
     "name": "stdout",
     "output_type": "stream",
     "text": [
      "Processing, gz folder,  state: mp, chunk 1000000\n",
      "Cleaning Data, processing last names\n"
     ]
    },
    {
     "name": "stderr",
     "output_type": "stream",
     "text": [
      "/var/folders/zm/1jsfy4n50pxgckvd0pk9rwvw0000gn/T/ipykernel_14492/2296241830.py:10: DtypeWarning: Columns (0,17,34) have mixed types. Specify dtype option on import or set low_memory=False.\n",
      "  for df in pd.read_csv(base_path, chunksize=chunk_size):\n"
     ]
    },
    {
     "name": "stdout",
     "output_type": "stream",
     "text": [
      "Processing, gz folder,  state: mp, chunk 1000000\n",
      "Cleaning Data, processing last names\n"
     ]
    },
    {
     "name": "stderr",
     "output_type": "stream",
     "text": [
      "/var/folders/zm/1jsfy4n50pxgckvd0pk9rwvw0000gn/T/ipykernel_14492/2296241830.py:10: DtypeWarning: Columns (0,17,34) have mixed types. Specify dtype option on import or set low_memory=False.\n",
      "  for df in pd.read_csv(base_path, chunksize=chunk_size):\n"
     ]
    },
    {
     "name": "stdout",
     "output_type": "stream",
     "text": [
      "Processing, gz folder,  state: mp, chunk 1000000\n",
      "Cleaning Data, processing last names\n"
     ]
    },
    {
     "name": "stderr",
     "output_type": "stream",
     "text": [
      "/var/folders/zm/1jsfy4n50pxgckvd0pk9rwvw0000gn/T/ipykernel_14492/2296241830.py:10: DtypeWarning: Columns (0,5,17,34) have mixed types. Specify dtype option on import or set low_memory=False.\n",
      "  for df in pd.read_csv(base_path, chunksize=chunk_size):\n"
     ]
    },
    {
     "name": "stdout",
     "output_type": "stream",
     "text": [
      "Processing, gz folder,  state: mp, chunk 1000000\n",
      "Cleaning Data, processing last names\n"
     ]
    },
    {
     "name": "stderr",
     "output_type": "stream",
     "text": [
      "/var/folders/zm/1jsfy4n50pxgckvd0pk9rwvw0000gn/T/ipykernel_14492/2296241830.py:10: DtypeWarning: Columns (0) have mixed types. Specify dtype option on import or set low_memory=False.\n",
      "  for df in pd.read_csv(base_path, chunksize=chunk_size):\n"
     ]
    },
    {
     "name": "stdout",
     "output_type": "stream",
     "text": [
      "Processing, gz folder,  state: mp, chunk 1000000\n",
      "Cleaning Data, processing last names\n"
     ]
    },
    {
     "name": "stderr",
     "output_type": "stream",
     "text": [
      "/var/folders/zm/1jsfy4n50pxgckvd0pk9rwvw0000gn/T/ipykernel_14492/2296241830.py:10: DtypeWarning: Columns (0,17,34) have mixed types. Specify dtype option on import or set low_memory=False.\n",
      "  for df in pd.read_csv(base_path, chunksize=chunk_size):\n"
     ]
    },
    {
     "name": "stdout",
     "output_type": "stream",
     "text": [
      "Processing, gz folder,  state: mp, chunk 1000000\n",
      "Cleaning Data, processing last names\n"
     ]
    },
    {
     "name": "stderr",
     "output_type": "stream",
     "text": [
      "/var/folders/zm/1jsfy4n50pxgckvd0pk9rwvw0000gn/T/ipykernel_14492/2296241830.py:10: DtypeWarning: Columns (0,17,34) have mixed types. Specify dtype option on import or set low_memory=False.\n",
      "  for df in pd.read_csv(base_path, chunksize=chunk_size):\n"
     ]
    },
    {
     "name": "stdout",
     "output_type": "stream",
     "text": [
      "Processing, gz folder,  state: mp, chunk 1000000\n",
      "Cleaning Data, processing last names\n"
     ]
    },
    {
     "name": "stderr",
     "output_type": "stream",
     "text": [
      "/var/folders/zm/1jsfy4n50pxgckvd0pk9rwvw0000gn/T/ipykernel_14492/2296241830.py:10: DtypeWarning: Columns (0,17,34) have mixed types. Specify dtype option on import or set low_memory=False.\n",
      "  for df in pd.read_csv(base_path, chunksize=chunk_size):\n"
     ]
    },
    {
     "name": "stdout",
     "output_type": "stream",
     "text": [
      "Processing, gz folder,  state: mp, chunk 1000000\n",
      "Cleaning Data, processing last names\n"
     ]
    },
    {
     "name": "stderr",
     "output_type": "stream",
     "text": [
      "/var/folders/zm/1jsfy4n50pxgckvd0pk9rwvw0000gn/T/ipykernel_14492/2296241830.py:10: DtypeWarning: Columns (0,17,34) have mixed types. Specify dtype option on import or set low_memory=False.\n",
      "  for df in pd.read_csv(base_path, chunksize=chunk_size):\n"
     ]
    },
    {
     "name": "stdout",
     "output_type": "stream",
     "text": [
      "Processing, gz folder,  state: mp, chunk 1000000\n",
      "Cleaning Data, processing last names\n"
     ]
    },
    {
     "name": "stderr",
     "output_type": "stream",
     "text": [
      "/var/folders/zm/1jsfy4n50pxgckvd0pk9rwvw0000gn/T/ipykernel_14492/2296241830.py:10: DtypeWarning: Columns (0,17,34) have mixed types. Specify dtype option on import or set low_memory=False.\n",
      "  for df in pd.read_csv(base_path, chunksize=chunk_size):\n"
     ]
    },
    {
     "name": "stdout",
     "output_type": "stream",
     "text": [
      "Processing, gz folder,  state: mp, chunk 1000000\n",
      "Cleaning Data, processing last names\n"
     ]
    },
    {
     "name": "stderr",
     "output_type": "stream",
     "text": [
      "/var/folders/zm/1jsfy4n50pxgckvd0pk9rwvw0000gn/T/ipykernel_14492/2296241830.py:10: DtypeWarning: Columns (0,15,17,32,34) have mixed types. Specify dtype option on import or set low_memory=False.\n",
      "  for df in pd.read_csv(base_path, chunksize=chunk_size):\n"
     ]
    },
    {
     "name": "stdout",
     "output_type": "stream",
     "text": [
      "Processing, gz folder,  state: mp, chunk 1000000\n",
      "Cleaning Data, processing last names\n"
     ]
    },
    {
     "name": "stderr",
     "output_type": "stream",
     "text": [
      "/var/folders/zm/1jsfy4n50pxgckvd0pk9rwvw0000gn/T/ipykernel_14492/2296241830.py:10: DtypeWarning: Columns (0,17,34) have mixed types. Specify dtype option on import or set low_memory=False.\n",
      "  for df in pd.read_csv(base_path, chunksize=chunk_size):\n"
     ]
    },
    {
     "name": "stdout",
     "output_type": "stream",
     "text": [
      "Processing, gz folder,  state: mp, chunk 1000000\n",
      "Cleaning Data, processing last names\n"
     ]
    },
    {
     "name": "stderr",
     "output_type": "stream",
     "text": [
      "/var/folders/zm/1jsfy4n50pxgckvd0pk9rwvw0000gn/T/ipykernel_14492/2296241830.py:10: DtypeWarning: Columns (0,17,34) have mixed types. Specify dtype option on import or set low_memory=False.\n",
      "  for df in pd.read_csv(base_path, chunksize=chunk_size):\n"
     ]
    },
    {
     "name": "stdout",
     "output_type": "stream",
     "text": [
      "Processing, gz folder,  state: mp, chunk 1000000\n",
      "Cleaning Data, processing last names\n"
     ]
    },
    {
     "name": "stderr",
     "output_type": "stream",
     "text": [
      "/var/folders/zm/1jsfy4n50pxgckvd0pk9rwvw0000gn/T/ipykernel_14492/2296241830.py:10: DtypeWarning: Columns (0,17,34) have mixed types. Specify dtype option on import or set low_memory=False.\n",
      "  for df in pd.read_csv(base_path, chunksize=chunk_size):\n"
     ]
    },
    {
     "name": "stdout",
     "output_type": "stream",
     "text": [
      "Processing, gz folder,  state: mp, chunk 1000000\n",
      "Cleaning Data, processing last names\n"
     ]
    },
    {
     "name": "stderr",
     "output_type": "stream",
     "text": [
      "/var/folders/zm/1jsfy4n50pxgckvd0pk9rwvw0000gn/T/ipykernel_14492/2296241830.py:10: DtypeWarning: Columns (0,17,34) have mixed types. Specify dtype option on import or set low_memory=False.\n",
      "  for df in pd.read_csv(base_path, chunksize=chunk_size):\n"
     ]
    },
    {
     "name": "stdout",
     "output_type": "stream",
     "text": [
      "Processing, gz folder,  state: mp, chunk 1000000\n",
      "Cleaning Data, processing last names\n"
     ]
    },
    {
     "name": "stderr",
     "output_type": "stream",
     "text": [
      "/var/folders/zm/1jsfy4n50pxgckvd0pk9rwvw0000gn/T/ipykernel_14492/2296241830.py:10: DtypeWarning: Columns (0,5,17,34) have mixed types. Specify dtype option on import or set low_memory=False.\n",
      "  for df in pd.read_csv(base_path, chunksize=chunk_size):\n"
     ]
    },
    {
     "name": "stdout",
     "output_type": "stream",
     "text": [
      "Processing, gz folder,  state: mp, chunk 1000000\n",
      "Cleaning Data, processing last names\n"
     ]
    },
    {
     "name": "stderr",
     "output_type": "stream",
     "text": [
      "/var/folders/zm/1jsfy4n50pxgckvd0pk9rwvw0000gn/T/ipykernel_14492/2296241830.py:10: DtypeWarning: Columns (0) have mixed types. Specify dtype option on import or set low_memory=False.\n",
      "  for df in pd.read_csv(base_path, chunksize=chunk_size):\n"
     ]
    },
    {
     "name": "stdout",
     "output_type": "stream",
     "text": [
      "Processing, gz folder,  state: mp, chunk 1000000\n",
      "Cleaning Data, processing last names\n"
     ]
    },
    {
     "name": "stderr",
     "output_type": "stream",
     "text": [
      "/var/folders/zm/1jsfy4n50pxgckvd0pk9rwvw0000gn/T/ipykernel_14492/2296241830.py:10: DtypeWarning: Columns (0,14,17,31,34) have mixed types. Specify dtype option on import or set low_memory=False.\n",
      "  for df in pd.read_csv(base_path, chunksize=chunk_size):\n"
     ]
    },
    {
     "name": "stdout",
     "output_type": "stream",
     "text": [
      "Processing, gz folder,  state: mp, chunk 1000000\n",
      "Cleaning Data, processing last names\n"
     ]
    },
    {
     "name": "stderr",
     "output_type": "stream",
     "text": [
      "/var/folders/zm/1jsfy4n50pxgckvd0pk9rwvw0000gn/T/ipykernel_14492/2296241830.py:10: DtypeWarning: Columns (0,17,34) have mixed types. Specify dtype option on import or set low_memory=False.\n",
      "  for df in pd.read_csv(base_path, chunksize=chunk_size):\n"
     ]
    },
    {
     "name": "stdout",
     "output_type": "stream",
     "text": [
      "Processing, gz folder,  state: mp, chunk 1000000\n",
      "Cleaning Data, processing last names\n"
     ]
    },
    {
     "name": "stderr",
     "output_type": "stream",
     "text": [
      "/var/folders/zm/1jsfy4n50pxgckvd0pk9rwvw0000gn/T/ipykernel_14492/2296241830.py:10: DtypeWarning: Columns (0,17,34) have mixed types. Specify dtype option on import or set low_memory=False.\n",
      "  for df in pd.read_csv(base_path, chunksize=chunk_size):\n"
     ]
    },
    {
     "name": "stdout",
     "output_type": "stream",
     "text": [
      "Processing, gz folder,  state: mp, chunk 1000000\n",
      "Cleaning Data, processing last names\n"
     ]
    },
    {
     "name": "stderr",
     "output_type": "stream",
     "text": [
      "/var/folders/zm/1jsfy4n50pxgckvd0pk9rwvw0000gn/T/ipykernel_14492/2296241830.py:10: DtypeWarning: Columns (0,17,34) have mixed types. Specify dtype option on import or set low_memory=False.\n",
      "  for df in pd.read_csv(base_path, chunksize=chunk_size):\n"
     ]
    },
    {
     "name": "stdout",
     "output_type": "stream",
     "text": [
      "Processing, gz folder,  state: mp, chunk 1000000\n",
      "Cleaning Data, processing last names\n"
     ]
    },
    {
     "name": "stderr",
     "output_type": "stream",
     "text": [
      "/var/folders/zm/1jsfy4n50pxgckvd0pk9rwvw0000gn/T/ipykernel_14492/2296241830.py:10: DtypeWarning: Columns (0,17,34) have mixed types. Specify dtype option on import or set low_memory=False.\n",
      "  for df in pd.read_csv(base_path, chunksize=chunk_size):\n"
     ]
    },
    {
     "name": "stdout",
     "output_type": "stream",
     "text": [
      "Processing, gz folder,  state: mp, chunk 1000000\n",
      "Cleaning Data, processing last names\n",
      "Processing, gz folder,  state: odi, chunk 1000000\n",
      "Cleaning Data, processing last names\n",
      "Processing, gz folder,  state: odi, chunk 1000000\n",
      "Cleaning Data, processing last names\n",
      "Processing, gz folder,  state: odi, chunk 1000000\n",
      "Cleaning Data, processing last names\n",
      "Processing, gz folder,  state: odi, chunk 1000000\n",
      "Cleaning Data, processing last names\n",
      "Processing, gz folder,  state: odi, chunk 1000000\n",
      "Cleaning Data, processing last names\n",
      "Processing, gz folder,  state: odi, chunk 1000000\n",
      "Cleaning Data, processing last names\n",
      "Processing, gz folder,  state: odi, chunk 1000000\n",
      "Cleaning Data, processing last names\n",
      "Processing, gz folder,  state: odi, chunk 1000000\n",
      "Cleaning Data, processing last names\n",
      "Processing, gz folder,  state: odi, chunk 1000000\n",
      "Cleaning Data, processing last names\n",
      "Processing, gz folder,  state: odi, chunk 1000000\n",
      "Cleaning Data, processing last names\n",
      "Processing, gz folder,  state: odi, chunk 1000000\n",
      "Cleaning Data, processing last names\n",
      "Processing, gz folder,  state: odi, chunk 1000000\n",
      "Cleaning Data, processing last names\n",
      "Processing, gz folder,  state: odi, chunk 1000000\n",
      "Cleaning Data, processing last names\n",
      "Processing, gz folder,  state: odi, chunk 1000000\n",
      "Cleaning Data, processing last names\n",
      "Processing, gz folder,  state: odi, chunk 1000000\n",
      "Cleaning Data, processing last names\n",
      "Processing, gz folder,  state: odi, chunk 1000000\n",
      "Cleaning Data, processing last names\n",
      "Processing, gz folder,  state: odi, chunk 1000000\n",
      "Cleaning Data, processing last names\n",
      "Processing, gz folder,  state: odi, chunk 1000000\n",
      "Cleaning Data, processing last names\n"
     ]
    },
    {
     "name": "stderr",
     "output_type": "stream",
     "text": [
      "/var/folders/zm/1jsfy4n50pxgckvd0pk9rwvw0000gn/T/ipykernel_14492/2296241830.py:10: DtypeWarning: Columns (16,32) have mixed types. Specify dtype option on import or set low_memory=False.\n",
      "  for df in pd.read_csv(base_path, chunksize=chunk_size):\n"
     ]
    },
    {
     "name": "stdout",
     "output_type": "stream",
     "text": [
      "Processing, gz folder,  state: odi, chunk 1000000\n",
      "Cleaning Data, processing last names\n",
      "Processing, gz folder,  state: odi, chunk 1000000\n",
      "Cleaning Data, processing last names\n",
      "Processing, gz folder,  state: odi, chunk 1000000\n",
      "Cleaning Data, processing last names\n",
      "Processing, gz folder,  state: odi, chunk 1000000\n",
      "Cleaning Data, processing last names\n",
      "Processing, gz folder,  state: odi, chunk 1000000\n",
      "Cleaning Data, processing last names\n",
      "Processing, gz folder,  state: odi, chunk 1000000\n",
      "Cleaning Data, processing last names\n",
      "Processing, gz folder,  state: odi, chunk 1000000\n",
      "Cleaning Data, processing last names\n",
      "Processing, gz folder,  state: odi, chunk 1000000\n",
      "Cleaning Data, processing last names\n",
      "Processing, gz folder,  state: odi, chunk 1000000\n",
      "Cleaning Data, processing last names\n",
      "Processing, gz folder,  state: odi, chunk 1000000\n",
      "Cleaning Data, processing last names\n",
      "Processing, gz folder,  state: odi, chunk 1000000\n",
      "Cleaning Data, processing last names\n",
      "Processing, gz folder,  state: odi, chunk 1000000\n",
      "Cleaning Data, processing last names\n",
      "Processing, gz folder,  state: odi, chunk 1000000\n",
      "Cleaning Data, processing last names\n",
      "Processing, gz folder,  state: odi, chunk 1000000\n",
      "Cleaning Data, processing last names\n",
      "Processing, gz folder,  state: odi, chunk 1000000\n",
      "Cleaning Data, processing last names\n",
      "Processing, gz folder,  state: odi, chunk 1000000\n",
      "Cleaning Data, processing last names\n",
      "Processing, gz folder,  state: odi, chunk 1000000\n",
      "Cleaning Data, processing last names\n"
     ]
    },
    {
     "name": "stderr",
     "output_type": "stream",
     "text": [
      "/var/folders/zm/1jsfy4n50pxgckvd0pk9rwvw0000gn/T/ipykernel_14492/2296241830.py:10: DtypeWarning: Columns (8,28) have mixed types. Specify dtype option on import or set low_memory=False.\n",
      "  for df in pd.read_csv(base_path, chunksize=chunk_size):\n"
     ]
    },
    {
     "name": "stdout",
     "output_type": "stream",
     "text": [
      "Processing, gz folder,  state: odi, chunk 1000000\n",
      "Cleaning Data, processing last names\n",
      "Processing, gz folder,  state: odi, chunk 1000000\n",
      "Cleaning Data, processing last names\n",
      "Processing, gz folder,  state: odi, chunk 1000000\n",
      "Cleaning Data, processing last names\n",
      "Processing, gz folder,  state: odi, chunk 1000000\n",
      "Cleaning Data, processing last names\n"
     ]
    },
    {
     "name": "stderr",
     "output_type": "stream",
     "text": [
      "/var/folders/zm/1jsfy4n50pxgckvd0pk9rwvw0000gn/T/ipykernel_14492/2296241830.py:10: DtypeWarning: Columns (10) have mixed types. Specify dtype option on import or set low_memory=False.\n",
      "  for df in pd.read_csv(base_path, chunksize=chunk_size):\n"
     ]
    },
    {
     "name": "stdout",
     "output_type": "stream",
     "text": [
      "Processing, gz folder,  state: punjab, chunk 1000000\n",
      "Cleaning Data, processing last names\n"
     ]
    },
    {
     "name": "stderr",
     "output_type": "stream",
     "text": [
      "/var/folders/zm/1jsfy4n50pxgckvd0pk9rwvw0000gn/T/ipykernel_14492/2296241830.py:10: DtypeWarning: Columns (8,10,28) have mixed types. Specify dtype option on import or set low_memory=False.\n",
      "  for df in pd.read_csv(base_path, chunksize=chunk_size):\n"
     ]
    },
    {
     "name": "stdout",
     "output_type": "stream",
     "text": [
      "Processing, gz folder,  state: punjab, chunk 1000000\n",
      "Cleaning Data, processing last names\n"
     ]
    },
    {
     "name": "stderr",
     "output_type": "stream",
     "text": [
      "/var/folders/zm/1jsfy4n50pxgckvd0pk9rwvw0000gn/T/ipykernel_14492/2296241830.py:10: DtypeWarning: Columns (0,10) have mixed types. Specify dtype option on import or set low_memory=False.\n",
      "  for df in pd.read_csv(base_path, chunksize=chunk_size):\n"
     ]
    },
    {
     "name": "stdout",
     "output_type": "stream",
     "text": [
      "Processing, gz folder,  state: punjab, chunk 1000000\n",
      "Cleaning Data, processing last names\n"
     ]
    },
    {
     "name": "stderr",
     "output_type": "stream",
     "text": [
      "/var/folders/zm/1jsfy4n50pxgckvd0pk9rwvw0000gn/T/ipykernel_14492/2296241830.py:10: DtypeWarning: Columns (0,10) have mixed types. Specify dtype option on import or set low_memory=False.\n",
      "  for df in pd.read_csv(base_path, chunksize=chunk_size):\n"
     ]
    },
    {
     "name": "stdout",
     "output_type": "stream",
     "text": [
      "Processing, gz folder,  state: punjab, chunk 1000000\n",
      "Cleaning Data, processing last names\n"
     ]
    },
    {
     "name": "stderr",
     "output_type": "stream",
     "text": [
      "/var/folders/zm/1jsfy4n50pxgckvd0pk9rwvw0000gn/T/ipykernel_14492/2296241830.py:10: DtypeWarning: Columns (10) have mixed types. Specify dtype option on import or set low_memory=False.\n",
      "  for df in pd.read_csv(base_path, chunksize=chunk_size):\n"
     ]
    },
    {
     "name": "stdout",
     "output_type": "stream",
     "text": [
      "Processing, gz folder,  state: punjab, chunk 1000000\n",
      "Cleaning Data, processing last names\n"
     ]
    },
    {
     "name": "stderr",
     "output_type": "stream",
     "text": [
      "/var/folders/zm/1jsfy4n50pxgckvd0pk9rwvw0000gn/T/ipykernel_14492/2296241830.py:10: DtypeWarning: Columns (10) have mixed types. Specify dtype option on import or set low_memory=False.\n",
      "  for df in pd.read_csv(base_path, chunksize=chunk_size):\n"
     ]
    },
    {
     "name": "stdout",
     "output_type": "stream",
     "text": [
      "Processing, gz folder,  state: punjab, chunk 1000000\n",
      "Cleaning Data, processing last names\n"
     ]
    },
    {
     "name": "stderr",
     "output_type": "stream",
     "text": [
      "/var/folders/zm/1jsfy4n50pxgckvd0pk9rwvw0000gn/T/ipykernel_14492/2296241830.py:10: DtypeWarning: Columns (10,14,17,30,33) have mixed types. Specify dtype option on import or set low_memory=False.\n",
      "  for df in pd.read_csv(base_path, chunksize=chunk_size):\n"
     ]
    },
    {
     "name": "stdout",
     "output_type": "stream",
     "text": [
      "Processing, gz folder,  state: punjab, chunk 1000000\n",
      "Cleaning Data, processing last names\n"
     ]
    },
    {
     "name": "stderr",
     "output_type": "stream",
     "text": [
      "/var/folders/zm/1jsfy4n50pxgckvd0pk9rwvw0000gn/T/ipykernel_14492/2296241830.py:10: DtypeWarning: Columns (10,17,33) have mixed types. Specify dtype option on import or set low_memory=False.\n",
      "  for df in pd.read_csv(base_path, chunksize=chunk_size):\n"
     ]
    },
    {
     "name": "stdout",
     "output_type": "stream",
     "text": [
      "Processing, gz folder,  state: punjab, chunk 1000000\n",
      "Cleaning Data, processing last names\n"
     ]
    },
    {
     "name": "stderr",
     "output_type": "stream",
     "text": [
      "/var/folders/zm/1jsfy4n50pxgckvd0pk9rwvw0000gn/T/ipykernel_14492/2296241830.py:10: DtypeWarning: Columns (0,10) have mixed types. Specify dtype option on import or set low_memory=False.\n",
      "  for df in pd.read_csv(base_path, chunksize=chunk_size):\n"
     ]
    },
    {
     "name": "stdout",
     "output_type": "stream",
     "text": [
      "Processing, gz folder,  state: punjab, chunk 1000000\n",
      "Cleaning Data, processing last names\n"
     ]
    },
    {
     "name": "stderr",
     "output_type": "stream",
     "text": [
      "/var/folders/zm/1jsfy4n50pxgckvd0pk9rwvw0000gn/T/ipykernel_14492/2296241830.py:10: DtypeWarning: Columns (10) have mixed types. Specify dtype option on import or set low_memory=False.\n",
      "  for df in pd.read_csv(base_path, chunksize=chunk_size):\n"
     ]
    },
    {
     "name": "stdout",
     "output_type": "stream",
     "text": [
      "Processing, gz folder,  state: punjab, chunk 1000000\n",
      "Cleaning Data, processing last names\n"
     ]
    },
    {
     "name": "stderr",
     "output_type": "stream",
     "text": [
      "/var/folders/zm/1jsfy4n50pxgckvd0pk9rwvw0000gn/T/ipykernel_14492/2296241830.py:10: DtypeWarning: Columns (10) have mixed types. Specify dtype option on import or set low_memory=False.\n",
      "  for df in pd.read_csv(base_path, chunksize=chunk_size):\n"
     ]
    },
    {
     "name": "stdout",
     "output_type": "stream",
     "text": [
      "Processing, gz folder,  state: punjab, chunk 1000000\n",
      "Cleaning Data, processing last names\n"
     ]
    },
    {
     "name": "stderr",
     "output_type": "stream",
     "text": [
      "/var/folders/zm/1jsfy4n50pxgckvd0pk9rwvw0000gn/T/ipykernel_14492/2296241830.py:10: DtypeWarning: Columns (0,10) have mixed types. Specify dtype option on import or set low_memory=False.\n",
      "  for df in pd.read_csv(base_path, chunksize=chunk_size):\n"
     ]
    },
    {
     "name": "stdout",
     "output_type": "stream",
     "text": [
      "Processing, gz folder,  state: punjab, chunk 1000000\n",
      "Cleaning Data, processing last names\n"
     ]
    },
    {
     "name": "stderr",
     "output_type": "stream",
     "text": [
      "/var/folders/zm/1jsfy4n50pxgckvd0pk9rwvw0000gn/T/ipykernel_14492/2296241830.py:10: DtypeWarning: Columns (10) have mixed types. Specify dtype option on import or set low_memory=False.\n",
      "  for df in pd.read_csv(base_path, chunksize=chunk_size):\n"
     ]
    },
    {
     "name": "stdout",
     "output_type": "stream",
     "text": [
      "Processing, gz folder,  state: punjab, chunk 1000000\n",
      "Cleaning Data, processing last names\n"
     ]
    },
    {
     "name": "stderr",
     "output_type": "stream",
     "text": [
      "/var/folders/zm/1jsfy4n50pxgckvd0pk9rwvw0000gn/T/ipykernel_14492/2296241830.py:10: DtypeWarning: Columns (0,10) have mixed types. Specify dtype option on import or set low_memory=False.\n",
      "  for df in pd.read_csv(base_path, chunksize=chunk_size):\n"
     ]
    },
    {
     "name": "stdout",
     "output_type": "stream",
     "text": [
      "Processing, gz folder,  state: punjab, chunk 1000000\n",
      "Cleaning Data, processing last names\n"
     ]
    },
    {
     "name": "stderr",
     "output_type": "stream",
     "text": [
      "/var/folders/zm/1jsfy4n50pxgckvd0pk9rwvw0000gn/T/ipykernel_14492/2296241830.py:10: DtypeWarning: Columns (10,20,35) have mixed types. Specify dtype option on import or set low_memory=False.\n",
      "  for df in pd.read_csv(base_path, chunksize=chunk_size):\n"
     ]
    },
    {
     "name": "stdout",
     "output_type": "stream",
     "text": [
      "Processing, gz folder,  state: punjab, chunk 1000000\n",
      "Cleaning Data, processing last names\n"
     ]
    },
    {
     "name": "stderr",
     "output_type": "stream",
     "text": [
      "/var/folders/zm/1jsfy4n50pxgckvd0pk9rwvw0000gn/T/ipykernel_14492/2296241830.py:10: DtypeWarning: Columns (10) have mixed types. Specify dtype option on import or set low_memory=False.\n",
      "  for df in pd.read_csv(base_path, chunksize=chunk_size):\n"
     ]
    },
    {
     "name": "stdout",
     "output_type": "stream",
     "text": [
      "Processing, gz folder,  state: punjab, chunk 1000000\n",
      "Cleaning Data, processing last names\n"
     ]
    },
    {
     "name": "stderr",
     "output_type": "stream",
     "text": [
      "/var/folders/zm/1jsfy4n50pxgckvd0pk9rwvw0000gn/T/ipykernel_14492/2296241830.py:10: DtypeWarning: Columns (10,17,33) have mixed types. Specify dtype option on import or set low_memory=False.\n",
      "  for df in pd.read_csv(base_path, chunksize=chunk_size):\n"
     ]
    },
    {
     "name": "stdout",
     "output_type": "stream",
     "text": [
      "Processing, gz folder,  state: punjab, chunk 1000000\n",
      "Cleaning Data, processing last names\n"
     ]
    },
    {
     "name": "stderr",
     "output_type": "stream",
     "text": [
      "/var/folders/zm/1jsfy4n50pxgckvd0pk9rwvw0000gn/T/ipykernel_14492/2296241830.py:10: DtypeWarning: Columns (10,17,33) have mixed types. Specify dtype option on import or set low_memory=False.\n",
      "  for df in pd.read_csv(base_path, chunksize=chunk_size):\n"
     ]
    },
    {
     "name": "stdout",
     "output_type": "stream",
     "text": [
      "Processing, gz folder,  state: punjab, chunk 1000000\n",
      "Cleaning Data, processing last names\n"
     ]
    },
    {
     "name": "stderr",
     "output_type": "stream",
     "text": [
      "/var/folders/zm/1jsfy4n50pxgckvd0pk9rwvw0000gn/T/ipykernel_14492/2296241830.py:10: DtypeWarning: Columns (10) have mixed types. Specify dtype option on import or set low_memory=False.\n",
      "  for df in pd.read_csv(base_path, chunksize=chunk_size):\n"
     ]
    },
    {
     "name": "stdout",
     "output_type": "stream",
     "text": [
      "Processing, gz folder,  state: punjab, chunk 1000000\n",
      "Cleaning Data, processing last names\n"
     ]
    },
    {
     "name": "stderr",
     "output_type": "stream",
     "text": [
      "/var/folders/zm/1jsfy4n50pxgckvd0pk9rwvw0000gn/T/ipykernel_14492/2296241830.py:10: DtypeWarning: Columns (10) have mixed types. Specify dtype option on import or set low_memory=False.\n",
      "  for df in pd.read_csv(base_path, chunksize=chunk_size):\n"
     ]
    },
    {
     "name": "stdout",
     "output_type": "stream",
     "text": [
      "Processing, gz folder,  state: punjab, chunk 1000000\n",
      "Cleaning Data, processing last names\n"
     ]
    },
    {
     "name": "stderr",
     "output_type": "stream",
     "text": [
      "/var/folders/zm/1jsfy4n50pxgckvd0pk9rwvw0000gn/T/ipykernel_14492/2296241830.py:10: DtypeWarning: Columns (5) have mixed types. Specify dtype option on import or set low_memory=False.\n",
      "  for df in pd.read_csv(base_path, chunksize=chunk_size):\n"
     ]
    },
    {
     "name": "stdout",
     "output_type": "stream",
     "text": [
      "Processing, gz folder,  state: rajasthan, chunk 1000000\n",
      "Cleaning Data, processing last names\n"
     ]
    },
    {
     "name": "stderr",
     "output_type": "stream",
     "text": [
      "/var/folders/zm/1jsfy4n50pxgckvd0pk9rwvw0000gn/T/ipykernel_14492/2296241830.py:10: DtypeWarning: Columns (5) have mixed types. Specify dtype option on import or set low_memory=False.\n",
      "  for df in pd.read_csv(base_path, chunksize=chunk_size):\n"
     ]
    },
    {
     "name": "stdout",
     "output_type": "stream",
     "text": [
      "Processing, gz folder,  state: rajasthan, chunk 1000000\n",
      "Cleaning Data, processing last names\n"
     ]
    },
    {
     "name": "stderr",
     "output_type": "stream",
     "text": [
      "/var/folders/zm/1jsfy4n50pxgckvd0pk9rwvw0000gn/T/ipykernel_14492/2296241830.py:10: DtypeWarning: Columns (5,15,17,32,34) have mixed types. Specify dtype option on import or set low_memory=False.\n",
      "  for df in pd.read_csv(base_path, chunksize=chunk_size):\n"
     ]
    },
    {
     "name": "stdout",
     "output_type": "stream",
     "text": [
      "Processing, gz folder,  state: rajasthan, chunk 1000000\n",
      "Cleaning Data, processing last names\n"
     ]
    },
    {
     "name": "stderr",
     "output_type": "stream",
     "text": [
      "/var/folders/zm/1jsfy4n50pxgckvd0pk9rwvw0000gn/T/ipykernel_14492/2296241830.py:10: DtypeWarning: Columns (5,15,17,32,34) have mixed types. Specify dtype option on import or set low_memory=False.\n",
      "  for df in pd.read_csv(base_path, chunksize=chunk_size):\n"
     ]
    },
    {
     "name": "stdout",
     "output_type": "stream",
     "text": [
      "Processing, gz folder,  state: rajasthan, chunk 1000000\n",
      "Cleaning Data, processing last names\n"
     ]
    },
    {
     "name": "stderr",
     "output_type": "stream",
     "text": [
      "/var/folders/zm/1jsfy4n50pxgckvd0pk9rwvw0000gn/T/ipykernel_14492/2296241830.py:10: DtypeWarning: Columns (5,15,16,32,33) have mixed types. Specify dtype option on import or set low_memory=False.\n",
      "  for df in pd.read_csv(base_path, chunksize=chunk_size):\n"
     ]
    },
    {
     "name": "stdout",
     "output_type": "stream",
     "text": [
      "Processing, gz folder,  state: rajasthan, chunk 1000000\n",
      "Cleaning Data, processing last names\n"
     ]
    },
    {
     "name": "stderr",
     "output_type": "stream",
     "text": [
      "/var/folders/zm/1jsfy4n50pxgckvd0pk9rwvw0000gn/T/ipykernel_14492/2296241830.py:10: DtypeWarning: Columns (5,15,16,32,33) have mixed types. Specify dtype option on import or set low_memory=False.\n",
      "  for df in pd.read_csv(base_path, chunksize=chunk_size):\n"
     ]
    },
    {
     "name": "stdout",
     "output_type": "stream",
     "text": [
      "Processing, gz folder,  state: rajasthan, chunk 1000000\n",
      "Cleaning Data, processing last names\n"
     ]
    },
    {
     "name": "stderr",
     "output_type": "stream",
     "text": [
      "/var/folders/zm/1jsfy4n50pxgckvd0pk9rwvw0000gn/T/ipykernel_14492/2296241830.py:10: DtypeWarning: Columns (5,15,16,32,33) have mixed types. Specify dtype option on import or set low_memory=False.\n",
      "  for df in pd.read_csv(base_path, chunksize=chunk_size):\n"
     ]
    },
    {
     "name": "stdout",
     "output_type": "stream",
     "text": [
      "Processing, gz folder,  state: rajasthan, chunk 1000000\n",
      "Cleaning Data, processing last names\n"
     ]
    },
    {
     "name": "stderr",
     "output_type": "stream",
     "text": [
      "/var/folders/zm/1jsfy4n50pxgckvd0pk9rwvw0000gn/T/ipykernel_14492/2296241830.py:10: DtypeWarning: Columns (5,16,33) have mixed types. Specify dtype option on import or set low_memory=False.\n",
      "  for df in pd.read_csv(base_path, chunksize=chunk_size):\n"
     ]
    },
    {
     "name": "stdout",
     "output_type": "stream",
     "text": [
      "Processing, gz folder,  state: rajasthan, chunk 1000000\n",
      "Cleaning Data, processing last names\n"
     ]
    },
    {
     "name": "stderr",
     "output_type": "stream",
     "text": [
      "/var/folders/zm/1jsfy4n50pxgckvd0pk9rwvw0000gn/T/ipykernel_14492/2296241830.py:10: DtypeWarning: Columns (5) have mixed types. Specify dtype option on import or set low_memory=False.\n",
      "  for df in pd.read_csv(base_path, chunksize=chunk_size):\n"
     ]
    },
    {
     "name": "stdout",
     "output_type": "stream",
     "text": [
      "Processing, gz folder,  state: rajasthan, chunk 1000000\n",
      "Cleaning Data, processing last names\n"
     ]
    },
    {
     "name": "stderr",
     "output_type": "stream",
     "text": [
      "/var/folders/zm/1jsfy4n50pxgckvd0pk9rwvw0000gn/T/ipykernel_14492/2296241830.py:10: DtypeWarning: Columns (5,16,33) have mixed types. Specify dtype option on import or set low_memory=False.\n",
      "  for df in pd.read_csv(base_path, chunksize=chunk_size):\n"
     ]
    },
    {
     "name": "stdout",
     "output_type": "stream",
     "text": [
      "Processing, gz folder,  state: rajasthan, chunk 1000000\n",
      "Cleaning Data, processing last names\n"
     ]
    },
    {
     "name": "stderr",
     "output_type": "stream",
     "text": [
      "/var/folders/zm/1jsfy4n50pxgckvd0pk9rwvw0000gn/T/ipykernel_14492/2296241830.py:10: DtypeWarning: Columns (5) have mixed types. Specify dtype option on import or set low_memory=False.\n",
      "  for df in pd.read_csv(base_path, chunksize=chunk_size):\n"
     ]
    },
    {
     "name": "stdout",
     "output_type": "stream",
     "text": [
      "Processing, gz folder,  state: rajasthan, chunk 1000000\n",
      "Cleaning Data, processing last names\n"
     ]
    },
    {
     "name": "stderr",
     "output_type": "stream",
     "text": [
      "/var/folders/zm/1jsfy4n50pxgckvd0pk9rwvw0000gn/T/ipykernel_14492/2296241830.py:10: DtypeWarning: Columns (5,15,17,32,34) have mixed types. Specify dtype option on import or set low_memory=False.\n",
      "  for df in pd.read_csv(base_path, chunksize=chunk_size):\n"
     ]
    },
    {
     "name": "stdout",
     "output_type": "stream",
     "text": [
      "Processing, gz folder,  state: rajasthan, chunk 1000000\n",
      "Cleaning Data, processing last names\n"
     ]
    },
    {
     "name": "stderr",
     "output_type": "stream",
     "text": [
      "/var/folders/zm/1jsfy4n50pxgckvd0pk9rwvw0000gn/T/ipykernel_14492/2296241830.py:10: DtypeWarning: Columns (5,15,17,32,34) have mixed types. Specify dtype option on import or set low_memory=False.\n",
      "  for df in pd.read_csv(base_path, chunksize=chunk_size):\n"
     ]
    },
    {
     "name": "stdout",
     "output_type": "stream",
     "text": [
      "Processing, gz folder,  state: rajasthan, chunk 1000000\n",
      "Cleaning Data, processing last names\n"
     ]
    },
    {
     "name": "stderr",
     "output_type": "stream",
     "text": [
      "/var/folders/zm/1jsfy4n50pxgckvd0pk9rwvw0000gn/T/ipykernel_14492/2296241830.py:10: DtypeWarning: Columns (5) have mixed types. Specify dtype option on import or set low_memory=False.\n",
      "  for df in pd.read_csv(base_path, chunksize=chunk_size):\n"
     ]
    },
    {
     "name": "stdout",
     "output_type": "stream",
     "text": [
      "Processing, gz folder,  state: rajasthan, chunk 1000000\n",
      "Cleaning Data, processing last names\n"
     ]
    },
    {
     "name": "stderr",
     "output_type": "stream",
     "text": [
      "/var/folders/zm/1jsfy4n50pxgckvd0pk9rwvw0000gn/T/ipykernel_14492/2296241830.py:10: DtypeWarning: Columns (5,15,17,32,34) have mixed types. Specify dtype option on import or set low_memory=False.\n",
      "  for df in pd.read_csv(base_path, chunksize=chunk_size):\n"
     ]
    },
    {
     "name": "stdout",
     "output_type": "stream",
     "text": [
      "Processing, gz folder,  state: rajasthan, chunk 1000000\n",
      "Cleaning Data, processing last names\n"
     ]
    },
    {
     "name": "stderr",
     "output_type": "stream",
     "text": [
      "/var/folders/zm/1jsfy4n50pxgckvd0pk9rwvw0000gn/T/ipykernel_14492/2296241830.py:10: DtypeWarning: Columns (5,15,17,32,34) have mixed types. Specify dtype option on import or set low_memory=False.\n",
      "  for df in pd.read_csv(base_path, chunksize=chunk_size):\n"
     ]
    },
    {
     "name": "stdout",
     "output_type": "stream",
     "text": [
      "Processing, gz folder,  state: rajasthan, chunk 1000000\n",
      "Cleaning Data, processing last names\n"
     ]
    },
    {
     "name": "stderr",
     "output_type": "stream",
     "text": [
      "/var/folders/zm/1jsfy4n50pxgckvd0pk9rwvw0000gn/T/ipykernel_14492/2296241830.py:10: DtypeWarning: Columns (5) have mixed types. Specify dtype option on import or set low_memory=False.\n",
      "  for df in pd.read_csv(base_path, chunksize=chunk_size):\n"
     ]
    },
    {
     "name": "stdout",
     "output_type": "stream",
     "text": [
      "Processing, gz folder,  state: rajasthan, chunk 1000000\n",
      "Cleaning Data, processing last names\n"
     ]
    },
    {
     "name": "stderr",
     "output_type": "stream",
     "text": [
      "/var/folders/zm/1jsfy4n50pxgckvd0pk9rwvw0000gn/T/ipykernel_14492/2296241830.py:10: DtypeWarning: Columns (5,15,17,32,34) have mixed types. Specify dtype option on import or set low_memory=False.\n",
      "  for df in pd.read_csv(base_path, chunksize=chunk_size):\n"
     ]
    },
    {
     "name": "stdout",
     "output_type": "stream",
     "text": [
      "Processing, gz folder,  state: rajasthan, chunk 1000000\n",
      "Cleaning Data, processing last names\n"
     ]
    },
    {
     "name": "stderr",
     "output_type": "stream",
     "text": [
      "/var/folders/zm/1jsfy4n50pxgckvd0pk9rwvw0000gn/T/ipykernel_14492/2296241830.py:10: DtypeWarning: Columns (5) have mixed types. Specify dtype option on import or set low_memory=False.\n",
      "  for df in pd.read_csv(base_path, chunksize=chunk_size):\n"
     ]
    },
    {
     "name": "stdout",
     "output_type": "stream",
     "text": [
      "Processing, gz folder,  state: rajasthan, chunk 1000000\n",
      "Cleaning Data, processing last names\n"
     ]
    },
    {
     "name": "stderr",
     "output_type": "stream",
     "text": [
      "/var/folders/zm/1jsfy4n50pxgckvd0pk9rwvw0000gn/T/ipykernel_14492/2296241830.py:10: DtypeWarning: Columns (5,15,17,32,34) have mixed types. Specify dtype option on import or set low_memory=False.\n",
      "  for df in pd.read_csv(base_path, chunksize=chunk_size):\n"
     ]
    },
    {
     "name": "stdout",
     "output_type": "stream",
     "text": [
      "Processing, gz folder,  state: rajasthan, chunk 1000000\n",
      "Cleaning Data, processing last names\n"
     ]
    },
    {
     "name": "stderr",
     "output_type": "stream",
     "text": [
      "/var/folders/zm/1jsfy4n50pxgckvd0pk9rwvw0000gn/T/ipykernel_14492/2296241830.py:10: DtypeWarning: Columns (5,15,16,17,32,33,34) have mixed types. Specify dtype option on import or set low_memory=False.\n",
      "  for df in pd.read_csv(base_path, chunksize=chunk_size):\n"
     ]
    },
    {
     "name": "stdout",
     "output_type": "stream",
     "text": [
      "Processing, gz folder,  state: rajasthan, chunk 1000000\n",
      "Cleaning Data, processing last names\n"
     ]
    },
    {
     "name": "stderr",
     "output_type": "stream",
     "text": [
      "/var/folders/zm/1jsfy4n50pxgckvd0pk9rwvw0000gn/T/ipykernel_14492/2296241830.py:10: DtypeWarning: Columns (5) have mixed types. Specify dtype option on import or set low_memory=False.\n",
      "  for df in pd.read_csv(base_path, chunksize=chunk_size):\n"
     ]
    },
    {
     "name": "stdout",
     "output_type": "stream",
     "text": [
      "Processing, gz folder,  state: rajasthan, chunk 1000000\n",
      "Cleaning Data, processing last names\n"
     ]
    },
    {
     "name": "stderr",
     "output_type": "stream",
     "text": [
      "/var/folders/zm/1jsfy4n50pxgckvd0pk9rwvw0000gn/T/ipykernel_14492/2296241830.py:10: DtypeWarning: Columns (5,15,16,17,32,33,34) have mixed types. Specify dtype option on import or set low_memory=False.\n",
      "  for df in pd.read_csv(base_path, chunksize=chunk_size):\n"
     ]
    },
    {
     "name": "stdout",
     "output_type": "stream",
     "text": [
      "Processing, gz folder,  state: rajasthan, chunk 1000000\n",
      "Cleaning Data, processing last names\n"
     ]
    },
    {
     "name": "stderr",
     "output_type": "stream",
     "text": [
      "/var/folders/zm/1jsfy4n50pxgckvd0pk9rwvw0000gn/T/ipykernel_14492/2296241830.py:10: DtypeWarning: Columns (5,16,33) have mixed types. Specify dtype option on import or set low_memory=False.\n",
      "  for df in pd.read_csv(base_path, chunksize=chunk_size):\n"
     ]
    },
    {
     "name": "stdout",
     "output_type": "stream",
     "text": [
      "Processing, gz folder,  state: rajasthan, chunk 1000000\n",
      "Cleaning Data, processing last names\n"
     ]
    },
    {
     "name": "stderr",
     "output_type": "stream",
     "text": [
      "/var/folders/zm/1jsfy4n50pxgckvd0pk9rwvw0000gn/T/ipykernel_14492/2296241830.py:10: DtypeWarning: Columns (5,16,33) have mixed types. Specify dtype option on import or set low_memory=False.\n",
      "  for df in pd.read_csv(base_path, chunksize=chunk_size):\n"
     ]
    },
    {
     "name": "stdout",
     "output_type": "stream",
     "text": [
      "Processing, gz folder,  state: rajasthan, chunk 1000000\n",
      "Cleaning Data, processing last names\n"
     ]
    },
    {
     "name": "stderr",
     "output_type": "stream",
     "text": [
      "/var/folders/zm/1jsfy4n50pxgckvd0pk9rwvw0000gn/T/ipykernel_14492/2296241830.py:10: DtypeWarning: Columns (5) have mixed types. Specify dtype option on import or set low_memory=False.\n",
      "  for df in pd.read_csv(base_path, chunksize=chunk_size):\n"
     ]
    },
    {
     "name": "stdout",
     "output_type": "stream",
     "text": [
      "Processing, gz folder,  state: rajasthan, chunk 1000000\n",
      "Cleaning Data, processing last names\n"
     ]
    },
    {
     "name": "stderr",
     "output_type": "stream",
     "text": [
      "/var/folders/zm/1jsfy4n50pxgckvd0pk9rwvw0000gn/T/ipykernel_14492/2296241830.py:10: DtypeWarning: Columns (5) have mixed types. Specify dtype option on import or set low_memory=False.\n",
      "  for df in pd.read_csv(base_path, chunksize=chunk_size):\n"
     ]
    },
    {
     "name": "stdout",
     "output_type": "stream",
     "text": [
      "Processing, gz folder,  state: rajasthan, chunk 1000000\n",
      "Cleaning Data, processing last names\n"
     ]
    },
    {
     "name": "stderr",
     "output_type": "stream",
     "text": [
      "/var/folders/zm/1jsfy4n50pxgckvd0pk9rwvw0000gn/T/ipykernel_14492/2296241830.py:10: DtypeWarning: Columns (5,15,32) have mixed types. Specify dtype option on import or set low_memory=False.\n",
      "  for df in pd.read_csv(base_path, chunksize=chunk_size):\n"
     ]
    },
    {
     "name": "stdout",
     "output_type": "stream",
     "text": [
      "Processing, gz folder,  state: rajasthan, chunk 1000000\n",
      "Cleaning Data, processing last names\n"
     ]
    },
    {
     "name": "stderr",
     "output_type": "stream",
     "text": [
      "/var/folders/zm/1jsfy4n50pxgckvd0pk9rwvw0000gn/T/ipykernel_14492/2296241830.py:10: DtypeWarning: Columns (5,15,17,32,34) have mixed types. Specify dtype option on import or set low_memory=False.\n",
      "  for df in pd.read_csv(base_path, chunksize=chunk_size):\n"
     ]
    },
    {
     "name": "stdout",
     "output_type": "stream",
     "text": [
      "Processing, gz folder,  state: rajasthan, chunk 1000000\n",
      "Cleaning Data, processing last names\n"
     ]
    },
    {
     "name": "stderr",
     "output_type": "stream",
     "text": [
      "/var/folders/zm/1jsfy4n50pxgckvd0pk9rwvw0000gn/T/ipykernel_14492/2296241830.py:10: DtypeWarning: Columns (5) have mixed types. Specify dtype option on import or set low_memory=False.\n",
      "  for df in pd.read_csv(base_path, chunksize=chunk_size):\n"
     ]
    },
    {
     "name": "stdout",
     "output_type": "stream",
     "text": [
      "Processing, gz folder,  state: rajasthan, chunk 1000000\n",
      "Cleaning Data, processing last names\n"
     ]
    },
    {
     "name": "stderr",
     "output_type": "stream",
     "text": [
      "/var/folders/zm/1jsfy4n50pxgckvd0pk9rwvw0000gn/T/ipykernel_14492/2296241830.py:10: DtypeWarning: Columns (5) have mixed types. Specify dtype option on import or set low_memory=False.\n",
      "  for df in pd.read_csv(base_path, chunksize=chunk_size):\n"
     ]
    },
    {
     "name": "stdout",
     "output_type": "stream",
     "text": [
      "Processing, gz folder,  state: rajasthan, chunk 1000000\n",
      "Cleaning Data, processing last names\n"
     ]
    },
    {
     "name": "stderr",
     "output_type": "stream",
     "text": [
      "/var/folders/zm/1jsfy4n50pxgckvd0pk9rwvw0000gn/T/ipykernel_14492/2296241830.py:10: DtypeWarning: Columns (5) have mixed types. Specify dtype option on import or set low_memory=False.\n",
      "  for df in pd.read_csv(base_path, chunksize=chunk_size):\n"
     ]
    },
    {
     "name": "stdout",
     "output_type": "stream",
     "text": [
      "Processing, gz folder,  state: rajasthan, chunk 1000000\n",
      "Cleaning Data, processing last names\n"
     ]
    },
    {
     "name": "stderr",
     "output_type": "stream",
     "text": [
      "/var/folders/zm/1jsfy4n50pxgckvd0pk9rwvw0000gn/T/ipykernel_14492/2296241830.py:10: DtypeWarning: Columns (5,15,17,32,34) have mixed types. Specify dtype option on import or set low_memory=False.\n",
      "  for df in pd.read_csv(base_path, chunksize=chunk_size):\n"
     ]
    },
    {
     "name": "stdout",
     "output_type": "stream",
     "text": [
      "Processing, gz folder,  state: rajasthan, chunk 1000000\n",
      "Cleaning Data, processing last names\n"
     ]
    },
    {
     "name": "stderr",
     "output_type": "stream",
     "text": [
      "/var/folders/zm/1jsfy4n50pxgckvd0pk9rwvw0000gn/T/ipykernel_14492/2296241830.py:10: DtypeWarning: Columns (5,15,16,17,32,33,34) have mixed types. Specify dtype option on import or set low_memory=False.\n",
      "  for df in pd.read_csv(base_path, chunksize=chunk_size):\n"
     ]
    },
    {
     "name": "stdout",
     "output_type": "stream",
     "text": [
      "Processing, gz folder,  state: rajasthan, chunk 1000000\n",
      "Cleaning Data, processing last names\n"
     ]
    },
    {
     "name": "stderr",
     "output_type": "stream",
     "text": [
      "/var/folders/zm/1jsfy4n50pxgckvd0pk9rwvw0000gn/T/ipykernel_14492/2296241830.py:10: DtypeWarning: Columns (5,15,16,17,32,33,34) have mixed types. Specify dtype option on import or set low_memory=False.\n",
      "  for df in pd.read_csv(base_path, chunksize=chunk_size):\n"
     ]
    },
    {
     "name": "stdout",
     "output_type": "stream",
     "text": [
      "Processing, gz folder,  state: rajasthan, chunk 1000000\n",
      "Cleaning Data, processing last names\n"
     ]
    },
    {
     "name": "stderr",
     "output_type": "stream",
     "text": [
      "/var/folders/zm/1jsfy4n50pxgckvd0pk9rwvw0000gn/T/ipykernel_14492/2296241830.py:10: DtypeWarning: Columns (5,16,17,33,34) have mixed types. Specify dtype option on import or set low_memory=False.\n",
      "  for df in pd.read_csv(base_path, chunksize=chunk_size):\n"
     ]
    },
    {
     "name": "stdout",
     "output_type": "stream",
     "text": [
      "Processing, gz folder,  state: rajasthan, chunk 1000000\n",
      "Cleaning Data, processing last names\n"
     ]
    },
    {
     "name": "stderr",
     "output_type": "stream",
     "text": [
      "/var/folders/zm/1jsfy4n50pxgckvd0pk9rwvw0000gn/T/ipykernel_14492/2296241830.py:10: DtypeWarning: Columns (5,15,17,32,34) have mixed types. Specify dtype option on import or set low_memory=False.\n",
      "  for df in pd.read_csv(base_path, chunksize=chunk_size):\n"
     ]
    },
    {
     "name": "stdout",
     "output_type": "stream",
     "text": [
      "Processing, gz folder,  state: rajasthan, chunk 1000000\n",
      "Cleaning Data, processing last names\n"
     ]
    },
    {
     "name": "stderr",
     "output_type": "stream",
     "text": [
      "/var/folders/zm/1jsfy4n50pxgckvd0pk9rwvw0000gn/T/ipykernel_14492/2296241830.py:10: DtypeWarning: Columns (5) have mixed types. Specify dtype option on import or set low_memory=False.\n",
      "  for df in pd.read_csv(base_path, chunksize=chunk_size):\n"
     ]
    },
    {
     "name": "stdout",
     "output_type": "stream",
     "text": [
      "Processing, gz folder,  state: rajasthan, chunk 1000000\n",
      "Cleaning Data, processing last names\n"
     ]
    },
    {
     "name": "stderr",
     "output_type": "stream",
     "text": [
      "/var/folders/zm/1jsfy4n50pxgckvd0pk9rwvw0000gn/T/ipykernel_14492/2296241830.py:10: DtypeWarning: Columns (5) have mixed types. Specify dtype option on import or set low_memory=False.\n",
      "  for df in pd.read_csv(base_path, chunksize=chunk_size):\n"
     ]
    },
    {
     "name": "stdout",
     "output_type": "stream",
     "text": [
      "Processing, gz folder,  state: rajasthan, chunk 1000000\n",
      "Cleaning Data, processing last names\n"
     ]
    },
    {
     "name": "stderr",
     "output_type": "stream",
     "text": [
      "/var/folders/zm/1jsfy4n50pxgckvd0pk9rwvw0000gn/T/ipykernel_14492/2296241830.py:10: DtypeWarning: Columns (5) have mixed types. Specify dtype option on import or set low_memory=False.\n",
      "  for df in pd.read_csv(base_path, chunksize=chunk_size):\n"
     ]
    },
    {
     "name": "stdout",
     "output_type": "stream",
     "text": [
      "Processing, gz folder,  state: rajasthan, chunk 1000000\n",
      "Cleaning Data, processing last names\n"
     ]
    },
    {
     "name": "stderr",
     "output_type": "stream",
     "text": [
      "/var/folders/zm/1jsfy4n50pxgckvd0pk9rwvw0000gn/T/ipykernel_14492/2296241830.py:10: DtypeWarning: Columns (5,15,17,32,34) have mixed types. Specify dtype option on import or set low_memory=False.\n",
      "  for df in pd.read_csv(base_path, chunksize=chunk_size):\n"
     ]
    },
    {
     "name": "stdout",
     "output_type": "stream",
     "text": [
      "Processing, gz folder,  state: rajasthan, chunk 1000000\n",
      "Cleaning Data, processing last names\n"
     ]
    },
    {
     "name": "stderr",
     "output_type": "stream",
     "text": [
      "/var/folders/zm/1jsfy4n50pxgckvd0pk9rwvw0000gn/T/ipykernel_14492/2296241830.py:10: DtypeWarning: Columns (5,15,17,32,34) have mixed types. Specify dtype option on import or set low_memory=False.\n",
      "  for df in pd.read_csv(base_path, chunksize=chunk_size):\n"
     ]
    },
    {
     "name": "stdout",
     "output_type": "stream",
     "text": [
      "Processing, gz folder,  state: rajasthan, chunk 1000000\n",
      "Cleaning Data, processing last names\n"
     ]
    },
    {
     "name": "stderr",
     "output_type": "stream",
     "text": [
      "/var/folders/zm/1jsfy4n50pxgckvd0pk9rwvw0000gn/T/ipykernel_14492/2296241830.py:10: DtypeWarning: Columns (5) have mixed types. Specify dtype option on import or set low_memory=False.\n",
      "  for df in pd.read_csv(base_path, chunksize=chunk_size):\n"
     ]
    },
    {
     "name": "stdout",
     "output_type": "stream",
     "text": [
      "Processing, gz folder,  state: rajasthan, chunk 1000000\n",
      "Cleaning Data, processing last names\n"
     ]
    },
    {
     "name": "stderr",
     "output_type": "stream",
     "text": [
      "/var/folders/zm/1jsfy4n50pxgckvd0pk9rwvw0000gn/T/ipykernel_14492/2296241830.py:10: DtypeWarning: Columns (5) have mixed types. Specify dtype option on import or set low_memory=False.\n",
      "  for df in pd.read_csv(base_path, chunksize=chunk_size):\n"
     ]
    },
    {
     "name": "stdout",
     "output_type": "stream",
     "text": [
      "Processing, gz folder,  state: rajasthan, chunk 1000000\n",
      "Cleaning Data, processing last names\n",
      "Processing, gz folder,  state: sikkim, chunk 1000000\n",
      "Cleaning Data, processing last names\n"
     ]
    },
    {
     "name": "stderr",
     "output_type": "stream",
     "text": [
      "/var/folders/zm/1jsfy4n50pxgckvd0pk9rwvw0000gn/T/ipykernel_14492/1767827396.py:13: SettingWithCopyWarning: \n",
      "A value is trying to be set on a copy of a slice from a DataFrame.\n",
      "Try using .loc[row_indexer,col_indexer] = value instead\n",
      "\n",
      "See the caveats in the documentation: https://pandas.pydata.org/pandas-docs/stable/user_guide/indexing.html#returning-a-view-versus-a-copy\n",
      "  df[\"state\"] = state_split[0]\n",
      "/var/folders/zm/1jsfy4n50pxgckvd0pk9rwvw0000gn/T/ipykernel_14492/2296241830.py:10: DtypeWarning: Columns (16,19) have mixed types. Specify dtype option on import or set low_memory=False.\n",
      "  for df in pd.read_csv(base_path, chunksize=chunk_size):\n"
     ]
    },
    {
     "name": "stdout",
     "output_type": "stream",
     "text": [
      "Processing, gz folder,  state: tel, chunk 1000000\n",
      "Cleaning Data, processing last names\n"
     ]
    },
    {
     "name": "stderr",
     "output_type": "stream",
     "text": [
      "/var/folders/zm/1jsfy4n50pxgckvd0pk9rwvw0000gn/T/ipykernel_14492/1767827396.py:13: SettingWithCopyWarning: \n",
      "A value is trying to be set on a copy of a slice from a DataFrame.\n",
      "Try using .loc[row_indexer,col_indexer] = value instead\n",
      "\n",
      "See the caveats in the documentation: https://pandas.pydata.org/pandas-docs/stable/user_guide/indexing.html#returning-a-view-versus-a-copy\n",
      "  df[\"state\"] = state_split[0]\n",
      "/var/folders/zm/1jsfy4n50pxgckvd0pk9rwvw0000gn/T/ipykernel_14492/2296241830.py:10: DtypeWarning: Columns (19) have mixed types. Specify dtype option on import or set low_memory=False.\n",
      "  for df in pd.read_csv(base_path, chunksize=chunk_size):\n"
     ]
    },
    {
     "name": "stdout",
     "output_type": "stream",
     "text": [
      "Processing, gz folder,  state: tel, chunk 1000000\n",
      "Cleaning Data, processing last names\n"
     ]
    },
    {
     "name": "stderr",
     "output_type": "stream",
     "text": [
      "/var/folders/zm/1jsfy4n50pxgckvd0pk9rwvw0000gn/T/ipykernel_14492/1767827396.py:13: SettingWithCopyWarning: \n",
      "A value is trying to be set on a copy of a slice from a DataFrame.\n",
      "Try using .loc[row_indexer,col_indexer] = value instead\n",
      "\n",
      "See the caveats in the documentation: https://pandas.pydata.org/pandas-docs/stable/user_guide/indexing.html#returning-a-view-versus-a-copy\n",
      "  df[\"state\"] = state_split[0]\n",
      "/var/folders/zm/1jsfy4n50pxgckvd0pk9rwvw0000gn/T/ipykernel_14492/2296241830.py:10: DtypeWarning: Columns (8,19) have mixed types. Specify dtype option on import or set low_memory=False.\n",
      "  for df in pd.read_csv(base_path, chunksize=chunk_size):\n"
     ]
    },
    {
     "name": "stdout",
     "output_type": "stream",
     "text": [
      "Processing, gz folder,  state: tel, chunk 1000000\n",
      "Cleaning Data, processing last names\n"
     ]
    },
    {
     "name": "stderr",
     "output_type": "stream",
     "text": [
      "/var/folders/zm/1jsfy4n50pxgckvd0pk9rwvw0000gn/T/ipykernel_14492/1767827396.py:13: SettingWithCopyWarning: \n",
      "A value is trying to be set on a copy of a slice from a DataFrame.\n",
      "Try using .loc[row_indexer,col_indexer] = value instead\n",
      "\n",
      "See the caveats in the documentation: https://pandas.pydata.org/pandas-docs/stable/user_guide/indexing.html#returning-a-view-versus-a-copy\n",
      "  df[\"state\"] = state_split[0]\n",
      "/var/folders/zm/1jsfy4n50pxgckvd0pk9rwvw0000gn/T/ipykernel_14492/2296241830.py:10: DtypeWarning: Columns (16,19) have mixed types. Specify dtype option on import or set low_memory=False.\n",
      "  for df in pd.read_csv(base_path, chunksize=chunk_size):\n"
     ]
    },
    {
     "name": "stdout",
     "output_type": "stream",
     "text": [
      "Processing, gz folder,  state: tel, chunk 1000000\n",
      "Cleaning Data, processing last names\n"
     ]
    },
    {
     "name": "stderr",
     "output_type": "stream",
     "text": [
      "/var/folders/zm/1jsfy4n50pxgckvd0pk9rwvw0000gn/T/ipykernel_14492/1767827396.py:13: SettingWithCopyWarning: \n",
      "A value is trying to be set on a copy of a slice from a DataFrame.\n",
      "Try using .loc[row_indexer,col_indexer] = value instead\n",
      "\n",
      "See the caveats in the documentation: https://pandas.pydata.org/pandas-docs/stable/user_guide/indexing.html#returning-a-view-versus-a-copy\n",
      "  df[\"state\"] = state_split[0]\n",
      "/var/folders/zm/1jsfy4n50pxgckvd0pk9rwvw0000gn/T/ipykernel_14492/2296241830.py:10: DtypeWarning: Columns (8,9,19) have mixed types. Specify dtype option on import or set low_memory=False.\n",
      "  for df in pd.read_csv(base_path, chunksize=chunk_size):\n"
     ]
    },
    {
     "name": "stdout",
     "output_type": "stream",
     "text": [
      "Processing, gz folder,  state: tel, chunk 1000000\n",
      "Cleaning Data, processing last names\n"
     ]
    },
    {
     "name": "stderr",
     "output_type": "stream",
     "text": [
      "/var/folders/zm/1jsfy4n50pxgckvd0pk9rwvw0000gn/T/ipykernel_14492/1767827396.py:13: SettingWithCopyWarning: \n",
      "A value is trying to be set on a copy of a slice from a DataFrame.\n",
      "Try using .loc[row_indexer,col_indexer] = value instead\n",
      "\n",
      "See the caveats in the documentation: https://pandas.pydata.org/pandas-docs/stable/user_guide/indexing.html#returning-a-view-versus-a-copy\n",
      "  df[\"state\"] = state_split[0]\n",
      "/var/folders/zm/1jsfy4n50pxgckvd0pk9rwvw0000gn/T/ipykernel_14492/2296241830.py:10: DtypeWarning: Columns (16,19) have mixed types. Specify dtype option on import or set low_memory=False.\n",
      "  for df in pd.read_csv(base_path, chunksize=chunk_size):\n"
     ]
    },
    {
     "name": "stdout",
     "output_type": "stream",
     "text": [
      "Processing, gz folder,  state: tel, chunk 1000000\n",
      "Cleaning Data, processing last names\n"
     ]
    },
    {
     "name": "stderr",
     "output_type": "stream",
     "text": [
      "/var/folders/zm/1jsfy4n50pxgckvd0pk9rwvw0000gn/T/ipykernel_14492/1767827396.py:13: SettingWithCopyWarning: \n",
      "A value is trying to be set on a copy of a slice from a DataFrame.\n",
      "Try using .loc[row_indexer,col_indexer] = value instead\n",
      "\n",
      "See the caveats in the documentation: https://pandas.pydata.org/pandas-docs/stable/user_guide/indexing.html#returning-a-view-versus-a-copy\n",
      "  df[\"state\"] = state_split[0]\n",
      "/var/folders/zm/1jsfy4n50pxgckvd0pk9rwvw0000gn/T/ipykernel_14492/2296241830.py:10: DtypeWarning: Columns (16) have mixed types. Specify dtype option on import or set low_memory=False.\n",
      "  for df in pd.read_csv(base_path, chunksize=chunk_size):\n"
     ]
    },
    {
     "name": "stdout",
     "output_type": "stream",
     "text": [
      "Processing, gz folder,  state: tel, chunk 1000000\n",
      "Cleaning Data, processing last names\n"
     ]
    },
    {
     "name": "stderr",
     "output_type": "stream",
     "text": [
      "/var/folders/zm/1jsfy4n50pxgckvd0pk9rwvw0000gn/T/ipykernel_14492/1767827396.py:13: SettingWithCopyWarning: \n",
      "A value is trying to be set on a copy of a slice from a DataFrame.\n",
      "Try using .loc[row_indexer,col_indexer] = value instead\n",
      "\n",
      "See the caveats in the documentation: https://pandas.pydata.org/pandas-docs/stable/user_guide/indexing.html#returning-a-view-versus-a-copy\n",
      "  df[\"state\"] = state_split[0]\n",
      "/var/folders/zm/1jsfy4n50pxgckvd0pk9rwvw0000gn/T/ipykernel_14492/2296241830.py:10: DtypeWarning: Columns (10,16,19) have mixed types. Specify dtype option on import or set low_memory=False.\n",
      "  for df in pd.read_csv(base_path, chunksize=chunk_size):\n"
     ]
    },
    {
     "name": "stdout",
     "output_type": "stream",
     "text": [
      "Processing, gz folder,  state: tel, chunk 1000000\n",
      "Cleaning Data, processing last names\n"
     ]
    },
    {
     "name": "stderr",
     "output_type": "stream",
     "text": [
      "/var/folders/zm/1jsfy4n50pxgckvd0pk9rwvw0000gn/T/ipykernel_14492/1767827396.py:13: SettingWithCopyWarning: \n",
      "A value is trying to be set on a copy of a slice from a DataFrame.\n",
      "Try using .loc[row_indexer,col_indexer] = value instead\n",
      "\n",
      "See the caveats in the documentation: https://pandas.pydata.org/pandas-docs/stable/user_guide/indexing.html#returning-a-view-versus-a-copy\n",
      "  df[\"state\"] = state_split[0]\n"
     ]
    },
    {
     "name": "stdout",
     "output_type": "stream",
     "text": [
      "Processing, gz folder,  state: tel, chunk 1000000\n",
      "Cleaning Data, processing last names\n"
     ]
    },
    {
     "name": "stderr",
     "output_type": "stream",
     "text": [
      "/var/folders/zm/1jsfy4n50pxgckvd0pk9rwvw0000gn/T/ipykernel_14492/1767827396.py:13: SettingWithCopyWarning: \n",
      "A value is trying to be set on a copy of a slice from a DataFrame.\n",
      "Try using .loc[row_indexer,col_indexer] = value instead\n",
      "\n",
      "See the caveats in the documentation: https://pandas.pydata.org/pandas-docs/stable/user_guide/indexing.html#returning-a-view-versus-a-copy\n",
      "  df[\"state\"] = state_split[0]\n",
      "/var/folders/zm/1jsfy4n50pxgckvd0pk9rwvw0000gn/T/ipykernel_14492/2296241830.py:10: DtypeWarning: Columns (8,9,16,19) have mixed types. Specify dtype option on import or set low_memory=False.\n",
      "  for df in pd.read_csv(base_path, chunksize=chunk_size):\n"
     ]
    },
    {
     "name": "stdout",
     "output_type": "stream",
     "text": [
      "Processing, gz folder,  state: tel, chunk 1000000\n",
      "Cleaning Data, processing last names\n"
     ]
    },
    {
     "name": "stderr",
     "output_type": "stream",
     "text": [
      "/var/folders/zm/1jsfy4n50pxgckvd0pk9rwvw0000gn/T/ipykernel_14492/1767827396.py:13: SettingWithCopyWarning: \n",
      "A value is trying to be set on a copy of a slice from a DataFrame.\n",
      "Try using .loc[row_indexer,col_indexer] = value instead\n",
      "\n",
      "See the caveats in the documentation: https://pandas.pydata.org/pandas-docs/stable/user_guide/indexing.html#returning-a-view-versus-a-copy\n",
      "  df[\"state\"] = state_split[0]\n",
      "/var/folders/zm/1jsfy4n50pxgckvd0pk9rwvw0000gn/T/ipykernel_14492/2296241830.py:10: DtypeWarning: Columns (8,16,19) have mixed types. Specify dtype option on import or set low_memory=False.\n",
      "  for df in pd.read_csv(base_path, chunksize=chunk_size):\n"
     ]
    },
    {
     "name": "stdout",
     "output_type": "stream",
     "text": [
      "Processing, gz folder,  state: tel, chunk 1000000\n",
      "Cleaning Data, processing last names\n"
     ]
    },
    {
     "name": "stderr",
     "output_type": "stream",
     "text": [
      "/var/folders/zm/1jsfy4n50pxgckvd0pk9rwvw0000gn/T/ipykernel_14492/1767827396.py:13: SettingWithCopyWarning: \n",
      "A value is trying to be set on a copy of a slice from a DataFrame.\n",
      "Try using .loc[row_indexer,col_indexer] = value instead\n",
      "\n",
      "See the caveats in the documentation: https://pandas.pydata.org/pandas-docs/stable/user_guide/indexing.html#returning-a-view-versus-a-copy\n",
      "  df[\"state\"] = state_split[0]\n",
      "/var/folders/zm/1jsfy4n50pxgckvd0pk9rwvw0000gn/T/ipykernel_14492/2296241830.py:10: DtypeWarning: Columns (19) have mixed types. Specify dtype option on import or set low_memory=False.\n",
      "  for df in pd.read_csv(base_path, chunksize=chunk_size):\n"
     ]
    },
    {
     "name": "stdout",
     "output_type": "stream",
     "text": [
      "Processing, gz folder,  state: tel, chunk 1000000\n",
      "Cleaning Data, processing last names\n"
     ]
    },
    {
     "name": "stderr",
     "output_type": "stream",
     "text": [
      "/var/folders/zm/1jsfy4n50pxgckvd0pk9rwvw0000gn/T/ipykernel_14492/1767827396.py:13: SettingWithCopyWarning: \n",
      "A value is trying to be set on a copy of a slice from a DataFrame.\n",
      "Try using .loc[row_indexer,col_indexer] = value instead\n",
      "\n",
      "See the caveats in the documentation: https://pandas.pydata.org/pandas-docs/stable/user_guide/indexing.html#returning-a-view-versus-a-copy\n",
      "  df[\"state\"] = state_split[0]\n",
      "/var/folders/zm/1jsfy4n50pxgckvd0pk9rwvw0000gn/T/ipykernel_14492/2296241830.py:10: DtypeWarning: Columns (16,19) have mixed types. Specify dtype option on import or set low_memory=False.\n",
      "  for df in pd.read_csv(base_path, chunksize=chunk_size):\n"
     ]
    },
    {
     "name": "stdout",
     "output_type": "stream",
     "text": [
      "Processing, gz folder,  state: tel, chunk 1000000\n",
      "Cleaning Data, processing last names\n"
     ]
    },
    {
     "name": "stderr",
     "output_type": "stream",
     "text": [
      "/var/folders/zm/1jsfy4n50pxgckvd0pk9rwvw0000gn/T/ipykernel_14492/1767827396.py:13: SettingWithCopyWarning: \n",
      "A value is trying to be set on a copy of a slice from a DataFrame.\n",
      "Try using .loc[row_indexer,col_indexer] = value instead\n",
      "\n",
      "See the caveats in the documentation: https://pandas.pydata.org/pandas-docs/stable/user_guide/indexing.html#returning-a-view-versus-a-copy\n",
      "  df[\"state\"] = state_split[0]\n",
      "/var/folders/zm/1jsfy4n50pxgckvd0pk9rwvw0000gn/T/ipykernel_14492/2296241830.py:10: DtypeWarning: Columns (16,19) have mixed types. Specify dtype option on import or set low_memory=False.\n",
      "  for df in pd.read_csv(base_path, chunksize=chunk_size):\n"
     ]
    },
    {
     "name": "stdout",
     "output_type": "stream",
     "text": [
      "Processing, gz folder,  state: tel, chunk 1000000\n",
      "Cleaning Data, processing last names\n"
     ]
    },
    {
     "name": "stderr",
     "output_type": "stream",
     "text": [
      "/var/folders/zm/1jsfy4n50pxgckvd0pk9rwvw0000gn/T/ipykernel_14492/1767827396.py:13: SettingWithCopyWarning: \n",
      "A value is trying to be set on a copy of a slice from a DataFrame.\n",
      "Try using .loc[row_indexer,col_indexer] = value instead\n",
      "\n",
      "See the caveats in the documentation: https://pandas.pydata.org/pandas-docs/stable/user_guide/indexing.html#returning-a-view-versus-a-copy\n",
      "  df[\"state\"] = state_split[0]\n",
      "/var/folders/zm/1jsfy4n50pxgckvd0pk9rwvw0000gn/T/ipykernel_14492/2296241830.py:10: DtypeWarning: Columns (16,19) have mixed types. Specify dtype option on import or set low_memory=False.\n",
      "  for df in pd.read_csv(base_path, chunksize=chunk_size):\n"
     ]
    },
    {
     "name": "stdout",
     "output_type": "stream",
     "text": [
      "Processing, gz folder,  state: tel, chunk 1000000\n",
      "Cleaning Data, processing last names\n"
     ]
    },
    {
     "name": "stderr",
     "output_type": "stream",
     "text": [
      "/var/folders/zm/1jsfy4n50pxgckvd0pk9rwvw0000gn/T/ipykernel_14492/1767827396.py:13: SettingWithCopyWarning: \n",
      "A value is trying to be set on a copy of a slice from a DataFrame.\n",
      "Try using .loc[row_indexer,col_indexer] = value instead\n",
      "\n",
      "See the caveats in the documentation: https://pandas.pydata.org/pandas-docs/stable/user_guide/indexing.html#returning-a-view-versus-a-copy\n",
      "  df[\"state\"] = state_split[0]\n"
     ]
    },
    {
     "name": "stdout",
     "output_type": "stream",
     "text": [
      "Processing, gz folder,  state: tel, chunk 1000000\n",
      "Cleaning Data, processing last names\n"
     ]
    },
    {
     "name": "stderr",
     "output_type": "stream",
     "text": [
      "/var/folders/zm/1jsfy4n50pxgckvd0pk9rwvw0000gn/T/ipykernel_14492/1767827396.py:13: SettingWithCopyWarning: \n",
      "A value is trying to be set on a copy of a slice from a DataFrame.\n",
      "Try using .loc[row_indexer,col_indexer] = value instead\n",
      "\n",
      "See the caveats in the documentation: https://pandas.pydata.org/pandas-docs/stable/user_guide/indexing.html#returning-a-view-versus-a-copy\n",
      "  df[\"state\"] = state_split[0]\n"
     ]
    },
    {
     "name": "stdout",
     "output_type": "stream",
     "text": [
      "Skipping unsupported state: tn\n"
     ]
    },
    {
     "name": "stderr",
     "output_type": "stream",
     "text": [
      "/var/folders/zm/1jsfy4n50pxgckvd0pk9rwvw0000gn/T/ipykernel_14492/2296241830.py:10: DtypeWarning: Columns (0,10) have mixed types. Specify dtype option on import or set low_memory=False.\n",
      "  for df in pd.read_csv(base_path, chunksize=chunk_size):\n"
     ]
    },
    {
     "name": "stdout",
     "output_type": "stream",
     "text": [
      "Processing, gz folder,  state: tripura, chunk 1000000\n",
      "Cleaning Data, processing last names\n"
     ]
    },
    {
     "name": "stderr",
     "output_type": "stream",
     "text": [
      "/var/folders/zm/1jsfy4n50pxgckvd0pk9rwvw0000gn/T/ipykernel_14492/2296241830.py:10: DtypeWarning: Columns (0,10,18,34) have mixed types. Specify dtype option on import or set low_memory=False.\n",
      "  for df in pd.read_csv(base_path, chunksize=chunk_size):\n"
     ]
    },
    {
     "name": "stdout",
     "output_type": "stream",
     "text": [
      "Processing, gz folder,  state: tripura, chunk 1000000\n",
      "Cleaning Data, processing last names\n"
     ]
    },
    {
     "name": "stderr",
     "output_type": "stream",
     "text": [
      "/var/folders/zm/1jsfy4n50pxgckvd0pk9rwvw0000gn/T/ipykernel_14492/2296241830.py:10: DtypeWarning: Columns (0,10) have mixed types. Specify dtype option on import or set low_memory=False.\n",
      "  for df in pd.read_csv(base_path, chunksize=chunk_size):\n"
     ]
    },
    {
     "name": "stdout",
     "output_type": "stream",
     "text": [
      "Processing, gz folder,  state: tripura, chunk 1000000\n",
      "Cleaning Data, processing last names\n"
     ]
    },
    {
     "name": "stderr",
     "output_type": "stream",
     "text": [
      "/var/folders/zm/1jsfy4n50pxgckvd0pk9rwvw0000gn/T/ipykernel_14492/2296241830.py:10: DtypeWarning: Columns (10) have mixed types. Specify dtype option on import or set low_memory=False.\n",
      "  for df in pd.read_csv(base_path, chunksize=chunk_size):\n"
     ]
    },
    {
     "name": "stdout",
     "output_type": "stream",
     "text": [
      "Processing, gz folder,  state: up, chunk 1000000\n",
      "Cleaning Data, processing last names\n"
     ]
    },
    {
     "name": "stderr",
     "output_type": "stream",
     "text": [
      "/var/folders/zm/1jsfy4n50pxgckvd0pk9rwvw0000gn/T/ipykernel_14492/2296241830.py:10: DtypeWarning: Columns (5,10) have mixed types. Specify dtype option on import or set low_memory=False.\n",
      "  for df in pd.read_csv(base_path, chunksize=chunk_size):\n"
     ]
    },
    {
     "name": "stdout",
     "output_type": "stream",
     "text": [
      "Processing, gz folder,  state: up, chunk 1000000\n",
      "Cleaning Data, processing last names\n"
     ]
    },
    {
     "name": "stderr",
     "output_type": "stream",
     "text": [
      "/var/folders/zm/1jsfy4n50pxgckvd0pk9rwvw0000gn/T/ipykernel_14492/2296241830.py:10: DtypeWarning: Columns (0,10) have mixed types. Specify dtype option on import or set low_memory=False.\n",
      "  for df in pd.read_csv(base_path, chunksize=chunk_size):\n"
     ]
    },
    {
     "name": "stdout",
     "output_type": "stream",
     "text": [
      "Processing, gz folder,  state: up, chunk 1000000\n",
      "Cleaning Data, processing last names\n"
     ]
    },
    {
     "name": "stderr",
     "output_type": "stream",
     "text": [
      "/var/folders/zm/1jsfy4n50pxgckvd0pk9rwvw0000gn/T/ipykernel_14492/2296241830.py:10: DtypeWarning: Columns (0,5,8,10,17,29,34) have mixed types. Specify dtype option on import or set low_memory=False.\n",
      "  for df in pd.read_csv(base_path, chunksize=chunk_size):\n"
     ]
    },
    {
     "name": "stdout",
     "output_type": "stream",
     "text": [
      "Processing, gz folder,  state: up, chunk 1000000\n",
      "Cleaning Data, processing last names\n"
     ]
    },
    {
     "name": "stderr",
     "output_type": "stream",
     "text": [
      "/var/folders/zm/1jsfy4n50pxgckvd0pk9rwvw0000gn/T/ipykernel_14492/2296241830.py:10: DtypeWarning: Columns (10) have mixed types. Specify dtype option on import or set low_memory=False.\n",
      "  for df in pd.read_csv(base_path, chunksize=chunk_size):\n"
     ]
    },
    {
     "name": "stdout",
     "output_type": "stream",
     "text": [
      "Processing, gz folder,  state: up, chunk 1000000\n",
      "Cleaning Data, processing last names\n"
     ]
    },
    {
     "name": "stderr",
     "output_type": "stream",
     "text": [
      "/var/folders/zm/1jsfy4n50pxgckvd0pk9rwvw0000gn/T/ipykernel_14492/2296241830.py:10: DtypeWarning: Columns (10) have mixed types. Specify dtype option on import or set low_memory=False.\n",
      "  for df in pd.read_csv(base_path, chunksize=chunk_size):\n"
     ]
    },
    {
     "name": "stdout",
     "output_type": "stream",
     "text": [
      "Processing, gz folder,  state: up, chunk 1000000\n",
      "Cleaning Data, processing last names\n"
     ]
    },
    {
     "name": "stderr",
     "output_type": "stream",
     "text": [
      "/var/folders/zm/1jsfy4n50pxgckvd0pk9rwvw0000gn/T/ipykernel_14492/2296241830.py:10: DtypeWarning: Columns (0,5,10) have mixed types. Specify dtype option on import or set low_memory=False.\n",
      "  for df in pd.read_csv(base_path, chunksize=chunk_size):\n"
     ]
    },
    {
     "name": "stdout",
     "output_type": "stream",
     "text": [
      "Processing, gz folder,  state: up, chunk 1000000\n",
      "Cleaning Data, processing last names\n"
     ]
    },
    {
     "name": "stderr",
     "output_type": "stream",
     "text": [
      "/var/folders/zm/1jsfy4n50pxgckvd0pk9rwvw0000gn/T/ipykernel_14492/2296241830.py:10: DtypeWarning: Columns (0,5,10) have mixed types. Specify dtype option on import or set low_memory=False.\n",
      "  for df in pd.read_csv(base_path, chunksize=chunk_size):\n"
     ]
    },
    {
     "name": "stdout",
     "output_type": "stream",
     "text": [
      "Processing, gz folder,  state: up, chunk 1000000\n",
      "Cleaning Data, processing last names\n"
     ]
    },
    {
     "name": "stderr",
     "output_type": "stream",
     "text": [
      "/var/folders/zm/1jsfy4n50pxgckvd0pk9rwvw0000gn/T/ipykernel_14492/2296241830.py:10: DtypeWarning: Columns (5,10,14,17,31,34) have mixed types. Specify dtype option on import or set low_memory=False.\n",
      "  for df in pd.read_csv(base_path, chunksize=chunk_size):\n"
     ]
    },
    {
     "name": "stdout",
     "output_type": "stream",
     "text": [
      "Processing, gz folder,  state: up, chunk 1000000\n",
      "Cleaning Data, processing last names\n"
     ]
    },
    {
     "name": "stderr",
     "output_type": "stream",
     "text": [
      "/var/folders/zm/1jsfy4n50pxgckvd0pk9rwvw0000gn/T/ipykernel_14492/2296241830.py:10: DtypeWarning: Columns (5,10,14,17,31,34) have mixed types. Specify dtype option on import or set low_memory=False.\n",
      "  for df in pd.read_csv(base_path, chunksize=chunk_size):\n"
     ]
    },
    {
     "name": "stdout",
     "output_type": "stream",
     "text": [
      "Processing, gz folder,  state: up, chunk 1000000\n",
      "Cleaning Data, processing last names\n"
     ]
    },
    {
     "name": "stderr",
     "output_type": "stream",
     "text": [
      "/var/folders/zm/1jsfy4n50pxgckvd0pk9rwvw0000gn/T/ipykernel_14492/2296241830.py:10: DtypeWarning: Columns (5,10) have mixed types. Specify dtype option on import or set low_memory=False.\n",
      "  for df in pd.read_csv(base_path, chunksize=chunk_size):\n"
     ]
    },
    {
     "name": "stdout",
     "output_type": "stream",
     "text": [
      "Processing, gz folder,  state: up, chunk 1000000\n",
      "Cleaning Data, processing last names\n"
     ]
    },
    {
     "name": "stderr",
     "output_type": "stream",
     "text": [
      "/var/folders/zm/1jsfy4n50pxgckvd0pk9rwvw0000gn/T/ipykernel_14492/2296241830.py:10: DtypeWarning: Columns (0,5,10) have mixed types. Specify dtype option on import or set low_memory=False.\n",
      "  for df in pd.read_csv(base_path, chunksize=chunk_size):\n"
     ]
    },
    {
     "name": "stdout",
     "output_type": "stream",
     "text": [
      "Processing, gz folder,  state: up, chunk 1000000\n",
      "Cleaning Data, processing last names\n"
     ]
    },
    {
     "name": "stderr",
     "output_type": "stream",
     "text": [
      "/var/folders/zm/1jsfy4n50pxgckvd0pk9rwvw0000gn/T/ipykernel_14492/2296241830.py:10: DtypeWarning: Columns (0,5,10) have mixed types. Specify dtype option on import or set low_memory=False.\n",
      "  for df in pd.read_csv(base_path, chunksize=chunk_size):\n"
     ]
    },
    {
     "name": "stdout",
     "output_type": "stream",
     "text": [
      "Processing, gz folder,  state: up, chunk 1000000\n",
      "Cleaning Data, processing last names\n"
     ]
    },
    {
     "name": "stderr",
     "output_type": "stream",
     "text": [
      "/var/folders/zm/1jsfy4n50pxgckvd0pk9rwvw0000gn/T/ipykernel_14492/2296241830.py:10: DtypeWarning: Columns (0,5,10) have mixed types. Specify dtype option on import or set low_memory=False.\n",
      "  for df in pd.read_csv(base_path, chunksize=chunk_size):\n"
     ]
    },
    {
     "name": "stdout",
     "output_type": "stream",
     "text": [
      "Processing, gz folder,  state: up, chunk 1000000\n",
      "Cleaning Data, processing last names\n"
     ]
    },
    {
     "name": "stderr",
     "output_type": "stream",
     "text": [
      "/var/folders/zm/1jsfy4n50pxgckvd0pk9rwvw0000gn/T/ipykernel_14492/2296241830.py:10: DtypeWarning: Columns (10,17,34) have mixed types. Specify dtype option on import or set low_memory=False.\n",
      "  for df in pd.read_csv(base_path, chunksize=chunk_size):\n"
     ]
    },
    {
     "name": "stdout",
     "output_type": "stream",
     "text": [
      "Processing, gz folder,  state: up, chunk 1000000\n",
      "Cleaning Data, processing last names\n"
     ]
    },
    {
     "name": "stderr",
     "output_type": "stream",
     "text": [
      "/var/folders/zm/1jsfy4n50pxgckvd0pk9rwvw0000gn/T/ipykernel_14492/2296241830.py:10: DtypeWarning: Columns (10) have mixed types. Specify dtype option on import or set low_memory=False.\n",
      "  for df in pd.read_csv(base_path, chunksize=chunk_size):\n"
     ]
    },
    {
     "name": "stdout",
     "output_type": "stream",
     "text": [
      "Processing, gz folder,  state: up, chunk 1000000\n",
      "Cleaning Data, processing last names\n"
     ]
    },
    {
     "name": "stderr",
     "output_type": "stream",
     "text": [
      "/var/folders/zm/1jsfy4n50pxgckvd0pk9rwvw0000gn/T/ipykernel_14492/2296241830.py:10: DtypeWarning: Columns (10,17,34) have mixed types. Specify dtype option on import or set low_memory=False.\n",
      "  for df in pd.read_csv(base_path, chunksize=chunk_size):\n"
     ]
    },
    {
     "name": "stdout",
     "output_type": "stream",
     "text": [
      "Processing, gz folder,  state: up, chunk 1000000\n",
      "Cleaning Data, processing last names\n"
     ]
    },
    {
     "name": "stderr",
     "output_type": "stream",
     "text": [
      "/var/folders/zm/1jsfy4n50pxgckvd0pk9rwvw0000gn/T/ipykernel_14492/2296241830.py:10: DtypeWarning: Columns (0,5,10,14,17,31,34) have mixed types. Specify dtype option on import or set low_memory=False.\n",
      "  for df in pd.read_csv(base_path, chunksize=chunk_size):\n"
     ]
    },
    {
     "name": "stdout",
     "output_type": "stream",
     "text": [
      "Processing, gz folder,  state: up, chunk 1000000\n",
      "Cleaning Data, processing last names\n"
     ]
    },
    {
     "name": "stderr",
     "output_type": "stream",
     "text": [
      "/var/folders/zm/1jsfy4n50pxgckvd0pk9rwvw0000gn/T/ipykernel_14492/2296241830.py:10: DtypeWarning: Columns (0,10,14,17,31,34) have mixed types. Specify dtype option on import or set low_memory=False.\n",
      "  for df in pd.read_csv(base_path, chunksize=chunk_size):\n"
     ]
    },
    {
     "name": "stdout",
     "output_type": "stream",
     "text": [
      "Processing, gz folder,  state: up, chunk 1000000\n",
      "Cleaning Data, processing last names\n"
     ]
    },
    {
     "name": "stderr",
     "output_type": "stream",
     "text": [
      "/var/folders/zm/1jsfy4n50pxgckvd0pk9rwvw0000gn/T/ipykernel_14492/2296241830.py:10: DtypeWarning: Columns (0,5,10) have mixed types. Specify dtype option on import or set low_memory=False.\n",
      "  for df in pd.read_csv(base_path, chunksize=chunk_size):\n"
     ]
    },
    {
     "name": "stdout",
     "output_type": "stream",
     "text": [
      "Processing, gz folder,  state: up, chunk 1000000\n",
      "Cleaning Data, processing last names\n"
     ]
    },
    {
     "name": "stderr",
     "output_type": "stream",
     "text": [
      "/var/folders/zm/1jsfy4n50pxgckvd0pk9rwvw0000gn/T/ipykernel_14492/2296241830.py:10: DtypeWarning: Columns (0,10,17,34) have mixed types. Specify dtype option on import or set low_memory=False.\n",
      "  for df in pd.read_csv(base_path, chunksize=chunk_size):\n"
     ]
    },
    {
     "name": "stdout",
     "output_type": "stream",
     "text": [
      "Processing, gz folder,  state: up, chunk 1000000\n",
      "Cleaning Data, processing last names\n"
     ]
    },
    {
     "name": "stderr",
     "output_type": "stream",
     "text": [
      "/var/folders/zm/1jsfy4n50pxgckvd0pk9rwvw0000gn/T/ipykernel_14492/2296241830.py:10: DtypeWarning: Columns (0,10,17,34) have mixed types. Specify dtype option on import or set low_memory=False.\n",
      "  for df in pd.read_csv(base_path, chunksize=chunk_size):\n"
     ]
    },
    {
     "name": "stdout",
     "output_type": "stream",
     "text": [
      "Processing, gz folder,  state: up, chunk 1000000\n",
      "Cleaning Data, processing last names\n"
     ]
    },
    {
     "name": "stderr",
     "output_type": "stream",
     "text": [
      "/var/folders/zm/1jsfy4n50pxgckvd0pk9rwvw0000gn/T/ipykernel_14492/2296241830.py:10: DtypeWarning: Columns (10) have mixed types. Specify dtype option on import or set low_memory=False.\n",
      "  for df in pd.read_csv(base_path, chunksize=chunk_size):\n"
     ]
    },
    {
     "name": "stdout",
     "output_type": "stream",
     "text": [
      "Processing, gz folder,  state: up, chunk 1000000\n",
      "Cleaning Data, processing last names\n"
     ]
    },
    {
     "name": "stderr",
     "output_type": "stream",
     "text": [
      "/var/folders/zm/1jsfy4n50pxgckvd0pk9rwvw0000gn/T/ipykernel_14492/2296241830.py:10: DtypeWarning: Columns (0,10) have mixed types. Specify dtype option on import or set low_memory=False.\n",
      "  for df in pd.read_csv(base_path, chunksize=chunk_size):\n"
     ]
    },
    {
     "name": "stdout",
     "output_type": "stream",
     "text": [
      "Processing, gz folder,  state: up, chunk 1000000\n",
      "Cleaning Data, processing last names\n"
     ]
    },
    {
     "name": "stderr",
     "output_type": "stream",
     "text": [
      "/var/folders/zm/1jsfy4n50pxgckvd0pk9rwvw0000gn/T/ipykernel_14492/2296241830.py:10: DtypeWarning: Columns (10) have mixed types. Specify dtype option on import or set low_memory=False.\n",
      "  for df in pd.read_csv(base_path, chunksize=chunk_size):\n"
     ]
    },
    {
     "name": "stdout",
     "output_type": "stream",
     "text": [
      "Processing, gz folder,  state: up, chunk 1000000\n",
      "Cleaning Data, processing last names\n"
     ]
    },
    {
     "name": "stderr",
     "output_type": "stream",
     "text": [
      "/var/folders/zm/1jsfy4n50pxgckvd0pk9rwvw0000gn/T/ipykernel_14492/2296241830.py:10: DtypeWarning: Columns (10) have mixed types. Specify dtype option on import or set low_memory=False.\n",
      "  for df in pd.read_csv(base_path, chunksize=chunk_size):\n"
     ]
    },
    {
     "name": "stdout",
     "output_type": "stream",
     "text": [
      "Processing, gz folder,  state: up, chunk 1000000\n",
      "Cleaning Data, processing last names\n"
     ]
    },
    {
     "name": "stderr",
     "output_type": "stream",
     "text": [
      "/var/folders/zm/1jsfy4n50pxgckvd0pk9rwvw0000gn/T/ipykernel_14492/2296241830.py:10: DtypeWarning: Columns (0,10) have mixed types. Specify dtype option on import or set low_memory=False.\n",
      "  for df in pd.read_csv(base_path, chunksize=chunk_size):\n"
     ]
    },
    {
     "name": "stdout",
     "output_type": "stream",
     "text": [
      "Processing, gz folder,  state: up, chunk 1000000\n",
      "Cleaning Data, processing last names\n"
     ]
    },
    {
     "name": "stderr",
     "output_type": "stream",
     "text": [
      "/var/folders/zm/1jsfy4n50pxgckvd0pk9rwvw0000gn/T/ipykernel_14492/2296241830.py:10: DtypeWarning: Columns (10) have mixed types. Specify dtype option on import or set low_memory=False.\n",
      "  for df in pd.read_csv(base_path, chunksize=chunk_size):\n"
     ]
    },
    {
     "name": "stdout",
     "output_type": "stream",
     "text": [
      "Processing, gz folder,  state: up, chunk 1000000\n",
      "Cleaning Data, processing last names\n"
     ]
    },
    {
     "name": "stderr",
     "output_type": "stream",
     "text": [
      "/var/folders/zm/1jsfy4n50pxgckvd0pk9rwvw0000gn/T/ipykernel_14492/2296241830.py:10: DtypeWarning: Columns (10) have mixed types. Specify dtype option on import or set low_memory=False.\n",
      "  for df in pd.read_csv(base_path, chunksize=chunk_size):\n"
     ]
    },
    {
     "name": "stdout",
     "output_type": "stream",
     "text": [
      "Processing, gz folder,  state: up, chunk 1000000\n",
      "Cleaning Data, processing last names\n"
     ]
    },
    {
     "name": "stderr",
     "output_type": "stream",
     "text": [
      "/var/folders/zm/1jsfy4n50pxgckvd0pk9rwvw0000gn/T/ipykernel_14492/2296241830.py:10: DtypeWarning: Columns (10) have mixed types. Specify dtype option on import or set low_memory=False.\n",
      "  for df in pd.read_csv(base_path, chunksize=chunk_size):\n"
     ]
    },
    {
     "name": "stdout",
     "output_type": "stream",
     "text": [
      "Processing, gz folder,  state: up, chunk 1000000\n",
      "Cleaning Data, processing last names\n"
     ]
    },
    {
     "name": "stderr",
     "output_type": "stream",
     "text": [
      "/var/folders/zm/1jsfy4n50pxgckvd0pk9rwvw0000gn/T/ipykernel_14492/2296241830.py:10: DtypeWarning: Columns (10) have mixed types. Specify dtype option on import or set low_memory=False.\n",
      "  for df in pd.read_csv(base_path, chunksize=chunk_size):\n"
     ]
    },
    {
     "name": "stdout",
     "output_type": "stream",
     "text": [
      "Processing, gz folder,  state: up, chunk 1000000\n",
      "Cleaning Data, processing last names\n"
     ]
    },
    {
     "name": "stderr",
     "output_type": "stream",
     "text": [
      "/var/folders/zm/1jsfy4n50pxgckvd0pk9rwvw0000gn/T/ipykernel_14492/2296241830.py:10: DtypeWarning: Columns (0,5,10,14,17,31,34) have mixed types. Specify dtype option on import or set low_memory=False.\n",
      "  for df in pd.read_csv(base_path, chunksize=chunk_size):\n"
     ]
    },
    {
     "name": "stdout",
     "output_type": "stream",
     "text": [
      "Processing, gz folder,  state: up, chunk 1000000\n",
      "Cleaning Data, processing last names\n"
     ]
    },
    {
     "name": "stderr",
     "output_type": "stream",
     "text": [
      "/var/folders/zm/1jsfy4n50pxgckvd0pk9rwvw0000gn/T/ipykernel_14492/2296241830.py:10: DtypeWarning: Columns (0,10,17,34) have mixed types. Specify dtype option on import or set low_memory=False.\n",
      "  for df in pd.read_csv(base_path, chunksize=chunk_size):\n"
     ]
    },
    {
     "name": "stdout",
     "output_type": "stream",
     "text": [
      "Processing, gz folder,  state: up, chunk 1000000\n",
      "Cleaning Data, processing last names\n"
     ]
    },
    {
     "name": "stderr",
     "output_type": "stream",
     "text": [
      "/var/folders/zm/1jsfy4n50pxgckvd0pk9rwvw0000gn/T/ipykernel_14492/2296241830.py:10: DtypeWarning: Columns (10) have mixed types. Specify dtype option on import or set low_memory=False.\n",
      "  for df in pd.read_csv(base_path, chunksize=chunk_size):\n"
     ]
    },
    {
     "name": "stdout",
     "output_type": "stream",
     "text": [
      "Processing, gz folder,  state: up, chunk 1000000\n",
      "Cleaning Data, processing last names\n"
     ]
    },
    {
     "name": "stderr",
     "output_type": "stream",
     "text": [
      "/var/folders/zm/1jsfy4n50pxgckvd0pk9rwvw0000gn/T/ipykernel_14492/2296241830.py:10: DtypeWarning: Columns (0,5,10) have mixed types. Specify dtype option on import or set low_memory=False.\n",
      "  for df in pd.read_csv(base_path, chunksize=chunk_size):\n"
     ]
    },
    {
     "name": "stdout",
     "output_type": "stream",
     "text": [
      "Processing, gz folder,  state: up, chunk 1000000\n",
      "Cleaning Data, processing last names\n"
     ]
    },
    {
     "name": "stderr",
     "output_type": "stream",
     "text": [
      "/var/folders/zm/1jsfy4n50pxgckvd0pk9rwvw0000gn/T/ipykernel_14492/2296241830.py:10: DtypeWarning: Columns (5,10) have mixed types. Specify dtype option on import or set low_memory=False.\n",
      "  for df in pd.read_csv(base_path, chunksize=chunk_size):\n"
     ]
    },
    {
     "name": "stdout",
     "output_type": "stream",
     "text": [
      "Processing, gz folder,  state: up, chunk 1000000\n",
      "Cleaning Data, processing last names\n"
     ]
    },
    {
     "name": "stderr",
     "output_type": "stream",
     "text": [
      "/var/folders/zm/1jsfy4n50pxgckvd0pk9rwvw0000gn/T/ipykernel_14492/2296241830.py:10: DtypeWarning: Columns (0,5,10) have mixed types. Specify dtype option on import or set low_memory=False.\n",
      "  for df in pd.read_csv(base_path, chunksize=chunk_size):\n"
     ]
    },
    {
     "name": "stdout",
     "output_type": "stream",
     "text": [
      "Processing, gz folder,  state: up, chunk 1000000\n",
      "Cleaning Data, processing last names\n"
     ]
    },
    {
     "name": "stderr",
     "output_type": "stream",
     "text": [
      "/var/folders/zm/1jsfy4n50pxgckvd0pk9rwvw0000gn/T/ipykernel_14492/2296241830.py:10: DtypeWarning: Columns (0,10) have mixed types. Specify dtype option on import or set low_memory=False.\n",
      "  for df in pd.read_csv(base_path, chunksize=chunk_size):\n"
     ]
    },
    {
     "name": "stdout",
     "output_type": "stream",
     "text": [
      "Processing, gz folder,  state: up, chunk 1000000\n",
      "Cleaning Data, processing last names\n"
     ]
    },
    {
     "name": "stderr",
     "output_type": "stream",
     "text": [
      "/var/folders/zm/1jsfy4n50pxgckvd0pk9rwvw0000gn/T/ipykernel_14492/2296241830.py:10: DtypeWarning: Columns (5,10) have mixed types. Specify dtype option on import or set low_memory=False.\n",
      "  for df in pd.read_csv(base_path, chunksize=chunk_size):\n"
     ]
    },
    {
     "name": "stdout",
     "output_type": "stream",
     "text": [
      "Processing, gz folder,  state: up, chunk 1000000\n",
      "Cleaning Data, processing last names\n"
     ]
    },
    {
     "name": "stderr",
     "output_type": "stream",
     "text": [
      "/var/folders/zm/1jsfy4n50pxgckvd0pk9rwvw0000gn/T/ipykernel_14492/2296241830.py:10: DtypeWarning: Columns (5,10,14,15,16,17,18,31,32,33,34,35) have mixed types. Specify dtype option on import or set low_memory=False.\n",
      "  for df in pd.read_csv(base_path, chunksize=chunk_size):\n"
     ]
    },
    {
     "name": "stdout",
     "output_type": "stream",
     "text": [
      "Processing, gz folder,  state: up, chunk 1000000\n",
      "Cleaning Data, processing last names\n"
     ]
    },
    {
     "name": "stderr",
     "output_type": "stream",
     "text": [
      "/var/folders/zm/1jsfy4n50pxgckvd0pk9rwvw0000gn/T/ipykernel_14492/2296241830.py:10: DtypeWarning: Columns (5,10) have mixed types. Specify dtype option on import or set low_memory=False.\n",
      "  for df in pd.read_csv(base_path, chunksize=chunk_size):\n"
     ]
    },
    {
     "name": "stdout",
     "output_type": "stream",
     "text": [
      "Processing, gz folder,  state: up, chunk 1000000\n",
      "Cleaning Data, processing last names\n"
     ]
    },
    {
     "name": "stderr",
     "output_type": "stream",
     "text": [
      "/var/folders/zm/1jsfy4n50pxgckvd0pk9rwvw0000gn/T/ipykernel_14492/2296241830.py:10: DtypeWarning: Columns (0,5,10) have mixed types. Specify dtype option on import or set low_memory=False.\n",
      "  for df in pd.read_csv(base_path, chunksize=chunk_size):\n"
     ]
    },
    {
     "name": "stdout",
     "output_type": "stream",
     "text": [
      "Processing, gz folder,  state: up, chunk 1000000\n",
      "Cleaning Data, processing last names\n"
     ]
    },
    {
     "name": "stderr",
     "output_type": "stream",
     "text": [
      "/var/folders/zm/1jsfy4n50pxgckvd0pk9rwvw0000gn/T/ipykernel_14492/2296241830.py:10: DtypeWarning: Columns (0,5,10,17,34) have mixed types. Specify dtype option on import or set low_memory=False.\n",
      "  for df in pd.read_csv(base_path, chunksize=chunk_size):\n"
     ]
    },
    {
     "name": "stdout",
     "output_type": "stream",
     "text": [
      "Processing, gz folder,  state: up, chunk 1000000\n",
      "Cleaning Data, processing last names\n"
     ]
    },
    {
     "name": "stderr",
     "output_type": "stream",
     "text": [
      "/var/folders/zm/1jsfy4n50pxgckvd0pk9rwvw0000gn/T/ipykernel_14492/2296241830.py:10: DtypeWarning: Columns (0,5,10) have mixed types. Specify dtype option on import or set low_memory=False.\n",
      "  for df in pd.read_csv(base_path, chunksize=chunk_size):\n"
     ]
    },
    {
     "name": "stdout",
     "output_type": "stream",
     "text": [
      "Processing, gz folder,  state: up, chunk 1000000\n",
      "Cleaning Data, processing last names\n"
     ]
    },
    {
     "name": "stderr",
     "output_type": "stream",
     "text": [
      "/var/folders/zm/1jsfy4n50pxgckvd0pk9rwvw0000gn/T/ipykernel_14492/2296241830.py:10: DtypeWarning: Columns (0,5,10) have mixed types. Specify dtype option on import or set low_memory=False.\n",
      "  for df in pd.read_csv(base_path, chunksize=chunk_size):\n"
     ]
    },
    {
     "name": "stdout",
     "output_type": "stream",
     "text": [
      "Processing, gz folder,  state: up, chunk 1000000\n",
      "Cleaning Data, processing last names\n"
     ]
    },
    {
     "name": "stderr",
     "output_type": "stream",
     "text": [
      "/var/folders/zm/1jsfy4n50pxgckvd0pk9rwvw0000gn/T/ipykernel_14492/2296241830.py:10: DtypeWarning: Columns (5,10) have mixed types. Specify dtype option on import or set low_memory=False.\n",
      "  for df in pd.read_csv(base_path, chunksize=chunk_size):\n"
     ]
    },
    {
     "name": "stdout",
     "output_type": "stream",
     "text": [
      "Processing, gz folder,  state: up, chunk 1000000\n",
      "Cleaning Data, processing last names\n"
     ]
    },
    {
     "name": "stderr",
     "output_type": "stream",
     "text": [
      "/var/folders/zm/1jsfy4n50pxgckvd0pk9rwvw0000gn/T/ipykernel_14492/2296241830.py:10: DtypeWarning: Columns (5,10) have mixed types. Specify dtype option on import or set low_memory=False.\n",
      "  for df in pd.read_csv(base_path, chunksize=chunk_size):\n"
     ]
    },
    {
     "name": "stdout",
     "output_type": "stream",
     "text": [
      "Processing, gz folder,  state: up, chunk 1000000\n",
      "Cleaning Data, processing last names\n"
     ]
    },
    {
     "name": "stderr",
     "output_type": "stream",
     "text": [
      "/var/folders/zm/1jsfy4n50pxgckvd0pk9rwvw0000gn/T/ipykernel_14492/2296241830.py:10: DtypeWarning: Columns (5,10,17,34) have mixed types. Specify dtype option on import or set low_memory=False.\n",
      "  for df in pd.read_csv(base_path, chunksize=chunk_size):\n"
     ]
    },
    {
     "name": "stdout",
     "output_type": "stream",
     "text": [
      "Processing, gz folder,  state: up, chunk 1000000\n",
      "Cleaning Data, processing last names\n"
     ]
    },
    {
     "name": "stderr",
     "output_type": "stream",
     "text": [
      "/var/folders/zm/1jsfy4n50pxgckvd0pk9rwvw0000gn/T/ipykernel_14492/2296241830.py:10: DtypeWarning: Columns (5,10,17,34) have mixed types. Specify dtype option on import or set low_memory=False.\n",
      "  for df in pd.read_csv(base_path, chunksize=chunk_size):\n"
     ]
    },
    {
     "name": "stdout",
     "output_type": "stream",
     "text": [
      "Processing, gz folder,  state: up, chunk 1000000\n",
      "Cleaning Data, processing last names\n"
     ]
    },
    {
     "name": "stderr",
     "output_type": "stream",
     "text": [
      "/var/folders/zm/1jsfy4n50pxgckvd0pk9rwvw0000gn/T/ipykernel_14492/2296241830.py:10: DtypeWarning: Columns (5,10) have mixed types. Specify dtype option on import or set low_memory=False.\n",
      "  for df in pd.read_csv(base_path, chunksize=chunk_size):\n"
     ]
    },
    {
     "name": "stdout",
     "output_type": "stream",
     "text": [
      "Processing, gz folder,  state: up, chunk 1000000\n",
      "Cleaning Data, processing last names\n"
     ]
    },
    {
     "name": "stderr",
     "output_type": "stream",
     "text": [
      "/var/folders/zm/1jsfy4n50pxgckvd0pk9rwvw0000gn/T/ipykernel_14492/2296241830.py:10: DtypeWarning: Columns (10,17,34) have mixed types. Specify dtype option on import or set low_memory=False.\n",
      "  for df in pd.read_csv(base_path, chunksize=chunk_size):\n"
     ]
    },
    {
     "name": "stdout",
     "output_type": "stream",
     "text": [
      "Processing, gz folder,  state: up, chunk 1000000\n",
      "Cleaning Data, processing last names\n"
     ]
    },
    {
     "name": "stderr",
     "output_type": "stream",
     "text": [
      "/var/folders/zm/1jsfy4n50pxgckvd0pk9rwvw0000gn/T/ipykernel_14492/2296241830.py:10: DtypeWarning: Columns (10,14,31) have mixed types. Specify dtype option on import or set low_memory=False.\n",
      "  for df in pd.read_csv(base_path, chunksize=chunk_size):\n"
     ]
    },
    {
     "name": "stdout",
     "output_type": "stream",
     "text": [
      "Processing, gz folder,  state: up, chunk 1000000\n",
      "Cleaning Data, processing last names\n"
     ]
    },
    {
     "name": "stderr",
     "output_type": "stream",
     "text": [
      "/var/folders/zm/1jsfy4n50pxgckvd0pk9rwvw0000gn/T/ipykernel_14492/2296241830.py:10: DtypeWarning: Columns (10) have mixed types. Specify dtype option on import or set low_memory=False.\n",
      "  for df in pd.read_csv(base_path, chunksize=chunk_size):\n"
     ]
    },
    {
     "name": "stdout",
     "output_type": "stream",
     "text": [
      "Processing, gz folder,  state: up, chunk 1000000\n",
      "Cleaning Data, processing last names\n"
     ]
    },
    {
     "name": "stderr",
     "output_type": "stream",
     "text": [
      "/var/folders/zm/1jsfy4n50pxgckvd0pk9rwvw0000gn/T/ipykernel_14492/2296241830.py:10: DtypeWarning: Columns (5,10,14,17,31,34) have mixed types. Specify dtype option on import or set low_memory=False.\n",
      "  for df in pd.read_csv(base_path, chunksize=chunk_size):\n"
     ]
    },
    {
     "name": "stdout",
     "output_type": "stream",
     "text": [
      "Processing, gz folder,  state: up, chunk 1000000\n",
      "Cleaning Data, processing last names\n"
     ]
    },
    {
     "name": "stderr",
     "output_type": "stream",
     "text": [
      "/var/folders/zm/1jsfy4n50pxgckvd0pk9rwvw0000gn/T/ipykernel_14492/2296241830.py:10: DtypeWarning: Columns (10,14,31) have mixed types. Specify dtype option on import or set low_memory=False.\n",
      "  for df in pd.read_csv(base_path, chunksize=chunk_size):\n"
     ]
    },
    {
     "name": "stdout",
     "output_type": "stream",
     "text": [
      "Processing, gz folder,  state: up, chunk 1000000\n",
      "Cleaning Data, processing last names\n"
     ]
    },
    {
     "name": "stderr",
     "output_type": "stream",
     "text": [
      "/var/folders/zm/1jsfy4n50pxgckvd0pk9rwvw0000gn/T/ipykernel_14492/2296241830.py:10: DtypeWarning: Columns (0,10,14,17,31,34) have mixed types. Specify dtype option on import or set low_memory=False.\n",
      "  for df in pd.read_csv(base_path, chunksize=chunk_size):\n"
     ]
    },
    {
     "name": "stdout",
     "output_type": "stream",
     "text": [
      "Processing, gz folder,  state: up, chunk 1000000\n",
      "Cleaning Data, processing last names\n"
     ]
    },
    {
     "name": "stderr",
     "output_type": "stream",
     "text": [
      "/var/folders/zm/1jsfy4n50pxgckvd0pk9rwvw0000gn/T/ipykernel_14492/2296241830.py:10: DtypeWarning: Columns (0,5,10,14,31) have mixed types. Specify dtype option on import or set low_memory=False.\n",
      "  for df in pd.read_csv(base_path, chunksize=chunk_size):\n"
     ]
    },
    {
     "name": "stdout",
     "output_type": "stream",
     "text": [
      "Processing, gz folder,  state: up, chunk 1000000\n",
      "Cleaning Data, processing last names\n"
     ]
    },
    {
     "name": "stderr",
     "output_type": "stream",
     "text": [
      "/var/folders/zm/1jsfy4n50pxgckvd0pk9rwvw0000gn/T/ipykernel_14492/2296241830.py:10: DtypeWarning: Columns (5,10,14,17,31,34) have mixed types. Specify dtype option on import or set low_memory=False.\n",
      "  for df in pd.read_csv(base_path, chunksize=chunk_size):\n"
     ]
    },
    {
     "name": "stdout",
     "output_type": "stream",
     "text": [
      "Processing, gz folder,  state: up, chunk 1000000\n",
      "Cleaning Data, processing last names\n"
     ]
    },
    {
     "name": "stderr",
     "output_type": "stream",
     "text": [
      "/var/folders/zm/1jsfy4n50pxgckvd0pk9rwvw0000gn/T/ipykernel_14492/2296241830.py:10: DtypeWarning: Columns (5,10) have mixed types. Specify dtype option on import or set low_memory=False.\n",
      "  for df in pd.read_csv(base_path, chunksize=chunk_size):\n"
     ]
    },
    {
     "name": "stdout",
     "output_type": "stream",
     "text": [
      "Processing, gz folder,  state: up, chunk 1000000\n",
      "Cleaning Data, processing last names\n"
     ]
    },
    {
     "name": "stderr",
     "output_type": "stream",
     "text": [
      "/var/folders/zm/1jsfy4n50pxgckvd0pk9rwvw0000gn/T/ipykernel_14492/2296241830.py:10: DtypeWarning: Columns (0,5,10) have mixed types. Specify dtype option on import or set low_memory=False.\n",
      "  for df in pd.read_csv(base_path, chunksize=chunk_size):\n"
     ]
    },
    {
     "name": "stdout",
     "output_type": "stream",
     "text": [
      "Processing, gz folder,  state: up, chunk 1000000\n",
      "Cleaning Data, processing last names\n"
     ]
    },
    {
     "name": "stderr",
     "output_type": "stream",
     "text": [
      "/var/folders/zm/1jsfy4n50pxgckvd0pk9rwvw0000gn/T/ipykernel_14492/2296241830.py:10: DtypeWarning: Columns (0,10) have mixed types. Specify dtype option on import or set low_memory=False.\n",
      "  for df in pd.read_csv(base_path, chunksize=chunk_size):\n"
     ]
    },
    {
     "name": "stdout",
     "output_type": "stream",
     "text": [
      "Processing, gz folder,  state: up, chunk 1000000\n",
      "Cleaning Data, processing last names\n"
     ]
    },
    {
     "name": "stderr",
     "output_type": "stream",
     "text": [
      "/var/folders/zm/1jsfy4n50pxgckvd0pk9rwvw0000gn/T/ipykernel_14492/2296241830.py:10: DtypeWarning: Columns (0,5,10) have mixed types. Specify dtype option on import or set low_memory=False.\n",
      "  for df in pd.read_csv(base_path, chunksize=chunk_size):\n"
     ]
    },
    {
     "name": "stdout",
     "output_type": "stream",
     "text": [
      "Processing, gz folder,  state: up, chunk 1000000\n",
      "Cleaning Data, processing last names\n"
     ]
    },
    {
     "name": "stderr",
     "output_type": "stream",
     "text": [
      "/var/folders/zm/1jsfy4n50pxgckvd0pk9rwvw0000gn/T/ipykernel_14492/2296241830.py:10: DtypeWarning: Columns (5,10) have mixed types. Specify dtype option on import or set low_memory=False.\n",
      "  for df in pd.read_csv(base_path, chunksize=chunk_size):\n"
     ]
    },
    {
     "name": "stdout",
     "output_type": "stream",
     "text": [
      "Processing, gz folder,  state: up, chunk 1000000\n",
      "Cleaning Data, processing last names\n"
     ]
    },
    {
     "name": "stderr",
     "output_type": "stream",
     "text": [
      "/var/folders/zm/1jsfy4n50pxgckvd0pk9rwvw0000gn/T/ipykernel_14492/2296241830.py:10: DtypeWarning: Columns (5,10) have mixed types. Specify dtype option on import or set low_memory=False.\n",
      "  for df in pd.read_csv(base_path, chunksize=chunk_size):\n"
     ]
    },
    {
     "name": "stdout",
     "output_type": "stream",
     "text": [
      "Processing, gz folder,  state: up, chunk 1000000\n",
      "Cleaning Data, processing last names\n"
     ]
    },
    {
     "name": "stderr",
     "output_type": "stream",
     "text": [
      "/var/folders/zm/1jsfy4n50pxgckvd0pk9rwvw0000gn/T/ipykernel_14492/2296241830.py:10: DtypeWarning: Columns (5,10,14,17,31,34) have mixed types. Specify dtype option on import or set low_memory=False.\n",
      "  for df in pd.read_csv(base_path, chunksize=chunk_size):\n"
     ]
    },
    {
     "name": "stdout",
     "output_type": "stream",
     "text": [
      "Processing, gz folder,  state: up, chunk 1000000\n",
      "Cleaning Data, processing last names\n"
     ]
    },
    {
     "name": "stderr",
     "output_type": "stream",
     "text": [
      "/var/folders/zm/1jsfy4n50pxgckvd0pk9rwvw0000gn/T/ipykernel_14492/2296241830.py:10: DtypeWarning: Columns (0,5,10) have mixed types. Specify dtype option on import or set low_memory=False.\n",
      "  for df in pd.read_csv(base_path, chunksize=chunk_size):\n"
     ]
    },
    {
     "name": "stdout",
     "output_type": "stream",
     "text": [
      "Processing, gz folder,  state: up, chunk 1000000\n",
      "Cleaning Data, processing last names\n"
     ]
    },
    {
     "name": "stderr",
     "output_type": "stream",
     "text": [
      "/var/folders/zm/1jsfy4n50pxgckvd0pk9rwvw0000gn/T/ipykernel_14492/2296241830.py:10: DtypeWarning: Columns (5,10,17,34) have mixed types. Specify dtype option on import or set low_memory=False.\n",
      "  for df in pd.read_csv(base_path, chunksize=chunk_size):\n"
     ]
    },
    {
     "name": "stdout",
     "output_type": "stream",
     "text": [
      "Processing, gz folder,  state: up, chunk 1000000\n",
      "Cleaning Data, processing last names\n"
     ]
    },
    {
     "name": "stderr",
     "output_type": "stream",
     "text": [
      "/var/folders/zm/1jsfy4n50pxgckvd0pk9rwvw0000gn/T/ipykernel_14492/2296241830.py:10: DtypeWarning: Columns (10) have mixed types. Specify dtype option on import or set low_memory=False.\n",
      "  for df in pd.read_csv(base_path, chunksize=chunk_size):\n"
     ]
    },
    {
     "name": "stdout",
     "output_type": "stream",
     "text": [
      "Processing, gz folder,  state: up, chunk 1000000\n",
      "Cleaning Data, processing last names\n"
     ]
    },
    {
     "name": "stderr",
     "output_type": "stream",
     "text": [
      "/var/folders/zm/1jsfy4n50pxgckvd0pk9rwvw0000gn/T/ipykernel_14492/2296241830.py:10: DtypeWarning: Columns (0,10,14,17,31,34) have mixed types. Specify dtype option on import or set low_memory=False.\n",
      "  for df in pd.read_csv(base_path, chunksize=chunk_size):\n"
     ]
    },
    {
     "name": "stdout",
     "output_type": "stream",
     "text": [
      "Processing, gz folder,  state: up, chunk 1000000\n",
      "Cleaning Data, processing last names\n"
     ]
    },
    {
     "name": "stderr",
     "output_type": "stream",
     "text": [
      "/var/folders/zm/1jsfy4n50pxgckvd0pk9rwvw0000gn/T/ipykernel_14492/2296241830.py:10: DtypeWarning: Columns (0,10,15,17,32,34) have mixed types. Specify dtype option on import or set low_memory=False.\n",
      "  for df in pd.read_csv(base_path, chunksize=chunk_size):\n"
     ]
    },
    {
     "name": "stdout",
     "output_type": "stream",
     "text": [
      "Processing, gz folder,  state: up, chunk 1000000\n",
      "Cleaning Data, processing last names\n"
     ]
    },
    {
     "name": "stderr",
     "output_type": "stream",
     "text": [
      "/var/folders/zm/1jsfy4n50pxgckvd0pk9rwvw0000gn/T/ipykernel_14492/2296241830.py:10: DtypeWarning: Columns (0,5,10,14,31) have mixed types. Specify dtype option on import or set low_memory=False.\n",
      "  for df in pd.read_csv(base_path, chunksize=chunk_size):\n"
     ]
    },
    {
     "name": "stdout",
     "output_type": "stream",
     "text": [
      "Processing, gz folder,  state: up, chunk 1000000\n",
      "Cleaning Data, processing last names\n"
     ]
    },
    {
     "name": "stderr",
     "output_type": "stream",
     "text": [
      "/var/folders/zm/1jsfy4n50pxgckvd0pk9rwvw0000gn/T/ipykernel_14492/2296241830.py:10: DtypeWarning: Columns (5,10) have mixed types. Specify dtype option on import or set low_memory=False.\n",
      "  for df in pd.read_csv(base_path, chunksize=chunk_size):\n"
     ]
    },
    {
     "name": "stdout",
     "output_type": "stream",
     "text": [
      "Processing, gz folder,  state: up, chunk 1000000\n",
      "Cleaning Data, processing last names\n"
     ]
    },
    {
     "name": "stderr",
     "output_type": "stream",
     "text": [
      "/var/folders/zm/1jsfy4n50pxgckvd0pk9rwvw0000gn/T/ipykernel_14492/2296241830.py:10: DtypeWarning: Columns (10) have mixed types. Specify dtype option on import or set low_memory=False.\n",
      "  for df in pd.read_csv(base_path, chunksize=chunk_size):\n"
     ]
    },
    {
     "name": "stdout",
     "output_type": "stream",
     "text": [
      "Processing, gz folder,  state: up, chunk 1000000\n",
      "Cleaning Data, processing last names\n"
     ]
    },
    {
     "name": "stderr",
     "output_type": "stream",
     "text": [
      "/var/folders/zm/1jsfy4n50pxgckvd0pk9rwvw0000gn/T/ipykernel_14492/2296241830.py:10: DtypeWarning: Columns (10) have mixed types. Specify dtype option on import or set low_memory=False.\n",
      "  for df in pd.read_csv(base_path, chunksize=chunk_size):\n"
     ]
    },
    {
     "name": "stdout",
     "output_type": "stream",
     "text": [
      "Processing, gz folder,  state: up, chunk 1000000\n",
      "Cleaning Data, processing last names\n"
     ]
    },
    {
     "name": "stderr",
     "output_type": "stream",
     "text": [
      "/var/folders/zm/1jsfy4n50pxgckvd0pk9rwvw0000gn/T/ipykernel_14492/2296241830.py:10: DtypeWarning: Columns (10) have mixed types. Specify dtype option on import or set low_memory=False.\n",
      "  for df in pd.read_csv(base_path, chunksize=chunk_size):\n"
     ]
    },
    {
     "name": "stdout",
     "output_type": "stream",
     "text": [
      "Processing, gz folder,  state: up, chunk 1000000\n",
      "Cleaning Data, processing last names\n"
     ]
    },
    {
     "name": "stderr",
     "output_type": "stream",
     "text": [
      "/var/folders/zm/1jsfy4n50pxgckvd0pk9rwvw0000gn/T/ipykernel_14492/2296241830.py:10: DtypeWarning: Columns (5,10) have mixed types. Specify dtype option on import or set low_memory=False.\n",
      "  for df in pd.read_csv(base_path, chunksize=chunk_size):\n"
     ]
    },
    {
     "name": "stdout",
     "output_type": "stream",
     "text": [
      "Processing, gz folder,  state: up, chunk 1000000\n",
      "Cleaning Data, processing last names\n"
     ]
    },
    {
     "name": "stderr",
     "output_type": "stream",
     "text": [
      "/var/folders/zm/1jsfy4n50pxgckvd0pk9rwvw0000gn/T/ipykernel_14492/2296241830.py:10: DtypeWarning: Columns (5,10) have mixed types. Specify dtype option on import or set low_memory=False.\n",
      "  for df in pd.read_csv(base_path, chunksize=chunk_size):\n"
     ]
    },
    {
     "name": "stdout",
     "output_type": "stream",
     "text": [
      "Processing, gz folder,  state: up, chunk 1000000\n",
      "Cleaning Data, processing last names\n"
     ]
    },
    {
     "name": "stderr",
     "output_type": "stream",
     "text": [
      "/var/folders/zm/1jsfy4n50pxgckvd0pk9rwvw0000gn/T/ipykernel_14492/2296241830.py:10: DtypeWarning: Columns (5,10) have mixed types. Specify dtype option on import or set low_memory=False.\n",
      "  for df in pd.read_csv(base_path, chunksize=chunk_size):\n"
     ]
    },
    {
     "name": "stdout",
     "output_type": "stream",
     "text": [
      "Processing, gz folder,  state: up, chunk 1000000\n",
      "Cleaning Data, processing last names\n"
     ]
    },
    {
     "name": "stderr",
     "output_type": "stream",
     "text": [
      "/var/folders/zm/1jsfy4n50pxgckvd0pk9rwvw0000gn/T/ipykernel_14492/2296241830.py:10: DtypeWarning: Columns (5,10) have mixed types. Specify dtype option on import or set low_memory=False.\n",
      "  for df in pd.read_csv(base_path, chunksize=chunk_size):\n"
     ]
    },
    {
     "name": "stdout",
     "output_type": "stream",
     "text": [
      "Processing, gz folder,  state: up, chunk 1000000\n",
      "Cleaning Data, processing last names\n"
     ]
    },
    {
     "name": "stderr",
     "output_type": "stream",
     "text": [
      "/var/folders/zm/1jsfy4n50pxgckvd0pk9rwvw0000gn/T/ipykernel_14492/2296241830.py:10: DtypeWarning: Columns (5,10) have mixed types. Specify dtype option on import or set low_memory=False.\n",
      "  for df in pd.read_csv(base_path, chunksize=chunk_size):\n"
     ]
    },
    {
     "name": "stdout",
     "output_type": "stream",
     "text": [
      "Processing, gz folder,  state: up, chunk 1000000\n",
      "Cleaning Data, processing last names\n"
     ]
    },
    {
     "name": "stderr",
     "output_type": "stream",
     "text": [
      "/var/folders/zm/1jsfy4n50pxgckvd0pk9rwvw0000gn/T/ipykernel_14492/2296241830.py:10: DtypeWarning: Columns (10) have mixed types. Specify dtype option on import or set low_memory=False.\n",
      "  for df in pd.read_csv(base_path, chunksize=chunk_size):\n"
     ]
    },
    {
     "name": "stdout",
     "output_type": "stream",
     "text": [
      "Processing, gz folder,  state: up, chunk 1000000\n",
      "Cleaning Data, processing last names\n"
     ]
    },
    {
     "name": "stderr",
     "output_type": "stream",
     "text": [
      "/var/folders/zm/1jsfy4n50pxgckvd0pk9rwvw0000gn/T/ipykernel_14492/2296241830.py:10: DtypeWarning: Columns (0,10) have mixed types. Specify dtype option on import or set low_memory=False.\n",
      "  for df in pd.read_csv(base_path, chunksize=chunk_size):\n"
     ]
    },
    {
     "name": "stdout",
     "output_type": "stream",
     "text": [
      "Processing, gz folder,  state: up, chunk 1000000\n",
      "Cleaning Data, processing last names\n"
     ]
    },
    {
     "name": "stderr",
     "output_type": "stream",
     "text": [
      "/var/folders/zm/1jsfy4n50pxgckvd0pk9rwvw0000gn/T/ipykernel_14492/2296241830.py:10: DtypeWarning: Columns (0,10) have mixed types. Specify dtype option on import or set low_memory=False.\n",
      "  for df in pd.read_csv(base_path, chunksize=chunk_size):\n"
     ]
    },
    {
     "name": "stdout",
     "output_type": "stream",
     "text": [
      "Processing, gz folder,  state: up, chunk 1000000\n",
      "Cleaning Data, processing last names\n"
     ]
    },
    {
     "name": "stderr",
     "output_type": "stream",
     "text": [
      "/var/folders/zm/1jsfy4n50pxgckvd0pk9rwvw0000gn/T/ipykernel_14492/2296241830.py:10: DtypeWarning: Columns (0,10,14,15,16,17,18,31,32,33,34,35) have mixed types. Specify dtype option on import or set low_memory=False.\n",
      "  for df in pd.read_csv(base_path, chunksize=chunk_size):\n"
     ]
    },
    {
     "name": "stdout",
     "output_type": "stream",
     "text": [
      "Processing, gz folder,  state: up, chunk 1000000\n",
      "Cleaning Data, processing last names\n"
     ]
    },
    {
     "name": "stderr",
     "output_type": "stream",
     "text": [
      "/var/folders/zm/1jsfy4n50pxgckvd0pk9rwvw0000gn/T/ipykernel_14492/2296241830.py:10: DtypeWarning: Columns (0,10,15,32) have mixed types. Specify dtype option on import or set low_memory=False.\n",
      "  for df in pd.read_csv(base_path, chunksize=chunk_size):\n"
     ]
    },
    {
     "name": "stdout",
     "output_type": "stream",
     "text": [
      "Processing, gz folder,  state: up, chunk 1000000\n",
      "Cleaning Data, processing last names\n"
     ]
    },
    {
     "name": "stderr",
     "output_type": "stream",
     "text": [
      "/var/folders/zm/1jsfy4n50pxgckvd0pk9rwvw0000gn/T/ipykernel_14492/2296241830.py:10: DtypeWarning: Columns (0,5,10) have mixed types. Specify dtype option on import or set low_memory=False.\n",
      "  for df in pd.read_csv(base_path, chunksize=chunk_size):\n"
     ]
    },
    {
     "name": "stdout",
     "output_type": "stream",
     "text": [
      "Processing, gz folder,  state: up, chunk 1000000\n",
      "Cleaning Data, processing last names\n"
     ]
    },
    {
     "name": "stderr",
     "output_type": "stream",
     "text": [
      "/var/folders/zm/1jsfy4n50pxgckvd0pk9rwvw0000gn/T/ipykernel_14492/2296241830.py:10: DtypeWarning: Columns (5,10) have mixed types. Specify dtype option on import or set low_memory=False.\n",
      "  for df in pd.read_csv(base_path, chunksize=chunk_size):\n"
     ]
    },
    {
     "name": "stdout",
     "output_type": "stream",
     "text": [
      "Processing, gz folder,  state: up, chunk 1000000\n",
      "Cleaning Data, processing last names\n"
     ]
    },
    {
     "name": "stderr",
     "output_type": "stream",
     "text": [
      "/var/folders/zm/1jsfy4n50pxgckvd0pk9rwvw0000gn/T/ipykernel_14492/2296241830.py:10: DtypeWarning: Columns (10) have mixed types. Specify dtype option on import or set low_memory=False.\n",
      "  for df in pd.read_csv(base_path, chunksize=chunk_size):\n"
     ]
    },
    {
     "name": "stdout",
     "output_type": "stream",
     "text": [
      "Processing, gz folder,  state: up, chunk 1000000\n",
      "Cleaning Data, processing last names\n"
     ]
    },
    {
     "name": "stderr",
     "output_type": "stream",
     "text": [
      "/var/folders/zm/1jsfy4n50pxgckvd0pk9rwvw0000gn/T/ipykernel_14492/2296241830.py:10: DtypeWarning: Columns (5,10) have mixed types. Specify dtype option on import or set low_memory=False.\n",
      "  for df in pd.read_csv(base_path, chunksize=chunk_size):\n"
     ]
    },
    {
     "name": "stdout",
     "output_type": "stream",
     "text": [
      "Processing, gz folder,  state: up, chunk 1000000\n",
      "Cleaning Data, processing last names\n"
     ]
    },
    {
     "name": "stderr",
     "output_type": "stream",
     "text": [
      "/var/folders/zm/1jsfy4n50pxgckvd0pk9rwvw0000gn/T/ipykernel_14492/2296241830.py:10: DtypeWarning: Columns (0,10) have mixed types. Specify dtype option on import or set low_memory=False.\n",
      "  for df in pd.read_csv(base_path, chunksize=chunk_size):\n"
     ]
    },
    {
     "name": "stdout",
     "output_type": "stream",
     "text": [
      "Processing, gz folder,  state: up, chunk 1000000\n",
      "Cleaning Data, processing last names\n"
     ]
    },
    {
     "name": "stderr",
     "output_type": "stream",
     "text": [
      "/var/folders/zm/1jsfy4n50pxgckvd0pk9rwvw0000gn/T/ipykernel_14492/2296241830.py:10: DtypeWarning: Columns (0,5,10) have mixed types. Specify dtype option on import or set low_memory=False.\n",
      "  for df in pd.read_csv(base_path, chunksize=chunk_size):\n"
     ]
    },
    {
     "name": "stdout",
     "output_type": "stream",
     "text": [
      "Processing, gz folder,  state: up, chunk 1000000\n",
      "Cleaning Data, processing last names\n"
     ]
    },
    {
     "name": "stderr",
     "output_type": "stream",
     "text": [
      "/var/folders/zm/1jsfy4n50pxgckvd0pk9rwvw0000gn/T/ipykernel_14492/2296241830.py:10: DtypeWarning: Columns (0,10,14,15,16,17,18,31,32,33,34,35) have mixed types. Specify dtype option on import or set low_memory=False.\n",
      "  for df in pd.read_csv(base_path, chunksize=chunk_size):\n"
     ]
    },
    {
     "name": "stdout",
     "output_type": "stream",
     "text": [
      "Processing, gz folder,  state: up, chunk 1000000\n",
      "Cleaning Data, processing last names\n"
     ]
    },
    {
     "name": "stderr",
     "output_type": "stream",
     "text": [
      "/var/folders/zm/1jsfy4n50pxgckvd0pk9rwvw0000gn/T/ipykernel_14492/2296241830.py:10: DtypeWarning: Columns (0,10) have mixed types. Specify dtype option on import or set low_memory=False.\n",
      "  for df in pd.read_csv(base_path, chunksize=chunk_size):\n"
     ]
    },
    {
     "name": "stdout",
     "output_type": "stream",
     "text": [
      "Processing, gz folder,  state: up, chunk 1000000\n",
      "Cleaning Data, processing last names\n"
     ]
    },
    {
     "name": "stderr",
     "output_type": "stream",
     "text": [
      "/var/folders/zm/1jsfy4n50pxgckvd0pk9rwvw0000gn/T/ipykernel_14492/2296241830.py:10: DtypeWarning: Columns (10) have mixed types. Specify dtype option on import or set low_memory=False.\n",
      "  for df in pd.read_csv(base_path, chunksize=chunk_size):\n"
     ]
    },
    {
     "name": "stdout",
     "output_type": "stream",
     "text": [
      "Processing, gz folder,  state: up, chunk 1000000\n",
      "Cleaning Data, processing last names\n"
     ]
    },
    {
     "name": "stderr",
     "output_type": "stream",
     "text": [
      "/var/folders/zm/1jsfy4n50pxgckvd0pk9rwvw0000gn/T/ipykernel_14492/2296241830.py:10: DtypeWarning: Columns (0,10,17,34) have mixed types. Specify dtype option on import or set low_memory=False.\n",
      "  for df in pd.read_csv(base_path, chunksize=chunk_size):\n"
     ]
    },
    {
     "name": "stdout",
     "output_type": "stream",
     "text": [
      "Processing, gz folder,  state: up, chunk 1000000\n",
      "Cleaning Data, processing last names\n"
     ]
    },
    {
     "name": "stderr",
     "output_type": "stream",
     "text": [
      "/var/folders/zm/1jsfy4n50pxgckvd0pk9rwvw0000gn/T/ipykernel_14492/2296241830.py:10: DtypeWarning: Columns (0,5,10) have mixed types. Specify dtype option on import or set low_memory=False.\n",
      "  for df in pd.read_csv(base_path, chunksize=chunk_size):\n"
     ]
    },
    {
     "name": "stdout",
     "output_type": "stream",
     "text": [
      "Processing, gz folder,  state: up, chunk 1000000\n",
      "Cleaning Data, processing last names\n"
     ]
    },
    {
     "name": "stderr",
     "output_type": "stream",
     "text": [
      "/var/folders/zm/1jsfy4n50pxgckvd0pk9rwvw0000gn/T/ipykernel_14492/2296241830.py:10: DtypeWarning: Columns (5,10) have mixed types. Specify dtype option on import or set low_memory=False.\n",
      "  for df in pd.read_csv(base_path, chunksize=chunk_size):\n"
     ]
    },
    {
     "name": "stdout",
     "output_type": "stream",
     "text": [
      "Processing, gz folder,  state: up, chunk 1000000\n",
      "Cleaning Data, processing last names\n"
     ]
    },
    {
     "name": "stderr",
     "output_type": "stream",
     "text": [
      "/var/folders/zm/1jsfy4n50pxgckvd0pk9rwvw0000gn/T/ipykernel_14492/2296241830.py:10: DtypeWarning: Columns (10) have mixed types. Specify dtype option on import or set low_memory=False.\n",
      "  for df in pd.read_csv(base_path, chunksize=chunk_size):\n"
     ]
    },
    {
     "name": "stdout",
     "output_type": "stream",
     "text": [
      "Processing, gz folder,  state: up, chunk 1000000\n",
      "Cleaning Data, processing last names\n"
     ]
    },
    {
     "name": "stderr",
     "output_type": "stream",
     "text": [
      "/var/folders/zm/1jsfy4n50pxgckvd0pk9rwvw0000gn/T/ipykernel_14492/2296241830.py:10: DtypeWarning: Columns (10,14,17,31,34) have mixed types. Specify dtype option on import or set low_memory=False.\n",
      "  for df in pd.read_csv(base_path, chunksize=chunk_size):\n"
     ]
    },
    {
     "name": "stdout",
     "output_type": "stream",
     "text": [
      "Processing, gz folder,  state: up, chunk 1000000\n",
      "Cleaning Data, processing last names\n"
     ]
    },
    {
     "name": "stderr",
     "output_type": "stream",
     "text": [
      "/var/folders/zm/1jsfy4n50pxgckvd0pk9rwvw0000gn/T/ipykernel_14492/2296241830.py:10: DtypeWarning: Columns (10,14,17,31,34) have mixed types. Specify dtype option on import or set low_memory=False.\n",
      "  for df in pd.read_csv(base_path, chunksize=chunk_size):\n"
     ]
    },
    {
     "name": "stdout",
     "output_type": "stream",
     "text": [
      "Processing, gz folder,  state: up, chunk 1000000\n",
      "Cleaning Data, processing last names\n"
     ]
    },
    {
     "name": "stderr",
     "output_type": "stream",
     "text": [
      "/var/folders/zm/1jsfy4n50pxgckvd0pk9rwvw0000gn/T/ipykernel_14492/2296241830.py:10: DtypeWarning: Columns (10,14,17,31,34) have mixed types. Specify dtype option on import or set low_memory=False.\n",
      "  for df in pd.read_csv(base_path, chunksize=chunk_size):\n"
     ]
    },
    {
     "name": "stdout",
     "output_type": "stream",
     "text": [
      "Processing, gz folder,  state: up, chunk 1000000\n",
      "Cleaning Data, processing last names\n"
     ]
    },
    {
     "name": "stderr",
     "output_type": "stream",
     "text": [
      "/var/folders/zm/1jsfy4n50pxgckvd0pk9rwvw0000gn/T/ipykernel_14492/2296241830.py:10: DtypeWarning: Columns (10) have mixed types. Specify dtype option on import or set low_memory=False.\n",
      "  for df in pd.read_csv(base_path, chunksize=chunk_size):\n"
     ]
    },
    {
     "name": "stdout",
     "output_type": "stream",
     "text": [
      "Processing, gz folder,  state: up, chunk 1000000\n",
      "Cleaning Data, processing last names\n"
     ]
    },
    {
     "name": "stderr",
     "output_type": "stream",
     "text": [
      "/var/folders/zm/1jsfy4n50pxgckvd0pk9rwvw0000gn/T/ipykernel_14492/2296241830.py:10: DtypeWarning: Columns (10) have mixed types. Specify dtype option on import or set low_memory=False.\n",
      "  for df in pd.read_csv(base_path, chunksize=chunk_size):\n"
     ]
    },
    {
     "name": "stdout",
     "output_type": "stream",
     "text": [
      "Processing, gz folder,  state: up, chunk 1000000\n",
      "Cleaning Data, processing last names\n"
     ]
    },
    {
     "name": "stderr",
     "output_type": "stream",
     "text": [
      "/var/folders/zm/1jsfy4n50pxgckvd0pk9rwvw0000gn/T/ipykernel_14492/2296241830.py:10: DtypeWarning: Columns (10) have mixed types. Specify dtype option on import or set low_memory=False.\n",
      "  for df in pd.read_csv(base_path, chunksize=chunk_size):\n"
     ]
    },
    {
     "name": "stdout",
     "output_type": "stream",
     "text": [
      "Processing, gz folder,  state: up, chunk 1000000\n",
      "Cleaning Data, processing last names\n"
     ]
    },
    {
     "name": "stderr",
     "output_type": "stream",
     "text": [
      "/var/folders/zm/1jsfy4n50pxgckvd0pk9rwvw0000gn/T/ipykernel_14492/2296241830.py:10: DtypeWarning: Columns (5,10) have mixed types. Specify dtype option on import or set low_memory=False.\n",
      "  for df in pd.read_csv(base_path, chunksize=chunk_size):\n"
     ]
    },
    {
     "name": "stdout",
     "output_type": "stream",
     "text": [
      "Processing, gz folder,  state: up, chunk 1000000\n",
      "Cleaning Data, processing last names\n"
     ]
    },
    {
     "name": "stderr",
     "output_type": "stream",
     "text": [
      "/var/folders/zm/1jsfy4n50pxgckvd0pk9rwvw0000gn/T/ipykernel_14492/2296241830.py:10: DtypeWarning: Columns (5,10) have mixed types. Specify dtype option on import or set low_memory=False.\n",
      "  for df in pd.read_csv(base_path, chunksize=chunk_size):\n"
     ]
    },
    {
     "name": "stdout",
     "output_type": "stream",
     "text": [
      "Processing, gz folder,  state: up, chunk 1000000\n",
      "Cleaning Data, processing last names\n"
     ]
    },
    {
     "name": "stderr",
     "output_type": "stream",
     "text": [
      "/var/folders/zm/1jsfy4n50pxgckvd0pk9rwvw0000gn/T/ipykernel_14492/2296241830.py:10: DtypeWarning: Columns (5,10) have mixed types. Specify dtype option on import or set low_memory=False.\n",
      "  for df in pd.read_csv(base_path, chunksize=chunk_size):\n"
     ]
    },
    {
     "name": "stdout",
     "output_type": "stream",
     "text": [
      "Processing, gz folder,  state: up, chunk 1000000\n",
      "Cleaning Data, processing last names\n"
     ]
    },
    {
     "name": "stderr",
     "output_type": "stream",
     "text": [
      "/var/folders/zm/1jsfy4n50pxgckvd0pk9rwvw0000gn/T/ipykernel_14492/2296241830.py:10: DtypeWarning: Columns (5,10) have mixed types. Specify dtype option on import or set low_memory=False.\n",
      "  for df in pd.read_csv(base_path, chunksize=chunk_size):\n"
     ]
    },
    {
     "name": "stdout",
     "output_type": "stream",
     "text": [
      "Processing, gz folder,  state: up, chunk 1000000\n",
      "Cleaning Data, processing last names\n"
     ]
    },
    {
     "name": "stderr",
     "output_type": "stream",
     "text": [
      "/var/folders/zm/1jsfy4n50pxgckvd0pk9rwvw0000gn/T/ipykernel_14492/2296241830.py:10: DtypeWarning: Columns (0,5,10) have mixed types. Specify dtype option on import or set low_memory=False.\n",
      "  for df in pd.read_csv(base_path, chunksize=chunk_size):\n"
     ]
    },
    {
     "name": "stdout",
     "output_type": "stream",
     "text": [
      "Processing, gz folder,  state: up, chunk 1000000\n",
      "Cleaning Data, processing last names\n"
     ]
    },
    {
     "name": "stderr",
     "output_type": "stream",
     "text": [
      "/var/folders/zm/1jsfy4n50pxgckvd0pk9rwvw0000gn/T/ipykernel_14492/2296241830.py:10: DtypeWarning: Columns (10) have mixed types. Specify dtype option on import or set low_memory=False.\n",
      "  for df in pd.read_csv(base_path, chunksize=chunk_size):\n"
     ]
    },
    {
     "name": "stdout",
     "output_type": "stream",
     "text": [
      "Processing, gz folder,  state: up, chunk 1000000\n",
      "Cleaning Data, processing last names\n"
     ]
    },
    {
     "name": "stderr",
     "output_type": "stream",
     "text": [
      "/var/folders/zm/1jsfy4n50pxgckvd0pk9rwvw0000gn/T/ipykernel_14492/2296241830.py:10: DtypeWarning: Columns (10) have mixed types. Specify dtype option on import or set low_memory=False.\n",
      "  for df in pd.read_csv(base_path, chunksize=chunk_size):\n"
     ]
    },
    {
     "name": "stdout",
     "output_type": "stream",
     "text": [
      "Processing, gz folder,  state: up, chunk 1000000\n",
      "Cleaning Data, processing last names\n"
     ]
    },
    {
     "name": "stderr",
     "output_type": "stream",
     "text": [
      "/var/folders/zm/1jsfy4n50pxgckvd0pk9rwvw0000gn/T/ipykernel_14492/2296241830.py:10: DtypeWarning: Columns (10) have mixed types. Specify dtype option on import or set low_memory=False.\n",
      "  for df in pd.read_csv(base_path, chunksize=chunk_size):\n"
     ]
    },
    {
     "name": "stdout",
     "output_type": "stream",
     "text": [
      "Processing, gz folder,  state: up, chunk 1000000\n",
      "Cleaning Data, processing last names\n"
     ]
    },
    {
     "name": "stderr",
     "output_type": "stream",
     "text": [
      "/var/folders/zm/1jsfy4n50pxgckvd0pk9rwvw0000gn/T/ipykernel_14492/2296241830.py:10: DtypeWarning: Columns (5,10) have mixed types. Specify dtype option on import or set low_memory=False.\n",
      "  for df in pd.read_csv(base_path, chunksize=chunk_size):\n"
     ]
    },
    {
     "name": "stdout",
     "output_type": "stream",
     "text": [
      "Processing, gz folder,  state: up, chunk 1000000\n",
      "Cleaning Data, processing last names\n"
     ]
    },
    {
     "name": "stderr",
     "output_type": "stream",
     "text": [
      "/var/folders/zm/1jsfy4n50pxgckvd0pk9rwvw0000gn/T/ipykernel_14492/2296241830.py:10: DtypeWarning: Columns (10,14,31) have mixed types. Specify dtype option on import or set low_memory=False.\n",
      "  for df in pd.read_csv(base_path, chunksize=chunk_size):\n"
     ]
    },
    {
     "name": "stdout",
     "output_type": "stream",
     "text": [
      "Processing, gz folder,  state: up, chunk 1000000\n",
      "Cleaning Data, processing last names\n"
     ]
    },
    {
     "name": "stderr",
     "output_type": "stream",
     "text": [
      "/var/folders/zm/1jsfy4n50pxgckvd0pk9rwvw0000gn/T/ipykernel_14492/2296241830.py:10: DtypeWarning: Columns (10) have mixed types. Specify dtype option on import or set low_memory=False.\n",
      "  for df in pd.read_csv(base_path, chunksize=chunk_size):\n"
     ]
    },
    {
     "name": "stdout",
     "output_type": "stream",
     "text": [
      "Processing, gz folder,  state: up, chunk 1000000\n",
      "Cleaning Data, processing last names\n"
     ]
    },
    {
     "name": "stderr",
     "output_type": "stream",
     "text": [
      "/var/folders/zm/1jsfy4n50pxgckvd0pk9rwvw0000gn/T/ipykernel_14492/2296241830.py:10: DtypeWarning: Columns (0,5,10) have mixed types. Specify dtype option on import or set low_memory=False.\n",
      "  for df in pd.read_csv(base_path, chunksize=chunk_size):\n"
     ]
    },
    {
     "name": "stdout",
     "output_type": "stream",
     "text": [
      "Processing, gz folder,  state: up, chunk 1000000\n",
      "Cleaning Data, processing last names\n"
     ]
    },
    {
     "name": "stderr",
     "output_type": "stream",
     "text": [
      "/var/folders/zm/1jsfy4n50pxgckvd0pk9rwvw0000gn/T/ipykernel_14492/2296241830.py:10: DtypeWarning: Columns (5,10) have mixed types. Specify dtype option on import or set low_memory=False.\n",
      "  for df in pd.read_csv(base_path, chunksize=chunk_size):\n"
     ]
    },
    {
     "name": "stdout",
     "output_type": "stream",
     "text": [
      "Processing, gz folder,  state: up, chunk 1000000\n",
      "Cleaning Data, processing last names\n"
     ]
    },
    {
     "name": "stderr",
     "output_type": "stream",
     "text": [
      "/var/folders/zm/1jsfy4n50pxgckvd0pk9rwvw0000gn/T/ipykernel_14492/2296241830.py:10: DtypeWarning: Columns (0,5,10) have mixed types. Specify dtype option on import or set low_memory=False.\n",
      "  for df in pd.read_csv(base_path, chunksize=chunk_size):\n"
     ]
    },
    {
     "name": "stdout",
     "output_type": "stream",
     "text": [
      "Processing, gz folder,  state: up, chunk 1000000\n",
      "Cleaning Data, processing last names\n"
     ]
    },
    {
     "name": "stderr",
     "output_type": "stream",
     "text": [
      "/var/folders/zm/1jsfy4n50pxgckvd0pk9rwvw0000gn/T/ipykernel_14492/2296241830.py:10: DtypeWarning: Columns (5,10) have mixed types. Specify dtype option on import or set low_memory=False.\n",
      "  for df in pd.read_csv(base_path, chunksize=chunk_size):\n"
     ]
    },
    {
     "name": "stdout",
     "output_type": "stream",
     "text": [
      "Processing, gz folder,  state: up, chunk 1000000\n",
      "Cleaning Data, processing last names\n"
     ]
    },
    {
     "name": "stderr",
     "output_type": "stream",
     "text": [
      "/var/folders/zm/1jsfy4n50pxgckvd0pk9rwvw0000gn/T/ipykernel_14492/2296241830.py:10: DtypeWarning: Columns (10) have mixed types. Specify dtype option on import or set low_memory=False.\n",
      "  for df in pd.read_csv(base_path, chunksize=chunk_size):\n"
     ]
    },
    {
     "name": "stdout",
     "output_type": "stream",
     "text": [
      "Processing, gz folder,  state: up, chunk 1000000\n",
      "Cleaning Data, processing last names\n"
     ]
    },
    {
     "name": "stderr",
     "output_type": "stream",
     "text": [
      "/var/folders/zm/1jsfy4n50pxgckvd0pk9rwvw0000gn/T/ipykernel_14492/2296241830.py:10: DtypeWarning: Columns (10) have mixed types. Specify dtype option on import or set low_memory=False.\n",
      "  for df in pd.read_csv(base_path, chunksize=chunk_size):\n"
     ]
    },
    {
     "name": "stdout",
     "output_type": "stream",
     "text": [
      "Processing, gz folder,  state: up, chunk 1000000\n",
      "Cleaning Data, processing last names\n"
     ]
    },
    {
     "name": "stderr",
     "output_type": "stream",
     "text": [
      "/var/folders/zm/1jsfy4n50pxgckvd0pk9rwvw0000gn/T/ipykernel_14492/2296241830.py:10: DtypeWarning: Columns (10,14,17,31,34) have mixed types. Specify dtype option on import or set low_memory=False.\n",
      "  for df in pd.read_csv(base_path, chunksize=chunk_size):\n"
     ]
    },
    {
     "name": "stdout",
     "output_type": "stream",
     "text": [
      "Processing, gz folder,  state: up, chunk 1000000\n",
      "Cleaning Data, processing last names\n"
     ]
    },
    {
     "name": "stderr",
     "output_type": "stream",
     "text": [
      "/var/folders/zm/1jsfy4n50pxgckvd0pk9rwvw0000gn/T/ipykernel_14492/2296241830.py:10: DtypeWarning: Columns (10,16,33) have mixed types. Specify dtype option on import or set low_memory=False.\n",
      "  for df in pd.read_csv(base_path, chunksize=chunk_size):\n"
     ]
    },
    {
     "name": "stdout",
     "output_type": "stream",
     "text": [
      "Processing, gz folder,  state: up, chunk 1000000\n",
      "Cleaning Data, processing last names\n"
     ]
    },
    {
     "name": "stderr",
     "output_type": "stream",
     "text": [
      "/var/folders/zm/1jsfy4n50pxgckvd0pk9rwvw0000gn/T/ipykernel_14492/2296241830.py:10: DtypeWarning: Columns (10) have mixed types. Specify dtype option on import or set low_memory=False.\n",
      "  for df in pd.read_csv(base_path, chunksize=chunk_size):\n"
     ]
    },
    {
     "name": "stdout",
     "output_type": "stream",
     "text": [
      "Processing, gz folder,  state: up, chunk 1000000\n",
      "Cleaning Data, processing last names\n"
     ]
    },
    {
     "name": "stderr",
     "output_type": "stream",
     "text": [
      "/var/folders/zm/1jsfy4n50pxgckvd0pk9rwvw0000gn/T/ipykernel_14492/2296241830.py:10: DtypeWarning: Columns (5,10) have mixed types. Specify dtype option on import or set low_memory=False.\n",
      "  for df in pd.read_csv(base_path, chunksize=chunk_size):\n"
     ]
    },
    {
     "name": "stdout",
     "output_type": "stream",
     "text": [
      "Processing, gz folder,  state: up, chunk 1000000\n",
      "Cleaning Data, processing last names\n"
     ]
    },
    {
     "name": "stderr",
     "output_type": "stream",
     "text": [
      "/var/folders/zm/1jsfy4n50pxgckvd0pk9rwvw0000gn/T/ipykernel_14492/2296241830.py:10: DtypeWarning: Columns (0,10) have mixed types. Specify dtype option on import or set low_memory=False.\n",
      "  for df in pd.read_csv(base_path, chunksize=chunk_size):\n"
     ]
    },
    {
     "name": "stdout",
     "output_type": "stream",
     "text": [
      "Processing, gz folder,  state: up, chunk 1000000\n",
      "Cleaning Data, processing last names\n"
     ]
    },
    {
     "name": "stderr",
     "output_type": "stream",
     "text": [
      "/var/folders/zm/1jsfy4n50pxgckvd0pk9rwvw0000gn/T/ipykernel_14492/2296241830.py:10: DtypeWarning: Columns (5,10) have mixed types. Specify dtype option on import or set low_memory=False.\n",
      "  for df in pd.read_csv(base_path, chunksize=chunk_size):\n"
     ]
    },
    {
     "name": "stdout",
     "output_type": "stream",
     "text": [
      "Processing, gz folder,  state: up, chunk 1000000\n",
      "Cleaning Data, processing last names\n"
     ]
    },
    {
     "name": "stderr",
     "output_type": "stream",
     "text": [
      "/var/folders/zm/1jsfy4n50pxgckvd0pk9rwvw0000gn/T/ipykernel_14492/2296241830.py:10: DtypeWarning: Columns (10,17,34) have mixed types. Specify dtype option on import or set low_memory=False.\n",
      "  for df in pd.read_csv(base_path, chunksize=chunk_size):\n"
     ]
    },
    {
     "name": "stdout",
     "output_type": "stream",
     "text": [
      "Processing, gz folder,  state: up, chunk 1000000\n",
      "Cleaning Data, processing last names\n"
     ]
    },
    {
     "name": "stderr",
     "output_type": "stream",
     "text": [
      "/var/folders/zm/1jsfy4n50pxgckvd0pk9rwvw0000gn/T/ipykernel_14492/2296241830.py:10: DtypeWarning: Columns (10,17,34) have mixed types. Specify dtype option on import or set low_memory=False.\n",
      "  for df in pd.read_csv(base_path, chunksize=chunk_size):\n"
     ]
    },
    {
     "name": "stdout",
     "output_type": "stream",
     "text": [
      "Processing, gz folder,  state: up, chunk 1000000\n",
      "Cleaning Data, processing last names\n"
     ]
    },
    {
     "name": "stderr",
     "output_type": "stream",
     "text": [
      "/var/folders/zm/1jsfy4n50pxgckvd0pk9rwvw0000gn/T/ipykernel_14492/2296241830.py:10: DtypeWarning: Columns (10) have mixed types. Specify dtype option on import or set low_memory=False.\n",
      "  for df in pd.read_csv(base_path, chunksize=chunk_size):\n"
     ]
    },
    {
     "name": "stdout",
     "output_type": "stream",
     "text": [
      "Processing, gz folder,  state: up, chunk 1000000\n",
      "Cleaning Data, processing last names\n"
     ]
    },
    {
     "name": "stderr",
     "output_type": "stream",
     "text": [
      "/var/folders/zm/1jsfy4n50pxgckvd0pk9rwvw0000gn/T/ipykernel_14492/2296241830.py:10: DtypeWarning: Columns (0,5) have mixed types. Specify dtype option on import or set low_memory=False.\n",
      "  for df in pd.read_csv(base_path, chunksize=chunk_size):\n"
     ]
    },
    {
     "name": "stdout",
     "output_type": "stream",
     "text": [
      "Processing, gz folder,  state: utt, chunk 1000000\n",
      "Cleaning Data, processing last names\n"
     ]
    },
    {
     "name": "stderr",
     "output_type": "stream",
     "text": [
      "/var/folders/zm/1jsfy4n50pxgckvd0pk9rwvw0000gn/T/ipykernel_14492/2296241830.py:10: DtypeWarning: Columns (0) have mixed types. Specify dtype option on import or set low_memory=False.\n",
      "  for df in pd.read_csv(base_path, chunksize=chunk_size):\n"
     ]
    },
    {
     "name": "stdout",
     "output_type": "stream",
     "text": [
      "Processing, gz folder,  state: utt, chunk 1000000\n",
      "Cleaning Data, processing last names\n"
     ]
    },
    {
     "name": "stderr",
     "output_type": "stream",
     "text": [
      "/var/folders/zm/1jsfy4n50pxgckvd0pk9rwvw0000gn/T/ipykernel_14492/2296241830.py:10: DtypeWarning: Columns (0,5) have mixed types. Specify dtype option on import or set low_memory=False.\n",
      "  for df in pd.read_csv(base_path, chunksize=chunk_size):\n"
     ]
    },
    {
     "name": "stdout",
     "output_type": "stream",
     "text": [
      "Processing, gz folder,  state: utt, chunk 1000000\n",
      "Cleaning Data, processing last names\n"
     ]
    },
    {
     "name": "stderr",
     "output_type": "stream",
     "text": [
      "/var/folders/zm/1jsfy4n50pxgckvd0pk9rwvw0000gn/T/ipykernel_14492/2296241830.py:10: DtypeWarning: Columns (0,5) have mixed types. Specify dtype option on import or set low_memory=False.\n",
      "  for df in pd.read_csv(base_path, chunksize=chunk_size):\n"
     ]
    },
    {
     "name": "stdout",
     "output_type": "stream",
     "text": [
      "Processing, gz folder,  state: utt, chunk 1000000\n",
      "Cleaning Data, processing last names\n"
     ]
    },
    {
     "name": "stderr",
     "output_type": "stream",
     "text": [
      "/var/folders/zm/1jsfy4n50pxgckvd0pk9rwvw0000gn/T/ipykernel_14492/2296241830.py:10: DtypeWarning: Columns (0,5,16,20,32,35) have mixed types. Specify dtype option on import or set low_memory=False.\n",
      "  for df in pd.read_csv(base_path, chunksize=chunk_size):\n"
     ]
    },
    {
     "name": "stdout",
     "output_type": "stream",
     "text": [
      "Processing, gz folder,  state: utt, chunk 1000000\n",
      "Cleaning Data, processing last names\n"
     ]
    },
    {
     "name": "stderr",
     "output_type": "stream",
     "text": [
      "/var/folders/zm/1jsfy4n50pxgckvd0pk9rwvw0000gn/T/ipykernel_14492/2296241830.py:10: DtypeWarning: Columns (0) have mixed types. Specify dtype option on import or set low_memory=False.\n",
      "  for df in pd.read_csv(base_path, chunksize=chunk_size):\n"
     ]
    },
    {
     "name": "stdout",
     "output_type": "stream",
     "text": [
      "Processing, gz folder,  state: utt, chunk 1000000\n",
      "Cleaning Data, processing last names\n",
      "Processing, gz folder,  state: utt, chunk 1000000\n",
      "Cleaning Data, processing last names\n",
      "Skipping unsupported state: wb\n"
     ]
    }
   ],
   "source": [
    "# *.gz.csv, pre-req: use scripts/concatenate.py to merge .partaa, .partab, etc files\n",
    "for base_path in sorted(glob(os.path.join(base_dir, \"*.csv.gz\"))):\n",
    "    state_split = re.split(\"[- _ : +]\", os.path.basename(base_path))\n",
    "    state = state_split[0]\n",
    "    if state in unsupported_states:\n",
    "        print(f\"Skipping unsupported state: {state}\")\n",
    "    else:\n",
    "        df_test = pd.read_csv(base_path, index_col=0, nrows=1)\n",
    "        columns = df_test.columns.tolist()\n",
    "        for df in pd.read_csv(base_path, chunksize=chunk_size):\n",
    "            print(f\"Processing, gz folder,  state: {state}, chunk {chunk_size}\")\n",
    "            df_gz = select_gz_chunk(df, state_split)\n",
    "            df_gz = establish_last_name(df_gz)\n",
    "            selected_data.append(df_gz)\n",
    "final_df = pd.concat(selected_data)\n",
    "final_df = final_df[final_df.last_name.str.isalpha()]\n",
    "final_df[\"last_name\"] = final_df[\"last_name\"].str.lower()"
   ]
  },
  {
   "cell_type": "code",
   "execution_count": 26,
   "id": "d0bafc5e",
   "metadata": {},
   "outputs": [],
   "source": [
    "MIN_OCCURENCE = 3\n",
    "\n",
    "def process_data(df):\n",
    "    df = df[df.last_name != \"lnu\"]  # Remove last name unknows\n",
    "    df = df[\n",
    "        df.groupby(\"last_name\")[\"last_name\"].transform(\"count\").ge(MIN_OCCURENCE)\n",
    "    ]  # Remove all last names that occur less than MIN_OCCURANCE times\n",
    "    df = df[(df.state != \"wb\")]\n",
    "    df = df[(df.state != \"tn\")]\n",
    "    df = df[df.last_name.str.len() > 2]\n",
    "    df = df[df['sex'].notna()]\n",
    "    return df"
   ]
  },
  {
   "cell_type": "code",
   "execution_count": 27,
   "id": "19737e2d",
   "metadata": {},
   "outputs": [
    {
     "data": {
      "text/html": [
       "<div>\n",
       "<style scoped>\n",
       "    .dataframe tbody tr th:only-of-type {\n",
       "        vertical-align: middle;\n",
       "    }\n",
       "\n",
       "    .dataframe tbody tr th {\n",
       "        vertical-align: top;\n",
       "    }\n",
       "\n",
       "    .dataframe thead th {\n",
       "        text-align: right;\n",
       "    }\n",
       "</style>\n",
       "<table border=\"1\" class=\"dataframe\">\n",
       "  <thead>\n",
       "    <tr style=\"text-align: right;\">\n",
       "      <th></th>\n",
       "      <th>sex</th>\n",
       "      <th>state</th>\n",
       "      <th>last_name</th>\n",
       "    </tr>\n",
       "  </thead>\n",
       "  <tbody>\n",
       "    <tr>\n",
       "      <th>0</th>\n",
       "      <td>Male</td>\n",
       "      <td>andaman</td>\n",
       "      <td>datta</td>\n",
       "    </tr>\n",
       "    <tr>\n",
       "      <th>1</th>\n",
       "      <td>Female</td>\n",
       "      <td>andaman</td>\n",
       "      <td>devi</td>\n",
       "    </tr>\n",
       "    <tr>\n",
       "      <th>2</th>\n",
       "      <td>Male</td>\n",
       "      <td>andaman</td>\n",
       "      <td>krishna</td>\n",
       "    </tr>\n",
       "    <tr>\n",
       "      <th>3</th>\n",
       "      <td>Male</td>\n",
       "      <td>andaman</td>\n",
       "      <td>sekhar</td>\n",
       "    </tr>\n",
       "    <tr>\n",
       "      <th>4</th>\n",
       "      <td>Male</td>\n",
       "      <td>andaman</td>\n",
       "      <td>lnu</td>\n",
       "    </tr>\n",
       "  </tbody>\n",
       "</table>\n",
       "</div>"
      ],
      "text/plain": [
       "      sex    state last_name\n",
       "0    Male  andaman     datta\n",
       "1  Female  andaman      devi\n",
       "2    Male  andaman   krishna\n",
       "3    Male  andaman    sekhar\n",
       "4    Male  andaman       lnu"
      ]
     },
     "execution_count": 27,
     "metadata": {},
     "output_type": "execute_result"
    }
   ],
   "source": [
    "final_df.head()"
   ]
  },
  {
   "cell_type": "code",
   "execution_count": 28,
   "id": "b4918cd8",
   "metadata": {},
   "outputs": [],
   "source": [
    "processed_df = process_data(final_df)"
   ]
  },
  {
   "cell_type": "code",
   "execution_count": 29,
   "id": "60dc66d3",
   "metadata": {},
   "outputs": [
    {
     "data": {
      "text/html": [
       "<div>\n",
       "<style scoped>\n",
       "    .dataframe tbody tr th:only-of-type {\n",
       "        vertical-align: middle;\n",
       "    }\n",
       "\n",
       "    .dataframe tbody tr th {\n",
       "        vertical-align: top;\n",
       "    }\n",
       "\n",
       "    .dataframe thead th {\n",
       "        text-align: right;\n",
       "    }\n",
       "</style>\n",
       "<table border=\"1\" class=\"dataframe\">\n",
       "  <thead>\n",
       "    <tr style=\"text-align: right;\">\n",
       "      <th></th>\n",
       "      <th>sex</th>\n",
       "      <th>state</th>\n",
       "      <th>last_name</th>\n",
       "    </tr>\n",
       "  </thead>\n",
       "  <tbody>\n",
       "    <tr>\n",
       "      <th>0</th>\n",
       "      <td>Male</td>\n",
       "      <td>andaman</td>\n",
       "      <td>datta</td>\n",
       "    </tr>\n",
       "    <tr>\n",
       "      <th>1</th>\n",
       "      <td>Female</td>\n",
       "      <td>andaman</td>\n",
       "      <td>devi</td>\n",
       "    </tr>\n",
       "    <tr>\n",
       "      <th>2</th>\n",
       "      <td>Male</td>\n",
       "      <td>andaman</td>\n",
       "      <td>krishna</td>\n",
       "    </tr>\n",
       "    <tr>\n",
       "      <th>3</th>\n",
       "      <td>Male</td>\n",
       "      <td>andaman</td>\n",
       "      <td>sekhar</td>\n",
       "    </tr>\n",
       "    <tr>\n",
       "      <th>7</th>\n",
       "      <td>Male</td>\n",
       "      <td>andaman</td>\n",
       "      <td>toppo</td>\n",
       "    </tr>\n",
       "  </tbody>\n",
       "</table>\n",
       "</div>"
      ],
      "text/plain": [
       "      sex    state last_name\n",
       "0    Male  andaman     datta\n",
       "1  Female  andaman      devi\n",
       "2    Male  andaman   krishna\n",
       "3    Male  andaman    sekhar\n",
       "7    Male  andaman     toppo"
      ]
     },
     "execution_count": 29,
     "metadata": {},
     "output_type": "execute_result"
    }
   ],
   "source": [
    "processed_df.head()"
   ]
  },
  {
   "cell_type": "code",
   "execution_count": 45,
   "id": "523a59f9",
   "metadata": {},
   "outputs": [],
   "source": [
    "def export_csv_gz(df, write_dir):\n",
    "    path_to_write = os.path.join(write_dir, f\"instate_processed_clean.csv.gz\")\n",
    "    print(f\"Writing dataframe to path: {path_to_write}\")\n",
    "    df.to_csv(path_to_write, compression=\"gzip\", index=False)"
   ]
  },
  {
   "cell_type": "code",
   "execution_count": 31,
   "id": "27068aa1",
   "metadata": {},
   "outputs": [
    {
     "name": "stdout",
     "output_type": "stream",
     "text": [
      "Writing dataframe to path: /Users/dhingratul/Documents/instate_data/instate_processed.csv.gz\n"
     ]
    }
   ],
   "source": [
    "export_csv_gz(processed_df, write_dir)\n"
   ]
  },
  {
   "cell_type": "code",
   "execution_count": 10,
   "id": "ab2c8551",
   "metadata": {},
   "outputs": [],
   "source": [
    "processed_df = pd.read_csv(os.path.join(write_dir, f\"instate_processed.csv.gz\"))"
   ]
  },
  {
   "cell_type": "code",
   "execution_count": 11,
   "id": "71a69156",
   "metadata": {},
   "outputs": [
    {
     "data": {
      "text/plain": [
       "(427763118, 3)"
      ]
     },
     "execution_count": 11,
     "metadata": {},
     "output_type": "execute_result"
    }
   ],
   "source": [
    "processed_df.shape"
   ]
  },
  {
   "cell_type": "code",
   "execution_count": 12,
   "id": "10cd2b35",
   "metadata": {},
   "outputs": [],
   "source": [
    "processed_df_clean =  processed_df[processed_df[\"last_name\"].str.contains('[a-z]',  na=False)]"
   ]
  },
  {
   "cell_type": "code",
   "execution_count": 13,
   "id": "f765cc01",
   "metadata": {},
   "outputs": [
    {
     "data": {
      "text/plain": [
       "(427699190, 3)"
      ]
     },
     "execution_count": 13,
     "metadata": {},
     "output_type": "execute_result"
    }
   ],
   "source": [
    "processed_df_clean.shape"
   ]
  },
  {
   "cell_type": "code",
   "execution_count": 14,
   "id": "ba6c9b54",
   "metadata": {},
   "outputs": [
    {
     "data": {
      "text/plain": [
       "0                 datta\n",
       "1                  devi\n",
       "2               krishna\n",
       "3                sekhar\n",
       "4                 toppo\n",
       "                ...    \n",
       "427763113      chouhaan\n",
       "427763114      chouhaan\n",
       "427763115        kumaar\n",
       "427763116        raanee\n",
       "427763117    prathibhaa\n",
       "Name: last_name, Length: 427699190, dtype: object"
      ]
     },
     "execution_count": 14,
     "metadata": {},
     "output_type": "execute_result"
    }
   ],
   "source": [
    "processed_df_clean[\"last_name\"]"
   ]
  },
  {
   "cell_type": "code",
   "execution_count": 15,
   "id": "bf21f1a3",
   "metadata": {},
   "outputs": [],
   "source": [
    "res = pd.read_csv(\"/Users/dhingratul/Documents/new/instate/ms/out/dnn_pred_final.csv\")"
   ]
  },
  {
   "cell_type": "code",
   "execution_count": 16,
   "id": "261fd365",
   "metadata": {},
   "outputs": [
    {
     "data": {
      "text/plain": [
       "1141479"
      ]
     },
     "execution_count": 16,
     "metadata": {},
     "output_type": "execute_result"
    }
   ],
   "source": [
    "len(processed_df_clean[\"last_name\"].unique())"
   ]
  },
  {
   "cell_type": "code",
   "execution_count": 17,
   "id": "a0a9b02d",
   "metadata": {},
   "outputs": [
    {
     "data": {
      "text/plain": [
       "(427699190, 3)"
      ]
     },
     "execution_count": 17,
     "metadata": {},
     "output_type": "execute_result"
    }
   ],
   "source": [
    "processed_df_clean.shape"
   ]
  },
  {
   "cell_type": "code",
   "execution_count": 18,
   "id": "e916b889",
   "metadata": {},
   "outputs": [
    {
     "data": {
      "text/html": [
       "<div>\n",
       "<style scoped>\n",
       "    .dataframe tbody tr th:only-of-type {\n",
       "        vertical-align: middle;\n",
       "    }\n",
       "\n",
       "    .dataframe tbody tr th {\n",
       "        vertical-align: top;\n",
       "    }\n",
       "\n",
       "    .dataframe thead th {\n",
       "        text-align: right;\n",
       "    }\n",
       "</style>\n",
       "<table border=\"1\" class=\"dataframe\">\n",
       "  <thead>\n",
       "    <tr style=\"text-align: right;\">\n",
       "      <th></th>\n",
       "      <th>Unnamed: 0</th>\n",
       "      <th>last_name</th>\n",
       "      <th>total_freq_n</th>\n",
       "      <th>total_freq</th>\n",
       "      <th>gt_state</th>\n",
       "      <th>lstm_pred</th>\n",
       "      <th>rnn_pred</th>\n",
       "      <th>gru_pred</th>\n",
       "    </tr>\n",
       "  </thead>\n",
       "  <tbody>\n",
       "    <tr>\n",
       "      <th>0</th>\n",
       "      <td>0</td>\n",
       "      <td>muphees</td>\n",
       "      <td>1.421982e-06</td>\n",
       "      <td>122.0</td>\n",
       "      <td>['up', 'maharashtra', 'guj', 'mp']</td>\n",
       "      <td>1</td>\n",
       "      <td>1</td>\n",
       "      <td>1</td>\n",
       "    </tr>\n",
       "    <tr>\n",
       "      <th>1</th>\n",
       "      <td>1</td>\n",
       "      <td>raanoobaai</td>\n",
       "      <td>3.496676e-08</td>\n",
       "      <td>3.0</td>\n",
       "      <td>['maharashtra']</td>\n",
       "      <td>1</td>\n",
       "      <td>0</td>\n",
       "      <td>1</td>\n",
       "    </tr>\n",
       "    <tr>\n",
       "      <th>2</th>\n",
       "      <td>2</td>\n",
       "      <td>pilibhamtara</td>\n",
       "      <td>3.496676e-08</td>\n",
       "      <td>3.0</td>\n",
       "      <td>['kar']</td>\n",
       "      <td>1</td>\n",
       "      <td>1</td>\n",
       "      <td>1</td>\n",
       "    </tr>\n",
       "    <tr>\n",
       "      <th>3</th>\n",
       "      <td>3</td>\n",
       "      <td>shamsani</td>\n",
       "      <td>3.496676e-08</td>\n",
       "      <td>3.0</td>\n",
       "      <td>['andhra']</td>\n",
       "      <td>0</td>\n",
       "      <td>0</td>\n",
       "      <td>0</td>\n",
       "    </tr>\n",
       "    <tr>\n",
       "      <th>4</th>\n",
       "      <td>4</td>\n",
       "      <td>njjaadaakaa</td>\n",
       "      <td>4.662235e-08</td>\n",
       "      <td>4.0</td>\n",
       "      <td>['odi']</td>\n",
       "      <td>1</td>\n",
       "      <td>1</td>\n",
       "      <td>1</td>\n",
       "    </tr>\n",
       "  </tbody>\n",
       "</table>\n",
       "</div>"
      ],
      "text/plain": [
       "   Unnamed: 0     last_name  total_freq_n  total_freq  \\\n",
       "0           0       muphees  1.421982e-06       122.0   \n",
       "1           1    raanoobaai  3.496676e-08         3.0   \n",
       "2           2  pilibhamtara  3.496676e-08         3.0   \n",
       "3           3      shamsani  3.496676e-08         3.0   \n",
       "4           4   njjaadaakaa  4.662235e-08         4.0   \n",
       "\n",
       "                             gt_state  lstm_pred  rnn_pred  gru_pred  \n",
       "0  ['up', 'maharashtra', 'guj', 'mp']          1         1         1  \n",
       "1                     ['maharashtra']          1         0         1  \n",
       "2                             ['kar']          1         1         1  \n",
       "3                          ['andhra']          0         0         0  \n",
       "4                             ['odi']          1         1         1  "
      ]
     },
     "execution_count": 18,
     "metadata": {},
     "output_type": "execute_result"
    }
   ],
   "source": [
    "res.head()"
   ]
  },
  {
   "cell_type": "code",
   "execution_count": 19,
   "id": "e4a54f0e",
   "metadata": {},
   "outputs": [
    {
     "name": "stderr",
     "output_type": "stream",
     "text": [
      "/var/folders/zm/1jsfy4n50pxgckvd0pk9rwvw0000gn/T/ipykernel_35762/1972237176.py:1: UserWarning: Boolean Series key will be reindexed to match DataFrame index.\n",
      "  processed_df_clean = processed_df_clean[processed_df['sex'].notna()]\n"
     ]
    }
   ],
   "source": [
    "processed_df_clean = processed_df_clean[processed_df['sex'].notna()]"
   ]
  },
  {
   "cell_type": "code",
   "execution_count": 20,
   "id": "e6fad301",
   "metadata": {},
   "outputs": [],
   "source": [
    "processed_df_agg = processed_df_clean.groupby([\"last_name\"]).agg(list).reset_index(drop=False)"
   ]
  },
  {
   "cell_type": "code",
   "execution_count": 21,
   "id": "3108762f",
   "metadata": {
    "scrolled": true
   },
   "outputs": [
    {
     "data": {
      "text/html": [
       "<div>\n",
       "<style scoped>\n",
       "    .dataframe tbody tr th:only-of-type {\n",
       "        vertical-align: middle;\n",
       "    }\n",
       "\n",
       "    .dataframe tbody tr th {\n",
       "        vertical-align: top;\n",
       "    }\n",
       "\n",
       "    .dataframe thead th {\n",
       "        text-align: right;\n",
       "    }\n",
       "</style>\n",
       "<table border=\"1\" class=\"dataframe\">\n",
       "  <thead>\n",
       "    <tr style=\"text-align: right;\">\n",
       "      <th></th>\n",
       "      <th>last_name</th>\n",
       "      <th>sex</th>\n",
       "      <th>state</th>\n",
       "    </tr>\n",
       "  </thead>\n",
       "  <tbody>\n",
       "    <tr>\n",
       "      <th>0</th>\n",
       "      <td>aaa</td>\n",
       "      <td>[Male, Female, Female, Female, Female, Female,...</td>\n",
       "      <td>[andhra, delhi, delhi, delhi, delhi, delhi, de...</td>\n",
       "    </tr>\n",
       "    <tr>\n",
       "      <th>1</th>\n",
       "      <td>aaaa</td>\n",
       "      <td>[Male, Male, Male, पुरूष, पुरूष, Male, Female,...</td>\n",
       "      <td>[assam, har, har, jha, jha, maharashtra, odi, ...</td>\n",
       "    </tr>\n",
       "    <tr>\n",
       "      <th>2</th>\n",
       "      <td>aaaaa</td>\n",
       "      <td>[Male, Female, Female, Male, Female, Female, F...</td>\n",
       "      <td>[up, up, up, up, up, up, up, up, up, up, up, u...</td>\n",
       "    </tr>\n",
       "    <tr>\n",
       "      <th>3</th>\n",
       "      <td>aaaaaa</td>\n",
       "      <td>[Male, Female, Female, Male, Female, Female, F...</td>\n",
       "      <td>[maharashtra, up, up, up, up, up, up, up, up, ...</td>\n",
       "    </tr>\n",
       "    <tr>\n",
       "      <th>4</th>\n",
       "      <td>aaaabaaraav</td>\n",
       "      <td>[Male, Male, Female, Male, Male]</td>\n",
       "      <td>[maharashtra, maharashtra, maharashtra, mahara...</td>\n",
       "    </tr>\n",
       "    <tr>\n",
       "      <th>...</th>\n",
       "      <td>...</td>\n",
       "      <td>...</td>\n",
       "      <td>...</td>\n",
       "    </tr>\n",
       "    <tr>\n",
       "      <th>95</th>\n",
       "      <td>aaambaa</td>\n",
       "      <td>[Female, Male, Female, Female, Female, Female,...</td>\n",
       "      <td>[guj, guj, guj, guj, guj, guj, guj, guj, guj, ...</td>\n",
       "    </tr>\n",
       "    <tr>\n",
       "      <th>96</th>\n",
       "      <td>aaambaabaaee</td>\n",
       "      <td>[Female, Female, Female, Female, Female, Femal...</td>\n",
       "      <td>[maharashtra, maharashtra, maharashtra, mahara...</td>\n",
       "    </tr>\n",
       "    <tr>\n",
       "      <th>97</th>\n",
       "      <td>aaambaaben</td>\n",
       "      <td>[Female, Female, Female, Female, Female, Femal...</td>\n",
       "      <td>[guj, guj, guj, guj, guj, guj, guj, guj, guj, ...</td>\n",
       "    </tr>\n",
       "    <tr>\n",
       "      <th>98</th>\n",
       "      <td>aaambaabhaa</td>\n",
       "      <td>[Male, Male, Male, Male, Male, Male, Male, Fem...</td>\n",
       "      <td>[guj, guj, guj, guj, guj, guj, guj, maharashtra]</td>\n",
       "    </tr>\n",
       "    <tr>\n",
       "      <th>99</th>\n",
       "      <td>aaambaabhaad</td>\n",
       "      <td>[Male, Male, Male, Male, Male, Male, Male, Male]</td>\n",
       "      <td>[guj, guj, guj, guj, guj, guj, guj, guj]</td>\n",
       "    </tr>\n",
       "  </tbody>\n",
       "</table>\n",
       "<p>100 rows × 3 columns</p>\n",
       "</div>"
      ],
      "text/plain": [
       "       last_name                                                sex  \\\n",
       "0            aaa  [Male, Female, Female, Female, Female, Female,...   \n",
       "1           aaaa  [Male, Male, Male, पुरूष, पुरूष, Male, Female,...   \n",
       "2          aaaaa  [Male, Female, Female, Male, Female, Female, F...   \n",
       "3         aaaaaa  [Male, Female, Female, Male, Female, Female, F...   \n",
       "4    aaaabaaraav                   [Male, Male, Female, Male, Male]   \n",
       "..           ...                                                ...   \n",
       "95       aaambaa  [Female, Male, Female, Female, Female, Female,...   \n",
       "96  aaambaabaaee  [Female, Female, Female, Female, Female, Femal...   \n",
       "97    aaambaaben  [Female, Female, Female, Female, Female, Femal...   \n",
       "98   aaambaabhaa  [Male, Male, Male, Male, Male, Male, Male, Fem...   \n",
       "99  aaambaabhaad   [Male, Male, Male, Male, Male, Male, Male, Male]   \n",
       "\n",
       "                                                state  \n",
       "0   [andhra, delhi, delhi, delhi, delhi, delhi, de...  \n",
       "1   [assam, har, har, jha, jha, maharashtra, odi, ...  \n",
       "2   [up, up, up, up, up, up, up, up, up, up, up, u...  \n",
       "3   [maharashtra, up, up, up, up, up, up, up, up, ...  \n",
       "4   [maharashtra, maharashtra, maharashtra, mahara...  \n",
       "..                                                ...  \n",
       "95  [guj, guj, guj, guj, guj, guj, guj, guj, guj, ...  \n",
       "96  [maharashtra, maharashtra, maharashtra, mahara...  \n",
       "97  [guj, guj, guj, guj, guj, guj, guj, guj, guj, ...  \n",
       "98   [guj, guj, guj, guj, guj, guj, guj, maharashtra]  \n",
       "99           [guj, guj, guj, guj, guj, guj, guj, guj]  \n",
       "\n",
       "[100 rows x 3 columns]"
      ]
     },
     "execution_count": 21,
     "metadata": {},
     "output_type": "execute_result"
    }
   ],
   "source": [
    "processed_df_agg.head(100)"
   ]
  },
  {
   "cell_type": "code",
   "execution_count": 23,
   "id": "17211a7f",
   "metadata": {},
   "outputs": [],
   "source": [
    "df_merged = pd.merge(res, processed_df_agg, how='inner', on = 'last_name')"
   ]
  },
  {
   "cell_type": "code",
   "execution_count": 24,
   "id": "86cb8f7b",
   "metadata": {},
   "outputs": [
    {
     "data": {
      "text/plain": [
       "(2995, 10)"
      ]
     },
     "execution_count": 24,
     "metadata": {},
     "output_type": "execute_result"
    }
   ],
   "source": [
    "df_merged.shape"
   ]
  },
  {
   "cell_type": "code",
   "execution_count": 28,
   "id": "b3be49bb",
   "metadata": {},
   "outputs": [
    {
     "data": {
      "text/plain": [
       "(3000, 8)"
      ]
     },
     "execution_count": 28,
     "metadata": {},
     "output_type": "execute_result"
    }
   ],
   "source": [
    "res.shape"
   ]
  },
  {
   "cell_type": "code",
   "execution_count": 29,
   "id": "eee9a62a",
   "metadata": {},
   "outputs": [
    {
     "data": {
      "text/html": [
       "<div>\n",
       "<style scoped>\n",
       "    .dataframe tbody tr th:only-of-type {\n",
       "        vertical-align: middle;\n",
       "    }\n",
       "\n",
       "    .dataframe tbody tr th {\n",
       "        vertical-align: top;\n",
       "    }\n",
       "\n",
       "    .dataframe thead th {\n",
       "        text-align: right;\n",
       "    }\n",
       "</style>\n",
       "<table border=\"1\" class=\"dataframe\">\n",
       "  <thead>\n",
       "    <tr style=\"text-align: right;\">\n",
       "      <th></th>\n",
       "      <th>Unnamed: 0</th>\n",
       "      <th>last_name</th>\n",
       "      <th>total_freq_n</th>\n",
       "      <th>total_freq</th>\n",
       "      <th>gt_state</th>\n",
       "      <th>lstm_pred</th>\n",
       "      <th>rnn_pred</th>\n",
       "      <th>gru_pred</th>\n",
       "      <th>sex</th>\n",
       "      <th>state</th>\n",
       "    </tr>\n",
       "  </thead>\n",
       "  <tbody>\n",
       "    <tr>\n",
       "      <th>0</th>\n",
       "      <td>0</td>\n",
       "      <td>muphees</td>\n",
       "      <td>1.421982e-06</td>\n",
       "      <td>122.0</td>\n",
       "      <td>['up', 'maharashtra', 'guj', 'mp']</td>\n",
       "      <td>1</td>\n",
       "      <td>1</td>\n",
       "      <td>1</td>\n",
       "      <td>[Male, Male, Male, Male, Male, Male, Female, M...</td>\n",
       "      <td>[guj, guj, guj, guj, guj, guj, maharashtra, ma...</td>\n",
       "    </tr>\n",
       "    <tr>\n",
       "      <th>1</th>\n",
       "      <td>1</td>\n",
       "      <td>raanoobaai</td>\n",
       "      <td>3.496676e-08</td>\n",
       "      <td>3.0</td>\n",
       "      <td>['maharashtra']</td>\n",
       "      <td>1</td>\n",
       "      <td>0</td>\n",
       "      <td>1</td>\n",
       "      <td>[Female, Female, Female]</td>\n",
       "      <td>[maharashtra, maharashtra, maharashtra]</td>\n",
       "    </tr>\n",
       "    <tr>\n",
       "      <th>2</th>\n",
       "      <td>2</td>\n",
       "      <td>pilibhamtara</td>\n",
       "      <td>3.496676e-08</td>\n",
       "      <td>3.0</td>\n",
       "      <td>['kar']</td>\n",
       "      <td>1</td>\n",
       "      <td>1</td>\n",
       "      <td>1</td>\n",
       "      <td>[Female, Male, Female]</td>\n",
       "      <td>[kar, kar, kar]</td>\n",
       "    </tr>\n",
       "    <tr>\n",
       "      <th>3</th>\n",
       "      <td>3</td>\n",
       "      <td>shamsani</td>\n",
       "      <td>3.496676e-08</td>\n",
       "      <td>3.0</td>\n",
       "      <td>['andhra']</td>\n",
       "      <td>0</td>\n",
       "      <td>0</td>\n",
       "      <td>0</td>\n",
       "      <td>[Female, Female, Male]</td>\n",
       "      <td>[andhra, andhra, andhra]</td>\n",
       "    </tr>\n",
       "    <tr>\n",
       "      <th>4</th>\n",
       "      <td>4</td>\n",
       "      <td>njjaadaakaa</td>\n",
       "      <td>4.662235e-08</td>\n",
       "      <td>4.0</td>\n",
       "      <td>['odi']</td>\n",
       "      <td>1</td>\n",
       "      <td>1</td>\n",
       "      <td>1</td>\n",
       "      <td>[Male, Female, Female, Female]</td>\n",
       "      <td>[odi, odi, odi, odi]</td>\n",
       "    </tr>\n",
       "  </tbody>\n",
       "</table>\n",
       "</div>"
      ],
      "text/plain": [
       "   Unnamed: 0     last_name  total_freq_n  total_freq  \\\n",
       "0           0       muphees  1.421982e-06       122.0   \n",
       "1           1    raanoobaai  3.496676e-08         3.0   \n",
       "2           2  pilibhamtara  3.496676e-08         3.0   \n",
       "3           3      shamsani  3.496676e-08         3.0   \n",
       "4           4   njjaadaakaa  4.662235e-08         4.0   \n",
       "\n",
       "                             gt_state  lstm_pred  rnn_pred  gru_pred  \\\n",
       "0  ['up', 'maharashtra', 'guj', 'mp']          1         1         1   \n",
       "1                     ['maharashtra']          1         0         1   \n",
       "2                             ['kar']          1         1         1   \n",
       "3                          ['andhra']          0         0         0   \n",
       "4                             ['odi']          1         1         1   \n",
       "\n",
       "                                                 sex  \\\n",
       "0  [Male, Male, Male, Male, Male, Male, Female, M...   \n",
       "1                           [Female, Female, Female]   \n",
       "2                             [Female, Male, Female]   \n",
       "3                             [Female, Female, Male]   \n",
       "4                     [Male, Female, Female, Female]   \n",
       "\n",
       "                                               state  \n",
       "0  [guj, guj, guj, guj, guj, guj, maharashtra, ma...  \n",
       "1            [maharashtra, maharashtra, maharashtra]  \n",
       "2                                    [kar, kar, kar]  \n",
       "3                           [andhra, andhra, andhra]  \n",
       "4                               [odi, odi, odi, odi]  "
      ]
     },
     "execution_count": 29,
     "metadata": {},
     "output_type": "execute_result"
    }
   ],
   "source": [
    "df_merged.head()"
   ]
  },
  {
   "cell_type": "code",
   "execution_count": 30,
   "id": "6a1131d9",
   "metadata": {},
   "outputs": [
    {
     "data": {
      "text/plain": [
       "['Male',\n",
       " 'Male',\n",
       " 'Male',\n",
       " 'Male',\n",
       " 'Male',\n",
       " 'Male',\n",
       " 'Female',\n",
       " 'Male',\n",
       " 'Female',\n",
       " 'Female',\n",
       " 'Female',\n",
       " 'Female',\n",
       " 'Male',\n",
       " 'Male',\n",
       " 'Male',\n",
       " 'Female',\n",
       " 'Male',\n",
       " 'Male',\n",
       " 'Female',\n",
       " 'Female',\n",
       " 'Female',\n",
       " 'Male',\n",
       " 'Female',\n",
       " 'Male',\n",
       " 'Male',\n",
       " 'Male',\n",
       " 'Male',\n",
       " 'Female',\n",
       " 'Male',\n",
       " 'Male',\n",
       " 'Male',\n",
       " 'Male',\n",
       " 'Male',\n",
       " 'Male',\n",
       " 'Female',\n",
       " 'Male',\n",
       " 'Male',\n",
       " 'Male',\n",
       " 'Male',\n",
       " 'Male',\n",
       " 'Female',\n",
       " 'Male',\n",
       " 'Male',\n",
       " 'Male',\n",
       " 'Male',\n",
       " 'Male',\n",
       " 'Male',\n",
       " 'Male',\n",
       " 'Female',\n",
       " 'Male',\n",
       " 'Female',\n",
       " 'Male',\n",
       " 'Male',\n",
       " 'Male',\n",
       " 'Female',\n",
       " 'Male',\n",
       " 'Male',\n",
       " 'Male',\n",
       " 'Male',\n",
       " 'Male',\n",
       " 'Male',\n",
       " 'Male',\n",
       " 'Male',\n",
       " 'Male',\n",
       " 'Male',\n",
       " 'Male',\n",
       " 'Male',\n",
       " 'Male',\n",
       " 'Male',\n",
       " 'Male',\n",
       " 'Female',\n",
       " 'Male',\n",
       " 'Male',\n",
       " 'Male',\n",
       " 'Female',\n",
       " 'Male',\n",
       " 'Male',\n",
       " 'Male',\n",
       " 'Male',\n",
       " 'Male',\n",
       " 'Male',\n",
       " 'Female',\n",
       " 'Male',\n",
       " 'Male',\n",
       " 'Male',\n",
       " 'Male',\n",
       " 'Male',\n",
       " 'Male',\n",
       " 'Male',\n",
       " 'Male',\n",
       " 'Male',\n",
       " 'Male',\n",
       " 'Male',\n",
       " 'Male',\n",
       " 'Male',\n",
       " 'Male',\n",
       " 'Male',\n",
       " 'Male',\n",
       " 'Female',\n",
       " 'Male',\n",
       " 'Male',\n",
       " 'Male',\n",
       " 'Male',\n",
       " 'Male',\n",
       " 'Male',\n",
       " 'Male',\n",
       " 'Male',\n",
       " 'Male',\n",
       " 'Female',\n",
       " 'Male',\n",
       " 'Female',\n",
       " 'Male',\n",
       " 'Male',\n",
       " 'Male',\n",
       " 'Male',\n",
       " 'Male',\n",
       " 'Male',\n",
       " 'Male',\n",
       " 'Male']"
      ]
     },
     "execution_count": 30,
     "metadata": {},
     "output_type": "execute_result"
    }
   ],
   "source": [
    "df_merged.iloc[0][\"sex\"]"
   ]
  },
  {
   "cell_type": "code",
   "execution_count": 31,
   "id": "9f563caf",
   "metadata": {},
   "outputs": [],
   "source": [
    "def _count_female_prop(sex_list):\n",
    "    male_ctr = 0\n",
    "    female_ctr = 0\n",
    "    for _sex in sex_list:\n",
    "        if _sex == \"Male\" or _sex == 'पुरूष':\n",
    "            male_ctr += 1\n",
    "        elif _sex == \"UNREADABLE\":\n",
    "            pass\n",
    "        else:\n",
    "            female_ctr += 1\n",
    "    if male_ctr == 0 and female_ctr == 0:\n",
    "        return np.nan\n",
    "    else:\n",
    "        return female_ctr/(male_ctr+female_ctr)"
   ]
  },
  {
   "cell_type": "code",
   "execution_count": 32,
   "id": "7a8a0fb7",
   "metadata": {},
   "outputs": [],
   "source": [
    "df_merged[\"female_prop\"] = np.nan"
   ]
  },
  {
   "cell_type": "code",
   "execution_count": 33,
   "id": "8943f425",
   "metadata": {},
   "outputs": [
    {
     "data": {
      "text/html": [
       "<div>\n",
       "<style scoped>\n",
       "    .dataframe tbody tr th:only-of-type {\n",
       "        vertical-align: middle;\n",
       "    }\n",
       "\n",
       "    .dataframe tbody tr th {\n",
       "        vertical-align: top;\n",
       "    }\n",
       "\n",
       "    .dataframe thead th {\n",
       "        text-align: right;\n",
       "    }\n",
       "</style>\n",
       "<table border=\"1\" class=\"dataframe\">\n",
       "  <thead>\n",
       "    <tr style=\"text-align: right;\">\n",
       "      <th></th>\n",
       "      <th>Unnamed: 0</th>\n",
       "      <th>last_name</th>\n",
       "      <th>total_freq_n</th>\n",
       "      <th>total_freq</th>\n",
       "      <th>gt_state</th>\n",
       "      <th>lstm_pred</th>\n",
       "      <th>rnn_pred</th>\n",
       "      <th>gru_pred</th>\n",
       "      <th>sex</th>\n",
       "      <th>state</th>\n",
       "      <th>female_prop</th>\n",
       "    </tr>\n",
       "  </thead>\n",
       "  <tbody>\n",
       "    <tr>\n",
       "      <th>0</th>\n",
       "      <td>0</td>\n",
       "      <td>muphees</td>\n",
       "      <td>1.421982e-06</td>\n",
       "      <td>122.0</td>\n",
       "      <td>['up', 'maharashtra', 'guj', 'mp']</td>\n",
       "      <td>1</td>\n",
       "      <td>1</td>\n",
       "      <td>1</td>\n",
       "      <td>[Male, Male, Male, Male, Male, Male, Female, M...</td>\n",
       "      <td>[guj, guj, guj, guj, guj, guj, maharashtra, ma...</td>\n",
       "      <td>NaN</td>\n",
       "    </tr>\n",
       "    <tr>\n",
       "      <th>1</th>\n",
       "      <td>1</td>\n",
       "      <td>raanoobaai</td>\n",
       "      <td>3.496676e-08</td>\n",
       "      <td>3.0</td>\n",
       "      <td>['maharashtra']</td>\n",
       "      <td>1</td>\n",
       "      <td>0</td>\n",
       "      <td>1</td>\n",
       "      <td>[Female, Female, Female]</td>\n",
       "      <td>[maharashtra, maharashtra, maharashtra]</td>\n",
       "      <td>NaN</td>\n",
       "    </tr>\n",
       "    <tr>\n",
       "      <th>2</th>\n",
       "      <td>2</td>\n",
       "      <td>pilibhamtara</td>\n",
       "      <td>3.496676e-08</td>\n",
       "      <td>3.0</td>\n",
       "      <td>['kar']</td>\n",
       "      <td>1</td>\n",
       "      <td>1</td>\n",
       "      <td>1</td>\n",
       "      <td>[Female, Male, Female]</td>\n",
       "      <td>[kar, kar, kar]</td>\n",
       "      <td>NaN</td>\n",
       "    </tr>\n",
       "    <tr>\n",
       "      <th>3</th>\n",
       "      <td>3</td>\n",
       "      <td>shamsani</td>\n",
       "      <td>3.496676e-08</td>\n",
       "      <td>3.0</td>\n",
       "      <td>['andhra']</td>\n",
       "      <td>0</td>\n",
       "      <td>0</td>\n",
       "      <td>0</td>\n",
       "      <td>[Female, Female, Male]</td>\n",
       "      <td>[andhra, andhra, andhra]</td>\n",
       "      <td>NaN</td>\n",
       "    </tr>\n",
       "    <tr>\n",
       "      <th>4</th>\n",
       "      <td>4</td>\n",
       "      <td>njjaadaakaa</td>\n",
       "      <td>4.662235e-08</td>\n",
       "      <td>4.0</td>\n",
       "      <td>['odi']</td>\n",
       "      <td>1</td>\n",
       "      <td>1</td>\n",
       "      <td>1</td>\n",
       "      <td>[Male, Female, Female, Female]</td>\n",
       "      <td>[odi, odi, odi, odi]</td>\n",
       "      <td>NaN</td>\n",
       "    </tr>\n",
       "  </tbody>\n",
       "</table>\n",
       "</div>"
      ],
      "text/plain": [
       "   Unnamed: 0     last_name  total_freq_n  total_freq  \\\n",
       "0           0       muphees  1.421982e-06       122.0   \n",
       "1           1    raanoobaai  3.496676e-08         3.0   \n",
       "2           2  pilibhamtara  3.496676e-08         3.0   \n",
       "3           3      shamsani  3.496676e-08         3.0   \n",
       "4           4   njjaadaakaa  4.662235e-08         4.0   \n",
       "\n",
       "                             gt_state  lstm_pred  rnn_pred  gru_pred  \\\n",
       "0  ['up', 'maharashtra', 'guj', 'mp']          1         1         1   \n",
       "1                     ['maharashtra']          1         0         1   \n",
       "2                             ['kar']          1         1         1   \n",
       "3                          ['andhra']          0         0         0   \n",
       "4                             ['odi']          1         1         1   \n",
       "\n",
       "                                                 sex  \\\n",
       "0  [Male, Male, Male, Male, Male, Male, Female, M...   \n",
       "1                           [Female, Female, Female]   \n",
       "2                             [Female, Male, Female]   \n",
       "3                             [Female, Female, Male]   \n",
       "4                     [Male, Female, Female, Female]   \n",
       "\n",
       "                                               state  female_prop  \n",
       "0  [guj, guj, guj, guj, guj, guj, maharashtra, ma...          NaN  \n",
       "1            [maharashtra, maharashtra, maharashtra]          NaN  \n",
       "2                                    [kar, kar, kar]          NaN  \n",
       "3                           [andhra, andhra, andhra]          NaN  \n",
       "4                               [odi, odi, odi, odi]          NaN  "
      ]
     },
     "execution_count": 33,
     "metadata": {},
     "output_type": "execute_result"
    }
   ],
   "source": [
    "df_merged.head()"
   ]
  },
  {
   "cell_type": "code",
   "execution_count": 34,
   "id": "ec76805b",
   "metadata": {},
   "outputs": [],
   "source": [
    "def compute_female_prop(df_merged):\n",
    "    df_merged[\"female_prop\"] = df_merged.apply(\n",
    "        lambda x: _count_female_prop(x[\"sex\"]),\n",
    "        axis=1,\n",
    "    )\n",
    "    return df_merged"
   ]
  },
  {
   "cell_type": "code",
   "execution_count": 35,
   "id": "446987a5",
   "metadata": {
    "scrolled": true
   },
   "outputs": [],
   "source": [
    "df_merged_prop = compute_female_prop(df_merged)"
   ]
  },
  {
   "cell_type": "code",
   "execution_count": 37,
   "id": "d174a9b5",
   "metadata": {},
   "outputs": [
    {
     "data": {
      "text/plain": [
       "['Male',\n",
       " 'Male',\n",
       " 'Male',\n",
       " 'Male',\n",
       " 'Male',\n",
       " 'Male',\n",
       " 'Female',\n",
       " 'Male',\n",
       " 'Female',\n",
       " 'Female',\n",
       " 'Female',\n",
       " 'Female',\n",
       " 'Male',\n",
       " 'Male',\n",
       " 'Male',\n",
       " 'Female',\n",
       " 'Male',\n",
       " 'Male',\n",
       " 'Female',\n",
       " 'Female',\n",
       " 'Female',\n",
       " 'Male',\n",
       " 'Female',\n",
       " 'Male',\n",
       " 'Male',\n",
       " 'Male',\n",
       " 'Male',\n",
       " 'Female',\n",
       " 'Male',\n",
       " 'Male',\n",
       " 'Male',\n",
       " 'Male',\n",
       " 'Male',\n",
       " 'Male',\n",
       " 'Female',\n",
       " 'Male',\n",
       " 'Male',\n",
       " 'Male',\n",
       " 'Male',\n",
       " 'Male',\n",
       " 'Female',\n",
       " 'Male',\n",
       " 'Male',\n",
       " 'Male',\n",
       " 'Male',\n",
       " 'Male',\n",
       " 'Male',\n",
       " 'Male',\n",
       " 'Female',\n",
       " 'Male',\n",
       " 'Female',\n",
       " 'Male',\n",
       " 'Male',\n",
       " 'Male',\n",
       " 'Female',\n",
       " 'Male',\n",
       " 'Male',\n",
       " 'Male',\n",
       " 'Male',\n",
       " 'Male',\n",
       " 'Male',\n",
       " 'Male',\n",
       " 'Male',\n",
       " 'Male',\n",
       " 'Male',\n",
       " 'Male',\n",
       " 'Male',\n",
       " 'Male',\n",
       " 'Male',\n",
       " 'Male',\n",
       " 'Female',\n",
       " 'Male',\n",
       " 'Male',\n",
       " 'Male',\n",
       " 'Female',\n",
       " 'Male',\n",
       " 'Male',\n",
       " 'Male',\n",
       " 'Male',\n",
       " 'Male',\n",
       " 'Male',\n",
       " 'Female',\n",
       " 'Male',\n",
       " 'Male',\n",
       " 'Male',\n",
       " 'Male',\n",
       " 'Male',\n",
       " 'Male',\n",
       " 'Male',\n",
       " 'Male',\n",
       " 'Male',\n",
       " 'Male',\n",
       " 'Male',\n",
       " 'Male',\n",
       " 'Male',\n",
       " 'Male',\n",
       " 'Male',\n",
       " 'Male',\n",
       " 'Female',\n",
       " 'Male',\n",
       " 'Male',\n",
       " 'Male',\n",
       " 'Male',\n",
       " 'Male',\n",
       " 'Male',\n",
       " 'Male',\n",
       " 'Male',\n",
       " 'Male',\n",
       " 'Female',\n",
       " 'Male',\n",
       " 'Female',\n",
       " 'Male',\n",
       " 'Male',\n",
       " 'Male',\n",
       " 'Male',\n",
       " 'Male',\n",
       " 'Male',\n",
       " 'Male',\n",
       " 'Male']"
      ]
     },
     "execution_count": 37,
     "metadata": {},
     "output_type": "execute_result"
    }
   ],
   "source": [
    "df_merged_prop.iloc[0][\"sex\"]"
   ]
  },
  {
   "cell_type": "code",
   "execution_count": 40,
   "id": "040de4e2",
   "metadata": {},
   "outputs": [
    {
     "data": {
      "text/html": [
       "<div>\n",
       "<style scoped>\n",
       "    .dataframe tbody tr th:only-of-type {\n",
       "        vertical-align: middle;\n",
       "    }\n",
       "\n",
       "    .dataframe tbody tr th {\n",
       "        vertical-align: top;\n",
       "    }\n",
       "\n",
       "    .dataframe thead th {\n",
       "        text-align: right;\n",
       "    }\n",
       "</style>\n",
       "<table border=\"1\" class=\"dataframe\">\n",
       "  <thead>\n",
       "    <tr style=\"text-align: right;\">\n",
       "      <th></th>\n",
       "      <th>Unnamed: 0</th>\n",
       "      <th>last_name</th>\n",
       "      <th>total_freq_n</th>\n",
       "      <th>total_freq</th>\n",
       "      <th>gt_state</th>\n",
       "      <th>lstm_pred</th>\n",
       "      <th>rnn_pred</th>\n",
       "      <th>gru_pred</th>\n",
       "      <th>sex</th>\n",
       "      <th>state</th>\n",
       "      <th>female_prop</th>\n",
       "    </tr>\n",
       "  </thead>\n",
       "  <tbody>\n",
       "    <tr>\n",
       "      <th>0</th>\n",
       "      <td>0</td>\n",
       "      <td>muphees</td>\n",
       "      <td>1.421982e-06</td>\n",
       "      <td>122.0</td>\n",
       "      <td>['up', 'maharashtra', 'guj', 'mp']</td>\n",
       "      <td>1</td>\n",
       "      <td>1</td>\n",
       "      <td>1</td>\n",
       "      <td>[Male, Male, Male, Male, Male, Male, Female, M...</td>\n",
       "      <td>[guj, guj, guj, guj, guj, guj, maharashtra, ma...</td>\n",
       "      <td>0.184874</td>\n",
       "    </tr>\n",
       "    <tr>\n",
       "      <th>1</th>\n",
       "      <td>1</td>\n",
       "      <td>raanoobaai</td>\n",
       "      <td>3.496676e-08</td>\n",
       "      <td>3.0</td>\n",
       "      <td>['maharashtra']</td>\n",
       "      <td>1</td>\n",
       "      <td>0</td>\n",
       "      <td>1</td>\n",
       "      <td>[Female, Female, Female]</td>\n",
       "      <td>[maharashtra, maharashtra, maharashtra]</td>\n",
       "      <td>1.000000</td>\n",
       "    </tr>\n",
       "    <tr>\n",
       "      <th>2</th>\n",
       "      <td>2</td>\n",
       "      <td>pilibhamtara</td>\n",
       "      <td>3.496676e-08</td>\n",
       "      <td>3.0</td>\n",
       "      <td>['kar']</td>\n",
       "      <td>1</td>\n",
       "      <td>1</td>\n",
       "      <td>1</td>\n",
       "      <td>[Female, Male, Female]</td>\n",
       "      <td>[kar, kar, kar]</td>\n",
       "      <td>0.666667</td>\n",
       "    </tr>\n",
       "    <tr>\n",
       "      <th>3</th>\n",
       "      <td>3</td>\n",
       "      <td>shamsani</td>\n",
       "      <td>3.496676e-08</td>\n",
       "      <td>3.0</td>\n",
       "      <td>['andhra']</td>\n",
       "      <td>0</td>\n",
       "      <td>0</td>\n",
       "      <td>0</td>\n",
       "      <td>[Female, Female, Male]</td>\n",
       "      <td>[andhra, andhra, andhra]</td>\n",
       "      <td>0.666667</td>\n",
       "    </tr>\n",
       "    <tr>\n",
       "      <th>4</th>\n",
       "      <td>4</td>\n",
       "      <td>njjaadaakaa</td>\n",
       "      <td>4.662235e-08</td>\n",
       "      <td>4.0</td>\n",
       "      <td>['odi']</td>\n",
       "      <td>1</td>\n",
       "      <td>1</td>\n",
       "      <td>1</td>\n",
       "      <td>[Male, Female, Female, Female]</td>\n",
       "      <td>[odi, odi, odi, odi]</td>\n",
       "      <td>0.750000</td>\n",
       "    </tr>\n",
       "    <tr>\n",
       "      <th>5</th>\n",
       "      <td>5</td>\n",
       "      <td>bradoo</td>\n",
       "      <td>1.864894e-07</td>\n",
       "      <td>16.0</td>\n",
       "      <td>['delhi', 'har', 'maharashtra']</td>\n",
       "      <td>0</td>\n",
       "      <td>0</td>\n",
       "      <td>0</td>\n",
       "      <td>[Male, Female, Male, Male, Male, Female, Femal...</td>\n",
       "      <td>[delhi, delhi, delhi, delhi, delhi, delhi, del...</td>\n",
       "      <td>0.437500</td>\n",
       "    </tr>\n",
       "    <tr>\n",
       "      <th>6</th>\n",
       "      <td>6</td>\n",
       "      <td>dhakkumalla</td>\n",
       "      <td>6.993352e-08</td>\n",
       "      <td>6.0</td>\n",
       "      <td>['andhra']</td>\n",
       "      <td>1</td>\n",
       "      <td>1</td>\n",
       "      <td>1</td>\n",
       "      <td>[Female, Male, Female, Male, Male, Male]</td>\n",
       "      <td>[andhra, andhra, andhra, andhra, andhra, andhra]</td>\n",
       "      <td>0.333333</td>\n",
       "    </tr>\n",
       "    <tr>\n",
       "      <th>7</th>\n",
       "      <td>7</td>\n",
       "      <td>umaraavasimg</td>\n",
       "      <td>1.550193e-06</td>\n",
       "      <td>133.0</td>\n",
       "      <td>['maharashtra', 'guj', 'mp']</td>\n",
       "      <td>1</td>\n",
       "      <td>1</td>\n",
       "      <td>1</td>\n",
       "      <td>[Male, Male, Male, Male, Female, Female, Femal...</td>\n",
       "      <td>[guj, guj, maharashtra, maharashtra, maharasht...</td>\n",
       "      <td>0.285714</td>\n",
       "    </tr>\n",
       "    <tr>\n",
       "      <th>8</th>\n",
       "      <td>8</td>\n",
       "      <td>edavheen</td>\n",
       "      <td>6.993352e-08</td>\n",
       "      <td>6.0</td>\n",
       "      <td>['maharashtra']</td>\n",
       "      <td>0</td>\n",
       "      <td>0</td>\n",
       "      <td>0</td>\n",
       "      <td>[Male, Male, Male, Female, Male, Female]</td>\n",
       "      <td>[maharashtra, maharashtra, maharashtra, mahara...</td>\n",
       "      <td>0.333333</td>\n",
       "    </tr>\n",
       "    <tr>\n",
       "      <th>9</th>\n",
       "      <td>9</td>\n",
       "      <td>loobhagaa</td>\n",
       "      <td>1.282115e-07</td>\n",
       "      <td>11.0</td>\n",
       "      <td>['jha']</td>\n",
       "      <td>0</td>\n",
       "      <td>0</td>\n",
       "      <td>0</td>\n",
       "      <td>[महिला, पुरूष, महिला, महिला, पुरूष, पुरूष, महि...</td>\n",
       "      <td>[jha, jha, jha, jha, jha, jha, jha, jha, jha, ...</td>\n",
       "      <td>0.545455</td>\n",
       "    </tr>\n",
       "    <tr>\n",
       "      <th>10</th>\n",
       "      <td>10</td>\n",
       "      <td>hanumanthuni</td>\n",
       "      <td>6.993352e-08</td>\n",
       "      <td>6.0</td>\n",
       "      <td>['andhra']</td>\n",
       "      <td>1</td>\n",
       "      <td>1</td>\n",
       "      <td>1</td>\n",
       "      <td>[Female, Female, Male, Female, Male, Female]</td>\n",
       "      <td>[andhra, andhra, andhra, andhra, andhra, andhra]</td>\n",
       "      <td>0.666667</td>\n",
       "    </tr>\n",
       "    <tr>\n",
       "      <th>11</th>\n",
       "      <td>11</td>\n",
       "      <td>sumemdranaath</td>\n",
       "      <td>3.496676e-08</td>\n",
       "      <td>3.0</td>\n",
       "      <td>['maharashtra']</td>\n",
       "      <td>1</td>\n",
       "      <td>1</td>\n",
       "      <td>1</td>\n",
       "      <td>[Male, Male, Male]</td>\n",
       "      <td>[maharashtra, maharashtra, maharashtra]</td>\n",
       "      <td>0.000000</td>\n",
       "    </tr>\n",
       "    <tr>\n",
       "      <th>12</th>\n",
       "      <td>12</td>\n",
       "      <td>kaashakathikara</td>\n",
       "      <td>5.827793e-08</td>\n",
       "      <td>5.0</td>\n",
       "      <td>['kar']</td>\n",
       "      <td>1</td>\n",
       "      <td>1</td>\n",
       "      <td>1</td>\n",
       "      <td>[Female, Male, Male, Female, Female]</td>\n",
       "      <td>[kar, kar, kar, kar, kar]</td>\n",
       "      <td>0.600000</td>\n",
       "    </tr>\n",
       "    <tr>\n",
       "      <th>13</th>\n",
       "      <td>13</td>\n",
       "      <td>alagubhaai</td>\n",
       "      <td>5.827793e-08</td>\n",
       "      <td>5.0</td>\n",
       "      <td>['guj']</td>\n",
       "      <td>1</td>\n",
       "      <td>1</td>\n",
       "      <td>1</td>\n",
       "      <td>[Male, Male, Male, Male, Male]</td>\n",
       "      <td>[guj, guj, guj, guj, guj]</td>\n",
       "      <td>0.000000</td>\n",
       "    </tr>\n",
       "    <tr>\n",
       "      <th>14</th>\n",
       "      <td>14</td>\n",
       "      <td>raghunadareddy</td>\n",
       "      <td>1.864894e-07</td>\n",
       "      <td>16.0</td>\n",
       "      <td>['andhra']</td>\n",
       "      <td>1</td>\n",
       "      <td>1</td>\n",
       "      <td>1</td>\n",
       "      <td>[Male, Male, Male, Male, Male, Male, Male, Mal...</td>\n",
       "      <td>[andhra, andhra, andhra, andhra, andhra, andhr...</td>\n",
       "      <td>0.062500</td>\n",
       "    </tr>\n",
       "    <tr>\n",
       "      <th>15</th>\n",
       "      <td>15</td>\n",
       "      <td>chouoodhoori</td>\n",
       "      <td>5.827793e-08</td>\n",
       "      <td>5.0</td>\n",
       "      <td>['odi']</td>\n",
       "      <td>1</td>\n",
       "      <td>1</td>\n",
       "      <td>1</td>\n",
       "      <td>[Female, Male, Female, Female, Female]</td>\n",
       "      <td>[odi, odi, odi, odi, odi]</td>\n",
       "      <td>0.800000</td>\n",
       "    </tr>\n",
       "    <tr>\n",
       "      <th>16</th>\n",
       "      <td>16</td>\n",
       "      <td>saranammaa</td>\n",
       "      <td>4.429123e-06</td>\n",
       "      <td>380.0</td>\n",
       "      <td>['maharashtra', 'guj']</td>\n",
       "      <td>1</td>\n",
       "      <td>1</td>\n",
       "      <td>1</td>\n",
       "      <td>[Female, Female, Female, Female, Female, Femal...</td>\n",
       "      <td>[guj, maharashtra, maharashtra, maharashtra, m...</td>\n",
       "      <td>0.960526</td>\n",
       "    </tr>\n",
       "    <tr>\n",
       "      <th>17</th>\n",
       "      <td>17</td>\n",
       "      <td>marubudi</td>\n",
       "      <td>6.410573e-07</td>\n",
       "      <td>55.0</td>\n",
       "      <td>['andhra']</td>\n",
       "      <td>1</td>\n",
       "      <td>1</td>\n",
       "      <td>1</td>\n",
       "      <td>[Female, Female, Female, Male, Female, Female,...</td>\n",
       "      <td>[andhra, andhra, andhra, andhra, andhra, andhr...</td>\n",
       "      <td>0.600000</td>\n",
       "    </tr>\n",
       "    <tr>\n",
       "      <th>18</th>\n",
       "      <td>18</td>\n",
       "      <td>mahaamthannavara</td>\n",
       "      <td>1.748338e-07</td>\n",
       "      <td>15.0</td>\n",
       "      <td>['kar']</td>\n",
       "      <td>1</td>\n",
       "      <td>1</td>\n",
       "      <td>1</td>\n",
       "      <td>[Female, Female, Male, Male, Male, Female, Mal...</td>\n",
       "      <td>[kar, kar, kar, kar, kar, kar, kar, kar, kar, ...</td>\n",
       "      <td>0.400000</td>\n",
       "    </tr>\n",
       "    <tr>\n",
       "      <th>19</th>\n",
       "      <td>19</td>\n",
       "      <td>barnaas</td>\n",
       "      <td>3.496676e-08</td>\n",
       "      <td>3.0</td>\n",
       "      <td>['maharashtra']</td>\n",
       "      <td>0</td>\n",
       "      <td>0</td>\n",
       "      <td>0</td>\n",
       "      <td>[Female, Male, Female]</td>\n",
       "      <td>[maharashtra, maharashtra, maharashtra]</td>\n",
       "      <td>0.666667</td>\n",
       "    </tr>\n",
       "    <tr>\n",
       "      <th>20</th>\n",
       "      <td>20</td>\n",
       "      <td>garnjaja</td>\n",
       "      <td>1.282115e-07</td>\n",
       "      <td>11.0</td>\n",
       "      <td>['odi']</td>\n",
       "      <td>1</td>\n",
       "      <td>1</td>\n",
       "      <td>1</td>\n",
       "      <td>[Male, Female, Male, Male, Female, Female, Fem...</td>\n",
       "      <td>[odi, odi, odi, odi, odi, odi, odi, odi, odi, ...</td>\n",
       "      <td>0.363636</td>\n",
       "    </tr>\n",
       "    <tr>\n",
       "      <th>21</th>\n",
       "      <td>21</td>\n",
       "      <td>vilapred</td>\n",
       "      <td>6.993352e-08</td>\n",
       "      <td>6.0</td>\n",
       "      <td>['maharashtra']</td>\n",
       "      <td>1</td>\n",
       "      <td>0</td>\n",
       "      <td>0</td>\n",
       "      <td>[Female, Female, Male, Male, Male, Female]</td>\n",
       "      <td>[maharashtra, maharashtra, maharashtra, mahara...</td>\n",
       "      <td>0.500000</td>\n",
       "    </tr>\n",
       "    <tr>\n",
       "      <th>22</th>\n",
       "      <td>22</td>\n",
       "      <td>bakre</td>\n",
       "      <td>7.809243e-07</td>\n",
       "      <td>67.0</td>\n",
       "      <td>['goa', 'kar', 'delhi']</td>\n",
       "      <td>1</td>\n",
       "      <td>1</td>\n",
       "      <td>1</td>\n",
       "      <td>[Male, Female, Male, Female, Male, Male, Femal...</td>\n",
       "      <td>[goa, goa, goa, goa, goa, goa, goa, goa, goa, ...</td>\n",
       "      <td>0.477612</td>\n",
       "    </tr>\n",
       "    <tr>\n",
       "      <th>23</th>\n",
       "      <td>23</td>\n",
       "      <td>cheemdabaram</td>\n",
       "      <td>5.827793e-08</td>\n",
       "      <td>5.0</td>\n",
       "      <td>['maharashtra']</td>\n",
       "      <td>1</td>\n",
       "      <td>1</td>\n",
       "      <td>1</td>\n",
       "      <td>[Male, Female, Male, Male, Male]</td>\n",
       "      <td>[maharashtra, maharashtra, maharashtra, mahara...</td>\n",
       "      <td>0.200000</td>\n",
       "    </tr>\n",
       "    <tr>\n",
       "      <th>24</th>\n",
       "      <td>24</td>\n",
       "      <td>suyang</td>\n",
       "      <td>2.867274e-06</td>\n",
       "      <td>246.0</td>\n",
       "      <td>['arunachal']</td>\n",
       "      <td>1</td>\n",
       "      <td>1</td>\n",
       "      <td>1</td>\n",
       "      <td>[Male, Female, Male, Female, Female, Female, F...</td>\n",
       "      <td>[arunachal, arunachal, arunachal, arunachal, a...</td>\n",
       "      <td>0.491870</td>\n",
       "    </tr>\n",
       "  </tbody>\n",
       "</table>\n",
       "</div>"
      ],
      "text/plain": [
       "    Unnamed: 0         last_name  total_freq_n  total_freq  \\\n",
       "0            0           muphees  1.421982e-06       122.0   \n",
       "1            1        raanoobaai  3.496676e-08         3.0   \n",
       "2            2      pilibhamtara  3.496676e-08         3.0   \n",
       "3            3          shamsani  3.496676e-08         3.0   \n",
       "4            4       njjaadaakaa  4.662235e-08         4.0   \n",
       "5            5            bradoo  1.864894e-07        16.0   \n",
       "6            6       dhakkumalla  6.993352e-08         6.0   \n",
       "7            7      umaraavasimg  1.550193e-06       133.0   \n",
       "8            8          edavheen  6.993352e-08         6.0   \n",
       "9            9         loobhagaa  1.282115e-07        11.0   \n",
       "10          10      hanumanthuni  6.993352e-08         6.0   \n",
       "11          11     sumemdranaath  3.496676e-08         3.0   \n",
       "12          12   kaashakathikara  5.827793e-08         5.0   \n",
       "13          13        alagubhaai  5.827793e-08         5.0   \n",
       "14          14    raghunadareddy  1.864894e-07        16.0   \n",
       "15          15      chouoodhoori  5.827793e-08         5.0   \n",
       "16          16        saranammaa  4.429123e-06       380.0   \n",
       "17          17          marubudi  6.410573e-07        55.0   \n",
       "18          18  mahaamthannavara  1.748338e-07        15.0   \n",
       "19          19           barnaas  3.496676e-08         3.0   \n",
       "20          20          garnjaja  1.282115e-07        11.0   \n",
       "21          21          vilapred  6.993352e-08         6.0   \n",
       "22          22             bakre  7.809243e-07        67.0   \n",
       "23          23      cheemdabaram  5.827793e-08         5.0   \n",
       "24          24            suyang  2.867274e-06       246.0   \n",
       "\n",
       "                              gt_state  lstm_pred  rnn_pred  gru_pred  \\\n",
       "0   ['up', 'maharashtra', 'guj', 'mp']          1         1         1   \n",
       "1                      ['maharashtra']          1         0         1   \n",
       "2                              ['kar']          1         1         1   \n",
       "3                           ['andhra']          0         0         0   \n",
       "4                              ['odi']          1         1         1   \n",
       "5      ['delhi', 'har', 'maharashtra']          0         0         0   \n",
       "6                           ['andhra']          1         1         1   \n",
       "7         ['maharashtra', 'guj', 'mp']          1         1         1   \n",
       "8                      ['maharashtra']          0         0         0   \n",
       "9                              ['jha']          0         0         0   \n",
       "10                          ['andhra']          1         1         1   \n",
       "11                     ['maharashtra']          1         1         1   \n",
       "12                             ['kar']          1         1         1   \n",
       "13                             ['guj']          1         1         1   \n",
       "14                          ['andhra']          1         1         1   \n",
       "15                             ['odi']          1         1         1   \n",
       "16              ['maharashtra', 'guj']          1         1         1   \n",
       "17                          ['andhra']          1         1         1   \n",
       "18                             ['kar']          1         1         1   \n",
       "19                     ['maharashtra']          0         0         0   \n",
       "20                             ['odi']          1         1         1   \n",
       "21                     ['maharashtra']          1         0         0   \n",
       "22             ['goa', 'kar', 'delhi']          1         1         1   \n",
       "23                     ['maharashtra']          1         1         1   \n",
       "24                       ['arunachal']          1         1         1   \n",
       "\n",
       "                                                  sex  \\\n",
       "0   [Male, Male, Male, Male, Male, Male, Female, M...   \n",
       "1                            [Female, Female, Female]   \n",
       "2                              [Female, Male, Female]   \n",
       "3                              [Female, Female, Male]   \n",
       "4                      [Male, Female, Female, Female]   \n",
       "5   [Male, Female, Male, Male, Male, Female, Femal...   \n",
       "6            [Female, Male, Female, Male, Male, Male]   \n",
       "7   [Male, Male, Male, Male, Female, Female, Femal...   \n",
       "8            [Male, Male, Male, Female, Male, Female]   \n",
       "9   [महिला, पुरूष, महिला, महिला, पुरूष, पुरूष, महि...   \n",
       "10       [Female, Female, Male, Female, Male, Female]   \n",
       "11                                 [Male, Male, Male]   \n",
       "12               [Female, Male, Male, Female, Female]   \n",
       "13                     [Male, Male, Male, Male, Male]   \n",
       "14  [Male, Male, Male, Male, Male, Male, Male, Mal...   \n",
       "15             [Female, Male, Female, Female, Female]   \n",
       "16  [Female, Female, Female, Female, Female, Femal...   \n",
       "17  [Female, Female, Female, Male, Female, Female,...   \n",
       "18  [Female, Female, Male, Male, Male, Female, Mal...   \n",
       "19                             [Female, Male, Female]   \n",
       "20  [Male, Female, Male, Male, Female, Female, Fem...   \n",
       "21         [Female, Female, Male, Male, Male, Female]   \n",
       "22  [Male, Female, Male, Female, Male, Male, Femal...   \n",
       "23                   [Male, Female, Male, Male, Male]   \n",
       "24  [Male, Female, Male, Female, Female, Female, F...   \n",
       "\n",
       "                                                state  female_prop  \n",
       "0   [guj, guj, guj, guj, guj, guj, maharashtra, ma...     0.184874  \n",
       "1             [maharashtra, maharashtra, maharashtra]     1.000000  \n",
       "2                                     [kar, kar, kar]     0.666667  \n",
       "3                            [andhra, andhra, andhra]     0.666667  \n",
       "4                                [odi, odi, odi, odi]     0.750000  \n",
       "5   [delhi, delhi, delhi, delhi, delhi, delhi, del...     0.437500  \n",
       "6    [andhra, andhra, andhra, andhra, andhra, andhra]     0.333333  \n",
       "7   [guj, guj, maharashtra, maharashtra, maharasht...     0.285714  \n",
       "8   [maharashtra, maharashtra, maharashtra, mahara...     0.333333  \n",
       "9   [jha, jha, jha, jha, jha, jha, jha, jha, jha, ...     0.545455  \n",
       "10   [andhra, andhra, andhra, andhra, andhra, andhra]     0.666667  \n",
       "11            [maharashtra, maharashtra, maharashtra]     0.000000  \n",
       "12                          [kar, kar, kar, kar, kar]     0.600000  \n",
       "13                          [guj, guj, guj, guj, guj]     0.000000  \n",
       "14  [andhra, andhra, andhra, andhra, andhra, andhr...     0.062500  \n",
       "15                          [odi, odi, odi, odi, odi]     0.800000  \n",
       "16  [guj, maharashtra, maharashtra, maharashtra, m...     0.960526  \n",
       "17  [andhra, andhra, andhra, andhra, andhra, andhr...     0.600000  \n",
       "18  [kar, kar, kar, kar, kar, kar, kar, kar, kar, ...     0.400000  \n",
       "19            [maharashtra, maharashtra, maharashtra]     0.666667  \n",
       "20  [odi, odi, odi, odi, odi, odi, odi, odi, odi, ...     0.363636  \n",
       "21  [maharashtra, maharashtra, maharashtra, mahara...     0.500000  \n",
       "22  [goa, goa, goa, goa, goa, goa, goa, goa, goa, ...     0.477612  \n",
       "23  [maharashtra, maharashtra, maharashtra, mahara...     0.200000  \n",
       "24  [arunachal, arunachal, arunachal, arunachal, a...     0.491870  "
      ]
     },
     "execution_count": 40,
     "metadata": {},
     "output_type": "execute_result"
    }
   ],
   "source": [
    "df_merged_prop.head(25)"
   ]
  },
  {
   "cell_type": "code",
   "execution_count": 41,
   "id": "c209928b",
   "metadata": {},
   "outputs": [],
   "source": [
    "df_merged_prop = df_merged_prop.drop(['Unnamed: 0', 'sex', 'state'], axis=1)"
   ]
  },
  {
   "cell_type": "code",
   "execution_count": 42,
   "id": "54229b6e",
   "metadata": {
    "scrolled": true
   },
   "outputs": [
    {
     "data": {
      "text/html": [
       "<div>\n",
       "<style scoped>\n",
       "    .dataframe tbody tr th:only-of-type {\n",
       "        vertical-align: middle;\n",
       "    }\n",
       "\n",
       "    .dataframe tbody tr th {\n",
       "        vertical-align: top;\n",
       "    }\n",
       "\n",
       "    .dataframe thead th {\n",
       "        text-align: right;\n",
       "    }\n",
       "</style>\n",
       "<table border=\"1\" class=\"dataframe\">\n",
       "  <thead>\n",
       "    <tr style=\"text-align: right;\">\n",
       "      <th></th>\n",
       "      <th>last_name</th>\n",
       "      <th>total_freq_n</th>\n",
       "      <th>total_freq</th>\n",
       "      <th>gt_state</th>\n",
       "      <th>lstm_pred</th>\n",
       "      <th>rnn_pred</th>\n",
       "      <th>gru_pred</th>\n",
       "      <th>female_prop</th>\n",
       "    </tr>\n",
       "  </thead>\n",
       "  <tbody>\n",
       "    <tr>\n",
       "      <th>0</th>\n",
       "      <td>muphees</td>\n",
       "      <td>1.421982e-06</td>\n",
       "      <td>122.0</td>\n",
       "      <td>['up', 'maharashtra', 'guj', 'mp']</td>\n",
       "      <td>1</td>\n",
       "      <td>1</td>\n",
       "      <td>1</td>\n",
       "      <td>0.184874</td>\n",
       "    </tr>\n",
       "    <tr>\n",
       "      <th>1</th>\n",
       "      <td>raanoobaai</td>\n",
       "      <td>3.496676e-08</td>\n",
       "      <td>3.0</td>\n",
       "      <td>['maharashtra']</td>\n",
       "      <td>1</td>\n",
       "      <td>0</td>\n",
       "      <td>1</td>\n",
       "      <td>1.000000</td>\n",
       "    </tr>\n",
       "    <tr>\n",
       "      <th>2</th>\n",
       "      <td>pilibhamtara</td>\n",
       "      <td>3.496676e-08</td>\n",
       "      <td>3.0</td>\n",
       "      <td>['kar']</td>\n",
       "      <td>1</td>\n",
       "      <td>1</td>\n",
       "      <td>1</td>\n",
       "      <td>0.666667</td>\n",
       "    </tr>\n",
       "    <tr>\n",
       "      <th>3</th>\n",
       "      <td>shamsani</td>\n",
       "      <td>3.496676e-08</td>\n",
       "      <td>3.0</td>\n",
       "      <td>['andhra']</td>\n",
       "      <td>0</td>\n",
       "      <td>0</td>\n",
       "      <td>0</td>\n",
       "      <td>0.666667</td>\n",
       "    </tr>\n",
       "    <tr>\n",
       "      <th>4</th>\n",
       "      <td>njjaadaakaa</td>\n",
       "      <td>4.662235e-08</td>\n",
       "      <td>4.0</td>\n",
       "      <td>['odi']</td>\n",
       "      <td>1</td>\n",
       "      <td>1</td>\n",
       "      <td>1</td>\n",
       "      <td>0.750000</td>\n",
       "    </tr>\n",
       "    <tr>\n",
       "      <th>5</th>\n",
       "      <td>bradoo</td>\n",
       "      <td>1.864894e-07</td>\n",
       "      <td>16.0</td>\n",
       "      <td>['delhi', 'har', 'maharashtra']</td>\n",
       "      <td>0</td>\n",
       "      <td>0</td>\n",
       "      <td>0</td>\n",
       "      <td>0.437500</td>\n",
       "    </tr>\n",
       "    <tr>\n",
       "      <th>6</th>\n",
       "      <td>dhakkumalla</td>\n",
       "      <td>6.993352e-08</td>\n",
       "      <td>6.0</td>\n",
       "      <td>['andhra']</td>\n",
       "      <td>1</td>\n",
       "      <td>1</td>\n",
       "      <td>1</td>\n",
       "      <td>0.333333</td>\n",
       "    </tr>\n",
       "    <tr>\n",
       "      <th>7</th>\n",
       "      <td>umaraavasimg</td>\n",
       "      <td>1.550193e-06</td>\n",
       "      <td>133.0</td>\n",
       "      <td>['maharashtra', 'guj', 'mp']</td>\n",
       "      <td>1</td>\n",
       "      <td>1</td>\n",
       "      <td>1</td>\n",
       "      <td>0.285714</td>\n",
       "    </tr>\n",
       "    <tr>\n",
       "      <th>8</th>\n",
       "      <td>edavheen</td>\n",
       "      <td>6.993352e-08</td>\n",
       "      <td>6.0</td>\n",
       "      <td>['maharashtra']</td>\n",
       "      <td>0</td>\n",
       "      <td>0</td>\n",
       "      <td>0</td>\n",
       "      <td>0.333333</td>\n",
       "    </tr>\n",
       "    <tr>\n",
       "      <th>9</th>\n",
       "      <td>loobhagaa</td>\n",
       "      <td>1.282115e-07</td>\n",
       "      <td>11.0</td>\n",
       "      <td>['jha']</td>\n",
       "      <td>0</td>\n",
       "      <td>0</td>\n",
       "      <td>0</td>\n",
       "      <td>0.545455</td>\n",
       "    </tr>\n",
       "  </tbody>\n",
       "</table>\n",
       "</div>"
      ],
      "text/plain": [
       "      last_name  total_freq_n  total_freq                            gt_state  \\\n",
       "0       muphees  1.421982e-06       122.0  ['up', 'maharashtra', 'guj', 'mp']   \n",
       "1    raanoobaai  3.496676e-08         3.0                     ['maharashtra']   \n",
       "2  pilibhamtara  3.496676e-08         3.0                             ['kar']   \n",
       "3      shamsani  3.496676e-08         3.0                          ['andhra']   \n",
       "4   njjaadaakaa  4.662235e-08         4.0                             ['odi']   \n",
       "5        bradoo  1.864894e-07        16.0     ['delhi', 'har', 'maharashtra']   \n",
       "6   dhakkumalla  6.993352e-08         6.0                          ['andhra']   \n",
       "7  umaraavasimg  1.550193e-06       133.0        ['maharashtra', 'guj', 'mp']   \n",
       "8      edavheen  6.993352e-08         6.0                     ['maharashtra']   \n",
       "9     loobhagaa  1.282115e-07        11.0                             ['jha']   \n",
       "\n",
       "   lstm_pred  rnn_pred  gru_pred  female_prop  \n",
       "0          1         1         1     0.184874  \n",
       "1          1         0         1     1.000000  \n",
       "2          1         1         1     0.666667  \n",
       "3          0         0         0     0.666667  \n",
       "4          1         1         1     0.750000  \n",
       "5          0         0         0     0.437500  \n",
       "6          1         1         1     0.333333  \n",
       "7          1         1         1     0.285714  \n",
       "8          0         0         0     0.333333  \n",
       "9          0         0         0     0.545455  "
      ]
     },
     "execution_count": 42,
     "metadata": {},
     "output_type": "execute_result"
    }
   ],
   "source": [
    "df_merged_prop.head(10)"
   ]
  },
  {
   "cell_type": "code",
   "execution_count": 43,
   "id": "52e7e712",
   "metadata": {},
   "outputs": [],
   "source": [
    "df_merged_prop.to_csv(\"dnn_pred.csv\")"
   ]
  },
  {
   "cell_type": "code",
   "execution_count": null,
   "id": "8ad9946f",
   "metadata": {
    "scrolled": false
   },
   "outputs": [
    {
     "name": "stdout",
     "output_type": "stream",
     "text": [
      "Writing dataframe to path: /Users/dhingratul/Documents/instate_data/instate_processed_clean.csv.gz\n"
     ]
    }
   ],
   "source": [
    "export_csv_gz(processed_df_clean, write_dir)\n"
   ]
  }
 ],
 "metadata": {
  "kernelspec": {
   "display_name": "Python 3 (ipykernel)",
   "language": "python",
   "name": "python3"
  },
  "language_info": {
   "codemirror_mode": {
    "name": "ipython",
    "version": 3
   },
   "file_extension": ".py",
   "mimetype": "text/x-python",
   "name": "python",
   "nbconvert_exporter": "python",
   "pygments_lexer": "ipython3",
   "version": "3.9.13"
  }
 },
 "nbformat": 4,
 "nbformat_minor": 5
}
